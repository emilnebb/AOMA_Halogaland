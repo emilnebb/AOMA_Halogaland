{
 "cells": [
  {
   "cell_type": "markdown",
   "source": [
    "# Wind explorer for TDMS data"
   ],
   "metadata": {
    "collapsed": false,
    "pycharm": {
     "name": "#%% md\n"
    }
   }
  },
  {
   "cell_type": "code",
   "execution_count": 2,
   "metadata": {
    "collapsed": true
   },
   "outputs": [
    {
     "name": "stderr",
     "output_type": "stream",
     "text": [
      "/Users/emilneby/miniforge3/envs/master/lib/python3.10/site-packages/scipy/__init__.py:146: UserWarning: A NumPy version >=1.16.5 and <1.23.0 is required for this version of SciPy (detected version 1.23.5\n",
      "  warnings.warn(f\"A NumPy version >={np_minversion} and <{np_maxversion}\"\n"
     ]
    }
   ],
   "source": [
    "import numpy as np\n",
    "import dataloader_halogaland.dataloader as dl\n",
    "import matplotlib.pyplot as plt\n",
    "import os\n",
    "from scipy import signal"
   ]
  },
  {
   "cell_type": "code",
   "execution_count": 73,
   "outputs": [],
   "source": [
    "loader = dl.TDMS_dataloader(os.getcwd()+'/../Data/Halogaland_2022_04_22')\n",
    "file = loader.read_file(loader.anodes[4])"
   ],
   "metadata": {
    "collapsed": false,
    "pycharm": {
     "name": "#%%\n"
    }
   }
  },
  {
   "cell_type": "code",
   "execution_count": 74,
   "outputs": [
    {
     "data": {
      "text/plain": "[<TdmsGroup with path /'G07'>,\n <TdmsGroup with path /'strain_data'>,\n <TdmsGroup with path /'acceleration_data'>,\n <TdmsGroup with path /'W07-28-1'>,\n <TdmsGroup with path /'wind01'>,\n <TdmsGroup with path /'wind02'>,\n <TdmsGroup with path /'wind03'>,\n <TdmsGroup with path /'temperature_data'>]"
     },
     "execution_count": 74,
     "metadata": {},
     "output_type": "execute_result"
    }
   ],
   "source": [
    "file.groups()"
   ],
   "metadata": {
    "collapsed": false,
    "pycharm": {
     "name": "#%%\n"
    }
   }
  },
  {
   "cell_type": "code",
   "execution_count": 89,
   "outputs": [
    {
     "name": "stdout",
     "output_type": "stream",
     "text": [
      "OrderedDict([('description', 'Wind magnitude'), ('unit_string', 'meter per second')])\n"
     ]
    }
   ],
   "source": [
    "wind_1 = file['W07-28-1']['magnitude'][:]\n",
    "\n",
    "print(file['W07-28-1']['magnitude'].properties)"
   ],
   "metadata": {
    "collapsed": false,
    "pycharm": {
     "name": "#%%\n"
    }
   }
  },
  {
   "cell_type": "code",
   "execution_count": 90,
   "outputs": [
    {
     "name": "stdout",
     "output_type": "stream",
     "text": [
      "Mean wind velocity 19.873945 m/s\n"
     ]
    }
   ],
   "source": [
    "print(\"Mean wind velocity \" + str(np.mean(wind_1)) +str(\" m/s\"))"
   ],
   "metadata": {
    "collapsed": false,
    "pycharm": {
     "name": "#%%\n"
    }
   }
  },
  {
   "cell_type": "code",
   "execution_count": 48,
   "outputs": [
    {
     "name": "stdout",
     "output_type": "stream",
     "text": [
      "[-0.01170981 -0.01280326 -0.0116923  ... -0.01289205 -0.01317471\n",
      " -0.01299563]\n"
     ]
    }
   ],
   "source": [
    "print(file['acceleration_data']['A04-1x'][:])"
   ],
   "metadata": {
    "collapsed": false,
    "pycharm": {
     "name": "#%%\n"
    }
   }
  },
  {
   "cell_type": "code",
   "execution_count": null,
   "outputs": [],
   "source": [],
   "metadata": {
    "collapsed": false,
    "pycharm": {
     "name": "#%%\n"
    }
   }
  }
 ],
 "metadata": {
  "kernelspec": {
   "display_name": "Python 3",
   "language": "python",
   "name": "python3"
  },
  "language_info": {
   "codemirror_mode": {
    "name": "ipython",
    "version": 2
   },
   "file_extension": ".py",
   "mimetype": "text/x-python",
   "name": "python",
   "nbconvert_exporter": "python",
   "pygments_lexer": "ipython2",
   "version": "2.7.6"
  }
 },
 "nbformat": 4,
 "nbformat_minor": 0
}