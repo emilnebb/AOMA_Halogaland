{
 "cells": [
  {
   "cell_type": "markdown",
   "metadata": {
    "collapsed": true,
    "pycharm": {
     "name": "#%% md\n"
    }
   },
   "source": [
    "# AOMA long term with reference based Cov-SSI from STRID package"
   ]
  },
  {
   "cell_type": "code",
   "execution_count": 6,
   "outputs": [],
   "source": [
    "import numpy as np\n",
    "import h5py\n",
    "import matplotlib.pyplot as plt\n",
    "from scipy import signal\n",
    "import dataloader_halogaland.dataloader as dl\n",
    "from dataloader_halogaland.plot import welch_plot, stabilization_diagram\n",
    "import os\n",
    "import koma.oma, koma.plot\n",
    "import koma.clustering\n",
    "import strid\n",
    "from time import time\n",
    "import pandas as pd"
   ],
   "metadata": {
    "collapsed": false,
    "pycharm": {
     "name": "#%%\n"
    }
   }
  },
  {
   "cell_type": "code",
   "execution_count": 7,
   "outputs": [],
   "source": [
    "analysis_length = 30 #minutes\n",
    "cutoff_frequency = 1 #Hz\n",
    "bridgedeck_only = True\n",
    "\n",
    "loader= dl.HDF5_dataloader(os.getcwd()+'/../../../../../../../Volumes/LaCie/Halogaland_sixth_try.hdf5', bridgedeck_only=bridgedeck_only)"
   ],
   "metadata": {
    "collapsed": false,
    "pycharm": {
     "name": "#%%\n"
    }
   }
  },
  {
   "cell_type": "code",
   "execution_count": 8,
   "outputs": [],
   "source": [
    "#Parameters\n",
    "i = 50 #number of block rows\n",
    "s = 6\n",
    "fs = 2\n",
    "orders = np.arange(2, 100+2, 2) #orders to perform system\n",
    "\n",
    "if bridgedeck_only:\n",
    "    ix_references_y = (np.array([0, 2, 4, 6, 8, 10, 12, 14])+16)\n",
    "    ix_references_z = (np.array([0, 2, 4, 6, 8, 10, 12, 14])+32)\n",
    "    ix_references = np.concatenate((ix_references_y, ix_references_z)).tolist()\n",
    "else:\n",
    "    ix_references_y = (np.array([1,3,5,7,11,13,17,19])+22)\n",
    "    ix_references_z = (np.array([1,3,5,7,11,13,17,19])+44)\n",
    "    ix_references = np.concatenate((ix_references_y, ix_references_z)).tolist()"
   ],
   "metadata": {
    "collapsed": false,
    "pycharm": {
     "name": "#%%\n"
    }
   }
  },
  {
   "cell_type": "code",
   "execution_count": 9,
   "outputs": [
    {
     "name": "stdout",
     "output_type": "stream",
     "text": [
      "Number of perdiods to run 88\n"
     ]
    },
    {
     "data": {
      "text/plain": "<Figure size 921.6x921.6 with 3 Axes>",
      "image/png": "[encoded data removed]"
     },
     "metadata": {},
     "output_type": "display_data"
    }
   ],
   "source": [
    "number_of_periods = len(loader.periods)\n",
    "print(\"Number of perdiods to run \" + str(number_of_periods))\n",
    "freq_modes = []\n",
    "number_in_sample = 2*60*analysis_length\n",
    "stabdiag = strid.StabilizationDiagram()"
   ],
   "metadata": {
    "collapsed": false,
    "pycharm": {
     "name": "#%%\n"
    }
   }
  },
  {
   "cell_type": "code",
   "execution_count": null,
   "outputs": [
    {
     "name": "stdout",
     "output_type": "stream",
     "text": [
      "One or more channels are missing, period skipped.\n",
      "One or more channels are missing, period skipped.\n",
      "One or more channels are missing, period skipped.\n",
      "One or more channels are missing, period skipped.\n",
      "One or more channels are missing, period skipped.\n",
      "One or more channels are missing, period skipped.\n",
      "One or more channels are missing, period skipped.\n",
      "One or more channels are missing, period skipped.\n",
      "One or more channels are missing, period skipped.\n",
      "One or more channels are missing, period skipped.\n",
      "One or more channels are missing, period skipped.\n",
      "One or more channels are missing, period skipped.\n",
      "X-vector shape: (57600, 16)\n",
      "Y-vector shape: (57600, 16)\n",
      "Z-vector shape: (57600, 16)\n",
      "Total-vector shape: (57600, 48)\n"
     ]
    },
    {
     "name": "stderr",
     "output_type": "stream",
     "text": [
      "/var/folders/xg/ddkjb2x96w167hqnv_gjv_v40000gn/T/ipykernel_25455/38580619.py:54: VisibleDeprecationWarning: Creating an ndarray from ragged nested sequences (which is a list-or-tuple of lists-or-tuples-or ndarrays with different lengths or shapes) is deprecated. If you meant to do this, you must specify 'dtype=object' when creating the ndarray.\n",
      "  stab_diag = stabilization_diagram(acc[j], fs, 2, (np.array(omega_n_auto)/2/np.pi), np.array(order_auto), all_freqs=np.abs(lambdas)/2/np.pi, all_orders=orders)\n"
     ]
    },
    {
     "name": "stdout",
     "output_type": "stream",
     "text": [
      "Time serie 1 of 16 done in 12.640115976333618 sec. Period 13 of 88 done. Number of skipped periods: 12.\n"
     ]
    },
    {
     "name": "stderr",
     "output_type": "stream",
     "text": [
      "/var/folders/xg/ddkjb2x96w167hqnv_gjv_v40000gn/T/ipykernel_25455/38580619.py:54: VisibleDeprecationWarning: Creating an ndarray from ragged nested sequences (which is a list-or-tuple of lists-or-tuples-or ndarrays with different lengths or shapes) is deprecated. If you meant to do this, you must specify 'dtype=object' when creating the ndarray.\n",
      "  stab_diag = stabilization_diagram(acc[j], fs, 2, (np.array(omega_n_auto)/2/np.pi), np.array(order_auto), all_freqs=np.abs(lambdas)/2/np.pi, all_orders=orders)\n"
     ]
    },
    {
     "name": "stdout",
     "output_type": "stream",
     "text": [
      "Time serie 2 of 16 done in 14.629796981811523 sec. Period 13 of 88 done. Number of skipped periods: 12.\n"
     ]
    },
    {
     "name": "stderr",
     "output_type": "stream",
     "text": [
      "/var/folders/xg/ddkjb2x96w167hqnv_gjv_v40000gn/T/ipykernel_25455/38580619.py:54: VisibleDeprecationWarning: Creating an ndarray from ragged nested sequences (which is a list-or-tuple of lists-or-tuples-or ndarrays with different lengths or shapes) is deprecated. If you meant to do this, you must specify 'dtype=object' when creating the ndarray.\n",
      "  stab_diag = stabilization_diagram(acc[j], fs, 2, (np.array(omega_n_auto)/2/np.pi), np.array(order_auto), all_freqs=np.abs(lambdas)/2/np.pi, all_orders=orders)\n"
     ]
    },
    {
     "name": "stdout",
     "output_type": "stream",
     "text": [
      "Time serie 3 of 16 done in 18.998271942138672 sec. Period 13 of 88 done. Number of skipped periods: 12.\n"
     ]
    },
    {
     "name": "stderr",
     "output_type": "stream",
     "text": [
      "/var/folders/xg/ddkjb2x96w167hqnv_gjv_v40000gn/T/ipykernel_25455/38580619.py:54: VisibleDeprecationWarning: Creating an ndarray from ragged nested sequences (which is a list-or-tuple of lists-or-tuples-or ndarrays with different lengths or shapes) is deprecated. If you meant to do this, you must specify 'dtype=object' when creating the ndarray.\n",
      "  stab_diag = stabilization_diagram(acc[j], fs, 2, (np.array(omega_n_auto)/2/np.pi), np.array(order_auto), all_freqs=np.abs(lambdas)/2/np.pi, all_orders=orders)\n"
     ]
    },
    {
     "name": "stdout",
     "output_type": "stream",
     "text": [
      "Time serie 4 of 16 done in 17.653305768966675 sec. Period 13 of 88 done. Number of skipped periods: 12.\n"
     ]
    },
    {
     "name": "stderr",
     "output_type": "stream",
     "text": [
      "/var/folders/xg/ddkjb2x96w167hqnv_gjv_v40000gn/T/ipykernel_25455/38580619.py:54: VisibleDeprecationWarning: Creating an ndarray from ragged nested sequences (which is a list-or-tuple of lists-or-tuples-or ndarrays with different lengths or shapes) is deprecated. If you meant to do this, you must specify 'dtype=object' when creating the ndarray.\n",
      "  stab_diag = stabilization_diagram(acc[j], fs, 2, (np.array(omega_n_auto)/2/np.pi), np.array(order_auto), all_freqs=np.abs(lambdas)/2/np.pi, all_orders=orders)\n"
     ]
    },
    {
     "name": "stdout",
     "output_type": "stream",
     "text": [
      "Time serie 5 of 16 done in 18.897298097610474 sec. Period 13 of 88 done. Number of skipped periods: 12.\n"
     ]
    },
    {
     "name": "stderr",
     "output_type": "stream",
     "text": [
      "/var/folders/xg/ddkjb2x96w167hqnv_gjv_v40000gn/T/ipykernel_25455/38580619.py:54: VisibleDeprecationWarning: Creating an ndarray from ragged nested sequences (which is a list-or-tuple of lists-or-tuples-or ndarrays with different lengths or shapes) is deprecated. If you meant to do this, you must specify 'dtype=object' when creating the ndarray.\n",
      "  stab_diag = stabilization_diagram(acc[j], fs, 2, (np.array(omega_n_auto)/2/np.pi), np.array(order_auto), all_freqs=np.abs(lambdas)/2/np.pi, all_orders=orders)\n"
     ]
    },
    {
     "name": "stdout",
     "output_type": "stream",
     "text": [
      "Time serie 6 of 16 done in 13.55715298652649 sec. Period 13 of 88 done. Number of skipped periods: 12.\n"
     ]
    },
    {
     "name": "stderr",
     "output_type": "stream",
     "text": [
      "/var/folders/xg/ddkjb2x96w167hqnv_gjv_v40000gn/T/ipykernel_25455/38580619.py:54: VisibleDeprecationWarning: Creating an ndarray from ragged nested sequences (which is a list-or-tuple of lists-or-tuples-or ndarrays with different lengths or shapes) is deprecated. If you meant to do this, you must specify 'dtype=object' when creating the ndarray.\n",
      "  stab_diag = stabilization_diagram(acc[j], fs, 2, (np.array(omega_n_auto)/2/np.pi), np.array(order_auto), all_freqs=np.abs(lambdas)/2/np.pi, all_orders=orders)\n"
     ]
    },
    {
     "name": "stdout",
     "output_type": "stream",
     "text": [
      "Time serie 7 of 16 done in 18.465502977371216 sec. Period 13 of 88 done. Number of skipped periods: 12.\n"
     ]
    },
    {
     "name": "stderr",
     "output_type": "stream",
     "text": [
      "/var/folders/xg/ddkjb2x96w167hqnv_gjv_v40000gn/T/ipykernel_25455/38580619.py:54: VisibleDeprecationWarning: Creating an ndarray from ragged nested sequences (which is a list-or-tuple of lists-or-tuples-or ndarrays with different lengths or shapes) is deprecated. If you meant to do this, you must specify 'dtype=object' when creating the ndarray.\n",
      "  stab_diag = stabilization_diagram(acc[j], fs, 2, (np.array(omega_n_auto)/2/np.pi), np.array(order_auto), all_freqs=np.abs(lambdas)/2/np.pi, all_orders=orders)\n"
     ]
    },
    {
     "name": "stdout",
     "output_type": "stream",
     "text": [
      "Time serie 8 of 16 done in 16.03445792198181 sec. Period 13 of 88 done. Number of skipped periods: 12.\n"
     ]
    },
    {
     "name": "stderr",
     "output_type": "stream",
     "text": [
      "/var/folders/xg/ddkjb2x96w167hqnv_gjv_v40000gn/T/ipykernel_25455/38580619.py:54: VisibleDeprecationWarning: Creating an ndarray from ragged nested sequences (which is a list-or-tuple of lists-or-tuples-or ndarrays with different lengths or shapes) is deprecated. If you meant to do this, you must specify 'dtype=object' when creating the ndarray.\n",
      "  stab_diag = stabilization_diagram(acc[j], fs, 2, (np.array(omega_n_auto)/2/np.pi), np.array(order_auto), all_freqs=np.abs(lambdas)/2/np.pi, all_orders=orders)\n"
     ]
    },
    {
     "name": "stdout",
     "output_type": "stream",
     "text": [
      "Time serie 9 of 16 done in 21.57580327987671 sec. Period 13 of 88 done. Number of skipped periods: 12.\n"
     ]
    },
    {
     "name": "stderr",
     "output_type": "stream",
     "text": [
      "/var/folders/xg/ddkjb2x96w167hqnv_gjv_v40000gn/T/ipykernel_25455/38580619.py:54: VisibleDeprecationWarning: Creating an ndarray from ragged nested sequences (which is a list-or-tuple of lists-or-tuples-or ndarrays with different lengths or shapes) is deprecated. If you meant to do this, you must specify 'dtype=object' when creating the ndarray.\n",
      "  stab_diag = stabilization_diagram(acc[j], fs, 2, (np.array(omega_n_auto)/2/np.pi), np.array(order_auto), all_freqs=np.abs(lambdas)/2/np.pi, all_orders=orders)\n"
     ]
    },
    {
     "name": "stdout",
     "output_type": "stream",
     "text": [
      "Time serie 10 of 16 done in 18.230009078979492 sec. Period 13 of 88 done. Number of skipped periods: 12.\n"
     ]
    },
    {
     "name": "stderr",
     "output_type": "stream",
     "text": [
      "/var/folders/xg/ddkjb2x96w167hqnv_gjv_v40000gn/T/ipykernel_25455/38580619.py:54: VisibleDeprecationWarning: Creating an ndarray from ragged nested sequences (which is a list-or-tuple of lists-or-tuples-or ndarrays with different lengths or shapes) is deprecated. If you meant to do this, you must specify 'dtype=object' when creating the ndarray.\n",
      "  stab_diag = stabilization_diagram(acc[j], fs, 2, (np.array(omega_n_auto)/2/np.pi), np.array(order_auto), all_freqs=np.abs(lambdas)/2/np.pi, all_orders=orders)\n"
     ]
    },
    {
     "name": "stdout",
     "output_type": "stream",
     "text": [
      "Time serie 11 of 16 done in 10.906304121017456 sec. Period 13 of 88 done. Number of skipped periods: 12.\n"
     ]
    },
    {
     "name": "stderr",
     "output_type": "stream",
     "text": [
      "/var/folders/xg/ddkjb2x96w167hqnv_gjv_v40000gn/T/ipykernel_25455/38580619.py:54: VisibleDeprecationWarning: Creating an ndarray from ragged nested sequences (which is a list-or-tuple of lists-or-tuples-or ndarrays with different lengths or shapes) is deprecated. If you meant to do this, you must specify 'dtype=object' when creating the ndarray.\n",
      "  stab_diag = stabilization_diagram(acc[j], fs, 2, (np.array(omega_n_auto)/2/np.pi), np.array(order_auto), all_freqs=np.abs(lambdas)/2/np.pi, all_orders=orders)\n"
     ]
    },
    {
     "name": "stdout",
     "output_type": "stream",
     "text": [
      "Time serie 12 of 16 done in 12.2587308883667 sec. Period 13 of 88 done. Number of skipped periods: 12.\n"
     ]
    },
    {
     "name": "stderr",
     "output_type": "stream",
     "text": [
      "/var/folders/xg/ddkjb2x96w167hqnv_gjv_v40000gn/T/ipykernel_25455/38580619.py:54: VisibleDeprecationWarning: Creating an ndarray from ragged nested sequences (which is a list-or-tuple of lists-or-tuples-or ndarrays with different lengths or shapes) is deprecated. If you meant to do this, you must specify 'dtype=object' when creating the ndarray.\n",
      "  stab_diag = stabilization_diagram(acc[j], fs, 2, (np.array(omega_n_auto)/2/np.pi), np.array(order_auto), all_freqs=np.abs(lambdas)/2/np.pi, all_orders=orders)\n"
     ]
    },
    {
     "name": "stdout",
     "output_type": "stream",
     "text": [
      "Time serie 13 of 16 done in 15.359901189804077 sec. Period 13 of 88 done. Number of skipped periods: 12.\n"
     ]
    },
    {
     "name": "stderr",
     "output_type": "stream",
     "text": [
      "/var/folders/xg/ddkjb2x96w167hqnv_gjv_v40000gn/T/ipykernel_25455/38580619.py:54: VisibleDeprecationWarning: Creating an ndarray from ragged nested sequences (which is a list-or-tuple of lists-or-tuples-or ndarrays with different lengths or shapes) is deprecated. If you meant to do this, you must specify 'dtype=object' when creating the ndarray.\n",
      "  stab_diag = stabilization_diagram(acc[j], fs, 2, (np.array(omega_n_auto)/2/np.pi), np.array(order_auto), all_freqs=np.abs(lambdas)/2/np.pi, all_orders=orders)\n"
     ]
    },
    {
     "name": "stdout",
     "output_type": "stream",
     "text": [
      "Time serie 14 of 16 done in 15.520312070846558 sec. Period 13 of 88 done. Number of skipped periods: 12.\n"
     ]
    },
    {
     "name": "stderr",
     "output_type": "stream",
     "text": [
      "/var/folders/xg/ddkjb2x96w167hqnv_gjv_v40000gn/T/ipykernel_25455/38580619.py:54: VisibleDeprecationWarning: Creating an ndarray from ragged nested sequences (which is a list-or-tuple of lists-or-tuples-or ndarrays with different lengths or shapes) is deprecated. If you meant to do this, you must specify 'dtype=object' when creating the ndarray.\n",
      "  stab_diag = stabilization_diagram(acc[j], fs, 2, (np.array(omega_n_auto)/2/np.pi), np.array(order_auto), all_freqs=np.abs(lambdas)/2/np.pi, all_orders=orders)\n"
     ]
    },
    {
     "name": "stdout",
     "output_type": "stream",
     "text": [
      "Time serie 15 of 16 done in 19.670196294784546 sec. Period 13 of 88 done. Number of skipped periods: 12.\n"
     ]
    },
    {
     "name": "stderr",
     "output_type": "stream",
     "text": [
      "/var/folders/xg/ddkjb2x96w167hqnv_gjv_v40000gn/T/ipykernel_25455/38580619.py:54: VisibleDeprecationWarning: Creating an ndarray from ragged nested sequences (which is a list-or-tuple of lists-or-tuples-or ndarrays with different lengths or shapes) is deprecated. If you meant to do this, you must specify 'dtype=object' when creating the ndarray.\n",
      "  stab_diag = stabilization_diagram(acc[j], fs, 2, (np.array(omega_n_auto)/2/np.pi), np.array(order_auto), all_freqs=np.abs(lambdas)/2/np.pi, all_orders=orders)\n"
     ]
    },
    {
     "name": "stdout",
     "output_type": "stream",
     "text": [
      "Time serie 16 of 16 done in 17.9152672290802 sec. Period 13 of 88 done. Number of skipped periods: 12.\n",
      "X-vector shape: (57600, 16)\n",
      "Y-vector shape: (57600, 16)\n",
      "Z-vector shape: (57600, 16)\n",
      "Total-vector shape: (57600, 48)\n"
     ]
    },
    {
     "name": "stderr",
     "output_type": "stream",
     "text": [
      "/var/folders/xg/ddkjb2x96w167hqnv_gjv_v40000gn/T/ipykernel_25455/38580619.py:54: VisibleDeprecationWarning: Creating an ndarray from ragged nested sequences (which is a list-or-tuple of lists-or-tuples-or ndarrays with different lengths or shapes) is deprecated. If you meant to do this, you must specify 'dtype=object' when creating the ndarray.\n",
      "  stab_diag = stabilization_diagram(acc[j], fs, 2, (np.array(omega_n_auto)/2/np.pi), np.array(order_auto), all_freqs=np.abs(lambdas)/2/np.pi, all_orders=orders)\n"
     ]
    },
    {
     "name": "stdout",
     "output_type": "stream",
     "text": [
      "Time serie 1 of 16 done in 12.728109121322632 sec. Period 14 of 88 done. Number of skipped periods: 12.\n"
     ]
    },
    {
     "name": "stderr",
     "output_type": "stream",
     "text": [
      "/var/folders/xg/ddkjb2x96w167hqnv_gjv_v40000gn/T/ipykernel_25455/38580619.py:54: VisibleDeprecationWarning: Creating an ndarray from ragged nested sequences (which is a list-or-tuple of lists-or-tuples-or ndarrays with different lengths or shapes) is deprecated. If you meant to do this, you must specify 'dtype=object' when creating the ndarray.\n",
      "  stab_diag = stabilization_diagram(acc[j], fs, 2, (np.array(omega_n_auto)/2/np.pi), np.array(order_auto), all_freqs=np.abs(lambdas)/2/np.pi, all_orders=orders)\n"
     ]
    },
    {
     "name": "stdout",
     "output_type": "stream",
     "text": [
      "Time serie 2 of 16 done in 12.935531854629517 sec. Period 14 of 88 done. Number of skipped periods: 12.\n"
     ]
    },
    {
     "name": "stderr",
     "output_type": "stream",
     "text": [
      "/var/folders/xg/ddkjb2x96w167hqnv_gjv_v40000gn/T/ipykernel_25455/38580619.py:54: VisibleDeprecationWarning: Creating an ndarray from ragged nested sequences (which is a list-or-tuple of lists-or-tuples-or ndarrays with different lengths or shapes) is deprecated. If you meant to do this, you must specify 'dtype=object' when creating the ndarray.\n",
      "  stab_diag = stabilization_diagram(acc[j], fs, 2, (np.array(omega_n_auto)/2/np.pi), np.array(order_auto), all_freqs=np.abs(lambdas)/2/np.pi, all_orders=orders)\n"
     ]
    },
    {
     "name": "stdout",
     "output_type": "stream",
     "text": [
      "Time serie 3 of 16 done in 15.899905681610107 sec. Period 14 of 88 done. Number of skipped periods: 12.\n"
     ]
    },
    {
     "name": "stderr",
     "output_type": "stream",
     "text": [
      "/var/folders/xg/ddkjb2x96w167hqnv_gjv_v40000gn/T/ipykernel_25455/38580619.py:54: VisibleDeprecationWarning: Creating an ndarray from ragged nested sequences (which is a list-or-tuple of lists-or-tuples-or ndarrays with different lengths or shapes) is deprecated. If you meant to do this, you must specify 'dtype=object' when creating the ndarray.\n",
      "  stab_diag = stabilization_diagram(acc[j], fs, 2, (np.array(omega_n_auto)/2/np.pi), np.array(order_auto), all_freqs=np.abs(lambdas)/2/np.pi, all_orders=orders)\n"
     ]
    },
    {
     "name": "stdout",
     "output_type": "stream",
     "text": [
      "Time serie 4 of 16 done in 18.10115909576416 sec. Period 14 of 88 done. Number of skipped periods: 12.\n"
     ]
    },
    {
     "name": "stderr",
     "output_type": "stream",
     "text": [
      "/var/folders/xg/ddkjb2x96w167hqnv_gjv_v40000gn/T/ipykernel_25455/38580619.py:54: VisibleDeprecationWarning: Creating an ndarray from ragged nested sequences (which is a list-or-tuple of lists-or-tuples-or ndarrays with different lengths or shapes) is deprecated. If you meant to do this, you must specify 'dtype=object' when creating the ndarray.\n",
      "  stab_diag = stabilization_diagram(acc[j], fs, 2, (np.array(omega_n_auto)/2/np.pi), np.array(order_auto), all_freqs=np.abs(lambdas)/2/np.pi, all_orders=orders)\n",
      "/Users/emilneby/PyCharmProjects/AOMA_Halogaland/dataloader_halogaland/plot.py:53: RuntimeWarning: More than 20 figures have been opened. Figures created through the pyplot interface (`matplotlib.pyplot.figure`) are retained until explicitly closed and may consume too much memory. (To control this warning, see the rcParam `figure.max_open_warning`). Consider using `matplotlib.pyplot.close()`.\n",
      "  fig, ax =plt.subplots(figsize=(14, 5), dpi=300)\n"
     ]
    },
    {
     "name": "stdout",
     "output_type": "stream",
     "text": [
      "Time serie 5 of 16 done in 19.20974111557007 sec. Period 14 of 88 done. Number of skipped periods: 12.\n"
     ]
    },
    {
     "name": "stderr",
     "output_type": "stream",
     "text": [
      "/var/folders/xg/ddkjb2x96w167hqnv_gjv_v40000gn/T/ipykernel_25455/38580619.py:54: VisibleDeprecationWarning: Creating an ndarray from ragged nested sequences (which is a list-or-tuple of lists-or-tuples-or ndarrays with different lengths or shapes) is deprecated. If you meant to do this, you must specify 'dtype=object' when creating the ndarray.\n",
      "  stab_diag = stabilization_diagram(acc[j], fs, 2, (np.array(omega_n_auto)/2/np.pi), np.array(order_auto), all_freqs=np.abs(lambdas)/2/np.pi, all_orders=orders)\n"
     ]
    },
    {
     "name": "stdout",
     "output_type": "stream",
     "text": [
      "Time serie 6 of 16 done in 20.974549770355225 sec. Period 14 of 88 done. Number of skipped periods: 12.\n"
     ]
    },
    {
     "name": "stderr",
     "output_type": "stream",
     "text": [
      "/var/folders/xg/ddkjb2x96w167hqnv_gjv_v40000gn/T/ipykernel_25455/38580619.py:54: VisibleDeprecationWarning: Creating an ndarray from ragged nested sequences (which is a list-or-tuple of lists-or-tuples-or ndarrays with different lengths or shapes) is deprecated. If you meant to do this, you must specify 'dtype=object' when creating the ndarray.\n",
      "  stab_diag = stabilization_diagram(acc[j], fs, 2, (np.array(omega_n_auto)/2/np.pi), np.array(order_auto), all_freqs=np.abs(lambdas)/2/np.pi, all_orders=orders)\n"
     ]
    },
    {
     "name": "stdout",
     "output_type": "stream",
     "text": [
      "Time serie 7 of 16 done in 16.933176040649414 sec. Period 14 of 88 done. Number of skipped periods: 12.\n"
     ]
    }
   ],
   "source": [
    "skipped = 0\n",
    "for period in range(number_of_periods-65):\n",
    "    #remove 10 periods and start at the 10th period\n",
    "    acc = loader.load_all_acceleration_data(loader.periods[period], preprosess=True, cutoff_frequency=cutoff_frequency, filter_order=10)\n",
    "\n",
    "    #print(type(acc))\n",
    "    #If all channels are present, proceed with split up in intervals and perform Cov-SSI and clustering, if not, move to the next period\n",
    "    if isinstance(acc, np.ndarray):\n",
    "        acc = np.array_split(acc, acc.shape[0]/number_in_sample)\n",
    "        #print(len(acc))\n",
    "\n",
    "        for j in range(len(acc)):\n",
    "\n",
    "            t0 = time()\n",
    "\n",
    "            #Cov-SSI call\n",
    "            ssid = strid.CovarianceDrivenStochasticSID(acc[j].transpose(), fs, ix_references)\n",
    "            modes = {}\n",
    "            for order in orders:\n",
    "                A, C, G, R0 = ssid.perform(order, i)\n",
    "                modes[order] = strid.Mode.find_modes_from_ss(A, C, ssid.fs)\n",
    "            modes = stabdiag.filter_modes(modes)\n",
    "\n",
    "            orders = []\n",
    "            lambdas = []\n",
    "            phis = []\n",
    "\n",
    "            for order in modes.keys():\n",
    "                modes_in_order = modes[order]\n",
    "                for mode in modes_in_order:\n",
    "                    orders.append(order)\n",
    "                    lambdas.append(mode.eigenvalue)\n",
    "                    phis.append(mode.eigenvector)\n",
    "\n",
    "            orders = np.array(orders)\n",
    "            lambdas = np.array(lambdas)\n",
    "            phis = np.array(phis).transpose()\n",
    "\n",
    "            #Pole clustering\n",
    "            pole_clusterer = koma.clustering.PoleClusterer(lambdas, phis, orders, min_cluster_size=10, min_samples=10, scaling={'mac':1.0, 'lambda_real':1.0, 'lambda_imag': 0.5})\n",
    "            prob_threshold = 0.5   #probability of pole to belong to cluster, based on estimated \"probability\" density function\n",
    "            args = pole_clusterer.postprocess(prob_threshold=prob_threshold, normalize_and_maxreal=True)\n",
    "\n",
    "            xi_auto, omega_n_auto, phi_auto, order_auto, probs_auto, ixs_auto = koma.clustering.group_clusters(*args)\n",
    "\n",
    "            #plot_koma.plot_stab_from_KOMA(np.array(omega_n_auto)/2/np.pi, order_auto).savefig(\"results/realization_\" + str(j) + \".jpg\")\n",
    "\n",
    "            xi_mean = np.array([np.mean(xi_i) for xi_i in xi_auto])\n",
    "            fn_mean = np.array([np.mean(om_i) for om_i in omega_n_auto])/2/np.pi\n",
    "\n",
    "            xi_std = np.array([np.std(xi_i) for xi_i in xi_auto])\n",
    "            fn_std = np.array([np.std(om_i) for om_i in omega_n_auto])/2/np.pi\n",
    "\n",
    "            #Save stabilization plot\n",
    "            stab_diag = stabilization_diagram(acc[j], fs, 2, (np.array(omega_n_auto)/2/np.pi), np.array(order_auto), all_freqs=np.abs(lambdas)/2/np.pi, all_orders=orders)\n",
    "            plt.savefig(\"plots/stab_diag/stabilization_diagram_\" + str(period+1) + \"_\" + str(j+1) + \".jpg\")\n",
    "\n",
    "            freq_modes.append([freq for freq in fn_mean])\n",
    "\n",
    "            #Write results to file\n",
    "            res_data = np.vstack([fn_mean, 100*xi_mean]).T\n",
    "            results = pd.DataFrame(res_data, columns=['$f_n$ [Hz]', r'$\\xi$ [%]'])\n",
    "            results.to_csv(path_or_buf='results.csv', mode='a')\n",
    "\n",
    "            t1 = time()\n",
    "            print(\"Time serie \" + str(j+1) + \" of \" + str(len(acc)) + \" done in \" + str(t1-t0) + \" sec. Period \" + str(period+1) + \" of \" + str(number_of_periods) + \" done. Number of skipped periods: \" + str(skipped)+\".\")\n",
    "\n",
    "    else:\n",
    "        skipped += 1\n",
    "        print(\"One or more channels are missing, period skipped.\")"
   ],
   "metadata": {
    "collapsed": false,
    "pycharm": {
     "name": "#%%\n",
     "is_executing": true
    }
   }
  },
  {
   "cell_type": "code",
   "execution_count": null,
   "outputs": [],
   "source": [],
   "metadata": {
    "collapsed": false,
    "pycharm": {
     "name": "#%%\n"
    }
   }
  }
 ],
 "metadata": {
  "kernelspec": {
   "display_name": "Python 3",
   "language": "python",
   "name": "python3"
  },
  "language_info": {
   "codemirror_mode": {
    "name": "ipython",
    "version": 2
   },
   "file_extension": ".py",
   "mimetype": "text/x-python",
   "name": "python",
   "nbconvert_exporter": "python",
   "pygments_lexer": "ipython2",
   "version": "2.7.6"
  }
 },
 "nbformat": 4,
 "nbformat_minor": 0
}