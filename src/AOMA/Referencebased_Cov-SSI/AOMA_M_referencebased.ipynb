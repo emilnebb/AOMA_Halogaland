{
 "cells": [
  {
   "cell_type": "markdown",
   "metadata": {
    "collapsed": true,
    "pycharm": {
     "name": "#%% md\n"
    }
   },
   "source": [
    "# AOMA long term with reference based Cov-SSI from STRID package"
   ]
  },
  {
   "cell_type": "code",
   "execution_count": 38,
   "outputs": [],
   "source": [
    "import numpy as np\n",
    "import h5py\n",
    "import matplotlib.pyplot as plt\n",
    "from scipy import signal\n",
    "import dataloader_halogaland.dataloader as dl\n",
    "from dataloader_halogaland.plot import welch_plot, stabilization_diagram\n",
    "import os\n",
    "import koma.oma, koma.plot\n",
    "import koma.clustering\n",
    "import strid\n",
    "from time import time\n",
    "import pandas as pd\n",
    "from datetime import datetime, timedelta"
   ],
   "metadata": {
    "collapsed": false,
    "pycharm": {
     "name": "#%%\n"
    }
   }
  },
  {
   "cell_type": "code",
   "execution_count": 39,
   "outputs": [],
   "source": [
    "analysis_length = 30 #minutes\n",
    "cutoff_frequency = 1 #Hz\n",
    "bridgedeck_only = True\n",
    "\n",
    "loader= dl.HDF5_dataloader(os.getcwd()+'/../../../../../../../Volumes/LaCie/Halogaland_sixth_try.hdf5', bridgedeck_only=bridgedeck_only)"
   ],
   "metadata": {
    "collapsed": false,
    "pycharm": {
     "name": "#%%\n"
    }
   }
  },
  {
   "cell_type": "code",
   "execution_count": 40,
   "outputs": [],
   "source": [
    "#Parameters\n",
    "i = 50 #number of block rows\n",
    "s = 6\n",
    "fs = 2\n",
    "orders = np.arange(2, 100+2, 2) #orders to perform system\n",
    "stabcrit = {'freq': 0.05, 'damping': 0.1, 'mac': 0.1} # Default\n",
    "\n",
    "if bridgedeck_only:\n",
    "    ix_references_y = (np.array([0, 2, 4, 6, 8, 10, 12, 14])+16)\n",
    "    ix_references_z = (np.array([0, 2, 4, 6, 8, 10, 12, 14])+32)\n",
    "    ix_references = np.concatenate((ix_references_y, ix_references_z)).tolist()\n",
    "else:\n",
    "    ix_references_y = (np.array([1,3,5,7,11,13,17,19])+22)\n",
    "    ix_references_z = (np.array([1,3,5,7,11,13,17,19])+44)\n",
    "    ix_references = np.concatenate((ix_references_y, ix_references_z)).tolist()"
   ],
   "metadata": {
    "collapsed": false,
    "pycharm": {
     "name": "#%%\n"
    }
   }
  },
  {
   "cell_type": "code",
   "execution_count": 41,
   "outputs": [
    {
     "name": "stdout",
     "output_type": "stream",
     "text": [
      "Number of perdiods to run 88\n"
     ]
    },
    {
     "data": {
      "text/plain": "<Figure size 921.6x921.6 with 3 Axes>",
      "image/png": "[encoded data removed]"
     },
     "metadata": {},
     "output_type": "display_data"
    }
   ],
   "source": [
    "number_of_periods = len(loader.periods)\n",
    "print(\"Number of perdiods to run \" + str(number_of_periods))\n",
    "freq_modes = []\n",
    "number_in_sample = fs*60*analysis_length\n",
    "stabdiag = strid.StabilizationDiagram()"
   ],
   "metadata": {
    "collapsed": false,
    "pycharm": {
     "name": "#%%\n"
    }
   }
  },
  {
   "cell_type": "code",
   "execution_count": null,
   "outputs": [
    {
     "name": "stdout",
     "output_type": "stream",
     "text": [
      "One or more channels are missing, period skipped.\n",
      "One or more channels are missing, period skipped.\n",
      "One or more channels are missing, period skipped.\n",
      "One or more channels are missing, period skipped.\n",
      "One or more channels are missing, period skipped.\n",
      "One or more channels are missing, period skipped.\n",
      "One or more channels are missing, period skipped.\n",
      "One or more channels are missing, period skipped.\n",
      "One or more channels are missing, period skipped.\n",
      "One or more channels are missing, period skipped.\n",
      "One or more channels are missing, period skipped.\n",
      "One or more channels are missing, period skipped.\n",
      "Cov-SSI executed in 2.185961961746216\n",
      "HDBSCAN executed in 0.044153690338134766\n",
      "Post processing executed in 0.02358388900756836\n"
     ]
    },
    {
     "name": "stderr",
     "output_type": "stream",
     "text": [
      "/Users/emilneby/PyCharmProjects/AOMA_Halogaland/koma/clustering.py:46: RuntimeWarning: divide by zero encountered in divide\n",
      "  diff = (arr1-arr2)/scaling\n",
      "/Users/emilneby/PyCharmProjects/AOMA_Halogaland/koma/clustering.py:46: RuntimeWarning: invalid value encountered in divide\n",
      "  diff = (arr1-arr2)/scaling\n",
      "/var/folders/xg/ddkjb2x96w167hqnv_gjv_v40000gn/T/ipykernel_35796/1427197658.py:87: VisibleDeprecationWarning: Creating an ndarray from ragged nested sequences (which is a list-or-tuple of lists-or-tuples-or ndarrays with different lengths or shapes) is deprecated. If you meant to do this, you must specify 'dtype=object' when creating the ndarray.\n",
      "  stab_diag = stabilization_diagram(acc[j], fs, 2, (np.array(omega_n_auto)/2/np.pi), np.array(order_auto), all_freqs=np.abs(lambd_stab)/2/np.pi, all_orders=orders_stab)\n"
     ]
    },
    {
     "name": "stdout",
     "output_type": "stream",
     "text": [
      "Stabilization diagram executed in 0.19458603858947754\n",
      "Wind statistics executed in 0.002904176712036133\n",
      "Time serie 1 of 16 done in 2.620836019515991 sec. Period 13 of 88 done. Number of skipped periods: 12.\n",
      "Cov-SSI executed in 1.6640880107879639\n",
      "HDBSCAN executed in 0.044245004653930664\n",
      "Post processing executed in 0.0247650146484375\n"
     ]
    },
    {
     "name": "stderr",
     "output_type": "stream",
     "text": [
      "/Users/emilneby/PyCharmProjects/AOMA_Halogaland/koma/clustering.py:46: RuntimeWarning: divide by zero encountered in divide\n",
      "  diff = (arr1-arr2)/scaling\n",
      "/Users/emilneby/PyCharmProjects/AOMA_Halogaland/koma/clustering.py:46: RuntimeWarning: invalid value encountered in divide\n",
      "  diff = (arr1-arr2)/scaling\n",
      "/var/folders/xg/ddkjb2x96w167hqnv_gjv_v40000gn/T/ipykernel_35796/1427197658.py:87: VisibleDeprecationWarning: Creating an ndarray from ragged nested sequences (which is a list-or-tuple of lists-or-tuples-or ndarrays with different lengths or shapes) is deprecated. If you meant to do this, you must specify 'dtype=object' when creating the ndarray.\n",
      "  stab_diag = stabilization_diagram(acc[j], fs, 2, (np.array(omega_n_auto)/2/np.pi), np.array(order_auto), all_freqs=np.abs(lambd_stab)/2/np.pi, all_orders=orders_stab)\n"
     ]
    },
    {
     "name": "stdout",
     "output_type": "stream",
     "text": [
      "Stabilization diagram executed in 0.19256091117858887\n",
      "Wind statistics executed in 0.003312349319458008\n",
      "Time serie 2 of 16 done in 2.119661808013916 sec. Period 13 of 88 done. Number of skipped periods: 12.\n",
      "Cov-SSI executed in 1.5342469215393066\n",
      "HDBSCAN executed in 0.04263901710510254\n",
      "Post processing executed in 0.024908781051635742\n"
     ]
    },
    {
     "name": "stderr",
     "output_type": "stream",
     "text": [
      "/var/folders/xg/ddkjb2x96w167hqnv_gjv_v40000gn/T/ipykernel_35796/1427197658.py:87: VisibleDeprecationWarning: Creating an ndarray from ragged nested sequences (which is a list-or-tuple of lists-or-tuples-or ndarrays with different lengths or shapes) is deprecated. If you meant to do this, you must specify 'dtype=object' when creating the ndarray.\n",
      "  stab_diag = stabilization_diagram(acc[j], fs, 2, (np.array(omega_n_auto)/2/np.pi), np.array(order_auto), all_freqs=np.abs(lambd_stab)/2/np.pi, all_orders=orders_stab)\n"
     ]
    },
    {
     "name": "stdout",
     "output_type": "stream",
     "text": [
      "Stabilization diagram executed in 0.18589496612548828\n",
      "Wind statistics executed in 0.004197835922241211\n",
      "Time serie 3 of 16 done in 1.9857730865478516 sec. Period 13 of 88 done. Number of skipped periods: 12.\n",
      "Cov-SSI executed in 1.4529829025268555\n",
      "HDBSCAN executed in 0.04965686798095703\n",
      "Post processing executed in 0.026818037033081055\n"
     ]
    },
    {
     "name": "stderr",
     "output_type": "stream",
     "text": [
      "/Users/emilneby/PyCharmProjects/AOMA_Halogaland/koma/clustering.py:46: RuntimeWarning: divide by zero encountered in divide\n",
      "  diff = (arr1-arr2)/scaling\n",
      "/Users/emilneby/PyCharmProjects/AOMA_Halogaland/koma/clustering.py:46: RuntimeWarning: invalid value encountered in divide\n",
      "  diff = (arr1-arr2)/scaling\n",
      "/var/folders/xg/ddkjb2x96w167hqnv_gjv_v40000gn/T/ipykernel_35796/1427197658.py:87: VisibleDeprecationWarning: Creating an ndarray from ragged nested sequences (which is a list-or-tuple of lists-or-tuples-or ndarrays with different lengths or shapes) is deprecated. If you meant to do this, you must specify 'dtype=object' when creating the ndarray.\n",
      "  stab_diag = stabilization_diagram(acc[j], fs, 2, (np.array(omega_n_auto)/2/np.pi), np.array(order_auto), all_freqs=np.abs(lambd_stab)/2/np.pi, all_orders=orders_stab)\n"
     ]
    },
    {
     "name": "stdout",
     "output_type": "stream",
     "text": [
      "Stabilization diagram executed in 0.18273186683654785\n",
      "Wind statistics executed in 0.002789735794067383\n",
      "Time serie 4 of 16 done in 1.9181530475616455 sec. Period 13 of 88 done. Number of skipped periods: 12.\n",
      "Cov-SSI executed in 1.547780990600586\n",
      "HDBSCAN executed in 0.049828290939331055\n"
     ]
    },
    {
     "name": "stderr",
     "output_type": "stream",
     "text": [
      "/Users/emilneby/PyCharmProjects/AOMA_Halogaland/koma/clustering.py:46: RuntimeWarning: divide by zero encountered in divide\n",
      "  diff = (arr1-arr2)/scaling\n",
      "/Users/emilneby/PyCharmProjects/AOMA_Halogaland/koma/clustering.py:46: RuntimeWarning: invalid value encountered in divide\n",
      "  diff = (arr1-arr2)/scaling\n",
      "/var/folders/xg/ddkjb2x96w167hqnv_gjv_v40000gn/T/ipykernel_35796/1427197658.py:87: VisibleDeprecationWarning: Creating an ndarray from ragged nested sequences (which is a list-or-tuple of lists-or-tuples-or ndarrays with different lengths or shapes) is deprecated. If you meant to do this, you must specify 'dtype=object' when creating the ndarray.\n",
      "  stab_diag = stabilization_diagram(acc[j], fs, 2, (np.array(omega_n_auto)/2/np.pi), np.array(order_auto), all_freqs=np.abs(lambd_stab)/2/np.pi, all_orders=orders_stab)\n"
     ]
    },
    {
     "name": "stdout",
     "output_type": "stream",
     "text": [
      "Post processing executed in 0.02964615821838379\n",
      "Stabilization diagram executed in 0.19226813316345215\n",
      "Wind statistics executed in 0.0029120445251464844\n",
      "Time serie 5 of 16 done in 1.9952452182769775 sec. Period 13 of 88 done. Number of skipped periods: 12.\n",
      "Cov-SSI executed in 1.1357879638671875\n",
      "HDBSCAN executed in 0.03763604164123535\n",
      "Post processing executed in 0.021564006805419922\n"
     ]
    },
    {
     "name": "stderr",
     "output_type": "stream",
     "text": [
      "/Users/emilneby/PyCharmProjects/AOMA_Halogaland/koma/clustering.py:46: RuntimeWarning: divide by zero encountered in divide\n",
      "  diff = (arr1-arr2)/scaling\n",
      "/Users/emilneby/PyCharmProjects/AOMA_Halogaland/koma/clustering.py:46: RuntimeWarning: invalid value encountered in divide\n",
      "  diff = (arr1-arr2)/scaling\n",
      "/var/folders/xg/ddkjb2x96w167hqnv_gjv_v40000gn/T/ipykernel_35796/1427197658.py:87: VisibleDeprecationWarning: Creating an ndarray from ragged nested sequences (which is a list-or-tuple of lists-or-tuples-or ndarrays with different lengths or shapes) is deprecated. If you meant to do this, you must specify 'dtype=object' when creating the ndarray.\n",
      "  stab_diag = stabilization_diagram(acc[j], fs, 2, (np.array(omega_n_auto)/2/np.pi), np.array(order_auto), all_freqs=np.abs(lambd_stab)/2/np.pi, all_orders=orders_stab)\n"
     ]
    },
    {
     "name": "stdout",
     "output_type": "stream",
     "text": [
      "Stabilization diagram executed in 0.30539798736572266\n",
      "Wind statistics executed in 0.0038259029388427734\n",
      "Time serie 6 of 16 done in 1.6915538311004639 sec. Period 13 of 88 done. Number of skipped periods: 12.\n",
      "Cov-SSI executed in 1.6450848579406738\n",
      "HDBSCAN executed in 0.040900230407714844\n",
      "Post processing executed in 0.02448582649230957\n"
     ]
    },
    {
     "name": "stderr",
     "output_type": "stream",
     "text": [
      "/var/folders/xg/ddkjb2x96w167hqnv_gjv_v40000gn/T/ipykernel_35796/1427197658.py:87: VisibleDeprecationWarning: Creating an ndarray from ragged nested sequences (which is a list-or-tuple of lists-or-tuples-or ndarrays with different lengths or shapes) is deprecated. If you meant to do this, you must specify 'dtype=object' when creating the ndarray.\n",
      "  stab_diag = stabilization_diagram(acc[j], fs, 2, (np.array(omega_n_auto)/2/np.pi), np.array(order_auto), all_freqs=np.abs(lambd_stab)/2/np.pi, all_orders=orders_stab)\n"
     ]
    },
    {
     "name": "stdout",
     "output_type": "stream",
     "text": [
      "Stabilization diagram executed in 0.1813809871673584\n",
      "Wind statistics executed in 0.0028541088104248047\n",
      "Time serie 7 of 16 done in 2.1044397354125977 sec. Period 13 of 88 done. Number of skipped periods: 12.\n",
      "Cov-SSI executed in 1.2208383083343506\n",
      "HDBSCAN executed in 0.04667925834655762\n",
      "Post processing executed in 0.02849411964416504\n"
     ]
    },
    {
     "name": "stderr",
     "output_type": "stream",
     "text": [
      "/Users/emilneby/PyCharmProjects/AOMA_Halogaland/koma/clustering.py:46: RuntimeWarning: divide by zero encountered in divide\n",
      "  diff = (arr1-arr2)/scaling\n",
      "/Users/emilneby/PyCharmProjects/AOMA_Halogaland/koma/clustering.py:46: RuntimeWarning: invalid value encountered in divide\n",
      "  diff = (arr1-arr2)/scaling\n",
      "/var/folders/xg/ddkjb2x96w167hqnv_gjv_v40000gn/T/ipykernel_35796/1427197658.py:87: VisibleDeprecationWarning: Creating an ndarray from ragged nested sequences (which is a list-or-tuple of lists-or-tuples-or ndarrays with different lengths or shapes) is deprecated. If you meant to do this, you must specify 'dtype=object' when creating the ndarray.\n",
      "  stab_diag = stabilization_diagram(acc[j], fs, 2, (np.array(omega_n_auto)/2/np.pi), np.array(order_auto), all_freqs=np.abs(lambd_stab)/2/np.pi, all_orders=orders_stab)\n"
     ]
    },
    {
     "name": "stdout",
     "output_type": "stream",
     "text": [
      "Stabilization diagram executed in 0.1824178695678711\n",
      "Wind statistics executed in 0.0029289722442626953\n",
      "Time serie 8 of 16 done in 1.68609619140625 sec. Period 13 of 88 done. Number of skipped periods: 12.\n",
      "Cov-SSI executed in 1.2172491550445557\n",
      "HDBSCAN executed in 0.03771519660949707\n",
      "Post processing executed in 0.022847414016723633\n"
     ]
    },
    {
     "name": "stderr",
     "output_type": "stream",
     "text": [
      "/Users/emilneby/PyCharmProjects/AOMA_Halogaland/koma/clustering.py:46: RuntimeWarning: divide by zero encountered in divide\n",
      "  diff = (arr1-arr2)/scaling\n",
      "/Users/emilneby/PyCharmProjects/AOMA_Halogaland/koma/clustering.py:46: RuntimeWarning: invalid value encountered in divide\n",
      "  diff = (arr1-arr2)/scaling\n",
      "/var/folders/xg/ddkjb2x96w167hqnv_gjv_v40000gn/T/ipykernel_35796/1427197658.py:87: VisibleDeprecationWarning: Creating an ndarray from ragged nested sequences (which is a list-or-tuple of lists-or-tuples-or ndarrays with different lengths or shapes) is deprecated. If you meant to do this, you must specify 'dtype=object' when creating the ndarray.\n",
      "  stab_diag = stabilization_diagram(acc[j], fs, 2, (np.array(omega_n_auto)/2/np.pi), np.array(order_auto), all_freqs=np.abs(lambd_stab)/2/np.pi, all_orders=orders_stab)\n"
     ]
    },
    {
     "name": "stdout",
     "output_type": "stream",
     "text": [
      "Stabilization diagram executed in 0.18098092079162598\n",
      "Wind statistics executed in 0.0031778812408447266\n",
      "Time serie 9 of 16 done in 1.6493949890136719 sec. Period 13 of 88 done. Number of skipped periods: 12.\n",
      "Cov-SSI executed in 1.1622769832611084\n",
      "HDBSCAN executed in 0.04039931297302246\n",
      "Post processing executed in 0.02509593963623047\n"
     ]
    },
    {
     "name": "stderr",
     "output_type": "stream",
     "text": [
      "/Users/emilneby/PyCharmProjects/AOMA_Halogaland/koma/clustering.py:46: RuntimeWarning: divide by zero encountered in divide\n",
      "  diff = (arr1-arr2)/scaling\n",
      "/Users/emilneby/PyCharmProjects/AOMA_Halogaland/koma/clustering.py:46: RuntimeWarning: invalid value encountered in divide\n",
      "  diff = (arr1-arr2)/scaling\n",
      "/var/folders/xg/ddkjb2x96w167hqnv_gjv_v40000gn/T/ipykernel_35796/1427197658.py:87: VisibleDeprecationWarning: Creating an ndarray from ragged nested sequences (which is a list-or-tuple of lists-or-tuples-or ndarrays with different lengths or shapes) is deprecated. If you meant to do this, you must specify 'dtype=object' when creating the ndarray.\n",
      "  stab_diag = stabilization_diagram(acc[j], fs, 2, (np.array(omega_n_auto)/2/np.pi), np.array(order_auto), all_freqs=np.abs(lambd_stab)/2/np.pi, all_orders=orders_stab)\n"
     ]
    },
    {
     "name": "stdout",
     "output_type": "stream",
     "text": [
      "Stabilization diagram executed in 0.17864394187927246\n",
      "Wind statistics executed in 0.0035631656646728516\n",
      "Time serie 10 of 16 done in 1.608048915863037 sec. Period 13 of 88 done. Number of skipped periods: 12.\n",
      "Cov-SSI executed in 1.3956260681152344\n",
      "HDBSCAN executed in 0.042215824127197266\n",
      "Post processing executed in 0.024541139602661133\n"
     ]
    },
    {
     "name": "stderr",
     "output_type": "stream",
     "text": [
      "/Users/emilneby/PyCharmProjects/AOMA_Halogaland/koma/clustering.py:46: RuntimeWarning: divide by zero encountered in divide\n",
      "  diff = (arr1-arr2)/scaling\n",
      "/Users/emilneby/PyCharmProjects/AOMA_Halogaland/koma/clustering.py:46: RuntimeWarning: invalid value encountered in divide\n",
      "  diff = (arr1-arr2)/scaling\n",
      "/var/folders/xg/ddkjb2x96w167hqnv_gjv_v40000gn/T/ipykernel_35796/1427197658.py:87: VisibleDeprecationWarning: Creating an ndarray from ragged nested sequences (which is a list-or-tuple of lists-or-tuples-or ndarrays with different lengths or shapes) is deprecated. If you meant to do this, you must specify 'dtype=object' when creating the ndarray.\n",
      "  stab_diag = stabilization_diagram(acc[j], fs, 2, (np.array(omega_n_auto)/2/np.pi), np.array(order_auto), all_freqs=np.abs(lambd_stab)/2/np.pi, all_orders=orders_stab)\n"
     ]
    },
    {
     "name": "stdout",
     "output_type": "stream",
     "text": [
      "Stabilization diagram executed in 0.1814861297607422\n",
      "Wind statistics executed in 0.002885103225708008\n",
      "Time serie 11 of 16 done in 1.846019983291626 sec. Period 13 of 88 done. Number of skipped periods: 12.\n",
      "Cov-SSI executed in 1.0977940559387207\n",
      "HDBSCAN executed in 0.03914308547973633\n",
      "Post processing executed in 0.023668289184570312\n"
     ]
    },
    {
     "name": "stderr",
     "output_type": "stream",
     "text": [
      "/Users/emilneby/PyCharmProjects/AOMA_Halogaland/koma/clustering.py:46: RuntimeWarning: divide by zero encountered in divide\n",
      "  diff = (arr1-arr2)/scaling\n",
      "/Users/emilneby/PyCharmProjects/AOMA_Halogaland/koma/clustering.py:46: RuntimeWarning: invalid value encountered in divide\n",
      "  diff = (arr1-arr2)/scaling\n",
      "/var/folders/xg/ddkjb2x96w167hqnv_gjv_v40000gn/T/ipykernel_35796/1427197658.py:87: VisibleDeprecationWarning: Creating an ndarray from ragged nested sequences (which is a list-or-tuple of lists-or-tuples-or ndarrays with different lengths or shapes) is deprecated. If you meant to do this, you must specify 'dtype=object' when creating the ndarray.\n",
      "  stab_diag = stabilization_diagram(acc[j], fs, 2, (np.array(omega_n_auto)/2/np.pi), np.array(order_auto), all_freqs=np.abs(lambd_stab)/2/np.pi, all_orders=orders_stab)\n"
     ]
    },
    {
     "name": "stdout",
     "output_type": "stream",
     "text": [
      "Stabilization diagram executed in 0.17777490615844727\n",
      "Wind statistics executed in 0.003203868865966797\n",
      "Time serie 12 of 16 done in 1.5194568634033203 sec. Period 13 of 88 done. Number of skipped periods: 12.\n",
      "Cov-SSI executed in 1.4964029788970947\n",
      "HDBSCAN executed in 0.05853724479675293\n",
      "Post processing executed in 0.02440500259399414\n"
     ]
    },
    {
     "name": "stderr",
     "output_type": "stream",
     "text": [
      "/var/folders/xg/ddkjb2x96w167hqnv_gjv_v40000gn/T/ipykernel_35796/1427197658.py:87: VisibleDeprecationWarning: Creating an ndarray from ragged nested sequences (which is a list-or-tuple of lists-or-tuples-or ndarrays with different lengths or shapes) is deprecated. If you meant to do this, you must specify 'dtype=object' when creating the ndarray.\n",
      "  stab_diag = stabilization_diagram(acc[j], fs, 2, (np.array(omega_n_auto)/2/np.pi), np.array(order_auto), all_freqs=np.abs(lambd_stab)/2/np.pi, all_orders=orders_stab)\n"
     ]
    },
    {
     "name": "stdout",
     "output_type": "stream",
     "text": [
      "Stabilization diagram executed in 0.1859288215637207\n",
      "Wind statistics executed in 0.1591329574584961\n",
      "Time serie 13 of 16 done in 2.0806689262390137 sec. Period 13 of 88 done. Number of skipped periods: 12.\n",
      "Cov-SSI executed in 1.6375370025634766\n",
      "HDBSCAN executed in 0.04874300956726074\n",
      "Post processing executed in 0.027786970138549805\n"
     ]
    },
    {
     "name": "stderr",
     "output_type": "stream",
     "text": [
      "/var/folders/xg/ddkjb2x96w167hqnv_gjv_v40000gn/T/ipykernel_35796/1427197658.py:87: VisibleDeprecationWarning: Creating an ndarray from ragged nested sequences (which is a list-or-tuple of lists-or-tuples-or ndarrays with different lengths or shapes) is deprecated. If you meant to do this, you must specify 'dtype=object' when creating the ndarray.\n",
      "  stab_diag = stabilization_diagram(acc[j], fs, 2, (np.array(omega_n_auto)/2/np.pi), np.array(order_auto), all_freqs=np.abs(lambd_stab)/2/np.pi, all_orders=orders_stab)\n"
     ]
    },
    {
     "name": "stdout",
     "output_type": "stream",
     "text": [
      "Stabilization diagram executed in 0.19220495223999023\n",
      "Wind statistics executed in 0.003158092498779297\n",
      "Time serie 14 of 16 done in 2.092841148376465 sec. Period 13 of 88 done. Number of skipped periods: 12.\n",
      "Cov-SSI executed in 1.4193789958953857\n",
      "HDBSCAN executed in 0.04065394401550293\n",
      "Post processing executed in 0.024060964584350586\n"
     ]
    },
    {
     "name": "stderr",
     "output_type": "stream",
     "text": [
      "/Users/emilneby/PyCharmProjects/AOMA_Halogaland/koma/clustering.py:46: RuntimeWarning: divide by zero encountered in divide\n",
      "  diff = (arr1-arr2)/scaling\n",
      "/Users/emilneby/PyCharmProjects/AOMA_Halogaland/koma/clustering.py:46: RuntimeWarning: invalid value encountered in divide\n",
      "  diff = (arr1-arr2)/scaling\n",
      "/var/folders/xg/ddkjb2x96w167hqnv_gjv_v40000gn/T/ipykernel_35796/1427197658.py:87: VisibleDeprecationWarning: Creating an ndarray from ragged nested sequences (which is a list-or-tuple of lists-or-tuples-or ndarrays with different lengths or shapes) is deprecated. If you meant to do this, you must specify 'dtype=object' when creating the ndarray.\n",
      "  stab_diag = stabilization_diagram(acc[j], fs, 2, (np.array(omega_n_auto)/2/np.pi), np.array(order_auto), all_freqs=np.abs(lambd_stab)/2/np.pi, all_orders=orders_stab)\n"
     ]
    },
    {
     "name": "stdout",
     "output_type": "stream",
     "text": [
      "Stabilization diagram executed in 0.17761564254760742\n",
      "Wind statistics executed in 0.003181934356689453\n",
      "Time serie 15 of 16 done in 1.8564753532409668 sec. Period 13 of 88 done. Number of skipped periods: 12.\n",
      "Cov-SSI executed in 1.0746219158172607\n",
      "HDBSCAN executed in 0.0377500057220459\n",
      "Post processing executed in 0.02495884895324707\n"
     ]
    },
    {
     "name": "stderr",
     "output_type": "stream",
     "text": [
      "/var/folders/xg/ddkjb2x96w167hqnv_gjv_v40000gn/T/ipykernel_35796/1427197658.py:87: VisibleDeprecationWarning: Creating an ndarray from ragged nested sequences (which is a list-or-tuple of lists-or-tuples-or ndarrays with different lengths or shapes) is deprecated. If you meant to do this, you must specify 'dtype=object' when creating the ndarray.\n",
      "  stab_diag = stabilization_diagram(acc[j], fs, 2, (np.array(omega_n_auto)/2/np.pi), np.array(order_auto), all_freqs=np.abs(lambd_stab)/2/np.pi, all_orders=orders_stab)\n"
     ]
    },
    {
     "name": "stdout",
     "output_type": "stream",
     "text": [
      "Stabilization diagram executed in 0.18537616729736328\n",
      "Wind statistics executed in 0.002808094024658203\n",
      "Time serie 16 of 16 done in 1.511596918106079 sec. Period 13 of 88 done. Number of skipped periods: 12.\n",
      "Cov-SSI executed in 2.903424024581909\n",
      "HDBSCAN executed in 0.04277992248535156\n",
      "Post processing executed in 0.025684833526611328\n"
     ]
    },
    {
     "name": "stderr",
     "output_type": "stream",
     "text": [
      "/var/folders/xg/ddkjb2x96w167hqnv_gjv_v40000gn/T/ipykernel_35796/1427197658.py:87: VisibleDeprecationWarning: Creating an ndarray from ragged nested sequences (which is a list-or-tuple of lists-or-tuples-or ndarrays with different lengths or shapes) is deprecated. If you meant to do this, you must specify 'dtype=object' when creating the ndarray.\n",
      "  stab_diag = stabilization_diagram(acc[j], fs, 2, (np.array(omega_n_auto)/2/np.pi), np.array(order_auto), all_freqs=np.abs(lambd_stab)/2/np.pi, all_orders=orders_stab)\n"
     ]
    },
    {
     "name": "stdout",
     "output_type": "stream",
     "text": [
      "Stabilization diagram executed in 0.1959521770477295\n",
      "Wind statistics executed in 0.014273881912231445\n",
      "Time serie 1 of 16 done in 3.3817522525787354 sec. Period 14 of 88 done. Number of skipped periods: 12.\n",
      "Cov-SSI executed in 1.951706886291504\n",
      "HDBSCAN executed in 0.04428291320800781\n",
      "Post processing executed in 0.027479171752929688\n"
     ]
    },
    {
     "name": "stderr",
     "output_type": "stream",
     "text": [
      "/Users/emilneby/PyCharmProjects/AOMA_Halogaland/koma/clustering.py:46: RuntimeWarning: divide by zero encountered in divide\n",
      "  diff = (arr1-arr2)/scaling\n",
      "/Users/emilneby/PyCharmProjects/AOMA_Halogaland/koma/clustering.py:46: RuntimeWarning: invalid value encountered in divide\n",
      "  diff = (arr1-arr2)/scaling\n",
      "/var/folders/xg/ddkjb2x96w167hqnv_gjv_v40000gn/T/ipykernel_35796/1427197658.py:87: VisibleDeprecationWarning: Creating an ndarray from ragged nested sequences (which is a list-or-tuple of lists-or-tuples-or ndarrays with different lengths or shapes) is deprecated. If you meant to do this, you must specify 'dtype=object' when creating the ndarray.\n",
      "  stab_diag = stabilization_diagram(acc[j], fs, 2, (np.array(omega_n_auto)/2/np.pi), np.array(order_auto), all_freqs=np.abs(lambd_stab)/2/np.pi, all_orders=orders_stab)\n"
     ]
    },
    {
     "name": "stdout",
     "output_type": "stream",
     "text": [
      "Stabilization diagram executed in 0.32928991317749023\n",
      "Wind statistics executed in 0.0031332969665527344\n",
      "Time serie 2 of 16 done in 2.555036783218384 sec. Period 14 of 88 done. Number of skipped periods: 12.\n",
      "Cov-SSI executed in 2.0311639308929443\n",
      "HDBSCAN executed in 0.05748891830444336\n",
      "Post processing executed in 0.0291750431060791\n"
     ]
    },
    {
     "name": "stderr",
     "output_type": "stream",
     "text": [
      "/Users/emilneby/PyCharmProjects/AOMA_Halogaland/koma/clustering.py:46: RuntimeWarning: divide by zero encountered in divide\n",
      "  diff = (arr1-arr2)/scaling\n",
      "/Users/emilneby/PyCharmProjects/AOMA_Halogaland/koma/clustering.py:46: RuntimeWarning: invalid value encountered in divide\n",
      "  diff = (arr1-arr2)/scaling\n",
      "/var/folders/xg/ddkjb2x96w167hqnv_gjv_v40000gn/T/ipykernel_35796/1427197658.py:87: VisibleDeprecationWarning: Creating an ndarray from ragged nested sequences (which is a list-or-tuple of lists-or-tuples-or ndarrays with different lengths or shapes) is deprecated. If you meant to do this, you must specify 'dtype=object' when creating the ndarray.\n",
      "  stab_diag = stabilization_diagram(acc[j], fs, 2, (np.array(omega_n_auto)/2/np.pi), np.array(order_auto), all_freqs=np.abs(lambd_stab)/2/np.pi, all_orders=orders_stab)\n"
     ]
    },
    {
     "name": "stdout",
     "output_type": "stream",
     "text": [
      "Stabilization diagram executed in 0.20097994804382324\n",
      "Wind statistics executed in 0.0032129287719726562\n",
      "Time serie 3 of 16 done in 2.525815963745117 sec. Period 14 of 88 done. Number of skipped periods: 12.\n",
      "Cov-SSI executed in 2.0731160640716553\n"
     ]
    },
    {
     "name": "stderr",
     "output_type": "stream",
     "text": [
      "/Users/emilneby/PyCharmProjects/AOMA_Halogaland/koma/clustering.py:46: RuntimeWarning: divide by zero encountered in divide\n",
      "  diff = (arr1-arr2)/scaling\n",
      "/Users/emilneby/PyCharmProjects/AOMA_Halogaland/koma/clustering.py:46: RuntimeWarning: invalid value encountered in divide\n",
      "  diff = (arr1-arr2)/scaling\n",
      "/var/folders/xg/ddkjb2x96w167hqnv_gjv_v40000gn/T/ipykernel_35796/1427197658.py:87: VisibleDeprecationWarning: Creating an ndarray from ragged nested sequences (which is a list-or-tuple of lists-or-tuples-or ndarrays with different lengths or shapes) is deprecated. If you meant to do this, you must specify 'dtype=object' when creating the ndarray.\n",
      "  stab_diag = stabilization_diagram(acc[j], fs, 2, (np.array(omega_n_auto)/2/np.pi), np.array(order_auto), all_freqs=np.abs(lambd_stab)/2/np.pi, all_orders=orders_stab)\n"
     ]
    },
    {
     "name": "stdout",
     "output_type": "stream",
     "text": [
      "HDBSCAN executed in 0.045454978942871094\n",
      "Post processing executed in 0.02902507781982422\n",
      "Stabilization diagram executed in 0.1816120147705078\n",
      "Wind statistics executed in 0.0029408931732177734\n",
      "Time serie 4 of 16 done in 2.497371196746826 sec. Period 14 of 88 done. Number of skipped periods: 12.\n",
      "Cov-SSI executed in 1.250054121017456\n",
      "HDBSCAN executed in 0.04654502868652344\n",
      "Post processing executed in 0.02851700782775879\n"
     ]
    },
    {
     "name": "stderr",
     "output_type": "stream",
     "text": [
      "/var/folders/xg/ddkjb2x96w167hqnv_gjv_v40000gn/T/ipykernel_35796/1427197658.py:87: VisibleDeprecationWarning: Creating an ndarray from ragged nested sequences (which is a list-or-tuple of lists-or-tuples-or ndarrays with different lengths or shapes) is deprecated. If you meant to do this, you must specify 'dtype=object' when creating the ndarray.\n",
      "  stab_diag = stabilization_diagram(acc[j], fs, 2, (np.array(omega_n_auto)/2/np.pi), np.array(order_auto), all_freqs=np.abs(lambd_stab)/2/np.pi, all_orders=orders_stab)\n",
      "/Users/emilneby/PyCharmProjects/AOMA_Halogaland/dataloader_halogaland/plot.py:53: RuntimeWarning: More than 20 figures have been opened. Figures created through the pyplot interface (`matplotlib.pyplot.figure`) are retained until explicitly closed and may consume too much memory. (To control this warning, see the rcParam `figure.max_open_warning`). Consider using `matplotlib.pyplot.close()`.\n",
      "  fig, ax =plt.subplots(figsize=(14, 5), dpi=300)\n"
     ]
    },
    {
     "name": "stdout",
     "output_type": "stream",
     "text": [
      "Stabilization diagram executed in 0.18552136421203613\n",
      "Wind statistics executed in 0.003267049789428711\n",
      "Time serie 5 of 16 done in 1.7153990268707275 sec. Period 14 of 88 done. Number of skipped periods: 12.\n",
      "Cov-SSI executed in 1.2247629165649414\n",
      "HDBSCAN executed in 0.04248690605163574\n"
     ]
    },
    {
     "name": "stderr",
     "output_type": "stream",
     "text": [
      "/Users/emilneby/PyCharmProjects/AOMA_Halogaland/koma/clustering.py:46: RuntimeWarning: divide by zero encountered in divide\n",
      "  diff = (arr1-arr2)/scaling\n",
      "/Users/emilneby/PyCharmProjects/AOMA_Halogaland/koma/clustering.py:46: RuntimeWarning: invalid value encountered in divide\n",
      "  diff = (arr1-arr2)/scaling\n",
      "/var/folders/xg/ddkjb2x96w167hqnv_gjv_v40000gn/T/ipykernel_35796/1427197658.py:87: VisibleDeprecationWarning: Creating an ndarray from ragged nested sequences (which is a list-or-tuple of lists-or-tuples-or ndarrays with different lengths or shapes) is deprecated. If you meant to do this, you must specify 'dtype=object' when creating the ndarray.\n",
      "  stab_diag = stabilization_diagram(acc[j], fs, 2, (np.array(omega_n_auto)/2/np.pi), np.array(order_auto), all_freqs=np.abs(lambd_stab)/2/np.pi, all_orders=orders_stab)\n"
     ]
    },
    {
     "name": "stdout",
     "output_type": "stream",
     "text": [
      "Post processing executed in 0.02664017677307129\n",
      "Stabilization diagram executed in 0.18602299690246582\n",
      "Wind statistics executed in 0.002753019332885742\n",
      "Time serie 6 of 16 done in 1.6449658870697021 sec. Period 14 of 88 done. Number of skipped periods: 12.\n",
      "Cov-SSI executed in 1.5544500350952148\n",
      "HDBSCAN executed in 0.04895591735839844\n",
      "Post processing executed in 0.025324106216430664\n"
     ]
    },
    {
     "name": "stderr",
     "output_type": "stream",
     "text": [
      "/Users/emilneby/PyCharmProjects/AOMA_Halogaland/koma/clustering.py:46: RuntimeWarning: divide by zero encountered in divide\n",
      "  diff = (arr1-arr2)/scaling\n",
      "/Users/emilneby/PyCharmProjects/AOMA_Halogaland/koma/clustering.py:46: RuntimeWarning: invalid value encountered in divide\n",
      "  diff = (arr1-arr2)/scaling\n",
      "/var/folders/xg/ddkjb2x96w167hqnv_gjv_v40000gn/T/ipykernel_35796/1427197658.py:87: VisibleDeprecationWarning: Creating an ndarray from ragged nested sequences (which is a list-or-tuple of lists-or-tuples-or ndarrays with different lengths or shapes) is deprecated. If you meant to do this, you must specify 'dtype=object' when creating the ndarray.\n",
      "  stab_diag = stabilization_diagram(acc[j], fs, 2, (np.array(omega_n_auto)/2/np.pi), np.array(order_auto), all_freqs=np.abs(lambd_stab)/2/np.pi, all_orders=orders_stab)\n"
     ]
    },
    {
     "name": "stdout",
     "output_type": "stream",
     "text": [
      "Stabilization diagram executed in 0.19524192810058594\n",
      "Wind statistics executed in 0.002846240997314453\n",
      "Time serie 7 of 16 done in 1.9953594207763672 sec. Period 14 of 88 done. Number of skipped periods: 12.\n",
      "Cov-SSI executed in 2.0636210441589355\n",
      "HDBSCAN executed in 0.053967952728271484\n",
      "Post processing executed in 0.026247262954711914\n"
     ]
    },
    {
     "name": "stderr",
     "output_type": "stream",
     "text": [
      "/Users/emilneby/PyCharmProjects/AOMA_Halogaland/koma/clustering.py:46: RuntimeWarning: divide by zero encountered in divide\n",
      "  diff = (arr1-arr2)/scaling\n",
      "/Users/emilneby/PyCharmProjects/AOMA_Halogaland/koma/clustering.py:46: RuntimeWarning: invalid value encountered in divide\n",
      "  diff = (arr1-arr2)/scaling\n",
      "/var/folders/xg/ddkjb2x96w167hqnv_gjv_v40000gn/T/ipykernel_35796/1427197658.py:87: VisibleDeprecationWarning: Creating an ndarray from ragged nested sequences (which is a list-or-tuple of lists-or-tuples-or ndarrays with different lengths or shapes) is deprecated. If you meant to do this, you must specify 'dtype=object' when creating the ndarray.\n",
      "  stab_diag = stabilization_diagram(acc[j], fs, 2, (np.array(omega_n_auto)/2/np.pi), np.array(order_auto), all_freqs=np.abs(lambd_stab)/2/np.pi, all_orders=orders_stab)\n"
     ]
    },
    {
     "name": "stdout",
     "output_type": "stream",
     "text": [
      "Stabilization diagram executed in 0.1878190040588379\n",
      "Wind statistics executed in 0.003180980682373047\n",
      "Time serie 8 of 16 done in 2.5377871990203857 sec. Period 14 of 88 done. Number of skipped periods: 12.\n",
      "Cov-SSI executed in 1.4558727741241455\n",
      "HDBSCAN executed in 0.04581594467163086\n",
      "Post processing executed in 0.02466726303100586\n"
     ]
    },
    {
     "name": "stderr",
     "output_type": "stream",
     "text": [
      "/Users/emilneby/PyCharmProjects/AOMA_Halogaland/koma/clustering.py:46: RuntimeWarning: divide by zero encountered in divide\n",
      "  diff = (arr1-arr2)/scaling\n",
      "/Users/emilneby/PyCharmProjects/AOMA_Halogaland/koma/clustering.py:46: RuntimeWarning: invalid value encountered in divide\n",
      "  diff = (arr1-arr2)/scaling\n",
      "/var/folders/xg/ddkjb2x96w167hqnv_gjv_v40000gn/T/ipykernel_35796/1427197658.py:87: VisibleDeprecationWarning: Creating an ndarray from ragged nested sequences (which is a list-or-tuple of lists-or-tuples-or ndarrays with different lengths or shapes) is deprecated. If you meant to do this, you must specify 'dtype=object' when creating the ndarray.\n",
      "  stab_diag = stabilization_diagram(acc[j], fs, 2, (np.array(omega_n_auto)/2/np.pi), np.array(order_auto), all_freqs=np.abs(lambd_stab)/2/np.pi, all_orders=orders_stab)\n"
     ]
    },
    {
     "name": "stdout",
     "output_type": "stream",
     "text": [
      "Stabilization diagram executed in 0.18738603591918945\n",
      "Wind statistics executed in 0.003197193145751953\n",
      "Time serie 9 of 16 done in 1.9110736846923828 sec. Period 14 of 88 done. Number of skipped periods: 12.\n",
      "Cov-SSI executed in 3.1034369468688965\n"
     ]
    },
    {
     "name": "stderr",
     "output_type": "stream",
     "text": [
      "/Users/emilneby/PyCharmProjects/AOMA_Halogaland/koma/clustering.py:46: RuntimeWarning: divide by zero encountered in divide\n",
      "  diff = (arr1-arr2)/scaling\n",
      "/Users/emilneby/PyCharmProjects/AOMA_Halogaland/koma/clustering.py:46: RuntimeWarning: invalid value encountered in divide\n",
      "  diff = (arr1-arr2)/scaling\n",
      "/var/folders/xg/ddkjb2x96w167hqnv_gjv_v40000gn/T/ipykernel_35796/1427197658.py:87: VisibleDeprecationWarning: Creating an ndarray from ragged nested sequences (which is a list-or-tuple of lists-or-tuples-or ndarrays with different lengths or shapes) is deprecated. If you meant to do this, you must specify 'dtype=object' when creating the ndarray.\n",
      "  stab_diag = stabilization_diagram(acc[j], fs, 2, (np.array(omega_n_auto)/2/np.pi), np.array(order_auto), all_freqs=np.abs(lambd_stab)/2/np.pi, all_orders=orders_stab)\n"
     ]
    },
    {
     "name": "stdout",
     "output_type": "stream",
     "text": [
      "HDBSCAN executed in 0.04677104949951172\n",
      "Post processing executed in 0.027050018310546875\n",
      "Stabilization diagram executed in 0.19437789916992188\n",
      "Wind statistics executed in 0.0028150081634521484\n",
      "Time serie 10 of 16 done in 3.53534197807312 sec. Period 14 of 88 done. Number of skipped periods: 12.\n",
      "Cov-SSI executed in 2.0292630195617676\n",
      "HDBSCAN executed in 0.04118800163269043\n",
      "Post processing executed in 0.025750160217285156\n"
     ]
    },
    {
     "name": "stderr",
     "output_type": "stream",
     "text": [
      "/Users/emilneby/PyCharmProjects/AOMA_Halogaland/koma/clustering.py:46: RuntimeWarning: divide by zero encountered in divide\n",
      "  diff = (arr1-arr2)/scaling\n",
      "/Users/emilneby/PyCharmProjects/AOMA_Halogaland/koma/clustering.py:46: RuntimeWarning: invalid value encountered in divide\n",
      "  diff = (arr1-arr2)/scaling\n",
      "/var/folders/xg/ddkjb2x96w167hqnv_gjv_v40000gn/T/ipykernel_35796/1427197658.py:87: VisibleDeprecationWarning: Creating an ndarray from ragged nested sequences (which is a list-or-tuple of lists-or-tuples-or ndarrays with different lengths or shapes) is deprecated. If you meant to do this, you must specify 'dtype=object' when creating the ndarray.\n",
      "  stab_diag = stabilization_diagram(acc[j], fs, 2, (np.array(omega_n_auto)/2/np.pi), np.array(order_auto), all_freqs=np.abs(lambd_stab)/2/np.pi, all_orders=orders_stab)\n"
     ]
    },
    {
     "name": "stdout",
     "output_type": "stream",
     "text": [
      "Stabilization diagram executed in 0.19701600074768066\n",
      "Wind statistics executed in 0.0029668807983398438\n",
      "Time serie 11 of 16 done in 2.46277117729187 sec. Period 14 of 88 done. Number of skipped periods: 12.\n",
      "Cov-SSI executed in 2.3062849044799805\n",
      "HDBSCAN executed in 0.04065275192260742\n",
      "Post processing executed in 0.02277994155883789\n"
     ]
    },
    {
     "name": "stderr",
     "output_type": "stream",
     "text": [
      "/Users/emilneby/PyCharmProjects/AOMA_Halogaland/koma/clustering.py:46: RuntimeWarning: divide by zero encountered in divide\n",
      "  diff = (arr1-arr2)/scaling\n",
      "/Users/emilneby/PyCharmProjects/AOMA_Halogaland/koma/clustering.py:46: RuntimeWarning: invalid value encountered in divide\n",
      "  diff = (arr1-arr2)/scaling\n",
      "/var/folders/xg/ddkjb2x96w167hqnv_gjv_v40000gn/T/ipykernel_35796/1427197658.py:87: VisibleDeprecationWarning: Creating an ndarray from ragged nested sequences (which is a list-or-tuple of lists-or-tuples-or ndarrays with different lengths or shapes) is deprecated. If you meant to do this, you must specify 'dtype=object' when creating the ndarray.\n",
      "  stab_diag = stabilization_diagram(acc[j], fs, 2, (np.array(omega_n_auto)/2/np.pi), np.array(order_auto), all_freqs=np.abs(lambd_stab)/2/np.pi, all_orders=orders_stab)\n"
     ]
    },
    {
     "name": "stdout",
     "output_type": "stream",
     "text": [
      "Stabilization diagram executed in 0.18616604804992676\n",
      "Wind statistics executed in 0.00298309326171875\n",
      "Time serie 12 of 16 done in 2.742871046066284 sec. Period 14 of 88 done. Number of skipped periods: 12.\n",
      "Cov-SSI executed in 1.6964449882507324\n",
      "HDBSCAN executed in 0.04017901420593262\n",
      "Post processing executed in 0.02380514144897461\n"
     ]
    },
    {
     "name": "stderr",
     "output_type": "stream",
     "text": [
      "/Users/emilneby/PyCharmProjects/AOMA_Halogaland/koma/clustering.py:46: RuntimeWarning: divide by zero encountered in divide\n",
      "  diff = (arr1-arr2)/scaling\n",
      "/Users/emilneby/PyCharmProjects/AOMA_Halogaland/koma/clustering.py:46: RuntimeWarning: invalid value encountered in divide\n",
      "  diff = (arr1-arr2)/scaling\n",
      "/var/folders/xg/ddkjb2x96w167hqnv_gjv_v40000gn/T/ipykernel_35796/1427197658.py:87: VisibleDeprecationWarning: Creating an ndarray from ragged nested sequences (which is a list-or-tuple of lists-or-tuples-or ndarrays with different lengths or shapes) is deprecated. If you meant to do this, you must specify 'dtype=object' when creating the ndarray.\n",
      "  stab_diag = stabilization_diagram(acc[j], fs, 2, (np.array(omega_n_auto)/2/np.pi), np.array(order_auto), all_freqs=np.abs(lambd_stab)/2/np.pi, all_orders=orders_stab)\n"
     ]
    },
    {
     "name": "stdout",
     "output_type": "stream",
     "text": [
      "Stabilization diagram executed in 0.17753386497497559\n",
      "Wind statistics executed in 0.003541231155395508\n",
      "Time serie 13 of 16 done in 2.133519172668457 sec. Period 14 of 88 done. Number of skipped periods: 12.\n",
      "Cov-SSI executed in 1.720123052597046\n",
      "HDBSCAN executed in 0.04535388946533203\n",
      "Post processing executed in 0.026053905487060547\n"
     ]
    },
    {
     "name": "stderr",
     "output_type": "stream",
     "text": [
      "/var/folders/xg/ddkjb2x96w167hqnv_gjv_v40000gn/T/ipykernel_35796/1427197658.py:87: VisibleDeprecationWarning: Creating an ndarray from ragged nested sequences (which is a list-or-tuple of lists-or-tuples-or ndarrays with different lengths or shapes) is deprecated. If you meant to do this, you must specify 'dtype=object' when creating the ndarray.\n",
      "  stab_diag = stabilization_diagram(acc[j], fs, 2, (np.array(omega_n_auto)/2/np.pi), np.array(order_auto), all_freqs=np.abs(lambd_stab)/2/np.pi, all_orders=orders_stab)\n"
     ]
    },
    {
     "name": "stdout",
     "output_type": "stream",
     "text": [
      "Stabilization diagram executed in 0.1788318157196045\n",
      "Wind statistics executed in 0.002835988998413086\n",
      "Time serie 14 of 16 done in 2.1739790439605713 sec. Period 14 of 88 done. Number of skipped periods: 12.\n",
      "Cov-SSI executed in 1.587838888168335\n",
      "HDBSCAN executed in 0.034664154052734375\n",
      "Post processing executed in 0.02216815948486328\n"
     ]
    },
    {
     "name": "stderr",
     "output_type": "stream",
     "text": [
      "/var/folders/xg/ddkjb2x96w167hqnv_gjv_v40000gn/T/ipykernel_35796/1427197658.py:87: VisibleDeprecationWarning: Creating an ndarray from ragged nested sequences (which is a list-or-tuple of lists-or-tuples-or ndarrays with different lengths or shapes) is deprecated. If you meant to do this, you must specify 'dtype=object' when creating the ndarray.\n",
      "  stab_diag = stabilization_diagram(acc[j], fs, 2, (np.array(omega_n_auto)/2/np.pi), np.array(order_auto), all_freqs=np.abs(lambd_stab)/2/np.pi, all_orders=orders_stab)\n"
     ]
    },
    {
     "name": "stdout",
     "output_type": "stream",
     "text": [
      "Stabilization diagram executed in 0.18390512466430664\n",
      "Wind statistics executed in 0.0026650428771972656\n",
      "Time serie 15 of 16 done in 2.0146329402923584 sec. Period 14 of 88 done. Number of skipped periods: 12.\n",
      "Cov-SSI executed in 1.9254319667816162\n",
      "HDBSCAN executed in 0.04066777229309082\n",
      "Post processing executed in 0.024972915649414062\n"
     ]
    },
    {
     "name": "stderr",
     "output_type": "stream",
     "text": [
      "/Users/emilneby/PyCharmProjects/AOMA_Halogaland/koma/clustering.py:46: RuntimeWarning: divide by zero encountered in divide\n",
      "  diff = (arr1-arr2)/scaling\n",
      "/Users/emilneby/PyCharmProjects/AOMA_Halogaland/koma/clustering.py:46: RuntimeWarning: invalid value encountered in divide\n",
      "  diff = (arr1-arr2)/scaling\n",
      "/var/folders/xg/ddkjb2x96w167hqnv_gjv_v40000gn/T/ipykernel_35796/1427197658.py:87: VisibleDeprecationWarning: Creating an ndarray from ragged nested sequences (which is a list-or-tuple of lists-or-tuples-or ndarrays with different lengths or shapes) is deprecated. If you meant to do this, you must specify 'dtype=object' when creating the ndarray.\n",
      "  stab_diag = stabilization_diagram(acc[j], fs, 2, (np.array(omega_n_auto)/2/np.pi), np.array(order_auto), all_freqs=np.abs(lambd_stab)/2/np.pi, all_orders=orders_stab)\n"
     ]
    },
    {
     "name": "stdout",
     "output_type": "stream",
     "text": [
      "Stabilization diagram executed in 0.338824987411499\n",
      "Wind statistics executed in 0.0026869773864746094\n",
      "Time serie 16 of 16 done in 2.5066978931427 sec. Period 14 of 88 done. Number of skipped periods: 12.\n",
      "Cov-SSI executed in 2.110990047454834\n",
      "HDBSCAN executed in 0.03773093223571777\n",
      "Post processing executed in 0.02446269989013672\n"
     ]
    },
    {
     "name": "stderr",
     "output_type": "stream",
     "text": [
      "/Users/emilneby/PyCharmProjects/AOMA_Halogaland/koma/clustering.py:46: RuntimeWarning: divide by zero encountered in divide\n",
      "  diff = (arr1-arr2)/scaling\n",
      "/Users/emilneby/PyCharmProjects/AOMA_Halogaland/koma/clustering.py:46: RuntimeWarning: invalid value encountered in divide\n",
      "  diff = (arr1-arr2)/scaling\n",
      "/var/folders/xg/ddkjb2x96w167hqnv_gjv_v40000gn/T/ipykernel_35796/1427197658.py:87: VisibleDeprecationWarning: Creating an ndarray from ragged nested sequences (which is a list-or-tuple of lists-or-tuples-or ndarrays with different lengths or shapes) is deprecated. If you meant to do this, you must specify 'dtype=object' when creating the ndarray.\n",
      "  stab_diag = stabilization_diagram(acc[j], fs, 2, (np.array(omega_n_auto)/2/np.pi), np.array(order_auto), all_freqs=np.abs(lambd_stab)/2/np.pi, all_orders=orders_stab)\n"
     ]
    },
    {
     "name": "stdout",
     "output_type": "stream",
     "text": [
      "Stabilization diagram executed in 0.18530988693237305\n",
      "Wind statistics executed in 0.01684403419494629\n",
      "Time serie 1 of 16 done in 2.567566156387329 sec. Period 15 of 88 done. Number of skipped periods: 12.\n",
      "Cov-SSI executed in 2.586298704147339\n",
      "HDBSCAN executed in 0.03586101531982422\n",
      "Post processing executed in 0.022556781768798828\n"
     ]
    },
    {
     "name": "stderr",
     "output_type": "stream",
     "text": [
      "/Users/emilneby/PyCharmProjects/AOMA_Halogaland/koma/clustering.py:46: RuntimeWarning: divide by zero encountered in divide\n",
      "  diff = (arr1-arr2)/scaling\n",
      "/Users/emilneby/PyCharmProjects/AOMA_Halogaland/koma/clustering.py:46: RuntimeWarning: invalid value encountered in divide\n",
      "  diff = (arr1-arr2)/scaling\n",
      "/var/folders/xg/ddkjb2x96w167hqnv_gjv_v40000gn/T/ipykernel_35796/1427197658.py:87: VisibleDeprecationWarning: Creating an ndarray from ragged nested sequences (which is a list-or-tuple of lists-or-tuples-or ndarrays with different lengths or shapes) is deprecated. If you meant to do this, you must specify 'dtype=object' when creating the ndarray.\n",
      "  stab_diag = stabilization_diagram(acc[j], fs, 2, (np.array(omega_n_auto)/2/np.pi), np.array(order_auto), all_freqs=np.abs(lambd_stab)/2/np.pi, all_orders=orders_stab)\n"
     ]
    },
    {
     "name": "stdout",
     "output_type": "stream",
     "text": [
      "Stabilization diagram executed in 0.18535900115966797\n",
      "Wind statistics executed in 0.0031359195709228516\n",
      "Time serie 2 of 16 done in 2.990043878555298 sec. Period 15 of 88 done. Number of skipped periods: 12.\n",
      "Cov-SSI executed in 1.5537137985229492\n",
      "HDBSCAN executed in 0.04093575477600098\n",
      "Post processing executed in 0.024999141693115234\n"
     ]
    },
    {
     "name": "stderr",
     "output_type": "stream",
     "text": [
      "/Users/emilneby/PyCharmProjects/AOMA_Halogaland/koma/clustering.py:46: RuntimeWarning: divide by zero encountered in divide\n",
      "  diff = (arr1-arr2)/scaling\n",
      "/Users/emilneby/PyCharmProjects/AOMA_Halogaland/koma/clustering.py:46: RuntimeWarning: invalid value encountered in divide\n",
      "  diff = (arr1-arr2)/scaling\n",
      "/var/folders/xg/ddkjb2x96w167hqnv_gjv_v40000gn/T/ipykernel_35796/1427197658.py:87: VisibleDeprecationWarning: Creating an ndarray from ragged nested sequences (which is a list-or-tuple of lists-or-tuples-or ndarrays with different lengths or shapes) is deprecated. If you meant to do this, you must specify 'dtype=object' when creating the ndarray.\n",
      "  stab_diag = stabilization_diagram(acc[j], fs, 2, (np.array(omega_n_auto)/2/np.pi), np.array(order_auto), all_freqs=np.abs(lambd_stab)/2/np.pi, all_orders=orders_stab)\n"
     ]
    },
    {
     "name": "stdout",
     "output_type": "stream",
     "text": [
      "Stabilization diagram executed in 0.20427274703979492\n",
      "Wind statistics executed in 0.003297090530395508\n",
      "Time serie 3 of 16 done in 2.035022735595703 sec. Period 15 of 88 done. Number of skipped periods: 12.\n",
      "Cov-SSI executed in 1.7023308277130127\n",
      "HDBSCAN executed in 0.037197113037109375\n",
      "Post processing executed in 0.022822856903076172\n"
     ]
    },
    {
     "name": "stderr",
     "output_type": "stream",
     "text": [
      "/var/folders/xg/ddkjb2x96w167hqnv_gjv_v40000gn/T/ipykernel_35796/1427197658.py:87: VisibleDeprecationWarning: Creating an ndarray from ragged nested sequences (which is a list-or-tuple of lists-or-tuples-or ndarrays with different lengths or shapes) is deprecated. If you meant to do this, you must specify 'dtype=object' when creating the ndarray.\n",
      "  stab_diag = stabilization_diagram(acc[j], fs, 2, (np.array(omega_n_auto)/2/np.pi), np.array(order_auto), all_freqs=np.abs(lambd_stab)/2/np.pi, all_orders=orders_stab)\n"
     ]
    },
    {
     "name": "stdout",
     "output_type": "stream",
     "text": [
      "Stabilization diagram executed in 0.18930578231811523\n",
      "Wind statistics executed in 0.003086090087890625\n",
      "Time serie 4 of 16 done in 2.117335796356201 sec. Period 15 of 88 done. Number of skipped periods: 12.\n",
      "Cov-SSI executed in 1.5030200481414795\n",
      "HDBSCAN executed in 0.047637939453125\n",
      "Post processing executed in 0.026393890380859375\n"
     ]
    },
    {
     "name": "stderr",
     "output_type": "stream",
     "text": [
      "/Users/emilneby/PyCharmProjects/AOMA_Halogaland/koma/clustering.py:46: RuntimeWarning: divide by zero encountered in divide\n",
      "  diff = (arr1-arr2)/scaling\n",
      "/Users/emilneby/PyCharmProjects/AOMA_Halogaland/koma/clustering.py:46: RuntimeWarning: invalid value encountered in divide\n",
      "  diff = (arr1-arr2)/scaling\n",
      "/var/folders/xg/ddkjb2x96w167hqnv_gjv_v40000gn/T/ipykernel_35796/1427197658.py:87: VisibleDeprecationWarning: Creating an ndarray from ragged nested sequences (which is a list-or-tuple of lists-or-tuples-or ndarrays with different lengths or shapes) is deprecated. If you meant to do this, you must specify 'dtype=object' when creating the ndarray.\n",
      "  stab_diag = stabilization_diagram(acc[j], fs, 2, (np.array(omega_n_auto)/2/np.pi), np.array(order_auto), all_freqs=np.abs(lambd_stab)/2/np.pi, all_orders=orders_stab)\n"
     ]
    },
    {
     "name": "stdout",
     "output_type": "stream",
     "text": [
      "Stabilization diagram executed in 0.18952202796936035\n",
      "Wind statistics executed in 0.004347085952758789\n",
      "Time serie 5 of 16 done in 1.97184419631958 sec. Period 15 of 88 done. Number of skipped periods: 12.\n",
      "Cov-SSI executed in 2.013360023498535\n",
      "HDBSCAN executed in 0.04321885108947754\n",
      "Post processing executed in 0.02544403076171875\n"
     ]
    },
    {
     "name": "stderr",
     "output_type": "stream",
     "text": [
      "/Users/emilneby/PyCharmProjects/AOMA_Halogaland/koma/clustering.py:46: RuntimeWarning: divide by zero encountered in divide\n",
      "  diff = (arr1-arr2)/scaling\n",
      "/Users/emilneby/PyCharmProjects/AOMA_Halogaland/koma/clustering.py:46: RuntimeWarning: invalid value encountered in divide\n",
      "  diff = (arr1-arr2)/scaling\n",
      "/var/folders/xg/ddkjb2x96w167hqnv_gjv_v40000gn/T/ipykernel_35796/1427197658.py:87: VisibleDeprecationWarning: Creating an ndarray from ragged nested sequences (which is a list-or-tuple of lists-or-tuples-or ndarrays with different lengths or shapes) is deprecated. If you meant to do this, you must specify 'dtype=object' when creating the ndarray.\n",
      "  stab_diag = stabilization_diagram(acc[j], fs, 2, (np.array(omega_n_auto)/2/np.pi), np.array(order_auto), all_freqs=np.abs(lambd_stab)/2/np.pi, all_orders=orders_stab)\n"
     ]
    },
    {
     "name": "stdout",
     "output_type": "stream",
     "text": [
      "Stabilization diagram executed in 0.1861860752105713\n",
      "Wind statistics executed in 1.1225271224975586\n",
      "Time serie 6 of 16 done in 3.5861499309539795 sec. Period 15 of 88 done. Number of skipped periods: 12.\n",
      "Cov-SSI executed in 2.5587589740753174\n",
      "HDBSCAN executed in 0.04634809494018555\n",
      "Post processing executed in 0.028041839599609375\n"
     ]
    },
    {
     "name": "stderr",
     "output_type": "stream",
     "text": [
      "/var/folders/xg/ddkjb2x96w167hqnv_gjv_v40000gn/T/ipykernel_35796/1427197658.py:87: VisibleDeprecationWarning: Creating an ndarray from ragged nested sequences (which is a list-or-tuple of lists-or-tuples-or ndarrays with different lengths or shapes) is deprecated. If you meant to do this, you must specify 'dtype=object' when creating the ndarray.\n",
      "  stab_diag = stabilization_diagram(acc[j], fs, 2, (np.array(omega_n_auto)/2/np.pi), np.array(order_auto), all_freqs=np.abs(lambd_stab)/2/np.pi, all_orders=orders_stab)\n"
     ]
    },
    {
     "name": "stdout",
     "output_type": "stream",
     "text": [
      "Stabilization diagram executed in 0.20164799690246582\n",
      "Wind statistics executed in 0.002863168716430664\n",
      "Time serie 7 of 16 done in 3.0190958976745605 sec. Period 15 of 88 done. Number of skipped periods: 12.\n",
      "Cov-SSI executed in 2.3568968772888184\n",
      "HDBSCAN executed in 0.047074079513549805\n",
      "Post processing executed in 0.025708675384521484\n"
     ]
    },
    {
     "name": "stderr",
     "output_type": "stream",
     "text": [
      "/Users/emilneby/PyCharmProjects/AOMA_Halogaland/koma/clustering.py:46: RuntimeWarning: divide by zero encountered in divide\n",
      "  diff = (arr1-arr2)/scaling\n",
      "/Users/emilneby/PyCharmProjects/AOMA_Halogaland/koma/clustering.py:46: RuntimeWarning: invalid value encountered in divide\n",
      "  diff = (arr1-arr2)/scaling\n",
      "/var/folders/xg/ddkjb2x96w167hqnv_gjv_v40000gn/T/ipykernel_35796/1427197658.py:87: VisibleDeprecationWarning: Creating an ndarray from ragged nested sequences (which is a list-or-tuple of lists-or-tuples-or ndarrays with different lengths or shapes) is deprecated. If you meant to do this, you must specify 'dtype=object' when creating the ndarray.\n",
      "  stab_diag = stabilization_diagram(acc[j], fs, 2, (np.array(omega_n_auto)/2/np.pi), np.array(order_auto), all_freqs=np.abs(lambd_stab)/2/np.pi, all_orders=orders_stab)\n"
     ]
    },
    {
     "name": "stdout",
     "output_type": "stream",
     "text": [
      "Stabilization diagram executed in 0.18935394287109375\n",
      "Wind statistics executed in 0.003133058547973633\n",
      "Time serie 8 of 16 done in 2.830080032348633 sec. Period 15 of 88 done. Number of skipped periods: 12.\n",
      "Cov-SSI executed in 2.279733896255493\n",
      "HDBSCAN executed in 0.05456900596618652\n",
      "Post processing executed in 0.025722980499267578\n"
     ]
    },
    {
     "name": "stderr",
     "output_type": "stream",
     "text": [
      "/var/folders/xg/ddkjb2x96w167hqnv_gjv_v40000gn/T/ipykernel_35796/1427197658.py:87: VisibleDeprecationWarning: Creating an ndarray from ragged nested sequences (which is a list-or-tuple of lists-or-tuples-or ndarrays with different lengths or shapes) is deprecated. If you meant to do this, you must specify 'dtype=object' when creating the ndarray.\n",
      "  stab_diag = stabilization_diagram(acc[j], fs, 2, (np.array(omega_n_auto)/2/np.pi), np.array(order_auto), all_freqs=np.abs(lambd_stab)/2/np.pi, all_orders=orders_stab)\n"
     ]
    },
    {
     "name": "stdout",
     "output_type": "stream",
     "text": [
      "Stabilization diagram executed in 0.18215274810791016\n",
      "Wind statistics executed in 0.0030541419982910156\n",
      "Time serie 9 of 16 done in 2.7549710273742676 sec. Period 15 of 88 done. Number of skipped periods: 12.\n",
      "Cov-SSI executed in 1.5313489437103271\n",
      "HDBSCAN executed in 0.039196014404296875\n",
      "Post processing executed in 0.023370981216430664\n"
     ]
    },
    {
     "name": "stderr",
     "output_type": "stream",
     "text": [
      "/Users/emilneby/PyCharmProjects/AOMA_Halogaland/koma/clustering.py:46: RuntimeWarning: divide by zero encountered in divide\n",
      "  diff = (arr1-arr2)/scaling\n",
      "/Users/emilneby/PyCharmProjects/AOMA_Halogaland/koma/clustering.py:46: RuntimeWarning: invalid value encountered in divide\n",
      "  diff = (arr1-arr2)/scaling\n",
      "/var/folders/xg/ddkjb2x96w167hqnv_gjv_v40000gn/T/ipykernel_35796/1427197658.py:87: VisibleDeprecationWarning: Creating an ndarray from ragged nested sequences (which is a list-or-tuple of lists-or-tuples-or ndarrays with different lengths or shapes) is deprecated. If you meant to do this, you must specify 'dtype=object' when creating the ndarray.\n",
      "  stab_diag = stabilization_diagram(acc[j], fs, 2, (np.array(omega_n_auto)/2/np.pi), np.array(order_auto), all_freqs=np.abs(lambd_stab)/2/np.pi, all_orders=orders_stab)\n"
     ]
    },
    {
     "name": "stdout",
     "output_type": "stream",
     "text": [
      "Stabilization diagram executed in 0.19092202186584473\n",
      "Wind statistics executed in 0.002853870391845703\n",
      "Time serie 10 of 16 done in 1.9532737731933594 sec. Period 15 of 88 done. Number of skipped periods: 12.\n",
      "Cov-SSI executed in 2.8383359909057617\n",
      "HDBSCAN executed in 0.07215595245361328\n",
      "Post processing executed in 0.029095888137817383\n"
     ]
    },
    {
     "name": "stderr",
     "output_type": "stream",
     "text": [
      "/Users/emilneby/PyCharmProjects/AOMA_Halogaland/koma/clustering.py:46: RuntimeWarning: divide by zero encountered in divide\n",
      "  diff = (arr1-arr2)/scaling\n",
      "/Users/emilneby/PyCharmProjects/AOMA_Halogaland/koma/clustering.py:46: RuntimeWarning: invalid value encountered in divide\n",
      "  diff = (arr1-arr2)/scaling\n",
      "/var/folders/xg/ddkjb2x96w167hqnv_gjv_v40000gn/T/ipykernel_35796/1427197658.py:87: VisibleDeprecationWarning: Creating an ndarray from ragged nested sequences (which is a list-or-tuple of lists-or-tuples-or ndarrays with different lengths or shapes) is deprecated. If you meant to do this, you must specify 'dtype=object' when creating the ndarray.\n",
      "  stab_diag = stabilization_diagram(acc[j], fs, 2, (np.array(omega_n_auto)/2/np.pi), np.array(order_auto), all_freqs=np.abs(lambd_stab)/2/np.pi, all_orders=orders_stab)\n"
     ]
    },
    {
     "name": "stdout",
     "output_type": "stream",
     "text": [
      "Stabilization diagram executed in 0.2147049903869629\n",
      "Wind statistics executed in 0.0031669139862060547\n",
      "Time serie 11 of 16 done in 3.345240831375122 sec. Period 15 of 88 done. Number of skipped periods: 12.\n",
      "Cov-SSI executed in 2.5357141494750977\n",
      "HDBSCAN executed in 0.03809976577758789\n",
      "Post processing executed in 0.02407979965209961\n"
     ]
    },
    {
     "name": "stderr",
     "output_type": "stream",
     "text": [
      "/var/folders/xg/ddkjb2x96w167hqnv_gjv_v40000gn/T/ipykernel_35796/1427197658.py:87: VisibleDeprecationWarning: Creating an ndarray from ragged nested sequences (which is a list-or-tuple of lists-or-tuples-or ndarrays with different lengths or shapes) is deprecated. If you meant to do this, you must specify 'dtype=object' when creating the ndarray.\n",
      "  stab_diag = stabilization_diagram(acc[j], fs, 2, (np.array(omega_n_auto)/2/np.pi), np.array(order_auto), all_freqs=np.abs(lambd_stab)/2/np.pi, all_orders=orders_stab)\n"
     ]
    },
    {
     "name": "stdout",
     "output_type": "stream",
     "text": [
      "Stabilization diagram executed in 0.19853997230529785\n",
      "Wind statistics executed in 0.003464221954345703\n",
      "Time serie 12 of 16 done in 2.991533041000366 sec. Period 15 of 88 done. Number of skipped periods: 12.\n",
      "Cov-SSI executed in 1.9971239566802979\n",
      "HDBSCAN executed in 0.043830156326293945\n",
      "Post processing executed in 0.025127887725830078\n"
     ]
    },
    {
     "name": "stderr",
     "output_type": "stream",
     "text": [
      "/var/folders/xg/ddkjb2x96w167hqnv_gjv_v40000gn/T/ipykernel_35796/1427197658.py:87: VisibleDeprecationWarning: Creating an ndarray from ragged nested sequences (which is a list-or-tuple of lists-or-tuples-or ndarrays with different lengths or shapes) is deprecated. If you meant to do this, you must specify 'dtype=object' when creating the ndarray.\n",
      "  stab_diag = stabilization_diagram(acc[j], fs, 2, (np.array(omega_n_auto)/2/np.pi), np.array(order_auto), all_freqs=np.abs(lambd_stab)/2/np.pi, all_orders=orders_stab)\n"
     ]
    },
    {
     "name": "stdout",
     "output_type": "stream",
     "text": [
      "Stabilization diagram executed in 0.19079017639160156\n",
      "Wind statistics executed in 0.0029387474060058594\n",
      "Time serie 13 of 16 done in 2.465334892272949 sec. Period 15 of 88 done. Number of skipped periods: 12.\n",
      "Cov-SSI executed in 2.6478219032287598\n",
      "HDBSCAN executed in 0.035334110260009766\n",
      "Post processing executed in 0.022274017333984375\n"
     ]
    },
    {
     "name": "stderr",
     "output_type": "stream",
     "text": [
      "/var/folders/xg/ddkjb2x96w167hqnv_gjv_v40000gn/T/ipykernel_35796/1427197658.py:87: VisibleDeprecationWarning: Creating an ndarray from ragged nested sequences (which is a list-or-tuple of lists-or-tuples-or ndarrays with different lengths or shapes) is deprecated. If you meant to do this, you must specify 'dtype=object' when creating the ndarray.\n",
      "  stab_diag = stabilization_diagram(acc[j], fs, 2, (np.array(omega_n_auto)/2/np.pi), np.array(order_auto), all_freqs=np.abs(lambd_stab)/2/np.pi, all_orders=orders_stab)\n"
     ]
    },
    {
     "name": "stdout",
     "output_type": "stream",
     "text": [
      "Stabilization diagram executed in 0.18778324127197266\n",
      "Wind statistics executed in 0.003092050552368164\n",
      "Time serie 14 of 16 done in 3.081965923309326 sec. Period 15 of 88 done. Number of skipped periods: 12.\n",
      "Cov-SSI executed in 3.121691942214966\n",
      "HDBSCAN executed in 0.04695296287536621\n",
      "Post processing executed in 0.025647878646850586\n"
     ]
    },
    {
     "name": "stderr",
     "output_type": "stream",
     "text": [
      "/Users/emilneby/PyCharmProjects/AOMA_Halogaland/koma/clustering.py:46: RuntimeWarning: divide by zero encountered in divide\n",
      "  diff = (arr1-arr2)/scaling\n",
      "/Users/emilneby/PyCharmProjects/AOMA_Halogaland/koma/clustering.py:46: RuntimeWarning: invalid value encountered in divide\n",
      "  diff = (arr1-arr2)/scaling\n",
      "/var/folders/xg/ddkjb2x96w167hqnv_gjv_v40000gn/T/ipykernel_35796/1427197658.py:87: VisibleDeprecationWarning: Creating an ndarray from ragged nested sequences (which is a list-or-tuple of lists-or-tuples-or ndarrays with different lengths or shapes) is deprecated. If you meant to do this, you must specify 'dtype=object' when creating the ndarray.\n",
      "  stab_diag = stabilization_diagram(acc[j], fs, 2, (np.array(omega_n_auto)/2/np.pi), np.array(order_auto), all_freqs=np.abs(lambd_stab)/2/np.pi, all_orders=orders_stab)\n"
     ]
    },
    {
     "name": "stdout",
     "output_type": "stream",
     "text": [
      "Stabilization diagram executed in 0.18891692161560059\n",
      "Wind statistics executed in 0.006200075149536133\n",
      "Time serie 15 of 16 done in 3.5910699367523193 sec. Period 15 of 88 done. Number of skipped periods: 12.\n",
      "Cov-SSI executed in 1.9391229152679443\n",
      "HDBSCAN executed in 0.048979759216308594\n"
     ]
    },
    {
     "name": "stderr",
     "output_type": "stream",
     "text": [
      "/Users/emilneby/PyCharmProjects/AOMA_Halogaland/koma/clustering.py:46: RuntimeWarning: divide by zero encountered in divide\n",
      "  diff = (arr1-arr2)/scaling\n",
      "/Users/emilneby/PyCharmProjects/AOMA_Halogaland/koma/clustering.py:46: RuntimeWarning: invalid value encountered in divide\n",
      "  diff = (arr1-arr2)/scaling\n",
      "/var/folders/xg/ddkjb2x96w167hqnv_gjv_v40000gn/T/ipykernel_35796/1427197658.py:87: VisibleDeprecationWarning: Creating an ndarray from ragged nested sequences (which is a list-or-tuple of lists-or-tuples-or ndarrays with different lengths or shapes) is deprecated. If you meant to do this, you must specify 'dtype=object' when creating the ndarray.\n",
      "  stab_diag = stabilization_diagram(acc[j], fs, 2, (np.array(omega_n_auto)/2/np.pi), np.array(order_auto), all_freqs=np.abs(lambd_stab)/2/np.pi, all_orders=orders_stab)\n"
     ]
    },
    {
     "name": "stdout",
     "output_type": "stream",
     "text": [
      "Post processing executed in 0.02824234962463379\n",
      "Stabilization diagram executed in 0.1893160343170166\n",
      "Wind statistics executed in 0.00333404541015625\n",
      "Time serie 16 of 16 done in 2.376199722290039 sec. Period 15 of 88 done. Number of skipped periods: 12.\n",
      "Cov-SSI executed in 1.609178066253662\n",
      "HDBSCAN executed in 0.05159187316894531\n",
      "Post processing executed in 0.024918079376220703\n"
     ]
    },
    {
     "name": "stderr",
     "output_type": "stream",
     "text": [
      "/Users/emilneby/PyCharmProjects/AOMA_Halogaland/koma/clustering.py:46: RuntimeWarning: divide by zero encountered in divide\n",
      "  diff = (arr1-arr2)/scaling\n",
      "/Users/emilneby/PyCharmProjects/AOMA_Halogaland/koma/clustering.py:46: RuntimeWarning: invalid value encountered in divide\n",
      "  diff = (arr1-arr2)/scaling\n",
      "/var/folders/xg/ddkjb2x96w167hqnv_gjv_v40000gn/T/ipykernel_35796/1427197658.py:87: VisibleDeprecationWarning: Creating an ndarray from ragged nested sequences (which is a list-or-tuple of lists-or-tuples-or ndarrays with different lengths or shapes) is deprecated. If you meant to do this, you must specify 'dtype=object' when creating the ndarray.\n",
      "  stab_diag = stabilization_diagram(acc[j], fs, 2, (np.array(omega_n_auto)/2/np.pi), np.array(order_auto), all_freqs=np.abs(lambd_stab)/2/np.pi, all_orders=orders_stab)\n"
     ]
    },
    {
     "name": "stdout",
     "output_type": "stream",
     "text": [
      "Stabilization diagram executed in 0.37438201904296875\n",
      "Wind statistics executed in 0.01376795768737793\n",
      "Time serie 1 of 16 done in 2.2766661643981934 sec. Period 16 of 88 done. Number of skipped periods: 12.\n",
      "Cov-SSI executed in 3.042293071746826\n",
      "HDBSCAN executed in 0.03609800338745117\n",
      "Post processing executed in 0.024626970291137695\n"
     ]
    },
    {
     "name": "stderr",
     "output_type": "stream",
     "text": [
      "/Users/emilneby/PyCharmProjects/AOMA_Halogaland/koma/clustering.py:46: RuntimeWarning: divide by zero encountered in divide\n",
      "  diff = (arr1-arr2)/scaling\n",
      "/Users/emilneby/PyCharmProjects/AOMA_Halogaland/koma/clustering.py:46: RuntimeWarning: invalid value encountered in divide\n",
      "  diff = (arr1-arr2)/scaling\n",
      "/var/folders/xg/ddkjb2x96w167hqnv_gjv_v40000gn/T/ipykernel_35796/1427197658.py:87: VisibleDeprecationWarning: Creating an ndarray from ragged nested sequences (which is a list-or-tuple of lists-or-tuples-or ndarrays with different lengths or shapes) is deprecated. If you meant to do this, you must specify 'dtype=object' when creating the ndarray.\n",
      "  stab_diag = stabilization_diagram(acc[j], fs, 2, (np.array(omega_n_auto)/2/np.pi), np.array(order_auto), all_freqs=np.abs(lambd_stab)/2/np.pi, all_orders=orders_stab)\n"
     ]
    },
    {
     "name": "stdout",
     "output_type": "stream",
     "text": [
      "Stabilization diagram executed in 0.21263694763183594\n",
      "Wind statistics executed in 0.0032029151916503906\n",
      "Time serie 2 of 16 done in 3.499504327774048 sec. Period 16 of 88 done. Number of skipped periods: 12.\n",
      "Cov-SSI executed in 2.4813382625579834\n",
      "HDBSCAN executed in 0.04321599006652832\n",
      "Post processing executed in 0.026246070861816406\n"
     ]
    },
    {
     "name": "stderr",
     "output_type": "stream",
     "text": [
      "/Users/emilneby/PyCharmProjects/AOMA_Halogaland/koma/clustering.py:46: RuntimeWarning: divide by zero encountered in divide\n",
      "  diff = (arr1-arr2)/scaling\n",
      "/Users/emilneby/PyCharmProjects/AOMA_Halogaland/koma/clustering.py:46: RuntimeWarning: invalid value encountered in divide\n",
      "  diff = (arr1-arr2)/scaling\n",
      "/var/folders/xg/ddkjb2x96w167hqnv_gjv_v40000gn/T/ipykernel_35796/1427197658.py:87: VisibleDeprecationWarning: Creating an ndarray from ragged nested sequences (which is a list-or-tuple of lists-or-tuples-or ndarrays with different lengths or shapes) is deprecated. If you meant to do this, you must specify 'dtype=object' when creating the ndarray.\n",
      "  stab_diag = stabilization_diagram(acc[j], fs, 2, (np.array(omega_n_auto)/2/np.pi), np.array(order_auto), all_freqs=np.abs(lambd_stab)/2/np.pi, all_orders=orders_stab)\n"
     ]
    },
    {
     "name": "stdout",
     "output_type": "stream",
     "text": [
      "Stabilization diagram executed in 0.1941080093383789\n",
      "Wind statistics executed in 0.003058195114135742\n",
      "Time serie 3 of 16 done in 2.94244122505188 sec. Period 16 of 88 done. Number of skipped periods: 12.\n",
      "Cov-SSI executed in 1.445930004119873\n",
      "HDBSCAN executed in 0.03863096237182617\n",
      "Post processing executed in 0.02452874183654785\n"
     ]
    },
    {
     "name": "stderr",
     "output_type": "stream",
     "text": [
      "/var/folders/xg/ddkjb2x96w167hqnv_gjv_v40000gn/T/ipykernel_35796/1427197658.py:87: VisibleDeprecationWarning: Creating an ndarray from ragged nested sequences (which is a list-or-tuple of lists-or-tuples-or ndarrays with different lengths or shapes) is deprecated. If you meant to do this, you must specify 'dtype=object' when creating the ndarray.\n",
      "  stab_diag = stabilization_diagram(acc[j], fs, 2, (np.array(omega_n_auto)/2/np.pi), np.array(order_auto), all_freqs=np.abs(lambd_stab)/2/np.pi, all_orders=orders_stab)\n"
     ]
    },
    {
     "name": "stdout",
     "output_type": "stream",
     "text": [
      "Stabilization diagram executed in 0.19868898391723633\n",
      "Wind statistics executed in 0.002748727798461914\n",
      "Time serie 4 of 16 done in 1.8950300216674805 sec. Period 16 of 88 done. Number of skipped periods: 12.\n",
      "Cov-SSI executed in 1.22416090965271\n",
      "HDBSCAN executed in 0.039333343505859375\n",
      "Post processing executed in 0.02381420135498047\n"
     ]
    },
    {
     "name": "stderr",
     "output_type": "stream",
     "text": [
      "/Users/emilneby/PyCharmProjects/AOMA_Halogaland/koma/clustering.py:46: RuntimeWarning: divide by zero encountered in divide\n",
      "  diff = (arr1-arr2)/scaling\n",
      "/Users/emilneby/PyCharmProjects/AOMA_Halogaland/koma/clustering.py:46: RuntimeWarning: invalid value encountered in divide\n",
      "  diff = (arr1-arr2)/scaling\n",
      "/var/folders/xg/ddkjb2x96w167hqnv_gjv_v40000gn/T/ipykernel_35796/1427197658.py:87: VisibleDeprecationWarning: Creating an ndarray from ragged nested sequences (which is a list-or-tuple of lists-or-tuples-or ndarrays with different lengths or shapes) is deprecated. If you meant to do this, you must specify 'dtype=object' when creating the ndarray.\n",
      "  stab_diag = stabilization_diagram(acc[j], fs, 2, (np.array(omega_n_auto)/2/np.pi), np.array(order_auto), all_freqs=np.abs(lambd_stab)/2/np.pi, all_orders=orders_stab)\n"
     ]
    },
    {
     "name": "stdout",
     "output_type": "stream",
     "text": [
      "Stabilization diagram executed in 0.18305206298828125\n",
      "Wind statistics executed in 0.00373077392578125\n",
      "Time serie 5 of 16 done in 1.668820858001709 sec. Period 16 of 88 done. Number of skipped periods: 12.\n",
      "Cov-SSI executed in 1.1242222785949707\n",
      "HDBSCAN executed in 0.03701496124267578\n",
      "Post processing executed in 0.022488117218017578\n"
     ]
    },
    {
     "name": "stderr",
     "output_type": "stream",
     "text": [
      "/Users/emilneby/PyCharmProjects/AOMA_Halogaland/koma/clustering.py:46: RuntimeWarning: divide by zero encountered in divide\n",
      "  diff = (arr1-arr2)/scaling\n",
      "/Users/emilneby/PyCharmProjects/AOMA_Halogaland/koma/clustering.py:46: RuntimeWarning: invalid value encountered in divide\n",
      "  diff = (arr1-arr2)/scaling\n",
      "/var/folders/xg/ddkjb2x96w167hqnv_gjv_v40000gn/T/ipykernel_35796/1427197658.py:87: VisibleDeprecationWarning: Creating an ndarray from ragged nested sequences (which is a list-or-tuple of lists-or-tuples-or ndarrays with different lengths or shapes) is deprecated. If you meant to do this, you must specify 'dtype=object' when creating the ndarray.\n",
      "  stab_diag = stabilization_diagram(acc[j], fs, 2, (np.array(omega_n_auto)/2/np.pi), np.array(order_auto), all_freqs=np.abs(lambd_stab)/2/np.pi, all_orders=orders_stab)\n"
     ]
    },
    {
     "name": "stdout",
     "output_type": "stream",
     "text": [
      "Stabilization diagram executed in 0.18005084991455078\n",
      "Wind statistics executed in 0.003295421600341797\n",
      "Time serie 6 of 16 done in 1.5526888370513916 sec. Period 16 of 88 done. Number of skipped periods: 12.\n",
      "Cov-SSI executed in 1.1182100772857666\n",
      "HDBSCAN executed in 0.04245495796203613\n",
      "Post processing executed in 0.02639484405517578\n"
     ]
    },
    {
     "name": "stderr",
     "output_type": "stream",
     "text": [
      "/Users/emilneby/PyCharmProjects/AOMA_Halogaland/koma/clustering.py:46: RuntimeWarning: divide by zero encountered in divide\n",
      "  diff = (arr1-arr2)/scaling\n",
      "/Users/emilneby/PyCharmProjects/AOMA_Halogaland/koma/clustering.py:46: RuntimeWarning: invalid value encountered in divide\n",
      "  diff = (arr1-arr2)/scaling\n",
      "/var/folders/xg/ddkjb2x96w167hqnv_gjv_v40000gn/T/ipykernel_35796/1427197658.py:87: VisibleDeprecationWarning: Creating an ndarray from ragged nested sequences (which is a list-or-tuple of lists-or-tuples-or ndarrays with different lengths or shapes) is deprecated. If you meant to do this, you must specify 'dtype=object' when creating the ndarray.\n",
      "  stab_diag = stabilization_diagram(acc[j], fs, 2, (np.array(omega_n_auto)/2/np.pi), np.array(order_auto), all_freqs=np.abs(lambd_stab)/2/np.pi, all_orders=orders_stab)\n"
     ]
    },
    {
     "name": "stdout",
     "output_type": "stream",
     "text": [
      "Stabilization diagram executed in 0.19543671607971191\n",
      "Wind statistics executed in 0.002804994583129883\n",
      "Time serie 7 of 16 done in 1.5641191005706787 sec. Period 16 of 88 done. Number of skipped periods: 12.\n",
      "Cov-SSI executed in 2.102362871170044\n",
      "HDBSCAN executed in 0.03976011276245117\n",
      "Post processing executed in 0.02281975746154785\n"
     ]
    },
    {
     "name": "stderr",
     "output_type": "stream",
     "text": [
      "/Users/emilneby/PyCharmProjects/AOMA_Halogaland/koma/clustering.py:46: RuntimeWarning: divide by zero encountered in divide\n",
      "  diff = (arr1-arr2)/scaling\n",
      "/Users/emilneby/PyCharmProjects/AOMA_Halogaland/koma/clustering.py:46: RuntimeWarning: invalid value encountered in divide\n",
      "  diff = (arr1-arr2)/scaling\n",
      "/var/folders/xg/ddkjb2x96w167hqnv_gjv_v40000gn/T/ipykernel_35796/1427197658.py:87: VisibleDeprecationWarning: Creating an ndarray from ragged nested sequences (which is a list-or-tuple of lists-or-tuples-or ndarrays with different lengths or shapes) is deprecated. If you meant to do this, you must specify 'dtype=object' when creating the ndarray.\n",
      "  stab_diag = stabilization_diagram(acc[j], fs, 2, (np.array(omega_n_auto)/2/np.pi), np.array(order_auto), all_freqs=np.abs(lambd_stab)/2/np.pi, all_orders=orders_stab)\n"
     ]
    },
    {
     "name": "stdout",
     "output_type": "stream",
     "text": [
      "Stabilization diagram executed in 0.1793053150177002\n",
      "Wind statistics executed in 0.003130197525024414\n",
      "Time serie 8 of 16 done in 2.539799928665161 sec. Period 16 of 88 done. Number of skipped periods: 12.\n",
      "Cov-SSI executed in 1.9837403297424316\n",
      "HDBSCAN executed in 0.049492835998535156\n"
     ]
    },
    {
     "name": "stderr",
     "output_type": "stream",
     "text": [
      "/Users/emilneby/PyCharmProjects/AOMA_Halogaland/koma/clustering.py:46: RuntimeWarning: divide by zero encountered in divide\n",
      "  diff = (arr1-arr2)/scaling\n",
      "/Users/emilneby/PyCharmProjects/AOMA_Halogaland/koma/clustering.py:46: RuntimeWarning: invalid value encountered in divide\n",
      "  diff = (arr1-arr2)/scaling\n",
      "/var/folders/xg/ddkjb2x96w167hqnv_gjv_v40000gn/T/ipykernel_35796/1427197658.py:87: VisibleDeprecationWarning: Creating an ndarray from ragged nested sequences (which is a list-or-tuple of lists-or-tuples-or ndarrays with different lengths or shapes) is deprecated. If you meant to do this, you must specify 'dtype=object' when creating the ndarray.\n",
      "  stab_diag = stabilization_diagram(acc[j], fs, 2, (np.array(omega_n_auto)/2/np.pi), np.array(order_auto), all_freqs=np.abs(lambd_stab)/2/np.pi, all_orders=orders_stab)\n"
     ]
    },
    {
     "name": "stdout",
     "output_type": "stream",
     "text": [
      "Post processing executed in 0.0268552303314209\n",
      "Stabilization diagram executed in 0.1894540786743164\n",
      "Wind statistics executed in 0.0030100345611572266\n",
      "Time serie 9 of 16 done in 2.413792133331299 sec. Period 16 of 88 done. Number of skipped periods: 12.\n",
      "Cov-SSI executed in 1.7364978790283203\n",
      "HDBSCAN executed in 0.04335904121398926\n",
      "Post processing executed in 0.024228811264038086\n"
     ]
    },
    {
     "name": "stderr",
     "output_type": "stream",
     "text": [
      "/Users/emilneby/PyCharmProjects/AOMA_Halogaland/koma/clustering.py:46: RuntimeWarning: divide by zero encountered in divide\n",
      "  diff = (arr1-arr2)/scaling\n",
      "/Users/emilneby/PyCharmProjects/AOMA_Halogaland/koma/clustering.py:46: RuntimeWarning: invalid value encountered in divide\n",
      "  diff = (arr1-arr2)/scaling\n",
      "/var/folders/xg/ddkjb2x96w167hqnv_gjv_v40000gn/T/ipykernel_35796/1427197658.py:87: VisibleDeprecationWarning: Creating an ndarray from ragged nested sequences (which is a list-or-tuple of lists-or-tuples-or ndarrays with different lengths or shapes) is deprecated. If you meant to do this, you must specify 'dtype=object' when creating the ndarray.\n",
      "  stab_diag = stabilization_diagram(acc[j], fs, 2, (np.array(omega_n_auto)/2/np.pi), np.array(order_auto), all_freqs=np.abs(lambd_stab)/2/np.pi, all_orders=orders_stab)\n"
     ]
    },
    {
     "name": "stdout",
     "output_type": "stream",
     "text": [
      "Stabilization diagram executed in 0.18505382537841797\n",
      "Wind statistics executed in 0.0032739639282226562\n",
      "Time serie 10 of 16 done in 2.190814971923828 sec. Period 16 of 88 done. Number of skipped periods: 12.\n",
      "Cov-SSI executed in 1.398332118988037\n",
      "HDBSCAN executed in 0.04131197929382324\n",
      "Post processing executed in 0.02596879005432129\n"
     ]
    },
    {
     "name": "stderr",
     "output_type": "stream",
     "text": [
      "/Users/emilneby/PyCharmProjects/AOMA_Halogaland/koma/clustering.py:46: RuntimeWarning: divide by zero encountered in divide\n",
      "  diff = (arr1-arr2)/scaling\n",
      "/Users/emilneby/PyCharmProjects/AOMA_Halogaland/koma/clustering.py:46: RuntimeWarning: invalid value encountered in divide\n",
      "  diff = (arr1-arr2)/scaling\n",
      "/var/folders/xg/ddkjb2x96w167hqnv_gjv_v40000gn/T/ipykernel_35796/1427197658.py:87: VisibleDeprecationWarning: Creating an ndarray from ragged nested sequences (which is a list-or-tuple of lists-or-tuples-or ndarrays with different lengths or shapes) is deprecated. If you meant to do this, you must specify 'dtype=object' when creating the ndarray.\n",
      "  stab_diag = stabilization_diagram(acc[j], fs, 2, (np.array(omega_n_auto)/2/np.pi), np.array(order_auto), all_freqs=np.abs(lambd_stab)/2/np.pi, all_orders=orders_stab)\n"
     ]
    },
    {
     "name": "stdout",
     "output_type": "stream",
     "text": [
      "Stabilization diagram executed in 0.17965388298034668\n",
      "Wind statistics executed in 0.0029549598693847656\n",
      "Time serie 11 of 16 done in 1.8441479206085205 sec. Period 16 of 88 done. Number of skipped periods: 12.\n",
      "Cov-SSI executed in 1.3373901844024658\n",
      "HDBSCAN executed in 0.038511037826538086\n"
     ]
    },
    {
     "name": "stderr",
     "output_type": "stream",
     "text": [
      "/Users/emilneby/PyCharmProjects/AOMA_Halogaland/koma/clustering.py:46: RuntimeWarning: divide by zero encountered in divide\n",
      "  diff = (arr1-arr2)/scaling\n",
      "/Users/emilneby/PyCharmProjects/AOMA_Halogaland/koma/clustering.py:46: RuntimeWarning: invalid value encountered in divide\n",
      "  diff = (arr1-arr2)/scaling\n",
      "/var/folders/xg/ddkjb2x96w167hqnv_gjv_v40000gn/T/ipykernel_35796/1427197658.py:87: VisibleDeprecationWarning: Creating an ndarray from ragged nested sequences (which is a list-or-tuple of lists-or-tuples-or ndarrays with different lengths or shapes) is deprecated. If you meant to do this, you must specify 'dtype=object' when creating the ndarray.\n",
      "  stab_diag = stabilization_diagram(acc[j], fs, 2, (np.array(omega_n_auto)/2/np.pi), np.array(order_auto), all_freqs=np.abs(lambd_stab)/2/np.pi, all_orders=orders_stab)\n"
     ]
    },
    {
     "name": "stdout",
     "output_type": "stream",
     "text": [
      "Post processing executed in 0.02570486068725586\n",
      "Stabilization diagram executed in 0.18309497833251953\n",
      "Wind statistics executed in 0.003007173538208008\n",
      "Time serie 12 of 16 done in 1.7542800903320312 sec. Period 16 of 88 done. Number of skipped periods: 12.\n",
      "Cov-SSI executed in 1.5554568767547607\n",
      "HDBSCAN executed in 0.04080486297607422\n",
      "Post processing executed in 0.024762868881225586\n"
     ]
    },
    {
     "name": "stderr",
     "output_type": "stream",
     "text": [
      "/Users/emilneby/PyCharmProjects/AOMA_Halogaland/koma/clustering.py:46: RuntimeWarning: divide by zero encountered in divide\n",
      "  diff = (arr1-arr2)/scaling\n",
      "/Users/emilneby/PyCharmProjects/AOMA_Halogaland/koma/clustering.py:46: RuntimeWarning: invalid value encountered in divide\n",
      "  diff = (arr1-arr2)/scaling\n",
      "/var/folders/xg/ddkjb2x96w167hqnv_gjv_v40000gn/T/ipykernel_35796/1427197658.py:87: VisibleDeprecationWarning: Creating an ndarray from ragged nested sequences (which is a list-or-tuple of lists-or-tuples-or ndarrays with different lengths or shapes) is deprecated. If you meant to do this, you must specify 'dtype=object' when creating the ndarray.\n",
      "  stab_diag = stabilization_diagram(acc[j], fs, 2, (np.array(omega_n_auto)/2/np.pi), np.array(order_auto), all_freqs=np.abs(lambd_stab)/2/np.pi, all_orders=orders_stab)\n"
     ]
    },
    {
     "name": "stdout",
     "output_type": "stream",
     "text": [
      "Stabilization diagram executed in 0.18619203567504883\n",
      "Wind statistics executed in 0.0033032894134521484\n",
      "Time serie 13 of 16 done in 2.0153021812438965 sec. Period 16 of 88 done. Number of skipped periods: 12.\n",
      "Cov-SSI executed in 1.9808008670806885\n",
      "HDBSCAN executed in 0.041845083236694336\n",
      "Post processing executed in 0.0251922607421875\n"
     ]
    },
    {
     "name": "stderr",
     "output_type": "stream",
     "text": [
      "/Users/emilneby/PyCharmProjects/AOMA_Halogaland/koma/clustering.py:46: RuntimeWarning: divide by zero encountered in divide\n",
      "  diff = (arr1-arr2)/scaling\n",
      "/Users/emilneby/PyCharmProjects/AOMA_Halogaland/koma/clustering.py:46: RuntimeWarning: invalid value encountered in divide\n",
      "  diff = (arr1-arr2)/scaling\n",
      "/var/folders/xg/ddkjb2x96w167hqnv_gjv_v40000gn/T/ipykernel_35796/1427197658.py:87: VisibleDeprecationWarning: Creating an ndarray from ragged nested sequences (which is a list-or-tuple of lists-or-tuples-or ndarrays with different lengths or shapes) is deprecated. If you meant to do this, you must specify 'dtype=object' when creating the ndarray.\n",
      "  stab_diag = stabilization_diagram(acc[j], fs, 2, (np.array(omega_n_auto)/2/np.pi), np.array(order_auto), all_freqs=np.abs(lambd_stab)/2/np.pi, all_orders=orders_stab)\n"
     ]
    },
    {
     "name": "stdout",
     "output_type": "stream",
     "text": [
      "Stabilization diagram executed in 0.19088006019592285\n",
      "Wind statistics executed in 0.002516031265258789\n",
      "Time serie 14 of 16 done in 2.423529863357544 sec. Period 16 of 88 done. Number of skipped periods: 12.\n",
      "Cov-SSI executed in 1.2003059387207031\n",
      "HDBSCAN executed in 0.04517197608947754\n"
     ]
    },
    {
     "name": "stderr",
     "output_type": "stream",
     "text": [
      "/Users/emilneby/PyCharmProjects/AOMA_Halogaland/koma/clustering.py:46: RuntimeWarning: divide by zero encountered in divide\n",
      "  diff = (arr1-arr2)/scaling\n",
      "/Users/emilneby/PyCharmProjects/AOMA_Halogaland/koma/clustering.py:46: RuntimeWarning: invalid value encountered in divide\n",
      "  diff = (arr1-arr2)/scaling\n",
      "/var/folders/xg/ddkjb2x96w167hqnv_gjv_v40000gn/T/ipykernel_35796/1427197658.py:87: VisibleDeprecationWarning: Creating an ndarray from ragged nested sequences (which is a list-or-tuple of lists-or-tuples-or ndarrays with different lengths or shapes) is deprecated. If you meant to do this, you must specify 'dtype=object' when creating the ndarray.\n",
      "  stab_diag = stabilization_diagram(acc[j], fs, 2, (np.array(omega_n_auto)/2/np.pi), np.array(order_auto), all_freqs=np.abs(lambd_stab)/2/np.pi, all_orders=orders_stab)\n"
     ]
    },
    {
     "name": "stdout",
     "output_type": "stream",
     "text": [
      "Post processing executed in 0.028850078582763672\n",
      "Stabilization diagram executed in 0.19358611106872559\n",
      "Wind statistics executed in 0.0029268264770507812\n",
      "Time serie 15 of 16 done in 1.6379878520965576 sec. Period 16 of 88 done. Number of skipped periods: 12.\n",
      "Cov-SSI executed in 1.5045411586761475\n",
      "HDBSCAN executed in 0.03373098373413086\n",
      "Post processing executed in 0.023087024688720703\n"
     ]
    },
    {
     "name": "stderr",
     "output_type": "stream",
     "text": [
      "/Users/emilneby/PyCharmProjects/AOMA_Halogaland/koma/clustering.py:46: RuntimeWarning: divide by zero encountered in divide\n",
      "  diff = (arr1-arr2)/scaling\n",
      "/Users/emilneby/PyCharmProjects/AOMA_Halogaland/koma/clustering.py:46: RuntimeWarning: invalid value encountered in divide\n",
      "  diff = (arr1-arr2)/scaling\n",
      "/var/folders/xg/ddkjb2x96w167hqnv_gjv_v40000gn/T/ipykernel_35796/1427197658.py:87: VisibleDeprecationWarning: Creating an ndarray from ragged nested sequences (which is a list-or-tuple of lists-or-tuples-or ndarrays with different lengths or shapes) is deprecated. If you meant to do this, you must specify 'dtype=object' when creating the ndarray.\n",
      "  stab_diag = stabilization_diagram(acc[j], fs, 2, (np.array(omega_n_auto)/2/np.pi), np.array(order_auto), all_freqs=np.abs(lambd_stab)/2/np.pi, all_orders=orders_stab)\n"
     ]
    },
    {
     "name": "stdout",
     "output_type": "stream",
     "text": [
      "Stabilization diagram executed in 0.18210816383361816\n",
      "Wind statistics executed in 0.003159046173095703\n",
      "Time serie 16 of 16 done in 1.9311001300811768 sec. Period 16 of 88 done. Number of skipped periods: 12.\n",
      "Cov-SSI executed in 2.5504958629608154\n",
      "HDBSCAN executed in 0.03643798828125\n",
      "Post processing executed in 0.02349996566772461\n"
     ]
    },
    {
     "name": "stderr",
     "output_type": "stream",
     "text": [
      "/Users/emilneby/PyCharmProjects/AOMA_Halogaland/koma/clustering.py:46: RuntimeWarning: divide by zero encountered in divide\n",
      "  diff = (arr1-arr2)/scaling\n",
      "/Users/emilneby/PyCharmProjects/AOMA_Halogaland/koma/clustering.py:46: RuntimeWarning: invalid value encountered in divide\n",
      "  diff = (arr1-arr2)/scaling\n",
      "/var/folders/xg/ddkjb2x96w167hqnv_gjv_v40000gn/T/ipykernel_35796/1427197658.py:87: VisibleDeprecationWarning: Creating an ndarray from ragged nested sequences (which is a list-or-tuple of lists-or-tuples-or ndarrays with different lengths or shapes) is deprecated. If you meant to do this, you must specify 'dtype=object' when creating the ndarray.\n",
      "  stab_diag = stabilization_diagram(acc[j], fs, 2, (np.array(omega_n_auto)/2/np.pi), np.array(order_auto), all_freqs=np.abs(lambd_stab)/2/np.pi, all_orders=orders_stab)\n"
     ]
    },
    {
     "name": "stdout",
     "output_type": "stream",
     "text": [
      "Stabilization diagram executed in 0.1977388858795166\n",
      "Wind statistics executed in 0.013724803924560547\n",
      "Time serie 1 of 16 done in 2.9780187606811523 sec. Period 17 of 88 done. Number of skipped periods: 12.\n",
      "Cov-SSI executed in 2.200654983520508\n",
      "HDBSCAN executed in 0.049347877502441406\n",
      "Post processing executed in 0.021754741668701172\n"
     ]
    },
    {
     "name": "stderr",
     "output_type": "stream",
     "text": [
      "/Users/emilneby/PyCharmProjects/AOMA_Halogaland/koma/clustering.py:46: RuntimeWarning: divide by zero encountered in divide\n",
      "  diff = (arr1-arr2)/scaling\n",
      "/Users/emilneby/PyCharmProjects/AOMA_Halogaland/koma/clustering.py:46: RuntimeWarning: invalid value encountered in divide\n",
      "  diff = (arr1-arr2)/scaling\n",
      "/var/folders/xg/ddkjb2x96w167hqnv_gjv_v40000gn/T/ipykernel_35796/1427197658.py:87: VisibleDeprecationWarning: Creating an ndarray from ragged nested sequences (which is a list-or-tuple of lists-or-tuples-or ndarrays with different lengths or shapes) is deprecated. If you meant to do this, you must specify 'dtype=object' when creating the ndarray.\n",
      "  stab_diag = stabilization_diagram(acc[j], fs, 2, (np.array(omega_n_auto)/2/np.pi), np.array(order_auto), all_freqs=np.abs(lambd_stab)/2/np.pi, all_orders=orders_stab)\n"
     ]
    },
    {
     "name": "stdout",
     "output_type": "stream",
     "text": [
      "Stabilization diagram executed in 0.19483685493469238\n",
      "Wind statistics executed in 0.0032167434692382812\n",
      "Time serie 2 of 16 done in 2.628140926361084 sec. Period 17 of 88 done. Number of skipped periods: 12.\n",
      "Cov-SSI executed in 2.3185160160064697\n",
      "HDBSCAN executed in 0.0590059757232666\n",
      "Post processing executed in 0.025416851043701172\n"
     ]
    },
    {
     "name": "stderr",
     "output_type": "stream",
     "text": [
      "/Users/emilneby/PyCharmProjects/AOMA_Halogaland/koma/clustering.py:46: RuntimeWarning: divide by zero encountered in divide\n",
      "  diff = (arr1-arr2)/scaling\n",
      "/Users/emilneby/PyCharmProjects/AOMA_Halogaland/koma/clustering.py:46: RuntimeWarning: invalid value encountered in divide\n",
      "  diff = (arr1-arr2)/scaling\n",
      "/var/folders/xg/ddkjb2x96w167hqnv_gjv_v40000gn/T/ipykernel_35796/1427197658.py:87: VisibleDeprecationWarning: Creating an ndarray from ragged nested sequences (which is a list-or-tuple of lists-or-tuples-or ndarrays with different lengths or shapes) is deprecated. If you meant to do this, you must specify 'dtype=object' when creating the ndarray.\n",
      "  stab_diag = stabilization_diagram(acc[j], fs, 2, (np.array(omega_n_auto)/2/np.pi), np.array(order_auto), all_freqs=np.abs(lambd_stab)/2/np.pi, all_orders=orders_stab)\n"
     ]
    },
    {
     "name": "stdout",
     "output_type": "stream",
     "text": [
      "Stabilization diagram executed in 0.1885530948638916\n",
      "Wind statistics executed in 0.0032219886779785156\n",
      "Time serie 3 of 16 done in 2.791701078414917 sec. Period 17 of 88 done. Number of skipped periods: 12.\n",
      "Cov-SSI executed in 1.2876811027526855\n",
      "HDBSCAN executed in 0.037873268127441406\n",
      "Post processing executed in 0.023076772689819336\n"
     ]
    },
    {
     "name": "stderr",
     "output_type": "stream",
     "text": [
      "/Users/emilneby/PyCharmProjects/AOMA_Halogaland/koma/clustering.py:46: RuntimeWarning: divide by zero encountered in divide\n",
      "  diff = (arr1-arr2)/scaling\n",
      "/Users/emilneby/PyCharmProjects/AOMA_Halogaland/koma/clustering.py:46: RuntimeWarning: invalid value encountered in divide\n",
      "  diff = (arr1-arr2)/scaling\n",
      "/var/folders/xg/ddkjb2x96w167hqnv_gjv_v40000gn/T/ipykernel_35796/1427197658.py:87: VisibleDeprecationWarning: Creating an ndarray from ragged nested sequences (which is a list-or-tuple of lists-or-tuples-or ndarrays with different lengths or shapes) is deprecated. If you meant to do this, you must specify 'dtype=object' when creating the ndarray.\n",
      "  stab_diag = stabilization_diagram(acc[j], fs, 2, (np.array(omega_n_auto)/2/np.pi), np.array(order_auto), all_freqs=np.abs(lambd_stab)/2/np.pi, all_orders=orders_stab)\n"
     ]
    },
    {
     "name": "stdout",
     "output_type": "stream",
     "text": [
      "Stabilization diagram executed in 0.18332600593566895\n",
      "Wind statistics executed in 0.0027327537536621094\n",
      "Time serie 4 of 16 done in 1.7273249626159668 sec. Period 17 of 88 done. Number of skipped periods: 12.\n",
      "Cov-SSI executed in 2.0686838626861572\n",
      "HDBSCAN executed in 0.04832625389099121\n",
      "Post processing executed in 0.026200056076049805\n"
     ]
    },
    {
     "name": "stderr",
     "output_type": "stream",
     "text": [
      "/Users/emilneby/PyCharmProjects/AOMA_Halogaland/koma/clustering.py:46: RuntimeWarning: divide by zero encountered in divide\n",
      "  diff = (arr1-arr2)/scaling\n",
      "/Users/emilneby/PyCharmProjects/AOMA_Halogaland/koma/clustering.py:46: RuntimeWarning: invalid value encountered in divide\n",
      "  diff = (arr1-arr2)/scaling\n",
      "/var/folders/xg/ddkjb2x96w167hqnv_gjv_v40000gn/T/ipykernel_35796/1427197658.py:87: VisibleDeprecationWarning: Creating an ndarray from ragged nested sequences (which is a list-or-tuple of lists-or-tuples-or ndarrays with different lengths or shapes) is deprecated. If you meant to do this, you must specify 'dtype=object' when creating the ndarray.\n",
      "  stab_diag = stabilization_diagram(acc[j], fs, 2, (np.array(omega_n_auto)/2/np.pi), np.array(order_auto), all_freqs=np.abs(lambd_stab)/2/np.pi, all_orders=orders_stab)\n"
     ]
    },
    {
     "name": "stdout",
     "output_type": "stream",
     "text": [
      "Stabilization diagram executed in 0.19870710372924805\n",
      "Wind statistics executed in 0.003144979476928711\n",
      "Time serie 5 of 16 done in 2.5463337898254395 sec. Period 17 of 88 done. Number of skipped periods: 12.\n",
      "Cov-SSI executed in 1.8504531383514404\n",
      "HDBSCAN executed in 0.051403045654296875\n",
      "Post processing executed in 0.023820877075195312\n"
     ]
    },
    {
     "name": "stderr",
     "output_type": "stream",
     "text": [
      "/Users/emilneby/PyCharmProjects/AOMA_Halogaland/koma/clustering.py:46: RuntimeWarning: divide by zero encountered in divide\n",
      "  diff = (arr1-arr2)/scaling\n",
      "/Users/emilneby/PyCharmProjects/AOMA_Halogaland/koma/clustering.py:46: RuntimeWarning: invalid value encountered in divide\n",
      "  diff = (arr1-arr2)/scaling\n",
      "/var/folders/xg/ddkjb2x96w167hqnv_gjv_v40000gn/T/ipykernel_35796/1427197658.py:87: VisibleDeprecationWarning: Creating an ndarray from ragged nested sequences (which is a list-or-tuple of lists-or-tuples-or ndarrays with different lengths or shapes) is deprecated. If you meant to do this, you must specify 'dtype=object' when creating the ndarray.\n",
      "  stab_diag = stabilization_diagram(acc[j], fs, 2, (np.array(omega_n_auto)/2/np.pi), np.array(order_auto), all_freqs=np.abs(lambd_stab)/2/np.pi, all_orders=orders_stab)\n"
     ]
    },
    {
     "name": "stdout",
     "output_type": "stream",
     "text": [
      "Stabilization diagram executed in 0.18451929092407227\n",
      "Wind statistics executed in 0.002752065658569336\n",
      "Time serie 6 of 16 done in 2.2993509769439697 sec. Period 17 of 88 done. Number of skipped periods: 12.\n",
      "Cov-SSI executed in 1.9034101963043213\n",
      "HDBSCAN executed in 0.03530097007751465\n",
      "Post processing executed in 0.022771835327148438\n"
     ]
    },
    {
     "name": "stderr",
     "output_type": "stream",
     "text": [
      "/Users/emilneby/PyCharmProjects/AOMA_Halogaland/koma/clustering.py:46: RuntimeWarning: divide by zero encountered in divide\n",
      "  diff = (arr1-arr2)/scaling\n",
      "/Users/emilneby/PyCharmProjects/AOMA_Halogaland/koma/clustering.py:46: RuntimeWarning: invalid value encountered in divide\n",
      "  diff = (arr1-arr2)/scaling\n",
      "/var/folders/xg/ddkjb2x96w167hqnv_gjv_v40000gn/T/ipykernel_35796/1427197658.py:87: VisibleDeprecationWarning: Creating an ndarray from ragged nested sequences (which is a list-or-tuple of lists-or-tuples-or ndarrays with different lengths or shapes) is deprecated. If you meant to do this, you must specify 'dtype=object' when creating the ndarray.\n",
      "  stab_diag = stabilization_diagram(acc[j], fs, 2, (np.array(omega_n_auto)/2/np.pi), np.array(order_auto), all_freqs=np.abs(lambd_stab)/2/np.pi, all_orders=orders_stab)\n"
     ]
    },
    {
     "name": "stdout",
     "output_type": "stream",
     "text": [
      "Stabilization diagram executed in 0.19651198387145996\n",
      "Wind statistics executed in 0.0031354427337646484\n",
      "Time serie 7 of 16 done in 2.317662000656128 sec. Period 17 of 88 done. Number of skipped periods: 12.\n",
      "Cov-SSI executed in 2.043686866760254\n",
      "HDBSCAN executed in 0.05924105644226074\n"
     ]
    },
    {
     "name": "stderr",
     "output_type": "stream",
     "text": [
      "/Users/emilneby/PyCharmProjects/AOMA_Halogaland/koma/clustering.py:46: RuntimeWarning: divide by zero encountered in divide\n",
      "  diff = (arr1-arr2)/scaling\n",
      "/Users/emilneby/PyCharmProjects/AOMA_Halogaland/koma/clustering.py:46: RuntimeWarning: invalid value encountered in divide\n",
      "  diff = (arr1-arr2)/scaling\n",
      "/var/folders/xg/ddkjb2x96w167hqnv_gjv_v40000gn/T/ipykernel_35796/1427197658.py:87: VisibleDeprecationWarning: Creating an ndarray from ragged nested sequences (which is a list-or-tuple of lists-or-tuples-or ndarrays with different lengths or shapes) is deprecated. If you meant to do this, you must specify 'dtype=object' when creating the ndarray.\n",
      "  stab_diag = stabilization_diagram(acc[j], fs, 2, (np.array(omega_n_auto)/2/np.pi), np.array(order_auto), all_freqs=np.abs(lambd_stab)/2/np.pi, all_orders=orders_stab)\n"
     ]
    },
    {
     "name": "stdout",
     "output_type": "stream",
     "text": [
      "Post processing executed in 0.024197101593017578\n",
      "Stabilization diagram executed in 0.1754310131072998\n",
      "Wind statistics executed in 0.003083944320678711\n",
      "Time serie 8 of 16 done in 2.4684338569641113 sec. Period 17 of 88 done. Number of skipped periods: 12.\n",
      "Cov-SSI executed in 4.535599231719971\n",
      "HDBSCAN executed in 0.03344297409057617\n",
      "Post processing executed in 0.02144598960876465\n"
     ]
    },
    {
     "name": "stderr",
     "output_type": "stream",
     "text": [
      "/Users/emilneby/PyCharmProjects/AOMA_Halogaland/koma/clustering.py:46: RuntimeWarning: divide by zero encountered in divide\n",
      "  diff = (arr1-arr2)/scaling\n",
      "/Users/emilneby/PyCharmProjects/AOMA_Halogaland/koma/clustering.py:46: RuntimeWarning: invalid value encountered in divide\n",
      "  diff = (arr1-arr2)/scaling\n",
      "/var/folders/xg/ddkjb2x96w167hqnv_gjv_v40000gn/T/ipykernel_35796/1427197658.py:87: VisibleDeprecationWarning: Creating an ndarray from ragged nested sequences (which is a list-or-tuple of lists-or-tuples-or ndarrays with different lengths or shapes) is deprecated. If you meant to do this, you must specify 'dtype=object' when creating the ndarray.\n",
      "  stab_diag = stabilization_diagram(acc[j], fs, 2, (np.array(omega_n_auto)/2/np.pi), np.array(order_auto), all_freqs=np.abs(lambd_stab)/2/np.pi, all_orders=orders_stab)\n"
     ]
    },
    {
     "name": "stdout",
     "output_type": "stream",
     "text": [
      "Stabilization diagram executed in 0.19527506828308105\n",
      "Wind statistics executed in 0.004505157470703125\n",
      "Time serie 9 of 16 done in 4.94563102722168 sec. Period 17 of 88 done. Number of skipped periods: 12.\n",
      "Cov-SSI executed in 3.2379298210144043\n",
      "HDBSCAN executed in 0.043122291564941406\n",
      "Post processing executed in 0.025264739990234375\n"
     ]
    },
    {
     "name": "stderr",
     "output_type": "stream",
     "text": [
      "/Users/emilneby/PyCharmProjects/AOMA_Halogaland/koma/clustering.py:46: RuntimeWarning: divide by zero encountered in divide\n",
      "  diff = (arr1-arr2)/scaling\n",
      "/Users/emilneby/PyCharmProjects/AOMA_Halogaland/koma/clustering.py:46: RuntimeWarning: invalid value encountered in divide\n",
      "  diff = (arr1-arr2)/scaling\n",
      "/var/folders/xg/ddkjb2x96w167hqnv_gjv_v40000gn/T/ipykernel_35796/1427197658.py:87: VisibleDeprecationWarning: Creating an ndarray from ragged nested sequences (which is a list-or-tuple of lists-or-tuples-or ndarrays with different lengths or shapes) is deprecated. If you meant to do this, you must specify 'dtype=object' when creating the ndarray.\n",
      "  stab_diag = stabilization_diagram(acc[j], fs, 2, (np.array(omega_n_auto)/2/np.pi), np.array(order_auto), all_freqs=np.abs(lambd_stab)/2/np.pi, all_orders=orders_stab)\n"
     ]
    },
    {
     "name": "stdout",
     "output_type": "stream",
     "text": [
      "Stabilization diagram executed in 0.19760823249816895\n",
      "Wind statistics executed in 0.003549814224243164\n",
      "Time serie 10 of 16 done in 3.709970235824585 sec. Period 17 of 88 done. Number of skipped periods: 12.\n",
      "Cov-SSI executed in 2.830008029937744\n",
      "HDBSCAN executed in 0.038777828216552734\n",
      "Post processing executed in 0.02269291877746582\n"
     ]
    },
    {
     "name": "stderr",
     "output_type": "stream",
     "text": [
      "/Users/emilneby/PyCharmProjects/AOMA_Halogaland/koma/clustering.py:46: RuntimeWarning: divide by zero encountered in divide\n",
      "  diff = (arr1-arr2)/scaling\n",
      "/Users/emilneby/PyCharmProjects/AOMA_Halogaland/koma/clustering.py:46: RuntimeWarning: invalid value encountered in divide\n",
      "  diff = (arr1-arr2)/scaling\n",
      "/var/folders/xg/ddkjb2x96w167hqnv_gjv_v40000gn/T/ipykernel_35796/1427197658.py:87: VisibleDeprecationWarning: Creating an ndarray from ragged nested sequences (which is a list-or-tuple of lists-or-tuples-or ndarrays with different lengths or shapes) is deprecated. If you meant to do this, you must specify 'dtype=object' when creating the ndarray.\n",
      "  stab_diag = stabilization_diagram(acc[j], fs, 2, (np.array(omega_n_auto)/2/np.pi), np.array(order_auto), all_freqs=np.abs(lambd_stab)/2/np.pi, all_orders=orders_stab)\n"
     ]
    },
    {
     "name": "stdout",
     "output_type": "stream",
     "text": [
      "Stabilization diagram executed in 0.19994592666625977\n",
      "Wind statistics executed in 0.003177165985107422\n",
      "Time serie 11 of 16 done in 3.2741103172302246 sec. Period 17 of 88 done. Number of skipped periods: 12.\n",
      "Cov-SSI executed in 1.7331929206848145\n",
      "HDBSCAN executed in 0.03460884094238281\n",
      "Post processing executed in 0.021358966827392578\n"
     ]
    },
    {
     "name": "stderr",
     "output_type": "stream",
     "text": [
      "/Users/emilneby/PyCharmProjects/AOMA_Halogaland/koma/clustering.py:46: RuntimeWarning: divide by zero encountered in divide\n",
      "  diff = (arr1-arr2)/scaling\n",
      "/Users/emilneby/PyCharmProjects/AOMA_Halogaland/koma/clustering.py:46: RuntimeWarning: invalid value encountered in divide\n",
      "  diff = (arr1-arr2)/scaling\n",
      "/var/folders/xg/ddkjb2x96w167hqnv_gjv_v40000gn/T/ipykernel_35796/1427197658.py:87: VisibleDeprecationWarning: Creating an ndarray from ragged nested sequences (which is a list-or-tuple of lists-or-tuples-or ndarrays with different lengths or shapes) is deprecated. If you meant to do this, you must specify 'dtype=object' when creating the ndarray.\n",
      "  stab_diag = stabilization_diagram(acc[j], fs, 2, (np.array(omega_n_auto)/2/np.pi), np.array(order_auto), all_freqs=np.abs(lambd_stab)/2/np.pi, all_orders=orders_stab)\n"
     ]
    },
    {
     "name": "stdout",
     "output_type": "stream",
     "text": [
      "Stabilization diagram executed in 0.1921558380126953\n",
      "Wind statistics executed in 0.004176139831542969\n",
      "Time serie 12 of 16 done in 2.1388490200042725 sec. Period 17 of 88 done. Number of skipped periods: 12.\n",
      "Cov-SSI executed in 2.0859689712524414\n",
      "HDBSCAN executed in 0.041207075119018555\n"
     ]
    },
    {
     "name": "stderr",
     "output_type": "stream",
     "text": [
      "/Users/emilneby/PyCharmProjects/AOMA_Halogaland/koma/clustering.py:46: RuntimeWarning: divide by zero encountered in divide\n",
      "  diff = (arr1-arr2)/scaling\n",
      "/Users/emilneby/PyCharmProjects/AOMA_Halogaland/koma/clustering.py:46: RuntimeWarning: invalid value encountered in divide\n",
      "  diff = (arr1-arr2)/scaling\n",
      "/var/folders/xg/ddkjb2x96w167hqnv_gjv_v40000gn/T/ipykernel_35796/1427197658.py:87: VisibleDeprecationWarning: Creating an ndarray from ragged nested sequences (which is a list-or-tuple of lists-or-tuples-or ndarrays with different lengths or shapes) is deprecated. If you meant to do this, you must specify 'dtype=object' when creating the ndarray.\n",
      "  stab_diag = stabilization_diagram(acc[j], fs, 2, (np.array(omega_n_auto)/2/np.pi), np.array(order_auto), all_freqs=np.abs(lambd_stab)/2/np.pi, all_orders=orders_stab)\n"
     ]
    },
    {
     "name": "stdout",
     "output_type": "stream",
     "text": [
      "Post processing executed in 0.023645877838134766\n",
      "Stabilization diagram executed in 0.20195293426513672\n",
      "Wind statistics executed in 0.002789020538330078\n",
      "Time serie 13 of 16 done in 2.5183773040771484 sec. Period 17 of 88 done. Number of skipped periods: 12.\n",
      "Cov-SSI executed in 1.8458428382873535\n",
      "HDBSCAN executed in 0.04431796073913574\n",
      "Post processing executed in 0.026874065399169922\n"
     ]
    },
    {
     "name": "stderr",
     "output_type": "stream",
     "text": [
      "/Users/emilneby/PyCharmProjects/AOMA_Halogaland/koma/clustering.py:46: RuntimeWarning: divide by zero encountered in divide\n",
      "  diff = (arr1-arr2)/scaling\n",
      "/Users/emilneby/PyCharmProjects/AOMA_Halogaland/koma/clustering.py:46: RuntimeWarning: invalid value encountered in divide\n",
      "  diff = (arr1-arr2)/scaling\n",
      "/var/folders/xg/ddkjb2x96w167hqnv_gjv_v40000gn/T/ipykernel_35796/1427197658.py:87: VisibleDeprecationWarning: Creating an ndarray from ragged nested sequences (which is a list-or-tuple of lists-or-tuples-or ndarrays with different lengths or shapes) is deprecated. If you meant to do this, you must specify 'dtype=object' when creating the ndarray.\n",
      "  stab_diag = stabilization_diagram(acc[j], fs, 2, (np.array(omega_n_auto)/2/np.pi), np.array(order_auto), all_freqs=np.abs(lambd_stab)/2/np.pi, all_orders=orders_stab)\n"
     ]
    },
    {
     "name": "stdout",
     "output_type": "stream",
     "text": [
      "Stabilization diagram executed in 0.1853160858154297\n",
      "Wind statistics executed in 0.002850055694580078\n",
      "Time serie 14 of 16 done in 2.3120172023773193 sec. Period 17 of 88 done. Number of skipped periods: 12.\n",
      "Cov-SSI executed in 1.8222808837890625\n",
      "HDBSCAN executed in 0.03838491439819336\n",
      "Post processing executed in 0.023479223251342773\n"
     ]
    },
    {
     "name": "stderr",
     "output_type": "stream",
     "text": [
      "/Users/emilneby/PyCharmProjects/AOMA_Halogaland/koma/clustering.py:46: RuntimeWarning: divide by zero encountered in divide\n",
      "  diff = (arr1-arr2)/scaling\n",
      "/Users/emilneby/PyCharmProjects/AOMA_Halogaland/koma/clustering.py:46: RuntimeWarning: invalid value encountered in divide\n",
      "  diff = (arr1-arr2)/scaling\n",
      "/var/folders/xg/ddkjb2x96w167hqnv_gjv_v40000gn/T/ipykernel_35796/1427197658.py:87: VisibleDeprecationWarning: Creating an ndarray from ragged nested sequences (which is a list-or-tuple of lists-or-tuples-or ndarrays with different lengths or shapes) is deprecated. If you meant to do this, you must specify 'dtype=object' when creating the ndarray.\n",
      "  stab_diag = stabilization_diagram(acc[j], fs, 2, (np.array(omega_n_auto)/2/np.pi), np.array(order_auto), all_freqs=np.abs(lambd_stab)/2/np.pi, all_orders=orders_stab)\n"
     ]
    },
    {
     "name": "stdout",
     "output_type": "stream",
     "text": [
      "Stabilization diagram executed in 0.19034290313720703\n",
      "Wind statistics executed in 0.0033469200134277344\n",
      "Time serie 15 of 16 done in 2.2684781551361084 sec. Period 17 of 88 done. Number of skipped periods: 12.\n",
      "Cov-SSI executed in 2.9273290634155273\n",
      "HDBSCAN executed in 0.039314985275268555\n",
      "Post processing executed in 0.02487969398498535\n"
     ]
    },
    {
     "name": "stderr",
     "output_type": "stream",
     "text": [
      "/Users/emilneby/PyCharmProjects/AOMA_Halogaland/koma/clustering.py:46: RuntimeWarning: divide by zero encountered in divide\n",
      "  diff = (arr1-arr2)/scaling\n",
      "/Users/emilneby/PyCharmProjects/AOMA_Halogaland/koma/clustering.py:46: RuntimeWarning: invalid value encountered in divide\n",
      "  diff = (arr1-arr2)/scaling\n",
      "/var/folders/xg/ddkjb2x96w167hqnv_gjv_v40000gn/T/ipykernel_35796/1427197658.py:87: VisibleDeprecationWarning: Creating an ndarray from ragged nested sequences (which is a list-or-tuple of lists-or-tuples-or ndarrays with different lengths or shapes) is deprecated. If you meant to do this, you must specify 'dtype=object' when creating the ndarray.\n",
      "  stab_diag = stabilization_diagram(acc[j], fs, 2, (np.array(omega_n_auto)/2/np.pi), np.array(order_auto), all_freqs=np.abs(lambd_stab)/2/np.pi, all_orders=orders_stab)\n"
     ]
    },
    {
     "name": "stdout",
     "output_type": "stream",
     "text": [
      "Stabilization diagram executed in 0.1890430450439453\n",
      "Wind statistics executed in 0.003213167190551758\n",
      "Time serie 16 of 16 done in 3.3772969245910645 sec. Period 17 of 88 done. Number of skipped periods: 12.\n",
      "Cov-SSI executed in 1.9746980667114258\n",
      "HDBSCAN executed in 0.0404820442199707\n",
      "Post processing executed in 0.02577996253967285\n"
     ]
    },
    {
     "name": "stderr",
     "output_type": "stream",
     "text": [
      "/Users/emilneby/PyCharmProjects/AOMA_Halogaland/koma/clustering.py:46: RuntimeWarning: divide by zero encountered in divide\n",
      "  diff = (arr1-arr2)/scaling\n",
      "/Users/emilneby/PyCharmProjects/AOMA_Halogaland/koma/clustering.py:46: RuntimeWarning: invalid value encountered in divide\n",
      "  diff = (arr1-arr2)/scaling\n",
      "/var/folders/xg/ddkjb2x96w167hqnv_gjv_v40000gn/T/ipykernel_35796/1427197658.py:87: VisibleDeprecationWarning: Creating an ndarray from ragged nested sequences (which is a list-or-tuple of lists-or-tuples-or ndarrays with different lengths or shapes) is deprecated. If you meant to do this, you must specify 'dtype=object' when creating the ndarray.\n",
      "  stab_diag = stabilization_diagram(acc[j], fs, 2, (np.array(omega_n_auto)/2/np.pi), np.array(order_auto), all_freqs=np.abs(lambd_stab)/2/np.pi, all_orders=orders_stab)\n"
     ]
    },
    {
     "name": "stdout",
     "output_type": "stream",
     "text": [
      "Stabilization diagram executed in 0.18141889572143555\n",
      "Wind statistics executed in 0.013812065124511719\n",
      "Time serie 1 of 16 done in 2.439237117767334 sec. Period 18 of 88 done. Number of skipped periods: 12.\n",
      "Cov-SSI executed in 1.31549072265625\n",
      "HDBSCAN executed in 0.04119706153869629\n"
     ]
    },
    {
     "name": "stderr",
     "output_type": "stream",
     "text": [
      "/Users/emilneby/PyCharmProjects/AOMA_Halogaland/koma/clustering.py:46: RuntimeWarning: divide by zero encountered in divide\n",
      "  diff = (arr1-arr2)/scaling\n",
      "/Users/emilneby/PyCharmProjects/AOMA_Halogaland/koma/clustering.py:46: RuntimeWarning: invalid value encountered in divide\n",
      "  diff = (arr1-arr2)/scaling\n",
      "/var/folders/xg/ddkjb2x96w167hqnv_gjv_v40000gn/T/ipykernel_35796/1427197658.py:87: VisibleDeprecationWarning: Creating an ndarray from ragged nested sequences (which is a list-or-tuple of lists-or-tuples-or ndarrays with different lengths or shapes) is deprecated. If you meant to do this, you must specify 'dtype=object' when creating the ndarray.\n",
      "  stab_diag = stabilization_diagram(acc[j], fs, 2, (np.array(omega_n_auto)/2/np.pi), np.array(order_auto), all_freqs=np.abs(lambd_stab)/2/np.pi, all_orders=orders_stab)\n"
     ]
    },
    {
     "name": "stdout",
     "output_type": "stream",
     "text": [
      "Post processing executed in 0.026294946670532227\n",
      "Stabilization diagram executed in 0.17878293991088867\n",
      "Wind statistics executed in 0.0028340816497802734\n",
      "Time serie 2 of 16 done in 1.728790044784546 sec. Period 18 of 88 done. Number of skipped periods: 12.\n",
      "Cov-SSI executed in 1.6454451084136963\n",
      "HDBSCAN executed in 0.03427720069885254\n",
      "Post processing executed in 0.02229595184326172\n"
     ]
    },
    {
     "name": "stderr",
     "output_type": "stream",
     "text": [
      "/Users/emilneby/PyCharmProjects/AOMA_Halogaland/koma/clustering.py:46: RuntimeWarning: divide by zero encountered in divide\n",
      "  diff = (arr1-arr2)/scaling\n",
      "/Users/emilneby/PyCharmProjects/AOMA_Halogaland/koma/clustering.py:46: RuntimeWarning: invalid value encountered in divide\n",
      "  diff = (arr1-arr2)/scaling\n",
      "/var/folders/xg/ddkjb2x96w167hqnv_gjv_v40000gn/T/ipykernel_35796/1427197658.py:87: VisibleDeprecationWarning: Creating an ndarray from ragged nested sequences (which is a list-or-tuple of lists-or-tuples-or ndarrays with different lengths or shapes) is deprecated. If you meant to do this, you must specify 'dtype=object' when creating the ndarray.\n",
      "  stab_diag = stabilization_diagram(acc[j], fs, 2, (np.array(omega_n_auto)/2/np.pi), np.array(order_auto), all_freqs=np.abs(lambd_stab)/2/np.pi, all_orders=orders_stab)\n"
     ]
    },
    {
     "name": "stdout",
     "output_type": "stream",
     "text": [
      "Stabilization diagram executed in 0.18174314498901367\n",
      "Wind statistics executed in 0.0027179718017578125\n",
      "Time serie 3 of 16 done in 2.044132709503174 sec. Period 18 of 88 done. Number of skipped periods: 12.\n",
      "Cov-SSI executed in 1.5459668636322021\n",
      "HDBSCAN executed in 0.04360604286193848\n",
      "Post processing executed in 0.026123046875\n"
     ]
    },
    {
     "name": "stderr",
     "output_type": "stream",
     "text": [
      "/Users/emilneby/PyCharmProjects/AOMA_Halogaland/koma/clustering.py:46: RuntimeWarning: divide by zero encountered in divide\n",
      "  diff = (arr1-arr2)/scaling\n",
      "/Users/emilneby/PyCharmProjects/AOMA_Halogaland/koma/clustering.py:46: RuntimeWarning: invalid value encountered in divide\n",
      "  diff = (arr1-arr2)/scaling\n",
      "/var/folders/xg/ddkjb2x96w167hqnv_gjv_v40000gn/T/ipykernel_35796/1427197658.py:87: VisibleDeprecationWarning: Creating an ndarray from ragged nested sequences (which is a list-or-tuple of lists-or-tuples-or ndarrays with different lengths or shapes) is deprecated. If you meant to do this, you must specify 'dtype=object' when creating the ndarray.\n",
      "  stab_diag = stabilization_diagram(acc[j], fs, 2, (np.array(omega_n_auto)/2/np.pi), np.array(order_auto), all_freqs=np.abs(lambd_stab)/2/np.pi, all_orders=orders_stab)\n"
     ]
    },
    {
     "name": "stdout",
     "output_type": "stream",
     "text": [
      "Stabilization diagram executed in 0.1814279556274414\n",
      "Wind statistics executed in 0.002888917922973633\n",
      "Time serie 4 of 16 done in 1.9744987487792969 sec. Period 18 of 88 done. Number of skipped periods: 12.\n",
      "Cov-SSI executed in 2.0914199352264404\n",
      "HDBSCAN executed in 0.038297176361083984\n",
      "Post processing executed in 0.02489924430847168\n"
     ]
    },
    {
     "name": "stderr",
     "output_type": "stream",
     "text": [
      "/Users/emilneby/PyCharmProjects/AOMA_Halogaland/koma/clustering.py:46: RuntimeWarning: divide by zero encountered in divide\n",
      "  diff = (arr1-arr2)/scaling\n",
      "/Users/emilneby/PyCharmProjects/AOMA_Halogaland/koma/clustering.py:46: RuntimeWarning: invalid value encountered in divide\n",
      "  diff = (arr1-arr2)/scaling\n",
      "/var/folders/xg/ddkjb2x96w167hqnv_gjv_v40000gn/T/ipykernel_35796/1427197658.py:87: VisibleDeprecationWarning: Creating an ndarray from ragged nested sequences (which is a list-or-tuple of lists-or-tuples-or ndarrays with different lengths or shapes) is deprecated. If you meant to do this, you must specify 'dtype=object' when creating the ndarray.\n",
      "  stab_diag = stabilization_diagram(acc[j], fs, 2, (np.array(omega_n_auto)/2/np.pi), np.array(order_auto), all_freqs=np.abs(lambd_stab)/2/np.pi, all_orders=orders_stab)\n"
     ]
    },
    {
     "name": "stdout",
     "output_type": "stream",
     "text": [
      "Stabilization diagram executed in 0.18464994430541992\n",
      "Wind statistics executed in 0.0029349327087402344\n",
      "Time serie 5 of 16 done in 2.524839162826538 sec. Period 18 of 88 done. Number of skipped periods: 12.\n",
      "Cov-SSI executed in 1.8621840476989746\n",
      "HDBSCAN executed in 0.0368499755859375\n",
      "Post processing executed in 0.02411794662475586\n"
     ]
    },
    {
     "name": "stderr",
     "output_type": "stream",
     "text": [
      "/Users/emilneby/PyCharmProjects/AOMA_Halogaland/koma/clustering.py:46: RuntimeWarning: divide by zero encountered in divide\n",
      "  diff = (arr1-arr2)/scaling\n",
      "/Users/emilneby/PyCharmProjects/AOMA_Halogaland/koma/clustering.py:46: RuntimeWarning: invalid value encountered in divide\n",
      "  diff = (arr1-arr2)/scaling\n",
      "/var/folders/xg/ddkjb2x96w167hqnv_gjv_v40000gn/T/ipykernel_35796/1427197658.py:87: VisibleDeprecationWarning: Creating an ndarray from ragged nested sequences (which is a list-or-tuple of lists-or-tuples-or ndarrays with different lengths or shapes) is deprecated. If you meant to do this, you must specify 'dtype=object' when creating the ndarray.\n",
      "  stab_diag = stabilization_diagram(acc[j], fs, 2, (np.array(omega_n_auto)/2/np.pi), np.array(order_auto), all_freqs=np.abs(lambd_stab)/2/np.pi, all_orders=orders_stab)\n"
     ]
    },
    {
     "name": "stdout",
     "output_type": "stream",
     "text": [
      "Stabilization diagram executed in 0.1834859848022461\n",
      "Wind statistics executed in 0.0032739639282226562\n",
      "Time serie 6 of 16 done in 2.29542875289917 sec. Period 18 of 88 done. Number of skipped periods: 12.\n",
      "Cov-SSI executed in 2.294800281524658\n",
      "HDBSCAN executed in 0.032523155212402344\n",
      "Post processing executed in 0.020419836044311523\n"
     ]
    },
    {
     "name": "stderr",
     "output_type": "stream",
     "text": [
      "/Users/emilneby/PyCharmProjects/AOMA_Halogaland/koma/clustering.py:46: RuntimeWarning: divide by zero encountered in divide\n",
      "  diff = (arr1-arr2)/scaling\n",
      "/Users/emilneby/PyCharmProjects/AOMA_Halogaland/koma/clustering.py:46: RuntimeWarning: invalid value encountered in divide\n",
      "  diff = (arr1-arr2)/scaling\n",
      "/var/folders/xg/ddkjb2x96w167hqnv_gjv_v40000gn/T/ipykernel_35796/1427197658.py:87: VisibleDeprecationWarning: Creating an ndarray from ragged nested sequences (which is a list-or-tuple of lists-or-tuples-or ndarrays with different lengths or shapes) is deprecated. If you meant to do this, you must specify 'dtype=object' when creating the ndarray.\n",
      "  stab_diag = stabilization_diagram(acc[j], fs, 2, (np.array(omega_n_auto)/2/np.pi), np.array(order_auto), all_freqs=np.abs(lambd_stab)/2/np.pi, all_orders=orders_stab)\n"
     ]
    },
    {
     "name": "stdout",
     "output_type": "stream",
     "text": [
      "Stabilization diagram executed in 0.18407583236694336\n",
      "Wind statistics executed in 0.0032138824462890625\n",
      "Time serie 7 of 16 done in 2.716931104660034 sec. Period 18 of 88 done. Number of skipped periods: 12.\n",
      "Cov-SSI executed in 2.1867849826812744\n",
      "HDBSCAN executed in 0.04490208625793457\n",
      "Post processing executed in 0.021734952926635742\n"
     ]
    },
    {
     "name": "stderr",
     "output_type": "stream",
     "text": [
      "/Users/emilneby/PyCharmProjects/AOMA_Halogaland/koma/clustering.py:46: RuntimeWarning: divide by zero encountered in divide\n",
      "  diff = (arr1-arr2)/scaling\n",
      "/Users/emilneby/PyCharmProjects/AOMA_Halogaland/koma/clustering.py:46: RuntimeWarning: invalid value encountered in divide\n",
      "  diff = (arr1-arr2)/scaling\n",
      "/var/folders/xg/ddkjb2x96w167hqnv_gjv_v40000gn/T/ipykernel_35796/1427197658.py:87: VisibleDeprecationWarning: Creating an ndarray from ragged nested sequences (which is a list-or-tuple of lists-or-tuples-or ndarrays with different lengths or shapes) is deprecated. If you meant to do this, you must specify 'dtype=object' when creating the ndarray.\n",
      "  stab_diag = stabilization_diagram(acc[j], fs, 2, (np.array(omega_n_auto)/2/np.pi), np.array(order_auto), all_freqs=np.abs(lambd_stab)/2/np.pi, all_orders=orders_stab)\n"
     ]
    },
    {
     "name": "stdout",
     "output_type": "stream",
     "text": [
      "Stabilization diagram executed in 0.18016600608825684\n",
      "Wind statistics executed in 0.0031900405883789062\n",
      "Time serie 8 of 16 done in 2.616786003112793 sec. Period 18 of 88 done. Number of skipped periods: 12.\n",
      "Cov-SSI executed in 2.162438154220581\n",
      "HDBSCAN executed in 0.03513503074645996\n",
      "Post processing executed in 0.022086143493652344\n"
     ]
    },
    {
     "name": "stderr",
     "output_type": "stream",
     "text": [
      "/Users/emilneby/PyCharmProjects/AOMA_Halogaland/koma/clustering.py:46: RuntimeWarning: divide by zero encountered in divide\n",
      "  diff = (arr1-arr2)/scaling\n",
      "/Users/emilneby/PyCharmProjects/AOMA_Halogaland/koma/clustering.py:46: RuntimeWarning: invalid value encountered in divide\n",
      "  diff = (arr1-arr2)/scaling\n",
      "/var/folders/xg/ddkjb2x96w167hqnv_gjv_v40000gn/T/ipykernel_35796/1427197658.py:87: VisibleDeprecationWarning: Creating an ndarray from ragged nested sequences (which is a list-or-tuple of lists-or-tuples-or ndarrays with different lengths or shapes) is deprecated. If you meant to do this, you must specify 'dtype=object' when creating the ndarray.\n",
      "  stab_diag = stabilization_diagram(acc[j], fs, 2, (np.array(omega_n_auto)/2/np.pi), np.array(order_auto), all_freqs=np.abs(lambd_stab)/2/np.pi, all_orders=orders_stab)\n"
     ]
    },
    {
     "name": "stdout",
     "output_type": "stream",
     "text": [
      "Stabilization diagram executed in 0.18355202674865723\n",
      "Wind statistics executed in 0.003094196319580078\n",
      "Time serie 9 of 16 done in 2.6048829555511475 sec. Period 18 of 88 done. Number of skipped periods: 12.\n",
      "Cov-SSI executed in 1.7029080390930176\n",
      "HDBSCAN executed in 0.039714813232421875\n",
      "Post processing executed in 0.02526378631591797\n"
     ]
    },
    {
     "name": "stderr",
     "output_type": "stream",
     "text": [
      "/Users/emilneby/PyCharmProjects/AOMA_Halogaland/koma/clustering.py:46: RuntimeWarning: divide by zero encountered in divide\n",
      "  diff = (arr1-arr2)/scaling\n",
      "/Users/emilneby/PyCharmProjects/AOMA_Halogaland/koma/clustering.py:46: RuntimeWarning: invalid value encountered in divide\n",
      "  diff = (arr1-arr2)/scaling\n",
      "/var/folders/xg/ddkjb2x96w167hqnv_gjv_v40000gn/T/ipykernel_35796/1427197658.py:87: VisibleDeprecationWarning: Creating an ndarray from ragged nested sequences (which is a list-or-tuple of lists-or-tuples-or ndarrays with different lengths or shapes) is deprecated. If you meant to do this, you must specify 'dtype=object' when creating the ndarray.\n",
      "  stab_diag = stabilization_diagram(acc[j], fs, 2, (np.array(omega_n_auto)/2/np.pi), np.array(order_auto), all_freqs=np.abs(lambd_stab)/2/np.pi, all_orders=orders_stab)\n"
     ]
    },
    {
     "name": "stdout",
     "output_type": "stream",
     "text": [
      "Stabilization diagram executed in 0.18546676635742188\n",
      "Wind statistics executed in 0.0028340816497802734\n",
      "Time serie 10 of 16 done in 2.1342029571533203 sec. Period 18 of 88 done. Number of skipped periods: 12.\n",
      "Cov-SSI executed in 2.057309865951538\n",
      "HDBSCAN executed in 0.04990196228027344\n",
      "Post processing executed in 0.025052309036254883\n"
     ]
    },
    {
     "name": "stderr",
     "output_type": "stream",
     "text": [
      "/Users/emilneby/PyCharmProjects/AOMA_Halogaland/koma/clustering.py:46: RuntimeWarning: divide by zero encountered in divide\n",
      "  diff = (arr1-arr2)/scaling\n",
      "/Users/emilneby/PyCharmProjects/AOMA_Halogaland/koma/clustering.py:46: RuntimeWarning: invalid value encountered in divide\n",
      "  diff = (arr1-arr2)/scaling\n",
      "/var/folders/xg/ddkjb2x96w167hqnv_gjv_v40000gn/T/ipykernel_35796/1427197658.py:87: VisibleDeprecationWarning: Creating an ndarray from ragged nested sequences (which is a list-or-tuple of lists-or-tuples-or ndarrays with different lengths or shapes) is deprecated. If you meant to do this, you must specify 'dtype=object' when creating the ndarray.\n",
      "  stab_diag = stabilization_diagram(acc[j], fs, 2, (np.array(omega_n_auto)/2/np.pi), np.array(order_auto), all_freqs=np.abs(lambd_stab)/2/np.pi, all_orders=orders_stab)\n"
     ]
    },
    {
     "name": "stdout",
     "output_type": "stream",
     "text": [
      "Stabilization diagram executed in 0.43440699577331543\n",
      "Wind statistics executed in 0.0032341480255126953\n",
      "Time serie 11 of 16 done in 2.764112949371338 sec. Period 18 of 88 done. Number of skipped periods: 12.\n",
      "Cov-SSI executed in 1.8267168998718262\n",
      "HDBSCAN executed in 0.03952312469482422\n",
      "Post processing executed in 0.024901151657104492\n"
     ]
    },
    {
     "name": "stderr",
     "output_type": "stream",
     "text": [
      "/Users/emilneby/PyCharmProjects/AOMA_Halogaland/koma/clustering.py:46: RuntimeWarning: divide by zero encountered in divide\n",
      "  diff = (arr1-arr2)/scaling\n",
      "/Users/emilneby/PyCharmProjects/AOMA_Halogaland/koma/clustering.py:46: RuntimeWarning: invalid value encountered in divide\n",
      "  diff = (arr1-arr2)/scaling\n",
      "/var/folders/xg/ddkjb2x96w167hqnv_gjv_v40000gn/T/ipykernel_35796/1427197658.py:87: VisibleDeprecationWarning: Creating an ndarray from ragged nested sequences (which is a list-or-tuple of lists-or-tuples-or ndarrays with different lengths or shapes) is deprecated. If you meant to do this, you must specify 'dtype=object' when creating the ndarray.\n",
      "  stab_diag = stabilization_diagram(acc[j], fs, 2, (np.array(omega_n_auto)/2/np.pi), np.array(order_auto), all_freqs=np.abs(lambd_stab)/2/np.pi, all_orders=orders_stab)\n"
     ]
    },
    {
     "name": "stdout",
     "output_type": "stream",
     "text": [
      "Stabilization diagram executed in 0.18966317176818848\n",
      "Wind statistics executed in 0.0028519630432128906\n",
      "Time serie 12 of 16 done in 2.2717928886413574 sec. Period 18 of 88 done. Number of skipped periods: 12.\n",
      "Cov-SSI executed in 1.867567777633667\n",
      "HDBSCAN executed in 0.04871988296508789\n"
     ]
    },
    {
     "name": "stderr",
     "output_type": "stream",
     "text": [
      "/Users/emilneby/PyCharmProjects/AOMA_Halogaland/koma/clustering.py:46: RuntimeWarning: divide by zero encountered in divide\n",
      "  diff = (arr1-arr2)/scaling\n",
      "/Users/emilneby/PyCharmProjects/AOMA_Halogaland/koma/clustering.py:46: RuntimeWarning: invalid value encountered in divide\n",
      "  diff = (arr1-arr2)/scaling\n",
      "/var/folders/xg/ddkjb2x96w167hqnv_gjv_v40000gn/T/ipykernel_35796/1427197658.py:87: VisibleDeprecationWarning: Creating an ndarray from ragged nested sequences (which is a list-or-tuple of lists-or-tuples-or ndarrays with different lengths or shapes) is deprecated. If you meant to do this, you must specify 'dtype=object' when creating the ndarray.\n",
      "  stab_diag = stabilization_diagram(acc[j], fs, 2, (np.array(omega_n_auto)/2/np.pi), np.array(order_auto), all_freqs=np.abs(lambd_stab)/2/np.pi, all_orders=orders_stab)\n"
     ]
    },
    {
     "name": "stdout",
     "output_type": "stream",
     "text": [
      "Post processing executed in 0.02538323402404785\n",
      "Stabilization diagram executed in 0.18322205543518066\n",
      "Wind statistics executed in 0.002521991729736328\n",
      "Time serie 13 of 16 done in 2.287574052810669 sec. Period 18 of 88 done. Number of skipped periods: 12.\n",
      "Cov-SSI executed in 5.43594217300415\n",
      "HDBSCAN executed in 0.0366208553314209\n",
      "Post processing executed in 0.02285313606262207\n"
     ]
    },
    {
     "name": "stderr",
     "output_type": "stream",
     "text": [
      "/Users/emilneby/PyCharmProjects/AOMA_Halogaland/koma/clustering.py:46: RuntimeWarning: divide by zero encountered in divide\n",
      "  diff = (arr1-arr2)/scaling\n",
      "/Users/emilneby/PyCharmProjects/AOMA_Halogaland/koma/clustering.py:46: RuntimeWarning: invalid value encountered in divide\n",
      "  diff = (arr1-arr2)/scaling\n",
      "/var/folders/xg/ddkjb2x96w167hqnv_gjv_v40000gn/T/ipykernel_35796/1427197658.py:87: VisibleDeprecationWarning: Creating an ndarray from ragged nested sequences (which is a list-or-tuple of lists-or-tuples-or ndarrays with different lengths or shapes) is deprecated. If you meant to do this, you must specify 'dtype=object' when creating the ndarray.\n",
      "  stab_diag = stabilization_diagram(acc[j], fs, 2, (np.array(omega_n_auto)/2/np.pi), np.array(order_auto), all_freqs=np.abs(lambd_stab)/2/np.pi, all_orders=orders_stab)\n"
     ]
    },
    {
     "name": "stdout",
     "output_type": "stream",
     "text": [
      "Stabilization diagram executed in 0.18210625648498535\n",
      "Wind statistics executed in 0.0029642581939697266\n",
      "Time serie 14 of 16 done in 5.8683083057403564 sec. Period 18 of 88 done. Number of skipped periods: 12.\n",
      "Cov-SSI executed in 2.385453939437866\n",
      "HDBSCAN executed in 0.03551197052001953\n",
      "Post processing executed in 0.022939205169677734\n"
     ]
    },
    {
     "name": "stderr",
     "output_type": "stream",
     "text": [
      "/Users/emilneby/PyCharmProjects/AOMA_Halogaland/koma/clustering.py:46: RuntimeWarning: divide by zero encountered in divide\n",
      "  diff = (arr1-arr2)/scaling\n",
      "/Users/emilneby/PyCharmProjects/AOMA_Halogaland/koma/clustering.py:46: RuntimeWarning: invalid value encountered in divide\n",
      "  diff = (arr1-arr2)/scaling\n",
      "/var/folders/xg/ddkjb2x96w167hqnv_gjv_v40000gn/T/ipykernel_35796/1427197658.py:87: VisibleDeprecationWarning: Creating an ndarray from ragged nested sequences (which is a list-or-tuple of lists-or-tuples-or ndarrays with different lengths or shapes) is deprecated. If you meant to do this, you must specify 'dtype=object' when creating the ndarray.\n",
      "  stab_diag = stabilization_diagram(acc[j], fs, 2, (np.array(omega_n_auto)/2/np.pi), np.array(order_auto), all_freqs=np.abs(lambd_stab)/2/np.pi, all_orders=orders_stab)\n"
     ]
    },
    {
     "name": "stdout",
     "output_type": "stream",
     "text": [
      "Stabilization diagram executed in 0.18590402603149414\n",
      "Wind statistics executed in 0.0029692649841308594\n",
      "Time serie 15 of 16 done in 2.782771348953247 sec. Period 18 of 88 done. Number of skipped periods: 12.\n",
      "Cov-SSI executed in 2.2049310207366943\n",
      "HDBSCAN executed in 0.03908133506774902\n",
      "Post processing executed in 0.024183988571166992\n"
     ]
    },
    {
     "name": "stderr",
     "output_type": "stream",
     "text": [
      "/Users/emilneby/PyCharmProjects/AOMA_Halogaland/koma/clustering.py:46: RuntimeWarning: divide by zero encountered in divide\n",
      "  diff = (arr1-arr2)/scaling\n",
      "/Users/emilneby/PyCharmProjects/AOMA_Halogaland/koma/clustering.py:46: RuntimeWarning: invalid value encountered in divide\n",
      "  diff = (arr1-arr2)/scaling\n",
      "/var/folders/xg/ddkjb2x96w167hqnv_gjv_v40000gn/T/ipykernel_35796/1427197658.py:87: VisibleDeprecationWarning: Creating an ndarray from ragged nested sequences (which is a list-or-tuple of lists-or-tuples-or ndarrays with different lengths or shapes) is deprecated. If you meant to do this, you must specify 'dtype=object' when creating the ndarray.\n",
      "  stab_diag = stabilization_diagram(acc[j], fs, 2, (np.array(omega_n_auto)/2/np.pi), np.array(order_auto), all_freqs=np.abs(lambd_stab)/2/np.pi, all_orders=orders_stab)\n"
     ]
    },
    {
     "name": "stdout",
     "output_type": "stream",
     "text": [
      "Stabilization diagram executed in 0.17951703071594238\n",
      "Wind statistics executed in 0.0031707286834716797\n",
      "Time serie 16 of 16 done in 2.6345250606536865 sec. Period 18 of 88 done. Number of skipped periods: 12.\n",
      "Cov-SSI executed in 2.7930190563201904\n",
      "HDBSCAN executed in 0.034098148345947266\n",
      "Post processing executed in 0.022697925567626953\n"
     ]
    },
    {
     "name": "stderr",
     "output_type": "stream",
     "text": [
      "/Users/emilneby/PyCharmProjects/AOMA_Halogaland/koma/clustering.py:46: RuntimeWarning: divide by zero encountered in divide\n",
      "  diff = (arr1-arr2)/scaling\n",
      "/Users/emilneby/PyCharmProjects/AOMA_Halogaland/koma/clustering.py:46: RuntimeWarning: invalid value encountered in divide\n",
      "  diff = (arr1-arr2)/scaling\n",
      "/var/folders/xg/ddkjb2x96w167hqnv_gjv_v40000gn/T/ipykernel_35796/1427197658.py:87: VisibleDeprecationWarning: Creating an ndarray from ragged nested sequences (which is a list-or-tuple of lists-or-tuples-or ndarrays with different lengths or shapes) is deprecated. If you meant to do this, you must specify 'dtype=object' when creating the ndarray.\n",
      "  stab_diag = stabilization_diagram(acc[j], fs, 2, (np.array(omega_n_auto)/2/np.pi), np.array(order_auto), all_freqs=np.abs(lambd_stab)/2/np.pi, all_orders=orders_stab)\n"
     ]
    },
    {
     "name": "stdout",
     "output_type": "stream",
     "text": [
      "Stabilization diagram executed in 0.19591903686523438\n",
      "Wind statistics executed in 0.016852855682373047\n",
      "Time serie 1 of 16 done in 3.2445759773254395 sec. Period 19 of 88 done. Number of skipped periods: 12.\n",
      "Cov-SSI executed in 2.6052439212799072\n",
      "HDBSCAN executed in 0.056121110916137695\n",
      "Post processing executed in 0.027845144271850586\n"
     ]
    },
    {
     "name": "stderr",
     "output_type": "stream",
     "text": [
      "/Users/emilneby/PyCharmProjects/AOMA_Halogaland/koma/clustering.py:46: RuntimeWarning: divide by zero encountered in divide\n",
      "  diff = (arr1-arr2)/scaling\n",
      "/Users/emilneby/PyCharmProjects/AOMA_Halogaland/koma/clustering.py:46: RuntimeWarning: invalid value encountered in divide\n",
      "  diff = (arr1-arr2)/scaling\n",
      "/var/folders/xg/ddkjb2x96w167hqnv_gjv_v40000gn/T/ipykernel_35796/1427197658.py:87: VisibleDeprecationWarning: Creating an ndarray from ragged nested sequences (which is a list-or-tuple of lists-or-tuples-or ndarrays with different lengths or shapes) is deprecated. If you meant to do this, you must specify 'dtype=object' when creating the ndarray.\n",
      "  stab_diag = stabilization_diagram(acc[j], fs, 2, (np.array(omega_n_auto)/2/np.pi), np.array(order_auto), all_freqs=np.abs(lambd_stab)/2/np.pi, all_orders=orders_stab)\n"
     ]
    },
    {
     "name": "stdout",
     "output_type": "stream",
     "text": [
      "Stabilization diagram executed in 0.20015716552734375\n",
      "Wind statistics executed in 0.0028128623962402344\n",
      "Time serie 2 of 16 done in 3.089648962020874 sec. Period 19 of 88 done. Number of skipped periods: 12.\n",
      "Cov-SSI executed in 3.5638489723205566\n",
      "HDBSCAN executed in 0.03791689872741699\n",
      "Post processing executed in 0.02369093894958496\n"
     ]
    },
    {
     "name": "stderr",
     "output_type": "stream",
     "text": [
      "/Users/emilneby/PyCharmProjects/AOMA_Halogaland/koma/clustering.py:46: RuntimeWarning: divide by zero encountered in divide\n",
      "  diff = (arr1-arr2)/scaling\n",
      "/Users/emilneby/PyCharmProjects/AOMA_Halogaland/koma/clustering.py:46: RuntimeWarning: invalid value encountered in divide\n",
      "  diff = (arr1-arr2)/scaling\n",
      "/var/folders/xg/ddkjb2x96w167hqnv_gjv_v40000gn/T/ipykernel_35796/1427197658.py:87: VisibleDeprecationWarning: Creating an ndarray from ragged nested sequences (which is a list-or-tuple of lists-or-tuples-or ndarrays with different lengths or shapes) is deprecated. If you meant to do this, you must specify 'dtype=object' when creating the ndarray.\n",
      "  stab_diag = stabilization_diagram(acc[j], fs, 2, (np.array(omega_n_auto)/2/np.pi), np.array(order_auto), all_freqs=np.abs(lambd_stab)/2/np.pi, all_orders=orders_stab)\n"
     ]
    },
    {
     "name": "stdout",
     "output_type": "stream",
     "text": [
      "Stabilization diagram executed in 0.19529080390930176\n",
      "Wind statistics executed in 0.0029921531677246094\n",
      "Time serie 3 of 16 done in 4.0135040283203125 sec. Period 19 of 88 done. Number of skipped periods: 12.\n",
      "Cov-SSI executed in 2.2401440143585205\n",
      "HDBSCAN executed in 0.03716301918029785\n",
      "Post processing executed in 0.024094820022583008\n"
     ]
    },
    {
     "name": "stderr",
     "output_type": "stream",
     "text": [
      "/Users/emilneby/PyCharmProjects/AOMA_Halogaland/koma/clustering.py:46: RuntimeWarning: divide by zero encountered in divide\n",
      "  diff = (arr1-arr2)/scaling\n",
      "/Users/emilneby/PyCharmProjects/AOMA_Halogaland/koma/clustering.py:46: RuntimeWarning: invalid value encountered in divide\n",
      "  diff = (arr1-arr2)/scaling\n",
      "/var/folders/xg/ddkjb2x96w167hqnv_gjv_v40000gn/T/ipykernel_35796/1427197658.py:87: VisibleDeprecationWarning: Creating an ndarray from ragged nested sequences (which is a list-or-tuple of lists-or-tuples-or ndarrays with different lengths or shapes) is deprecated. If you meant to do this, you must specify 'dtype=object' when creating the ndarray.\n",
      "  stab_diag = stabilization_diagram(acc[j], fs, 2, (np.array(omega_n_auto)/2/np.pi), np.array(order_auto), all_freqs=np.abs(lambd_stab)/2/np.pi, all_orders=orders_stab)\n"
     ]
    },
    {
     "name": "stdout",
     "output_type": "stream",
     "text": [
      "Stabilization diagram executed in 0.1826481819152832\n",
      "Wind statistics executed in 0.003017902374267578\n",
      "Time serie 4 of 16 done in 2.6600289344787598 sec. Period 19 of 88 done. Number of skipped periods: 12.\n",
      "Cov-SSI executed in 2.100229024887085\n",
      "HDBSCAN executed in 0.03311586380004883\n",
      "Post processing executed in 0.021884918212890625\n"
     ]
    },
    {
     "name": "stderr",
     "output_type": "stream",
     "text": [
      "/var/folders/xg/ddkjb2x96w167hqnv_gjv_v40000gn/T/ipykernel_35796/1427197658.py:87: VisibleDeprecationWarning: Creating an ndarray from ragged nested sequences (which is a list-or-tuple of lists-or-tuples-or ndarrays with different lengths or shapes) is deprecated. If you meant to do this, you must specify 'dtype=object' when creating the ndarray.\n",
      "  stab_diag = stabilization_diagram(acc[j], fs, 2, (np.array(omega_n_auto)/2/np.pi), np.array(order_auto), all_freqs=np.abs(lambd_stab)/2/np.pi, all_orders=orders_stab)\n"
     ]
    },
    {
     "name": "stdout",
     "output_type": "stream",
     "text": [
      "Stabilization diagram executed in 0.1850266456604004\n",
      "Wind statistics executed in 0.0032749176025390625\n",
      "Time serie 5 of 16 done in 2.5029430389404297 sec. Period 19 of 88 done. Number of skipped periods: 12.\n",
      "Cov-SSI executed in 2.061460018157959\n",
      "HDBSCAN executed in 0.0457310676574707\n",
      "Post processing executed in 0.023391008377075195\n"
     ]
    },
    {
     "name": "stderr",
     "output_type": "stream",
     "text": [
      "/var/folders/xg/ddkjb2x96w167hqnv_gjv_v40000gn/T/ipykernel_35796/1427197658.py:87: VisibleDeprecationWarning: Creating an ndarray from ragged nested sequences (which is a list-or-tuple of lists-or-tuples-or ndarrays with different lengths or shapes) is deprecated. If you meant to do this, you must specify 'dtype=object' when creating the ndarray.\n",
      "  stab_diag = stabilization_diagram(acc[j], fs, 2, (np.array(omega_n_auto)/2/np.pi), np.array(order_auto), all_freqs=np.abs(lambd_stab)/2/np.pi, all_orders=orders_stab)\n"
     ]
    },
    {
     "name": "stdout",
     "output_type": "stream",
     "text": [
      "Stabilization diagram executed in 0.19126033782958984\n",
      "Wind statistics executed in 0.0028641223907470703\n",
      "Time serie 6 of 16 done in 2.5199129581451416 sec. Period 19 of 88 done. Number of skipped periods: 12.\n",
      "Cov-SSI executed in 1.9330217838287354\n",
      "HDBSCAN executed in 0.042604923248291016\n",
      "Post processing executed in 0.02556586265563965\n"
     ]
    },
    {
     "name": "stderr",
     "output_type": "stream",
     "text": [
      "/Users/emilneby/PyCharmProjects/AOMA_Halogaland/koma/clustering.py:46: RuntimeWarning: divide by zero encountered in divide\n",
      "  diff = (arr1-arr2)/scaling\n",
      "/Users/emilneby/PyCharmProjects/AOMA_Halogaland/koma/clustering.py:46: RuntimeWarning: invalid value encountered in divide\n",
      "  diff = (arr1-arr2)/scaling\n",
      "/var/folders/xg/ddkjb2x96w167hqnv_gjv_v40000gn/T/ipykernel_35796/1427197658.py:87: VisibleDeprecationWarning: Creating an ndarray from ragged nested sequences (which is a list-or-tuple of lists-or-tuples-or ndarrays with different lengths or shapes) is deprecated. If you meant to do this, you must specify 'dtype=object' when creating the ndarray.\n",
      "  stab_diag = stabilization_diagram(acc[j], fs, 2, (np.array(omega_n_auto)/2/np.pi), np.array(order_auto), all_freqs=np.abs(lambd_stab)/2/np.pi, all_orders=orders_stab)\n"
     ]
    },
    {
     "name": "stdout",
     "output_type": "stream",
     "text": [
      "Stabilization diagram executed in 0.18776822090148926\n",
      "Wind statistics executed in 0.003117084503173828\n",
      "Time serie 7 of 16 done in 2.3826329708099365 sec. Period 19 of 88 done. Number of skipped periods: 12.\n",
      "Cov-SSI executed in 2.182662010192871\n",
      "HDBSCAN executed in 0.04424023628234863\n",
      "Post processing executed in 0.026059865951538086\n"
     ]
    },
    {
     "name": "stderr",
     "output_type": "stream",
     "text": [
      "/var/folders/xg/ddkjb2x96w167hqnv_gjv_v40000gn/T/ipykernel_35796/1427197658.py:87: VisibleDeprecationWarning: Creating an ndarray from ragged nested sequences (which is a list-or-tuple of lists-or-tuples-or ndarrays with different lengths or shapes) is deprecated. If you meant to do this, you must specify 'dtype=object' when creating the ndarray.\n",
      "  stab_diag = stabilization_diagram(acc[j], fs, 2, (np.array(omega_n_auto)/2/np.pi), np.array(order_auto), all_freqs=np.abs(lambd_stab)/2/np.pi, all_orders=orders_stab)\n"
     ]
    },
    {
     "name": "stdout",
     "output_type": "stream",
     "text": [
      "Stabilization diagram executed in 0.18310213088989258\n",
      "Wind statistics executed in 0.0033440589904785156\n",
      "Time serie 8 of 16 done in 2.6417999267578125 sec. Period 19 of 88 done. Number of skipped periods: 12.\n",
      "Cov-SSI executed in 1.5386250019073486\n",
      "HDBSCAN executed in 0.04278898239135742\n",
      "Post processing executed in 0.02570796012878418\n"
     ]
    },
    {
     "name": "stderr",
     "output_type": "stream",
     "text": [
      "/var/folders/xg/ddkjb2x96w167hqnv_gjv_v40000gn/T/ipykernel_35796/1427197658.py:87: VisibleDeprecationWarning: Creating an ndarray from ragged nested sequences (which is a list-or-tuple of lists-or-tuples-or ndarrays with different lengths or shapes) is deprecated. If you meant to do this, you must specify 'dtype=object' when creating the ndarray.\n",
      "  stab_diag = stabilization_diagram(acc[j], fs, 2, (np.array(omega_n_auto)/2/np.pi), np.array(order_auto), all_freqs=np.abs(lambd_stab)/2/np.pi, all_orders=orders_stab)\n"
     ]
    },
    {
     "name": "stdout",
     "output_type": "stream",
     "text": [
      "Stabilization diagram executed in 0.19411110877990723\n",
      "Wind statistics executed in 0.0028679370880126953\n",
      "Time serie 9 of 16 done in 1.9810607433319092 sec. Period 19 of 88 done. Number of skipped periods: 12.\n",
      "Cov-SSI executed in 2.257572889328003\n",
      "HDBSCAN executed in 0.037676095962524414\n",
      "Post processing executed in 0.023288965225219727\n"
     ]
    },
    {
     "name": "stderr",
     "output_type": "stream",
     "text": [
      "/var/folders/xg/ddkjb2x96w167hqnv_gjv_v40000gn/T/ipykernel_35796/1427197658.py:87: VisibleDeprecationWarning: Creating an ndarray from ragged nested sequences (which is a list-or-tuple of lists-or-tuples-or ndarrays with different lengths or shapes) is deprecated. If you meant to do this, you must specify 'dtype=object' when creating the ndarray.\n",
      "  stab_diag = stabilization_diagram(acc[j], fs, 2, (np.array(omega_n_auto)/2/np.pi), np.array(order_auto), all_freqs=np.abs(lambd_stab)/2/np.pi, all_orders=orders_stab)\n"
     ]
    },
    {
     "name": "stdout",
     "output_type": "stream",
     "text": [
      "Stabilization diagram executed in 0.18139290809631348\n",
      "Wind statistics executed in 0.002725839614868164\n",
      "Time serie 10 of 16 done in 2.6999289989471436 sec. Period 19 of 88 done. Number of skipped periods: 12.\n",
      "Cov-SSI executed in 1.814330816268921\n",
      "HDBSCAN executed in 0.05380511283874512\n",
      "Post processing executed in 0.026378154754638672\n"
     ]
    },
    {
     "name": "stderr",
     "output_type": "stream",
     "text": [
      "/Users/emilneby/PyCharmProjects/AOMA_Halogaland/koma/clustering.py:46: RuntimeWarning: divide by zero encountered in divide\n",
      "  diff = (arr1-arr2)/scaling\n",
      "/Users/emilneby/PyCharmProjects/AOMA_Halogaland/koma/clustering.py:46: RuntimeWarning: invalid value encountered in divide\n",
      "  diff = (arr1-arr2)/scaling\n",
      "/var/folders/xg/ddkjb2x96w167hqnv_gjv_v40000gn/T/ipykernel_35796/1427197658.py:87: VisibleDeprecationWarning: Creating an ndarray from ragged nested sequences (which is a list-or-tuple of lists-or-tuples-or ndarrays with different lengths or shapes) is deprecated. If you meant to do this, you must specify 'dtype=object' when creating the ndarray.\n",
      "  stab_diag = stabilization_diagram(acc[j], fs, 2, (np.array(omega_n_auto)/2/np.pi), np.array(order_auto), all_freqs=np.abs(lambd_stab)/2/np.pi, all_orders=orders_stab)\n"
     ]
    },
    {
     "name": "stdout",
     "output_type": "stream",
     "text": [
      "Stabilization diagram executed in 0.17816495895385742\n",
      "Wind statistics executed in 0.0029571056365966797\n",
      "Time serie 11 of 16 done in 2.285648822784424 sec. Period 19 of 88 done. Number of skipped periods: 12.\n",
      "Cov-SSI executed in 2.0538549423217773\n",
      "HDBSCAN executed in 0.04108119010925293\n",
      "Post processing executed in 0.0248262882232666\n"
     ]
    },
    {
     "name": "stderr",
     "output_type": "stream",
     "text": [
      "/var/folders/xg/ddkjb2x96w167hqnv_gjv_v40000gn/T/ipykernel_35796/1427197658.py:87: VisibleDeprecationWarning: Creating an ndarray from ragged nested sequences (which is a list-or-tuple of lists-or-tuples-or ndarrays with different lengths or shapes) is deprecated. If you meant to do this, you must specify 'dtype=object' when creating the ndarray.\n",
      "  stab_diag = stabilization_diagram(acc[j], fs, 2, (np.array(omega_n_auto)/2/np.pi), np.array(order_auto), all_freqs=np.abs(lambd_stab)/2/np.pi, all_orders=orders_stab)\n"
     ]
    },
    {
     "name": "stdout",
     "output_type": "stream",
     "text": [
      "Stabilization diagram executed in 0.18222713470458984\n",
      "Wind statistics executed in 0.002730846405029297\n",
      "Time serie 12 of 16 done in 2.499631881713867 sec. Period 19 of 88 done. Number of skipped periods: 12.\n",
      "Cov-SSI executed in 1.8980090618133545\n",
      "HDBSCAN executed in 0.04732704162597656\n",
      "Post processing executed in 0.023740053176879883\n"
     ]
    },
    {
     "name": "stderr",
     "output_type": "stream",
     "text": [
      "/var/folders/xg/ddkjb2x96w167hqnv_gjv_v40000gn/T/ipykernel_35796/1427197658.py:87: VisibleDeprecationWarning: Creating an ndarray from ragged nested sequences (which is a list-or-tuple of lists-or-tuples-or ndarrays with different lengths or shapes) is deprecated. If you meant to do this, you must specify 'dtype=object' when creating the ndarray.\n",
      "  stab_diag = stabilization_diagram(acc[j], fs, 2, (np.array(omega_n_auto)/2/np.pi), np.array(order_auto), all_freqs=np.abs(lambd_stab)/2/np.pi, all_orders=orders_stab)\n"
     ]
    },
    {
     "name": "stdout",
     "output_type": "stream",
     "text": [
      "Stabilization diagram executed in 0.17897915840148926\n",
      "Wind statistics executed in 0.002670764923095703\n",
      "Time serie 13 of 16 done in 2.3502378463745117 sec. Period 19 of 88 done. Number of skipped periods: 12.\n",
      "Cov-SSI executed in 1.8127810955047607\n",
      "HDBSCAN executed in 0.04111194610595703\n",
      "Post processing executed in 0.025638103485107422\n"
     ]
    },
    {
     "name": "stderr",
     "output_type": "stream",
     "text": [
      "/Users/emilneby/PyCharmProjects/AOMA_Halogaland/koma/clustering.py:46: RuntimeWarning: divide by zero encountered in divide\n",
      "  diff = (arr1-arr2)/scaling\n",
      "/Users/emilneby/PyCharmProjects/AOMA_Halogaland/koma/clustering.py:46: RuntimeWarning: invalid value encountered in divide\n",
      "  diff = (arr1-arr2)/scaling\n",
      "/var/folders/xg/ddkjb2x96w167hqnv_gjv_v40000gn/T/ipykernel_35796/1427197658.py:87: VisibleDeprecationWarning: Creating an ndarray from ragged nested sequences (which is a list-or-tuple of lists-or-tuples-or ndarrays with different lengths or shapes) is deprecated. If you meant to do this, you must specify 'dtype=object' when creating the ndarray.\n",
      "  stab_diag = stabilization_diagram(acc[j], fs, 2, (np.array(omega_n_auto)/2/np.pi), np.array(order_auto), all_freqs=np.abs(lambd_stab)/2/np.pi, all_orders=orders_stab)\n"
     ]
    },
    {
     "name": "stdout",
     "output_type": "stream",
     "text": [
      "Stabilization diagram executed in 0.17934203147888184\n",
      "Wind statistics executed in 0.002833843231201172\n",
      "Time serie 14 of 16 done in 2.252281665802002 sec. Period 19 of 88 done. Number of skipped periods: 12.\n",
      "Cov-SSI executed in 1.9408929347991943\n",
      "HDBSCAN executed in 0.07011270523071289\n",
      "Post processing executed in 0.021177053451538086\n"
     ]
    },
    {
     "name": "stderr",
     "output_type": "stream",
     "text": [
      "/var/folders/xg/ddkjb2x96w167hqnv_gjv_v40000gn/T/ipykernel_35796/1427197658.py:87: VisibleDeprecationWarning: Creating an ndarray from ragged nested sequences (which is a list-or-tuple of lists-or-tuples-or ndarrays with different lengths or shapes) is deprecated. If you meant to do this, you must specify 'dtype=object' when creating the ndarray.\n",
      "  stab_diag = stabilization_diagram(acc[j], fs, 2, (np.array(omega_n_auto)/2/np.pi), np.array(order_auto), all_freqs=np.abs(lambd_stab)/2/np.pi, all_orders=orders_stab)\n"
     ]
    },
    {
     "name": "stdout",
     "output_type": "stream",
     "text": [
      "Stabilization diagram executed in 0.18101716041564941\n",
      "Wind statistics executed in 0.003061056137084961\n",
      "Time serie 15 of 16 done in 2.401486873626709 sec. Period 19 of 88 done. Number of skipped periods: 12.\n",
      "Cov-SSI executed in 2.3006069660186768\n",
      "HDBSCAN executed in 0.0444180965423584\n",
      "Post processing executed in 0.027421951293945312\n"
     ]
    },
    {
     "name": "stderr",
     "output_type": "stream",
     "text": [
      "/Users/emilneby/PyCharmProjects/AOMA_Halogaland/koma/clustering.py:46: RuntimeWarning: divide by zero encountered in divide\n",
      "  diff = (arr1-arr2)/scaling\n",
      "/Users/emilneby/PyCharmProjects/AOMA_Halogaland/koma/clustering.py:46: RuntimeWarning: invalid value encountered in divide\n",
      "  diff = (arr1-arr2)/scaling\n",
      "/var/folders/xg/ddkjb2x96w167hqnv_gjv_v40000gn/T/ipykernel_35796/1427197658.py:87: VisibleDeprecationWarning: Creating an ndarray from ragged nested sequences (which is a list-or-tuple of lists-or-tuples-or ndarrays with different lengths or shapes) is deprecated. If you meant to do this, you must specify 'dtype=object' when creating the ndarray.\n",
      "  stab_diag = stabilization_diagram(acc[j], fs, 2, (np.array(omega_n_auto)/2/np.pi), np.array(order_auto), all_freqs=np.abs(lambd_stab)/2/np.pi, all_orders=orders_stab)\n"
     ]
    },
    {
     "name": "stdout",
     "output_type": "stream",
     "text": [
      "Stabilization diagram executed in 0.1856250762939453\n",
      "Wind statistics executed in 0.002796173095703125\n",
      "Time serie 16 of 16 done in 2.744481086730957 sec. Period 19 of 88 done. Number of skipped periods: 12.\n",
      "Cov-SSI executed in 2.0023491382598877\n",
      "HDBSCAN executed in 0.04064011573791504\n",
      "Post processing executed in 0.025269031524658203\n"
     ]
    },
    {
     "name": "stderr",
     "output_type": "stream",
     "text": [
      "/Users/emilneby/PyCharmProjects/AOMA_Halogaland/koma/clustering.py:46: RuntimeWarning: divide by zero encountered in divide\n",
      "  diff = (arr1-arr2)/scaling\n",
      "/Users/emilneby/PyCharmProjects/AOMA_Halogaland/koma/clustering.py:46: RuntimeWarning: invalid value encountered in divide\n",
      "  diff = (arr1-arr2)/scaling\n",
      "/var/folders/xg/ddkjb2x96w167hqnv_gjv_v40000gn/T/ipykernel_35796/1427197658.py:87: VisibleDeprecationWarning: Creating an ndarray from ragged nested sequences (which is a list-or-tuple of lists-or-tuples-or ndarrays with different lengths or shapes) is deprecated. If you meant to do this, you must specify 'dtype=object' when creating the ndarray.\n",
      "  stab_diag = stabilization_diagram(acc[j], fs, 2, (np.array(omega_n_auto)/2/np.pi), np.array(order_auto), all_freqs=np.abs(lambd_stab)/2/np.pi, all_orders=orders_stab)\n"
     ]
    },
    {
     "name": "stdout",
     "output_type": "stream",
     "text": [
      "Stabilization diagram executed in 0.19106197357177734\n",
      "Wind statistics executed in 0.013188838958740234\n",
      "Time serie 1 of 16 done in 2.4417951107025146 sec. Period 20 of 88 done. Number of skipped periods: 12.\n",
      "Cov-SSI executed in 2.0062057971954346\n",
      "HDBSCAN executed in 0.03865218162536621\n",
      "Post processing executed in 0.02330493927001953\n",
      "Stabilization diagram executed in 0.18095707893371582\n",
      "Wind statistics executed in 0.0029730796813964844\n",
      "Time serie 2 of 16 done in 2.405700922012329 sec. Period 20 of 88 done. Number of skipped periods: 12.\n"
     ]
    },
    {
     "name": "stderr",
     "output_type": "stream",
     "text": [
      "/var/folders/xg/ddkjb2x96w167hqnv_gjv_v40000gn/T/ipykernel_35796/1427197658.py:87: VisibleDeprecationWarning: Creating an ndarray from ragged nested sequences (which is a list-or-tuple of lists-or-tuples-or ndarrays with different lengths or shapes) is deprecated. If you meant to do this, you must specify 'dtype=object' when creating the ndarray.\n",
      "  stab_diag = stabilization_diagram(acc[j], fs, 2, (np.array(omega_n_auto)/2/np.pi), np.array(order_auto), all_freqs=np.abs(lambd_stab)/2/np.pi, all_orders=orders_stab)\n"
     ]
    },
    {
     "name": "stdout",
     "output_type": "stream",
     "text": [
      "Cov-SSI executed in 1.9275760650634766\n",
      "HDBSCAN executed in 0.049146175384521484\n",
      "Post processing executed in 0.024116992950439453\n"
     ]
    },
    {
     "name": "stderr",
     "output_type": "stream",
     "text": [
      "/Users/emilneby/PyCharmProjects/AOMA_Halogaland/koma/clustering.py:46: RuntimeWarning: divide by zero encountered in divide\n",
      "  diff = (arr1-arr2)/scaling\n",
      "/Users/emilneby/PyCharmProjects/AOMA_Halogaland/koma/clustering.py:46: RuntimeWarning: invalid value encountered in divide\n",
      "  diff = (arr1-arr2)/scaling\n",
      "/var/folders/xg/ddkjb2x96w167hqnv_gjv_v40000gn/T/ipykernel_35796/1427197658.py:87: VisibleDeprecationWarning: Creating an ndarray from ragged nested sequences (which is a list-or-tuple of lists-or-tuples-or ndarrays with different lengths or shapes) is deprecated. If you meant to do this, you must specify 'dtype=object' when creating the ndarray.\n",
      "  stab_diag = stabilization_diagram(acc[j], fs, 2, (np.array(omega_n_auto)/2/np.pi), np.array(order_auto), all_freqs=np.abs(lambd_stab)/2/np.pi, all_orders=orders_stab)\n"
     ]
    },
    {
     "name": "stdout",
     "output_type": "stream",
     "text": [
      "Stabilization diagram executed in 0.18112802505493164\n",
      "Wind statistics executed in 0.0036559104919433594\n",
      "Time serie 3 of 16 done in 2.385453939437866 sec. Period 20 of 88 done. Number of skipped periods: 12.\n",
      "Cov-SSI executed in 2.1961281299591064\n",
      "HDBSCAN executed in 0.0437312126159668\n",
      "Post processing executed in 0.026894092559814453\n"
     ]
    },
    {
     "name": "stderr",
     "output_type": "stream",
     "text": [
      "/Users/emilneby/PyCharmProjects/AOMA_Halogaland/koma/clustering.py:46: RuntimeWarning: divide by zero encountered in divide\n",
      "  diff = (arr1-arr2)/scaling\n",
      "/Users/emilneby/PyCharmProjects/AOMA_Halogaland/koma/clustering.py:46: RuntimeWarning: invalid value encountered in divide\n",
      "  diff = (arr1-arr2)/scaling\n",
      "/var/folders/xg/ddkjb2x96w167hqnv_gjv_v40000gn/T/ipykernel_35796/1427197658.py:87: VisibleDeprecationWarning: Creating an ndarray from ragged nested sequences (which is a list-or-tuple of lists-or-tuples-or ndarrays with different lengths or shapes) is deprecated. If you meant to do this, you must specify 'dtype=object' when creating the ndarray.\n",
      "  stab_diag = stabilization_diagram(acc[j], fs, 2, (np.array(omega_n_auto)/2/np.pi), np.array(order_auto), all_freqs=np.abs(lambd_stab)/2/np.pi, all_orders=orders_stab)\n"
     ]
    },
    {
     "name": "stdout",
     "output_type": "stream",
     "text": [
      "Stabilization diagram executed in 0.19461607933044434\n",
      "Wind statistics executed in 0.003069162368774414\n",
      "Time serie 4 of 16 done in 2.6570188999176025 sec. Period 20 of 88 done. Number of skipped periods: 12.\n",
      "Cov-SSI executed in 2.0970749855041504\n",
      "HDBSCAN executed in 0.03865408897399902\n",
      "Post processing executed in 0.023735761642456055\n"
     ]
    },
    {
     "name": "stderr",
     "output_type": "stream",
     "text": [
      "/Users/emilneby/PyCharmProjects/AOMA_Halogaland/koma/clustering.py:46: RuntimeWarning: divide by zero encountered in divide\n",
      "  diff = (arr1-arr2)/scaling\n",
      "/Users/emilneby/PyCharmProjects/AOMA_Halogaland/koma/clustering.py:46: RuntimeWarning: invalid value encountered in divide\n",
      "  diff = (arr1-arr2)/scaling\n",
      "/var/folders/xg/ddkjb2x96w167hqnv_gjv_v40000gn/T/ipykernel_35796/1427197658.py:87: VisibleDeprecationWarning: Creating an ndarray from ragged nested sequences (which is a list-or-tuple of lists-or-tuples-or ndarrays with different lengths or shapes) is deprecated. If you meant to do this, you must specify 'dtype=object' when creating the ndarray.\n",
      "  stab_diag = stabilization_diagram(acc[j], fs, 2, (np.array(omega_n_auto)/2/np.pi), np.array(order_auto), all_freqs=np.abs(lambd_stab)/2/np.pi, all_orders=orders_stab)\n"
     ]
    },
    {
     "name": "stdout",
     "output_type": "stream",
     "text": [
      "Stabilization diagram executed in 0.18395018577575684\n",
      "Wind statistics executed in 0.002949953079223633\n",
      "Time serie 5 of 16 done in 2.5166878700256348 sec. Period 20 of 88 done. Number of skipped periods: 12.\n",
      "Cov-SSI executed in 1.874993085861206\n",
      "HDBSCAN executed in 0.04109311103820801\n"
     ]
    },
    {
     "name": "stderr",
     "output_type": "stream",
     "text": [
      "/Users/emilneby/PyCharmProjects/AOMA_Halogaland/koma/clustering.py:46: RuntimeWarning: divide by zero encountered in divide\n",
      "  diff = (arr1-arr2)/scaling\n",
      "/Users/emilneby/PyCharmProjects/AOMA_Halogaland/koma/clustering.py:46: RuntimeWarning: invalid value encountered in divide\n",
      "  diff = (arr1-arr2)/scaling\n",
      "/var/folders/xg/ddkjb2x96w167hqnv_gjv_v40000gn/T/ipykernel_35796/1427197658.py:87: VisibleDeprecationWarning: Creating an ndarray from ragged nested sequences (which is a list-or-tuple of lists-or-tuples-or ndarrays with different lengths or shapes) is deprecated. If you meant to do this, you must specify 'dtype=object' when creating the ndarray.\n",
      "  stab_diag = stabilization_diagram(acc[j], fs, 2, (np.array(omega_n_auto)/2/np.pi), np.array(order_auto), all_freqs=np.abs(lambd_stab)/2/np.pi, all_orders=orders_stab)\n"
     ]
    },
    {
     "name": "stdout",
     "output_type": "stream",
     "text": [
      "Post processing executed in 0.02651500701904297\n",
      "Stabilization diagram executed in 0.48169398307800293\n",
      "Wind statistics executed in 0.003036022186279297\n",
      "Time serie 6 of 16 done in 2.5927999019622803 sec. Period 20 of 88 done. Number of skipped periods: 12.\n",
      "Cov-SSI executed in 1.687148094177246\n",
      "HDBSCAN executed in 0.04741811752319336\n",
      "Post processing executed in 0.02269887924194336\n"
     ]
    },
    {
     "name": "stderr",
     "output_type": "stream",
     "text": [
      "/Users/emilneby/PyCharmProjects/AOMA_Halogaland/koma/clustering.py:46: RuntimeWarning: divide by zero encountered in divide\n",
      "  diff = (arr1-arr2)/scaling\n",
      "/Users/emilneby/PyCharmProjects/AOMA_Halogaland/koma/clustering.py:46: RuntimeWarning: invalid value encountered in divide\n",
      "  diff = (arr1-arr2)/scaling\n",
      "/var/folders/xg/ddkjb2x96w167hqnv_gjv_v40000gn/T/ipykernel_35796/1427197658.py:87: VisibleDeprecationWarning: Creating an ndarray from ragged nested sequences (which is a list-or-tuple of lists-or-tuples-or ndarrays with different lengths or shapes) is deprecated. If you meant to do this, you must specify 'dtype=object' when creating the ndarray.\n",
      "  stab_diag = stabilization_diagram(acc[j], fs, 2, (np.array(omega_n_auto)/2/np.pi), np.array(order_auto), all_freqs=np.abs(lambd_stab)/2/np.pi, all_orders=orders_stab)\n"
     ]
    },
    {
     "name": "stdout",
     "output_type": "stream",
     "text": [
      "Stabilization diagram executed in 0.18634605407714844\n",
      "Wind statistics executed in 0.009479999542236328\n",
      "Time serie 7 of 16 done in 2.141710042953491 sec. Period 20 of 88 done. Number of skipped periods: 12.\n",
      "Cov-SSI executed in 1.894759178161621\n",
      "HDBSCAN executed in 0.03580307960510254\n"
     ]
    },
    {
     "name": "stderr",
     "output_type": "stream",
     "text": [
      "/Users/emilneby/PyCharmProjects/AOMA_Halogaland/koma/clustering.py:46: RuntimeWarning: divide by zero encountered in divide\n",
      "  diff = (arr1-arr2)/scaling\n",
      "/Users/emilneby/PyCharmProjects/AOMA_Halogaland/koma/clustering.py:46: RuntimeWarning: invalid value encountered in divide\n",
      "  diff = (arr1-arr2)/scaling\n",
      "/var/folders/xg/ddkjb2x96w167hqnv_gjv_v40000gn/T/ipykernel_35796/1427197658.py:87: VisibleDeprecationWarning: Creating an ndarray from ragged nested sequences (which is a list-or-tuple of lists-or-tuples-or ndarrays with different lengths or shapes) is deprecated. If you meant to do this, you must specify 'dtype=object' when creating the ndarray.\n",
      "  stab_diag = stabilization_diagram(acc[j], fs, 2, (np.array(omega_n_auto)/2/np.pi), np.array(order_auto), all_freqs=np.abs(lambd_stab)/2/np.pi, all_orders=orders_stab)\n"
     ]
    },
    {
     "name": "stdout",
     "output_type": "stream",
     "text": [
      "Post processing executed in 0.02430891990661621\n",
      "Stabilization diagram executed in 0.18028020858764648\n",
      "Wind statistics executed in 0.002977132797241211\n",
      "Time serie 8 of 16 done in 2.3273119926452637 sec. Period 20 of 88 done. Number of skipped periods: 12.\n",
      "Cov-SSI executed in 1.295639991760254\n"
     ]
    },
    {
     "name": "stderr",
     "output_type": "stream",
     "text": [
      "/Users/emilneby/PyCharmProjects/AOMA_Halogaland/koma/clustering.py:46: RuntimeWarning: divide by zero encountered in divide\n",
      "  diff = (arr1-arr2)/scaling\n",
      "/Users/emilneby/PyCharmProjects/AOMA_Halogaland/koma/clustering.py:46: RuntimeWarning: invalid value encountered in divide\n",
      "  diff = (arr1-arr2)/scaling\n",
      "/var/folders/xg/ddkjb2x96w167hqnv_gjv_v40000gn/T/ipykernel_35796/1427197658.py:87: VisibleDeprecationWarning: Creating an ndarray from ragged nested sequences (which is a list-or-tuple of lists-or-tuples-or ndarrays with different lengths or shapes) is deprecated. If you meant to do this, you must specify 'dtype=object' when creating the ndarray.\n",
      "  stab_diag = stabilization_diagram(acc[j], fs, 2, (np.array(omega_n_auto)/2/np.pi), np.array(order_auto), all_freqs=np.abs(lambd_stab)/2/np.pi, all_orders=orders_stab)\n"
     ]
    },
    {
     "name": "stdout",
     "output_type": "stream",
     "text": [
      "HDBSCAN executed in 0.04144930839538574\n",
      "Post processing executed in 0.024898052215576172\n",
      "Stabilization diagram executed in 0.18255305290222168\n",
      "Wind statistics executed in 0.0028769969940185547\n",
      "Time serie 9 of 16 done in 1.708449125289917 sec. Period 20 of 88 done. Number of skipped periods: 12.\n",
      "Cov-SSI executed in 1.914200782775879\n",
      "HDBSCAN executed in 0.039958953857421875\n",
      "Post processing executed in 0.0232391357421875\n"
     ]
    },
    {
     "name": "stderr",
     "output_type": "stream",
     "text": [
      "/Users/emilneby/PyCharmProjects/AOMA_Halogaland/koma/clustering.py:46: RuntimeWarning: divide by zero encountered in divide\n",
      "  diff = (arr1-arr2)/scaling\n",
      "/Users/emilneby/PyCharmProjects/AOMA_Halogaland/koma/clustering.py:46: RuntimeWarning: invalid value encountered in divide\n",
      "  diff = (arr1-arr2)/scaling\n",
      "/var/folders/xg/ddkjb2x96w167hqnv_gjv_v40000gn/T/ipykernel_35796/1427197658.py:87: VisibleDeprecationWarning: Creating an ndarray from ragged nested sequences (which is a list-or-tuple of lists-or-tuples-or ndarrays with different lengths or shapes) is deprecated. If you meant to do this, you must specify 'dtype=object' when creating the ndarray.\n",
      "  stab_diag = stabilization_diagram(acc[j], fs, 2, (np.array(omega_n_auto)/2/np.pi), np.array(order_auto), all_freqs=np.abs(lambd_stab)/2/np.pi, all_orders=orders_stab)\n"
     ]
    },
    {
     "name": "stdout",
     "output_type": "stream",
     "text": [
      "Stabilization diagram executed in 0.17785286903381348\n",
      "Wind statistics executed in 0.002997159957885742\n",
      "Time serie 10 of 16 done in 2.3394289016723633 sec. Period 20 of 88 done. Number of skipped periods: 12.\n",
      "Cov-SSI executed in 1.340839147567749\n",
      "HDBSCAN executed in 0.03969168663024902\n",
      "Post processing executed in 0.02522897720336914\n"
     ]
    },
    {
     "name": "stderr",
     "output_type": "stream",
     "text": [
      "/Users/emilneby/PyCharmProjects/AOMA_Halogaland/koma/clustering.py:46: RuntimeWarning: divide by zero encountered in divide\n",
      "  diff = (arr1-arr2)/scaling\n",
      "/Users/emilneby/PyCharmProjects/AOMA_Halogaland/koma/clustering.py:46: RuntimeWarning: invalid value encountered in divide\n",
      "  diff = (arr1-arr2)/scaling\n",
      "/var/folders/xg/ddkjb2x96w167hqnv_gjv_v40000gn/T/ipykernel_35796/1427197658.py:87: VisibleDeprecationWarning: Creating an ndarray from ragged nested sequences (which is a list-or-tuple of lists-or-tuples-or ndarrays with different lengths or shapes) is deprecated. If you meant to do this, you must specify 'dtype=object' when creating the ndarray.\n",
      "  stab_diag = stabilization_diagram(acc[j], fs, 2, (np.array(omega_n_auto)/2/np.pi), np.array(order_auto), all_freqs=np.abs(lambd_stab)/2/np.pi, all_orders=orders_stab)\n"
     ]
    },
    {
     "name": "stdout",
     "output_type": "stream",
     "text": [
      "Stabilization diagram executed in 0.18013596534729004\n",
      "Wind statistics executed in 0.002977132797241211\n",
      "Time serie 11 of 16 done in 1.7857210636138916 sec. Period 20 of 88 done. Number of skipped periods: 12.\n",
      "Cov-SSI executed in 2.2124507427215576\n",
      "HDBSCAN executed in 0.04030585289001465\n",
      "Post processing executed in 0.024323701858520508\n"
     ]
    },
    {
     "name": "stderr",
     "output_type": "stream",
     "text": [
      "/Users/emilneby/PyCharmProjects/AOMA_Halogaland/koma/clustering.py:46: RuntimeWarning: divide by zero encountered in divide\n",
      "  diff = (arr1-arr2)/scaling\n",
      "/Users/emilneby/PyCharmProjects/AOMA_Halogaland/koma/clustering.py:46: RuntimeWarning: invalid value encountered in divide\n",
      "  diff = (arr1-arr2)/scaling\n",
      "/var/folders/xg/ddkjb2x96w167hqnv_gjv_v40000gn/T/ipykernel_35796/1427197658.py:87: VisibleDeprecationWarning: Creating an ndarray from ragged nested sequences (which is a list-or-tuple of lists-or-tuples-or ndarrays with different lengths or shapes) is deprecated. If you meant to do this, you must specify 'dtype=object' when creating the ndarray.\n",
      "  stab_diag = stabilization_diagram(acc[j], fs, 2, (np.array(omega_n_auto)/2/np.pi), np.array(order_auto), all_freqs=np.abs(lambd_stab)/2/np.pi, all_orders=orders_stab)\n"
     ]
    },
    {
     "name": "stdout",
     "output_type": "stream",
     "text": [
      "Stabilization diagram executed in 0.17618203163146973\n",
      "Wind statistics executed in 0.002989053726196289\n",
      "Time serie 12 of 16 done in 2.6496968269348145 sec. Period 20 of 88 done. Number of skipped periods: 12.\n",
      "Cov-SSI executed in 1.9637408256530762\n",
      "HDBSCAN executed in 0.03948688507080078\n",
      "Post processing executed in 0.02644205093383789\n"
     ]
    },
    {
     "name": "stderr",
     "output_type": "stream",
     "text": [
      "/Users/emilneby/PyCharmProjects/AOMA_Halogaland/koma/clustering.py:46: RuntimeWarning: divide by zero encountered in divide\n",
      "  diff = (arr1-arr2)/scaling\n",
      "/Users/emilneby/PyCharmProjects/AOMA_Halogaland/koma/clustering.py:46: RuntimeWarning: invalid value encountered in divide\n",
      "  diff = (arr1-arr2)/scaling\n",
      "/var/folders/xg/ddkjb2x96w167hqnv_gjv_v40000gn/T/ipykernel_35796/1427197658.py:87: VisibleDeprecationWarning: Creating an ndarray from ragged nested sequences (which is a list-or-tuple of lists-or-tuples-or ndarrays with different lengths or shapes) is deprecated. If you meant to do this, you must specify 'dtype=object' when creating the ndarray.\n",
      "  stab_diag = stabilization_diagram(acc[j], fs, 2, (np.array(omega_n_auto)/2/np.pi), np.array(order_auto), all_freqs=np.abs(lambd_stab)/2/np.pi, all_orders=orders_stab)\n"
     ]
    },
    {
     "name": "stdout",
     "output_type": "stream",
     "text": [
      "Stabilization diagram executed in 0.18054986000061035\n",
      "Wind statistics executed in 0.0030069351196289062\n",
      "Time serie 13 of 16 done in 2.408442974090576 sec. Period 20 of 88 done. Number of skipped periods: 12.\n",
      "Cov-SSI executed in 1.699774980545044\n",
      "HDBSCAN executed in 0.028156042098999023\n",
      "Post processing executed in 0.01876211166381836\n"
     ]
    },
    {
     "name": "stderr",
     "output_type": "stream",
     "text": [
      "/Users/emilneby/PyCharmProjects/AOMA_Halogaland/koma/clustering.py:46: RuntimeWarning: divide by zero encountered in divide\n",
      "  diff = (arr1-arr2)/scaling\n",
      "/Users/emilneby/PyCharmProjects/AOMA_Halogaland/koma/clustering.py:46: RuntimeWarning: invalid value encountered in divide\n",
      "  diff = (arr1-arr2)/scaling\n",
      "/var/folders/xg/ddkjb2x96w167hqnv_gjv_v40000gn/T/ipykernel_35796/1427197658.py:87: VisibleDeprecationWarning: Creating an ndarray from ragged nested sequences (which is a list-or-tuple of lists-or-tuples-or ndarrays with different lengths or shapes) is deprecated. If you meant to do this, you must specify 'dtype=object' when creating the ndarray.\n",
      "  stab_diag = stabilization_diagram(acc[j], fs, 2, (np.array(omega_n_auto)/2/np.pi), np.array(order_auto), all_freqs=np.abs(lambd_stab)/2/np.pi, all_orders=orders_stab)\n"
     ]
    },
    {
     "name": "stdout",
     "output_type": "stream",
     "text": [
      "Stabilization diagram executed in 0.19008684158325195\n",
      "Wind statistics executed in 0.0028328895568847656\n",
      "Time serie 14 of 16 done in 2.109997034072876 sec. Period 20 of 88 done. Number of skipped periods: 12.\n",
      "Cov-SSI executed in 1.9302082061767578\n",
      "HDBSCAN executed in 0.03178715705871582\n",
      "Post processing executed in 0.020946979522705078\n"
     ]
    },
    {
     "name": "stderr",
     "output_type": "stream",
     "text": [
      "/var/folders/xg/ddkjb2x96w167hqnv_gjv_v40000gn/T/ipykernel_35796/1427197658.py:87: VisibleDeprecationWarning: Creating an ndarray from ragged nested sequences (which is a list-or-tuple of lists-or-tuples-or ndarrays with different lengths or shapes) is deprecated. If you meant to do this, you must specify 'dtype=object' when creating the ndarray.\n",
      "  stab_diag = stabilization_diagram(acc[j], fs, 2, (np.array(omega_n_auto)/2/np.pi), np.array(order_auto), all_freqs=np.abs(lambd_stab)/2/np.pi, all_orders=orders_stab)\n"
     ]
    },
    {
     "name": "stdout",
     "output_type": "stream",
     "text": [
      "Stabilization diagram executed in 0.1810901165008545\n",
      "Wind statistics executed in 0.0029430389404296875\n",
      "Time serie 15 of 16 done in 2.3105549812316895 sec. Period 20 of 88 done. Number of skipped periods: 12.\n",
      "Cov-SSI executed in 1.8803987503051758\n",
      "HDBSCAN executed in 0.04106497764587402\n",
      "Post processing executed in 0.025168180465698242\n",
      "Stabilization diagram executed in 0.18744778633117676\n",
      "Wind statistics executed in 0.0029969215393066406\n",
      "Time serie 16 of 16 done in 2.296226739883423 sec. Period 20 of 88 done. Number of skipped periods: 12.\n"
     ]
    },
    {
     "name": "stderr",
     "output_type": "stream",
     "text": [
      "/var/folders/xg/ddkjb2x96w167hqnv_gjv_v40000gn/T/ipykernel_35796/1427197658.py:87: VisibleDeprecationWarning: Creating an ndarray from ragged nested sequences (which is a list-or-tuple of lists-or-tuples-or ndarrays with different lengths or shapes) is deprecated. If you meant to do this, you must specify 'dtype=object' when creating the ndarray.\n",
      "  stab_diag = stabilization_diagram(acc[j], fs, 2, (np.array(omega_n_auto)/2/np.pi), np.array(order_auto), all_freqs=np.abs(lambd_stab)/2/np.pi, all_orders=orders_stab)\n"
     ]
    },
    {
     "name": "stdout",
     "output_type": "stream",
     "text": [
      "Cov-SSI executed in 1.8911807537078857\n",
      "HDBSCAN executed in 0.03664731979370117\n",
      "Post processing executed in 0.023790836334228516\n"
     ]
    },
    {
     "name": "stderr",
     "output_type": "stream",
     "text": [
      "/Users/emilneby/PyCharmProjects/AOMA_Halogaland/koma/clustering.py:46: RuntimeWarning: divide by zero encountered in divide\n",
      "  diff = (arr1-arr2)/scaling\n",
      "/Users/emilneby/PyCharmProjects/AOMA_Halogaland/koma/clustering.py:46: RuntimeWarning: invalid value encountered in divide\n",
      "  diff = (arr1-arr2)/scaling\n",
      "/var/folders/xg/ddkjb2x96w167hqnv_gjv_v40000gn/T/ipykernel_35796/1427197658.py:87: VisibleDeprecationWarning: Creating an ndarray from ragged nested sequences (which is a list-or-tuple of lists-or-tuples-or ndarrays with different lengths or shapes) is deprecated. If you meant to do this, you must specify 'dtype=object' when creating the ndarray.\n",
      "  stab_diag = stabilization_diagram(acc[j], fs, 2, (np.array(omega_n_auto)/2/np.pi), np.array(order_auto), all_freqs=np.abs(lambd_stab)/2/np.pi, all_orders=orders_stab)\n"
     ]
    },
    {
     "name": "stdout",
     "output_type": "stream",
     "text": [
      "Stabilization diagram executed in 0.1845388412475586\n",
      "Wind statistics executed in 0.013699054718017578\n",
      "Time serie 1 of 16 done in 2.3286218643188477 sec. Period 21 of 88 done. Number of skipped periods: 12.\n",
      "Cov-SSI executed in 1.9591469764709473\n",
      "HDBSCAN executed in 0.046286821365356445\n",
      "Post processing executed in 0.025053977966308594\n"
     ]
    },
    {
     "name": "stderr",
     "output_type": "stream",
     "text": [
      "/var/folders/xg/ddkjb2x96w167hqnv_gjv_v40000gn/T/ipykernel_35796/1427197658.py:87: VisibleDeprecationWarning: Creating an ndarray from ragged nested sequences (which is a list-or-tuple of lists-or-tuples-or ndarrays with different lengths or shapes) is deprecated. If you meant to do this, you must specify 'dtype=object' when creating the ndarray.\n",
      "  stab_diag = stabilization_diagram(acc[j], fs, 2, (np.array(omega_n_auto)/2/np.pi), np.array(order_auto), all_freqs=np.abs(lambd_stab)/2/np.pi, all_orders=orders_stab)\n"
     ]
    },
    {
     "name": "stdout",
     "output_type": "stream",
     "text": [
      "Stabilization diagram executed in 0.19095969200134277\n",
      "Wind statistics executed in 0.003074169158935547\n",
      "Time serie 2 of 16 done in 2.41363787651062 sec. Period 21 of 88 done. Number of skipped periods: 12.\n",
      "Cov-SSI executed in 1.9335601329803467\n",
      "HDBSCAN executed in 0.04808807373046875\n",
      "Post processing executed in 0.027299165725708008\n"
     ]
    },
    {
     "name": "stderr",
     "output_type": "stream",
     "text": [
      "/var/folders/xg/ddkjb2x96w167hqnv_gjv_v40000gn/T/ipykernel_35796/1427197658.py:87: VisibleDeprecationWarning: Creating an ndarray from ragged nested sequences (which is a list-or-tuple of lists-or-tuples-or ndarrays with different lengths or shapes) is deprecated. If you meant to do this, you must specify 'dtype=object' when creating the ndarray.\n",
      "  stab_diag = stabilization_diagram(acc[j], fs, 2, (np.array(omega_n_auto)/2/np.pi), np.array(order_auto), all_freqs=np.abs(lambd_stab)/2/np.pi, all_orders=orders_stab)\n"
     ]
    },
    {
     "name": "stdout",
     "output_type": "stream",
     "text": [
      "Stabilization diagram executed in 0.18641901016235352\n",
      "Wind statistics executed in 0.0029802322387695312\n",
      "Time serie 3 of 16 done in 2.4009451866149902 sec. Period 21 of 88 done. Number of skipped periods: 12.\n",
      "Cov-SSI executed in 1.1805589199066162\n",
      "HDBSCAN executed in 0.03348803520202637\n",
      "Post processing executed in 0.022927045822143555\n"
     ]
    },
    {
     "name": "stderr",
     "output_type": "stream",
     "text": [
      "/Users/emilneby/PyCharmProjects/AOMA_Halogaland/koma/clustering.py:46: RuntimeWarning: divide by zero encountered in divide\n",
      "  diff = (arr1-arr2)/scaling\n",
      "/Users/emilneby/PyCharmProjects/AOMA_Halogaland/koma/clustering.py:46: RuntimeWarning: invalid value encountered in divide\n",
      "  diff = (arr1-arr2)/scaling\n",
      "/var/folders/xg/ddkjb2x96w167hqnv_gjv_v40000gn/T/ipykernel_35796/1427197658.py:87: VisibleDeprecationWarning: Creating an ndarray from ragged nested sequences (which is a list-or-tuple of lists-or-tuples-or ndarrays with different lengths or shapes) is deprecated. If you meant to do this, you must specify 'dtype=object' when creating the ndarray.\n",
      "  stab_diag = stabilization_diagram(acc[j], fs, 2, (np.array(omega_n_auto)/2/np.pi), np.array(order_auto), all_freqs=np.abs(lambd_stab)/2/np.pi, all_orders=orders_stab)\n"
     ]
    },
    {
     "name": "stdout",
     "output_type": "stream",
     "text": [
      "Stabilization diagram executed in 0.18216800689697266\n",
      "Wind statistics executed in 0.0031609535217285156\n",
      "Time serie 4 of 16 done in 1.6017868518829346 sec. Period 21 of 88 done. Number of skipped periods: 12.\n",
      "Cov-SSI executed in 1.9227848052978516\n",
      "HDBSCAN executed in 0.05214381217956543\n",
      "Post processing executed in 0.02660202980041504\n"
     ]
    },
    {
     "name": "stderr",
     "output_type": "stream",
     "text": [
      "/Users/emilneby/PyCharmProjects/AOMA_Halogaland/koma/clustering.py:46: RuntimeWarning: divide by zero encountered in divide\n",
      "  diff = (arr1-arr2)/scaling\n",
      "/Users/emilneby/PyCharmProjects/AOMA_Halogaland/koma/clustering.py:46: RuntimeWarning: invalid value encountered in divide\n",
      "  diff = (arr1-arr2)/scaling\n",
      "/var/folders/xg/ddkjb2x96w167hqnv_gjv_v40000gn/T/ipykernel_35796/1427197658.py:87: VisibleDeprecationWarning: Creating an ndarray from ragged nested sequences (which is a list-or-tuple of lists-or-tuples-or ndarrays with different lengths or shapes) is deprecated. If you meant to do this, you must specify 'dtype=object' when creating the ndarray.\n",
      "  stab_diag = stabilization_diagram(acc[j], fs, 2, (np.array(omega_n_auto)/2/np.pi), np.array(order_auto), all_freqs=np.abs(lambd_stab)/2/np.pi, all_orders=orders_stab)\n"
     ]
    },
    {
     "name": "stdout",
     "output_type": "stream",
     "text": [
      "Stabilization diagram executed in 0.1872572898864746\n",
      "Wind statistics executed in 0.0028090476989746094\n",
      "Time serie 5 of 16 done in 2.394835948944092 sec. Period 21 of 88 done. Number of skipped periods: 12.\n",
      "Cov-SSI executed in 1.4691698551177979\n"
     ]
    },
    {
     "name": "stderr",
     "output_type": "stream",
     "text": [
      "/Users/emilneby/PyCharmProjects/AOMA_Halogaland/koma/clustering.py:46: RuntimeWarning: divide by zero encountered in divide\n",
      "  diff = (arr1-arr2)/scaling\n",
      "/Users/emilneby/PyCharmProjects/AOMA_Halogaland/koma/clustering.py:46: RuntimeWarning: invalid value encountered in divide\n",
      "  diff = (arr1-arr2)/scaling\n",
      "/var/folders/xg/ddkjb2x96w167hqnv_gjv_v40000gn/T/ipykernel_35796/1427197658.py:87: VisibleDeprecationWarning: Creating an ndarray from ragged nested sequences (which is a list-or-tuple of lists-or-tuples-or ndarrays with different lengths or shapes) is deprecated. If you meant to do this, you must specify 'dtype=object' when creating the ndarray.\n",
      "  stab_diag = stabilization_diagram(acc[j], fs, 2, (np.array(omega_n_auto)/2/np.pi), np.array(order_auto), all_freqs=np.abs(lambd_stab)/2/np.pi, all_orders=orders_stab)\n"
     ]
    },
    {
     "name": "stdout",
     "output_type": "stream",
     "text": [
      "HDBSCAN executed in 0.041220903396606445\n",
      "Post processing executed in 0.02445507049560547\n",
      "Stabilization diagram executed in 0.17836904525756836\n",
      "Wind statistics executed in 0.0029048919677734375\n",
      "Time serie 6 of 16 done in 1.8821046352386475 sec. Period 21 of 88 done. Number of skipped periods: 12.\n",
      "Cov-SSI executed in 2.0858702659606934\n",
      "HDBSCAN executed in 0.04828786849975586\n",
      "Post processing executed in 0.028749942779541016\n"
     ]
    },
    {
     "name": "stderr",
     "output_type": "stream",
     "text": [
      "/Users/emilneby/PyCharmProjects/AOMA_Halogaland/koma/clustering.py:46: RuntimeWarning: divide by zero encountered in divide\n",
      "  diff = (arr1-arr2)/scaling\n",
      "/Users/emilneby/PyCharmProjects/AOMA_Halogaland/koma/clustering.py:46: RuntimeWarning: invalid value encountered in divide\n",
      "  diff = (arr1-arr2)/scaling\n",
      "/var/folders/xg/ddkjb2x96w167hqnv_gjv_v40000gn/T/ipykernel_35796/1427197658.py:87: VisibleDeprecationWarning: Creating an ndarray from ragged nested sequences (which is a list-or-tuple of lists-or-tuples-or ndarrays with different lengths or shapes) is deprecated. If you meant to do this, you must specify 'dtype=object' when creating the ndarray.\n",
      "  stab_diag = stabilization_diagram(acc[j], fs, 2, (np.array(omega_n_auto)/2/np.pi), np.array(order_auto), all_freqs=np.abs(lambd_stab)/2/np.pi, all_orders=orders_stab)\n"
     ]
    },
    {
     "name": "stdout",
     "output_type": "stream",
     "text": [
      "Stabilization diagram executed in 0.18354582786560059\n",
      "Wind statistics executed in 0.002655029296875\n",
      "Time serie 7 of 16 done in 2.5530760288238525 sec. Period 21 of 88 done. Number of skipped periods: 12.\n",
      "Cov-SSI executed in 2.1583452224731445\n",
      "HDBSCAN executed in 0.039665937423706055\n",
      "Post processing executed in 0.02405714988708496\n"
     ]
    },
    {
     "name": "stderr",
     "output_type": "stream",
     "text": [
      "/Users/emilneby/PyCharmProjects/AOMA_Halogaland/koma/clustering.py:46: RuntimeWarning: divide by zero encountered in divide\n",
      "  diff = (arr1-arr2)/scaling\n",
      "/Users/emilneby/PyCharmProjects/AOMA_Halogaland/koma/clustering.py:46: RuntimeWarning: invalid value encountered in divide\n",
      "  diff = (arr1-arr2)/scaling\n",
      "/var/folders/xg/ddkjb2x96w167hqnv_gjv_v40000gn/T/ipykernel_35796/1427197658.py:87: VisibleDeprecationWarning: Creating an ndarray from ragged nested sequences (which is a list-or-tuple of lists-or-tuples-or ndarrays with different lengths or shapes) is deprecated. If you meant to do this, you must specify 'dtype=object' when creating the ndarray.\n",
      "  stab_diag = stabilization_diagram(acc[j], fs, 2, (np.array(omega_n_auto)/2/np.pi), np.array(order_auto), all_freqs=np.abs(lambd_stab)/2/np.pi, all_orders=orders_stab)\n"
     ]
    },
    {
     "name": "stdout",
     "output_type": "stream",
     "text": [
      "Stabilization diagram executed in 0.183258056640625\n",
      "Wind statistics executed in 0.0029730796813964844\n",
      "Time serie 8 of 16 done in 2.6019392013549805 sec. Period 21 of 88 done. Number of skipped periods: 12.\n",
      "Cov-SSI executed in 2.1876559257507324\n",
      "HDBSCAN executed in 0.035952091217041016\n",
      "Post processing executed in 0.02349686622619629\n"
     ]
    },
    {
     "name": "stderr",
     "output_type": "stream",
     "text": [
      "/Users/emilneby/PyCharmProjects/AOMA_Halogaland/koma/clustering.py:46: RuntimeWarning: divide by zero encountered in divide\n",
      "  diff = (arr1-arr2)/scaling\n",
      "/Users/emilneby/PyCharmProjects/AOMA_Halogaland/koma/clustering.py:46: RuntimeWarning: invalid value encountered in divide\n",
      "  diff = (arr1-arr2)/scaling\n",
      "/var/folders/xg/ddkjb2x96w167hqnv_gjv_v40000gn/T/ipykernel_35796/1427197658.py:87: VisibleDeprecationWarning: Creating an ndarray from ragged nested sequences (which is a list-or-tuple of lists-or-tuples-or ndarrays with different lengths or shapes) is deprecated. If you meant to do this, you must specify 'dtype=object' when creating the ndarray.\n",
      "  stab_diag = stabilization_diagram(acc[j], fs, 2, (np.array(omega_n_auto)/2/np.pi), np.array(order_auto), all_freqs=np.abs(lambd_stab)/2/np.pi, all_orders=orders_stab)\n"
     ]
    },
    {
     "name": "stdout",
     "output_type": "stream",
     "text": [
      "Stabilization diagram executed in 0.18711495399475098\n",
      "Wind statistics executed in 0.0027608871459960938\n",
      "Time serie 9 of 16 done in 2.6261651515960693 sec. Period 21 of 88 done. Number of skipped periods: 12.\n",
      "Cov-SSI executed in 1.9617199897766113\n",
      "HDBSCAN executed in 0.03702998161315918\n",
      "Post processing executed in 0.023277997970581055\n"
     ]
    },
    {
     "name": "stderr",
     "output_type": "stream",
     "text": [
      "/Users/emilneby/PyCharmProjects/AOMA_Halogaland/koma/clustering.py:46: RuntimeWarning: divide by zero encountered in divide\n",
      "  diff = (arr1-arr2)/scaling\n",
      "/Users/emilneby/PyCharmProjects/AOMA_Halogaland/koma/clustering.py:46: RuntimeWarning: invalid value encountered in divide\n",
      "  diff = (arr1-arr2)/scaling\n",
      "/var/folders/xg/ddkjb2x96w167hqnv_gjv_v40000gn/T/ipykernel_35796/1427197658.py:87: VisibleDeprecationWarning: Creating an ndarray from ragged nested sequences (which is a list-or-tuple of lists-or-tuples-or ndarrays with different lengths or shapes) is deprecated. If you meant to do this, you must specify 'dtype=object' when creating the ndarray.\n",
      "  stab_diag = stabilization_diagram(acc[j], fs, 2, (np.array(omega_n_auto)/2/np.pi), np.array(order_auto), all_freqs=np.abs(lambd_stab)/2/np.pi, all_orders=orders_stab)\n"
     ]
    },
    {
     "name": "stdout",
     "output_type": "stream",
     "text": [
      "Stabilization diagram executed in 0.18438506126403809\n",
      "Wind statistics executed in 0.0026960372924804688\n",
      "Time serie 10 of 16 done in 2.3638110160827637 sec. Period 21 of 88 done. Number of skipped periods: 12.\n",
      "Cov-SSI executed in 1.7866508960723877\n",
      "HDBSCAN executed in 0.030958175659179688\n",
      "Post processing executed in 0.02099132537841797\n"
     ]
    },
    {
     "name": "stderr",
     "output_type": "stream",
     "text": [
      "/Users/emilneby/PyCharmProjects/AOMA_Halogaland/koma/clustering.py:46: RuntimeWarning: divide by zero encountered in divide\n",
      "  diff = (arr1-arr2)/scaling\n",
      "/Users/emilneby/PyCharmProjects/AOMA_Halogaland/koma/clustering.py:46: RuntimeWarning: invalid value encountered in divide\n",
      "  diff = (arr1-arr2)/scaling\n",
      "/var/folders/xg/ddkjb2x96w167hqnv_gjv_v40000gn/T/ipykernel_35796/1427197658.py:87: VisibleDeprecationWarning: Creating an ndarray from ragged nested sequences (which is a list-or-tuple of lists-or-tuples-or ndarrays with different lengths or shapes) is deprecated. If you meant to do this, you must specify 'dtype=object' when creating the ndarray.\n",
      "  stab_diag = stabilization_diagram(acc[j], fs, 2, (np.array(omega_n_auto)/2/np.pi), np.array(order_auto), all_freqs=np.abs(lambd_stab)/2/np.pi, all_orders=orders_stab)\n"
     ]
    },
    {
     "name": "stdout",
     "output_type": "stream",
     "text": [
      "Stabilization diagram executed in 0.18164777755737305\n",
      "Wind statistics executed in 0.0028638839721679688\n",
      "Time serie 11 of 16 done in 2.206312894821167 sec. Period 21 of 88 done. Number of skipped periods: 12.\n",
      "Cov-SSI executed in 1.89382004737854\n",
      "HDBSCAN executed in 0.032296180725097656\n",
      "Post processing executed in 0.021500825881958008\n"
     ]
    },
    {
     "name": "stderr",
     "output_type": "stream",
     "text": [
      "/Users/emilneby/PyCharmProjects/AOMA_Halogaland/koma/clustering.py:46: RuntimeWarning: divide by zero encountered in divide\n",
      "  diff = (arr1-arr2)/scaling\n",
      "/Users/emilneby/PyCharmProjects/AOMA_Halogaland/koma/clustering.py:46: RuntimeWarning: invalid value encountered in divide\n",
      "  diff = (arr1-arr2)/scaling\n",
      "/var/folders/xg/ddkjb2x96w167hqnv_gjv_v40000gn/T/ipykernel_35796/1427197658.py:87: VisibleDeprecationWarning: Creating an ndarray from ragged nested sequences (which is a list-or-tuple of lists-or-tuples-or ndarrays with different lengths or shapes) is deprecated. If you meant to do this, you must specify 'dtype=object' when creating the ndarray.\n",
      "  stab_diag = stabilization_diagram(acc[j], fs, 2, (np.array(omega_n_auto)/2/np.pi), np.array(order_auto), all_freqs=np.abs(lambd_stab)/2/np.pi, all_orders=orders_stab)\n"
     ]
    },
    {
     "name": "stdout",
     "output_type": "stream",
     "text": [
      "Stabilization diagram executed in 0.17913222312927246\n",
      "Wind statistics executed in 0.002966165542602539\n",
      "Time serie 12 of 16 done in 2.3186068534851074 sec. Period 21 of 88 done. Number of skipped periods: 12.\n",
      "Cov-SSI executed in 1.8753178119659424\n",
      "HDBSCAN executed in 0.03703904151916504\n",
      "Post processing executed in 0.0223388671875\n"
     ]
    },
    {
     "name": "stderr",
     "output_type": "stream",
     "text": [
      "/Users/emilneby/PyCharmProjects/AOMA_Halogaland/koma/clustering.py:46: RuntimeWarning: divide by zero encountered in divide\n",
      "  diff = (arr1-arr2)/scaling\n",
      "/Users/emilneby/PyCharmProjects/AOMA_Halogaland/koma/clustering.py:46: RuntimeWarning: invalid value encountered in divide\n",
      "  diff = (arr1-arr2)/scaling\n",
      "/var/folders/xg/ddkjb2x96w167hqnv_gjv_v40000gn/T/ipykernel_35796/1427197658.py:87: VisibleDeprecationWarning: Creating an ndarray from ragged nested sequences (which is a list-or-tuple of lists-or-tuples-or ndarrays with different lengths or shapes) is deprecated. If you meant to do this, you must specify 'dtype=object' when creating the ndarray.\n",
      "  stab_diag = stabilization_diagram(acc[j], fs, 2, (np.array(omega_n_auto)/2/np.pi), np.array(order_auto), all_freqs=np.abs(lambd_stab)/2/np.pi, all_orders=orders_stab)\n"
     ]
    },
    {
     "name": "stdout",
     "output_type": "stream",
     "text": [
      "Stabilization diagram executed in 0.1811070442199707\n",
      "Wind statistics executed in 0.0028579235076904297\n",
      "Time serie 13 of 16 done in 2.2935502529144287 sec. Period 21 of 88 done. Number of skipped periods: 12.\n",
      "Cov-SSI executed in 1.492478847503662\n"
     ]
    },
    {
     "name": "stderr",
     "output_type": "stream",
     "text": [
      "/Users/emilneby/PyCharmProjects/AOMA_Halogaland/koma/clustering.py:46: RuntimeWarning: divide by zero encountered in divide\n",
      "  diff = (arr1-arr2)/scaling\n",
      "/Users/emilneby/PyCharmProjects/AOMA_Halogaland/koma/clustering.py:46: RuntimeWarning: invalid value encountered in divide\n",
      "  diff = (arr1-arr2)/scaling\n",
      "/var/folders/xg/ddkjb2x96w167hqnv_gjv_v40000gn/T/ipykernel_35796/1427197658.py:87: VisibleDeprecationWarning: Creating an ndarray from ragged nested sequences (which is a list-or-tuple of lists-or-tuples-or ndarrays with different lengths or shapes) is deprecated. If you meant to do this, you must specify 'dtype=object' when creating the ndarray.\n",
      "  stab_diag = stabilization_diagram(acc[j], fs, 2, (np.array(omega_n_auto)/2/np.pi), np.array(order_auto), all_freqs=np.abs(lambd_stab)/2/np.pi, all_orders=orders_stab)\n"
     ]
    },
    {
     "name": "stdout",
     "output_type": "stream",
     "text": [
      "HDBSCAN executed in 0.04264330863952637\n",
      "Post processing executed in 0.025264978408813477\n",
      "Stabilization diagram executed in 0.18091106414794922\n",
      "Wind statistics executed in 0.0025811195373535156\n",
      "Time serie 14 of 16 done in 1.9148848056793213 sec. Period 21 of 88 done. Number of skipped periods: 12.\n",
      "Cov-SSI executed in 1.9180700778961182\n",
      "HDBSCAN executed in 0.053440093994140625\n",
      "Post processing executed in 0.027161121368408203\n"
     ]
    },
    {
     "name": "stderr",
     "output_type": "stream",
     "text": [
      "/var/folders/xg/ddkjb2x96w167hqnv_gjv_v40000gn/T/ipykernel_35796/1427197658.py:87: VisibleDeprecationWarning: Creating an ndarray from ragged nested sequences (which is a list-or-tuple of lists-or-tuples-or ndarrays with different lengths or shapes) is deprecated. If you meant to do this, you must specify 'dtype=object' when creating the ndarray.\n",
      "  stab_diag = stabilization_diagram(acc[j], fs, 2, (np.array(omega_n_auto)/2/np.pi), np.array(order_auto), all_freqs=np.abs(lambd_stab)/2/np.pi, all_orders=orders_stab)\n"
     ]
    },
    {
     "name": "stdout",
     "output_type": "stream",
     "text": [
      "Stabilization diagram executed in 0.1871168613433838\n",
      "Wind statistics executed in 0.0028760433197021484\n",
      "Time serie 15 of 16 done in 2.3972420692443848 sec. Period 21 of 88 done. Number of skipped periods: 12.\n",
      "Cov-SSI executed in 2.555433988571167\n",
      "HDBSCAN executed in 0.028982162475585938\n",
      "Post processing executed in 0.018767833709716797\n"
     ]
    },
    {
     "name": "stderr",
     "output_type": "stream",
     "text": [
      "/var/folders/xg/ddkjb2x96w167hqnv_gjv_v40000gn/T/ipykernel_35796/1427197658.py:87: VisibleDeprecationWarning: Creating an ndarray from ragged nested sequences (which is a list-or-tuple of lists-or-tuples-or ndarrays with different lengths or shapes) is deprecated. If you meant to do this, you must specify 'dtype=object' when creating the ndarray.\n",
      "  stab_diag = stabilization_diagram(acc[j], fs, 2, (np.array(omega_n_auto)/2/np.pi), np.array(order_auto), all_freqs=np.abs(lambd_stab)/2/np.pi, all_orders=orders_stab)\n"
     ]
    },
    {
     "name": "stdout",
     "output_type": "stream",
     "text": [
      "Stabilization diagram executed in 0.18471312522888184\n",
      "Wind statistics executed in 0.002769947052001953\n",
      "Time serie 16 of 16 done in 2.9520699977874756 sec. Period 21 of 88 done. Number of skipped periods: 12.\n",
      "Cov-SSI executed in 1.8935348987579346\n",
      "HDBSCAN executed in 0.03533315658569336\n",
      "Post processing executed in 0.02290201187133789\n"
     ]
    },
    {
     "name": "stderr",
     "output_type": "stream",
     "text": [
      "/Users/emilneby/PyCharmProjects/AOMA_Halogaland/koma/clustering.py:46: RuntimeWarning: divide by zero encountered in divide\n",
      "  diff = (arr1-arr2)/scaling\n",
      "/Users/emilneby/PyCharmProjects/AOMA_Halogaland/koma/clustering.py:46: RuntimeWarning: invalid value encountered in divide\n",
      "  diff = (arr1-arr2)/scaling\n",
      "/var/folders/xg/ddkjb2x96w167hqnv_gjv_v40000gn/T/ipykernel_35796/1427197658.py:87: VisibleDeprecationWarning: Creating an ndarray from ragged nested sequences (which is a list-or-tuple of lists-or-tuples-or ndarrays with different lengths or shapes) is deprecated. If you meant to do this, you must specify 'dtype=object' when creating the ndarray.\n",
      "  stab_diag = stabilization_diagram(acc[j], fs, 2, (np.array(omega_n_auto)/2/np.pi), np.array(order_auto), all_freqs=np.abs(lambd_stab)/2/np.pi, all_orders=orders_stab)\n"
     ]
    },
    {
     "name": "stdout",
     "output_type": "stream",
     "text": [
      "Stabilization diagram executed in 0.18061304092407227\n",
      "Wind statistics executed in 0.013628005981445312\n",
      "Time serie 1 of 16 done in 2.32511305809021 sec. Period 22 of 88 done. Number of skipped periods: 12.\n",
      "Cov-SSI executed in 2.0344178676605225\n"
     ]
    },
    {
     "name": "stderr",
     "output_type": "stream",
     "text": [
      "/Users/emilneby/PyCharmProjects/AOMA_Halogaland/koma/clustering.py:46: RuntimeWarning: divide by zero encountered in divide\n",
      "  diff = (arr1-arr2)/scaling\n",
      "/Users/emilneby/PyCharmProjects/AOMA_Halogaland/koma/clustering.py:46: RuntimeWarning: invalid value encountered in divide\n",
      "  diff = (arr1-arr2)/scaling\n",
      "/var/folders/xg/ddkjb2x96w167hqnv_gjv_v40000gn/T/ipykernel_35796/1427197658.py:87: VisibleDeprecationWarning: Creating an ndarray from ragged nested sequences (which is a list-or-tuple of lists-or-tuples-or ndarrays with different lengths or shapes) is deprecated. If you meant to do this, you must specify 'dtype=object' when creating the ndarray.\n",
      "  stab_diag = stabilization_diagram(acc[j], fs, 2, (np.array(omega_n_auto)/2/np.pi), np.array(order_auto), all_freqs=np.abs(lambd_stab)/2/np.pi, all_orders=orders_stab)\n"
     ]
    },
    {
     "name": "stdout",
     "output_type": "stream",
     "text": [
      "HDBSCAN executed in 0.051271915435791016\n",
      "Post processing executed in 0.03005194664001465\n",
      "Stabilization diagram executed in 0.18954110145568848\n",
      "Wind statistics executed in 0.002913951873779297\n",
      "Time serie 2 of 16 done in 2.4857118129730225 sec. Period 22 of 88 done. Number of skipped periods: 12.\n",
      "Cov-SSI executed in 1.6649401187896729\n",
      "HDBSCAN executed in 0.04463505744934082\n"
     ]
    },
    {
     "name": "stderr",
     "output_type": "stream",
     "text": [
      "/Users/emilneby/PyCharmProjects/AOMA_Halogaland/koma/clustering.py:46: RuntimeWarning: divide by zero encountered in divide\n",
      "  diff = (arr1-arr2)/scaling\n",
      "/Users/emilneby/PyCharmProjects/AOMA_Halogaland/koma/clustering.py:46: RuntimeWarning: invalid value encountered in divide\n",
      "  diff = (arr1-arr2)/scaling\n",
      "/var/folders/xg/ddkjb2x96w167hqnv_gjv_v40000gn/T/ipykernel_35796/1427197658.py:87: VisibleDeprecationWarning: Creating an ndarray from ragged nested sequences (which is a list-or-tuple of lists-or-tuples-or ndarrays with different lengths or shapes) is deprecated. If you meant to do this, you must specify 'dtype=object' when creating the ndarray.\n",
      "  stab_diag = stabilization_diagram(acc[j], fs, 2, (np.array(omega_n_auto)/2/np.pi), np.array(order_auto), all_freqs=np.abs(lambd_stab)/2/np.pi, all_orders=orders_stab)\n"
     ]
    },
    {
     "name": "stdout",
     "output_type": "stream",
     "text": [
      "Post processing executed in 0.0286407470703125\n",
      "Stabilization diagram executed in 0.1916048526763916\n",
      "Wind statistics executed in 0.003020763397216797\n",
      "Time serie 3 of 16 done in 2.1008641719818115 sec. Period 22 of 88 done. Number of skipped periods: 12.\n",
      "Cov-SSI executed in 2.059412956237793\n",
      "HDBSCAN executed in 0.04137706756591797\n",
      "Post processing executed in 0.02647995948791504\n",
      "Stabilization diagram executed in 0.19165611267089844\n",
      "Wind statistics executed in 0.0025510787963867188\n",
      "Time serie 4 of 16 done in 2.477412223815918 sec. Period 22 of 88 done. Number of skipped periods: 12.\n"
     ]
    },
    {
     "name": "stderr",
     "output_type": "stream",
     "text": [
      "/var/folders/xg/ddkjb2x96w167hqnv_gjv_v40000gn/T/ipykernel_35796/1427197658.py:87: VisibleDeprecationWarning: Creating an ndarray from ragged nested sequences (which is a list-or-tuple of lists-or-tuples-or ndarrays with different lengths or shapes) is deprecated. If you meant to do this, you must specify 'dtype=object' when creating the ndarray.\n",
      "  stab_diag = stabilization_diagram(acc[j], fs, 2, (np.array(omega_n_auto)/2/np.pi), np.array(order_auto), all_freqs=np.abs(lambd_stab)/2/np.pi, all_orders=orders_stab)\n"
     ]
    },
    {
     "name": "stdout",
     "output_type": "stream",
     "text": [
      "Cov-SSI executed in 2.1348421573638916\n",
      "HDBSCAN executed in 0.030263185501098633\n",
      "Post processing executed in 0.017714262008666992\n"
     ]
    },
    {
     "name": "stderr",
     "output_type": "stream",
     "text": [
      "/var/folders/xg/ddkjb2x96w167hqnv_gjv_v40000gn/T/ipykernel_35796/1427197658.py:87: VisibleDeprecationWarning: Creating an ndarray from ragged nested sequences (which is a list-or-tuple of lists-or-tuples-or ndarrays with different lengths or shapes) is deprecated. If you meant to do this, you must specify 'dtype=object' when creating the ndarray.\n",
      "  stab_diag = stabilization_diagram(acc[j], fs, 2, (np.array(omega_n_auto)/2/np.pi), np.array(order_auto), all_freqs=np.abs(lambd_stab)/2/np.pi, all_orders=orders_stab)\n"
     ]
    },
    {
     "name": "stdout",
     "output_type": "stream",
     "text": [
      "Stabilization diagram executed in 0.5604381561279297\n",
      "Wind statistics executed in 0.002889871597290039\n",
      "Time serie 5 of 16 done in 2.9004008769989014 sec. Period 22 of 88 done. Number of skipped periods: 12.\n",
      "Cov-SSI executed in 1.9185690879821777\n",
      "HDBSCAN executed in 0.054537057876586914\n",
      "Post processing executed in 0.029448986053466797\n"
     ]
    },
    {
     "name": "stderr",
     "output_type": "stream",
     "text": [
      "/var/folders/xg/ddkjb2x96w167hqnv_gjv_v40000gn/T/ipykernel_35796/1427197658.py:87: VisibleDeprecationWarning: Creating an ndarray from ragged nested sequences (which is a list-or-tuple of lists-or-tuples-or ndarrays with different lengths or shapes) is deprecated. If you meant to do this, you must specify 'dtype=object' when creating the ndarray.\n",
      "  stab_diag = stabilization_diagram(acc[j], fs, 2, (np.array(omega_n_auto)/2/np.pi), np.array(order_auto), all_freqs=np.abs(lambd_stab)/2/np.pi, all_orders=orders_stab)\n"
     ]
    },
    {
     "name": "stdout",
     "output_type": "stream",
     "text": [
      "Stabilization diagram executed in 0.19495773315429688\n",
      "Wind statistics executed in 0.0028519630432128906\n",
      "Time serie 6 of 16 done in 2.3667819499969482 sec. Period 22 of 88 done. Number of skipped periods: 12.\n",
      "Cov-SSI executed in 1.3075990676879883\n",
      "HDBSCAN executed in 0.030481815338134766\n",
      "Post processing executed in 0.02117776870727539\n"
     ]
    },
    {
     "name": "stderr",
     "output_type": "stream",
     "text": [
      "/var/folders/xg/ddkjb2x96w167hqnv_gjv_v40000gn/T/ipykernel_35796/1427197658.py:87: VisibleDeprecationWarning: Creating an ndarray from ragged nested sequences (which is a list-or-tuple of lists-or-tuples-or ndarrays with different lengths or shapes) is deprecated. If you meant to do this, you must specify 'dtype=object' when creating the ndarray.\n",
      "  stab_diag = stabilization_diagram(acc[j], fs, 2, (np.array(omega_n_auto)/2/np.pi), np.array(order_auto), all_freqs=np.abs(lambd_stab)/2/np.pi, all_orders=orders_stab)\n"
     ]
    },
    {
     "name": "stdout",
     "output_type": "stream",
     "text": [
      "Stabilization diagram executed in 0.18530678749084473\n",
      "Wind statistics executed in 0.0028269290924072266\n",
      "Time serie 7 of 16 done in 1.7101271152496338 sec. Period 22 of 88 done. Number of skipped periods: 12.\n",
      "Cov-SSI executed in 2.1001691818237305\n"
     ]
    },
    {
     "name": "stderr",
     "output_type": "stream",
     "text": [
      "/Users/emilneby/PyCharmProjects/AOMA_Halogaland/koma/clustering.py:46: RuntimeWarning: divide by zero encountered in divide\n",
      "  diff = (arr1-arr2)/scaling\n",
      "/Users/emilneby/PyCharmProjects/AOMA_Halogaland/koma/clustering.py:46: RuntimeWarning: invalid value encountered in divide\n",
      "  diff = (arr1-arr2)/scaling\n",
      "/var/folders/xg/ddkjb2x96w167hqnv_gjv_v40000gn/T/ipykernel_35796/1427197658.py:87: VisibleDeprecationWarning: Creating an ndarray from ragged nested sequences (which is a list-or-tuple of lists-or-tuples-or ndarrays with different lengths or shapes) is deprecated. If you meant to do this, you must specify 'dtype=object' when creating the ndarray.\n",
      "  stab_diag = stabilization_diagram(acc[j], fs, 2, (np.array(omega_n_auto)/2/np.pi), np.array(order_auto), all_freqs=np.abs(lambd_stab)/2/np.pi, all_orders=orders_stab)\n"
     ]
    },
    {
     "name": "stdout",
     "output_type": "stream",
     "text": [
      "HDBSCAN executed in 0.06536984443664551\n",
      "Post processing executed in 0.032176971435546875\n",
      "Stabilization diagram executed in 0.19270920753479004\n",
      "Wind statistics executed in 0.002955913543701172\n",
      "Time serie 8 of 16 done in 2.5759103298187256 sec. Period 22 of 88 done. Number of skipped periods: 12.\n",
      "Cov-SSI executed in 1.7741179466247559\n",
      "HDBSCAN executed in 0.04175305366516113\n",
      "Post processing executed in 0.02529287338256836\n"
     ]
    },
    {
     "name": "stderr",
     "output_type": "stream",
     "text": [
      "/Users/emilneby/PyCharmProjects/AOMA_Halogaland/koma/clustering.py:46: RuntimeWarning: divide by zero encountered in divide\n",
      "  diff = (arr1-arr2)/scaling\n",
      "/Users/emilneby/PyCharmProjects/AOMA_Halogaland/koma/clustering.py:46: RuntimeWarning: invalid value encountered in divide\n",
      "  diff = (arr1-arr2)/scaling\n",
      "/var/folders/xg/ddkjb2x96w167hqnv_gjv_v40000gn/T/ipykernel_35796/1427197658.py:87: VisibleDeprecationWarning: Creating an ndarray from ragged nested sequences (which is a list-or-tuple of lists-or-tuples-or ndarrays with different lengths or shapes) is deprecated. If you meant to do this, you must specify 'dtype=object' when creating the ndarray.\n",
      "  stab_diag = stabilization_diagram(acc[j], fs, 2, (np.array(omega_n_auto)/2/np.pi), np.array(order_auto), all_freqs=np.abs(lambd_stab)/2/np.pi, all_orders=orders_stab)\n"
     ]
    },
    {
     "name": "stdout",
     "output_type": "stream",
     "text": [
      "Stabilization diagram executed in 0.18121910095214844\n",
      "Wind statistics executed in 0.0027670860290527344\n",
      "Time serie 9 of 16 done in 2.2094180583953857 sec. Period 22 of 88 done. Number of skipped periods: 12.\n",
      "Cov-SSI executed in 2.135295867919922\n",
      "HDBSCAN executed in 0.04387617111206055\n",
      "Post processing executed in 0.021474123001098633\n"
     ]
    },
    {
     "name": "stderr",
     "output_type": "stream",
     "text": [
      "/var/folders/xg/ddkjb2x96w167hqnv_gjv_v40000gn/T/ipykernel_35796/1427197658.py:87: VisibleDeprecationWarning: Creating an ndarray from ragged nested sequences (which is a list-or-tuple of lists-or-tuples-or ndarrays with different lengths or shapes) is deprecated. If you meant to do this, you must specify 'dtype=object' when creating the ndarray.\n",
      "  stab_diag = stabilization_diagram(acc[j], fs, 2, (np.array(omega_n_auto)/2/np.pi), np.array(order_auto), all_freqs=np.abs(lambd_stab)/2/np.pi, all_orders=orders_stab)\n"
     ]
    },
    {
     "name": "stdout",
     "output_type": "stream",
     "text": [
      "Stabilization diagram executed in 0.18813490867614746\n",
      "Wind statistics executed in 0.002969026565551758\n",
      "Time serie 10 of 16 done in 2.580274820327759 sec. Period 22 of 88 done. Number of skipped periods: 12.\n",
      "Cov-SSI executed in 2.025376081466675\n",
      "HDBSCAN executed in 0.04546499252319336\n",
      "Post processing executed in 0.027990102767944336\n"
     ]
    },
    {
     "name": "stderr",
     "output_type": "stream",
     "text": [
      "/Users/emilneby/PyCharmProjects/AOMA_Halogaland/koma/clustering.py:46: RuntimeWarning: divide by zero encountered in divide\n",
      "  diff = (arr1-arr2)/scaling\n",
      "/Users/emilneby/PyCharmProjects/AOMA_Halogaland/koma/clustering.py:46: RuntimeWarning: invalid value encountered in divide\n",
      "  diff = (arr1-arr2)/scaling\n",
      "/var/folders/xg/ddkjb2x96w167hqnv_gjv_v40000gn/T/ipykernel_35796/1427197658.py:87: VisibleDeprecationWarning: Creating an ndarray from ragged nested sequences (which is a list-or-tuple of lists-or-tuples-or ndarrays with different lengths or shapes) is deprecated. If you meant to do this, you must specify 'dtype=object' when creating the ndarray.\n",
      "  stab_diag = stabilization_diagram(acc[j], fs, 2, (np.array(omega_n_auto)/2/np.pi), np.array(order_auto), all_freqs=np.abs(lambd_stab)/2/np.pi, all_orders=orders_stab)\n"
     ]
    },
    {
     "name": "stdout",
     "output_type": "stream",
     "text": [
      "Stabilization diagram executed in 0.18747425079345703\n",
      "Wind statistics executed in 0.003091096878051758\n",
      "Time serie 11 of 16 done in 2.484189033508301 sec. Period 22 of 88 done. Number of skipped periods: 12.\n",
      "Cov-SSI executed in 2.2523157596588135\n",
      "HDBSCAN executed in 0.03835105895996094\n",
      "Post processing executed in 0.023862123489379883\n"
     ]
    },
    {
     "name": "stderr",
     "output_type": "stream",
     "text": [
      "/var/folders/xg/ddkjb2x96w167hqnv_gjv_v40000gn/T/ipykernel_35796/1427197658.py:87: VisibleDeprecationWarning: Creating an ndarray from ragged nested sequences (which is a list-or-tuple of lists-or-tuples-or ndarrays with different lengths or shapes) is deprecated. If you meant to do this, you must specify 'dtype=object' when creating the ndarray.\n",
      "  stab_diag = stabilization_diagram(acc[j], fs, 2, (np.array(omega_n_auto)/2/np.pi), np.array(order_auto), all_freqs=np.abs(lambd_stab)/2/np.pi, all_orders=orders_stab)\n"
     ]
    },
    {
     "name": "stdout",
     "output_type": "stream",
     "text": [
      "Stabilization diagram executed in 0.17539000511169434\n",
      "Wind statistics executed in 0.002933025360107422\n",
      "Time serie 12 of 16 done in 2.680428981781006 sec. Period 22 of 88 done. Number of skipped periods: 12.\n",
      "Cov-SSI executed in 2.1151249408721924\n",
      "HDBSCAN executed in 0.05705118179321289\n",
      "Post processing executed in 0.028409719467163086\n"
     ]
    },
    {
     "name": "stderr",
     "output_type": "stream",
     "text": [
      "/Users/emilneby/PyCharmProjects/AOMA_Halogaland/koma/clustering.py:46: RuntimeWarning: divide by zero encountered in divide\n",
      "  diff = (arr1-arr2)/scaling\n",
      "/Users/emilneby/PyCharmProjects/AOMA_Halogaland/koma/clustering.py:46: RuntimeWarning: invalid value encountered in divide\n",
      "  diff = (arr1-arr2)/scaling\n",
      "/var/folders/xg/ddkjb2x96w167hqnv_gjv_v40000gn/T/ipykernel_35796/1427197658.py:87: VisibleDeprecationWarning: Creating an ndarray from ragged nested sequences (which is a list-or-tuple of lists-or-tuples-or ndarrays with different lengths or shapes) is deprecated. If you meant to do this, you must specify 'dtype=object' when creating the ndarray.\n",
      "  stab_diag = stabilization_diagram(acc[j], fs, 2, (np.array(omega_n_auto)/2/np.pi), np.array(order_auto), all_freqs=np.abs(lambd_stab)/2/np.pi, all_orders=orders_stab)\n"
     ]
    },
    {
     "name": "stdout",
     "output_type": "stream",
     "text": [
      "Stabilization diagram executed in 0.18427705764770508\n",
      "Wind statistics executed in 0.00279998779296875\n",
      "Time serie 13 of 16 done in 2.5911529064178467 sec. Period 22 of 88 done. Number of skipped periods: 12.\n",
      "Cov-SSI executed in 1.6411819458007812\n",
      "HDBSCAN executed in 0.046462059020996094\n",
      "Post processing executed in 0.027585983276367188\n"
     ]
    },
    {
     "name": "stderr",
     "output_type": "stream",
     "text": [
      "/var/folders/xg/ddkjb2x96w167hqnv_gjv_v40000gn/T/ipykernel_35796/1427197658.py:87: VisibleDeprecationWarning: Creating an ndarray from ragged nested sequences (which is a list-or-tuple of lists-or-tuples-or ndarrays with different lengths or shapes) is deprecated. If you meant to do this, you must specify 'dtype=object' when creating the ndarray.\n",
      "  stab_diag = stabilization_diagram(acc[j], fs, 2, (np.array(omega_n_auto)/2/np.pi), np.array(order_auto), all_freqs=np.abs(lambd_stab)/2/np.pi, all_orders=orders_stab)\n"
     ]
    },
    {
     "name": "stdout",
     "output_type": "stream",
     "text": [
      "Stabilization diagram executed in 0.17944025993347168\n",
      "Wind statistics executed in 0.0026619434356689453\n",
      "Time serie 14 of 16 done in 2.095578908920288 sec. Period 22 of 88 done. Number of skipped periods: 12.\n",
      "Cov-SSI executed in 1.9220569133758545\n",
      "HDBSCAN executed in 0.0721430778503418\n",
      "Post processing executed in 0.035368919372558594\n"
     ]
    },
    {
     "name": "stderr",
     "output_type": "stream",
     "text": [
      "/Users/emilneby/PyCharmProjects/AOMA_Halogaland/koma/clustering.py:46: RuntimeWarning: divide by zero encountered in divide\n",
      "  diff = (arr1-arr2)/scaling\n",
      "/Users/emilneby/PyCharmProjects/AOMA_Halogaland/koma/clustering.py:46: RuntimeWarning: invalid value encountered in divide\n",
      "  diff = (arr1-arr2)/scaling\n",
      "/var/folders/xg/ddkjb2x96w167hqnv_gjv_v40000gn/T/ipykernel_35796/1427197658.py:87: VisibleDeprecationWarning: Creating an ndarray from ragged nested sequences (which is a list-or-tuple of lists-or-tuples-or ndarrays with different lengths or shapes) is deprecated. If you meant to do this, you must specify 'dtype=object' when creating the ndarray.\n",
      "  stab_diag = stabilization_diagram(acc[j], fs, 2, (np.array(omega_n_auto)/2/np.pi), np.array(order_auto), all_freqs=np.abs(lambd_stab)/2/np.pi, all_orders=orders_stab)\n"
     ]
    },
    {
     "name": "stdout",
     "output_type": "stream",
     "text": [
      "Stabilization diagram executed in 0.19763493537902832\n",
      "Wind statistics executed in 0.002686023712158203\n",
      "Time serie 15 of 16 done in 2.4666740894317627 sec. Period 22 of 88 done. Number of skipped periods: 12.\n",
      "Cov-SSI executed in 2.246628999710083\n",
      "HDBSCAN executed in 0.04458880424499512\n",
      "Post processing executed in 0.027798175811767578\n"
     ]
    },
    {
     "name": "stderr",
     "output_type": "stream",
     "text": [
      "/var/folders/xg/ddkjb2x96w167hqnv_gjv_v40000gn/T/ipykernel_35796/1427197658.py:87: VisibleDeprecationWarning: Creating an ndarray from ragged nested sequences (which is a list-or-tuple of lists-or-tuples-or ndarrays with different lengths or shapes) is deprecated. If you meant to do this, you must specify 'dtype=object' when creating the ndarray.\n",
      "  stab_diag = stabilization_diagram(acc[j], fs, 2, (np.array(omega_n_auto)/2/np.pi), np.array(order_auto), all_freqs=np.abs(lambd_stab)/2/np.pi, all_orders=orders_stab)\n"
     ]
    },
    {
     "name": "stdout",
     "output_type": "stream",
     "text": [
      "Stabilization diagram executed in 0.18749499320983887\n",
      "Wind statistics executed in 0.003155946731567383\n",
      "Time serie 16 of 16 done in 2.703057050704956 sec. Period 22 of 88 done. Number of skipped periods: 12.\n",
      "Cov-SSI executed in 1.8010969161987305\n",
      "HDBSCAN executed in 0.03911900520324707\n",
      "Post processing executed in 0.024292707443237305\n"
     ]
    },
    {
     "name": "stderr",
     "output_type": "stream",
     "text": [
      "/var/folders/xg/ddkjb2x96w167hqnv_gjv_v40000gn/T/ipykernel_35796/1427197658.py:87: VisibleDeprecationWarning: Creating an ndarray from ragged nested sequences (which is a list-or-tuple of lists-or-tuples-or ndarrays with different lengths or shapes) is deprecated. If you meant to do this, you must specify 'dtype=object' when creating the ndarray.\n",
      "  stab_diag = stabilization_diagram(acc[j], fs, 2, (np.array(omega_n_auto)/2/np.pi), np.array(order_auto), all_freqs=np.abs(lambd_stab)/2/np.pi, all_orders=orders_stab)\n"
     ]
    },
    {
     "name": "stdout",
     "output_type": "stream",
     "text": [
      "Stabilization diagram executed in 0.1902930736541748\n",
      "Wind statistics executed in 0.014053106307983398\n",
      "Time serie 1 of 16 done in 2.265092134475708 sec. Period 23 of 88 done. Number of skipped periods: 12.\n",
      "Cov-SSI executed in 1.9644660949707031\n",
      "HDBSCAN executed in 0.056815147399902344\n",
      "Post processing executed in 0.029513120651245117\n"
     ]
    },
    {
     "name": "stderr",
     "output_type": "stream",
     "text": [
      "/var/folders/xg/ddkjb2x96w167hqnv_gjv_v40000gn/T/ipykernel_35796/1427197658.py:87: VisibleDeprecationWarning: Creating an ndarray from ragged nested sequences (which is a list-or-tuple of lists-or-tuples-or ndarrays with different lengths or shapes) is deprecated. If you meant to do this, you must specify 'dtype=object' when creating the ndarray.\n",
      "  stab_diag = stabilization_diagram(acc[j], fs, 2, (np.array(omega_n_auto)/2/np.pi), np.array(order_auto), all_freqs=np.abs(lambd_stab)/2/np.pi, all_orders=orders_stab)\n"
     ]
    },
    {
     "name": "stdout",
     "output_type": "stream",
     "text": [
      "Stabilization diagram executed in 0.18665027618408203\n",
      "Wind statistics executed in 0.002919912338256836\n",
      "Time serie 2 of 16 done in 2.457749128341675 sec. Period 23 of 88 done. Number of skipped periods: 12.\n",
      "Cov-SSI executed in 1.862441062927246\n",
      "HDBSCAN executed in 0.0394289493560791\n",
      "Post processing executed in 0.024235010147094727\n"
     ]
    },
    {
     "name": "stderr",
     "output_type": "stream",
     "text": [
      "/var/folders/xg/ddkjb2x96w167hqnv_gjv_v40000gn/T/ipykernel_35796/1427197658.py:87: VisibleDeprecationWarning: Creating an ndarray from ragged nested sequences (which is a list-or-tuple of lists-or-tuples-or ndarrays with different lengths or shapes) is deprecated. If you meant to do this, you must specify 'dtype=object' when creating the ndarray.\n",
      "  stab_diag = stabilization_diagram(acc[j], fs, 2, (np.array(omega_n_auto)/2/np.pi), np.array(order_auto), all_freqs=np.abs(lambd_stab)/2/np.pi, all_orders=orders_stab)\n"
     ]
    },
    {
     "name": "stdout",
     "output_type": "stream",
     "text": [
      "Stabilization diagram executed in 0.18317508697509766\n",
      "Wind statistics executed in 0.0026519298553466797\n",
      "Time serie 3 of 16 done in 2.3045830726623535 sec. Period 23 of 88 done. Number of skipped periods: 12.\n",
      "Cov-SSI executed in 1.6898820400238037\n",
      "HDBSCAN executed in 0.07841992378234863\n",
      "Post processing executed in 0.037728071212768555\n"
     ]
    },
    {
     "name": "stderr",
     "output_type": "stream",
     "text": [
      "/Users/emilneby/PyCharmProjects/AOMA_Halogaland/koma/clustering.py:46: RuntimeWarning: divide by zero encountered in divide\n",
      "  diff = (arr1-arr2)/scaling\n",
      "/Users/emilneby/PyCharmProjects/AOMA_Halogaland/koma/clustering.py:46: RuntimeWarning: invalid value encountered in divide\n",
      "  diff = (arr1-arr2)/scaling\n",
      "/var/folders/xg/ddkjb2x96w167hqnv_gjv_v40000gn/T/ipykernel_35796/1427197658.py:87: VisibleDeprecationWarning: Creating an ndarray from ragged nested sequences (which is a list-or-tuple of lists-or-tuples-or ndarrays with different lengths or shapes) is deprecated. If you meant to do this, you must specify 'dtype=object' when creating the ndarray.\n",
      "  stab_diag = stabilization_diagram(acc[j], fs, 2, (np.array(omega_n_auto)/2/np.pi), np.array(order_auto), all_freqs=np.abs(lambd_stab)/2/np.pi, all_orders=orders_stab)\n"
     ]
    },
    {
     "name": "stdout",
     "output_type": "stream",
     "text": [
      "Stabilization diagram executed in 0.18640518188476562\n",
      "Wind statistics executed in 0.002808094024658203\n",
      "Time serie 4 of 16 done in 2.2329111099243164 sec. Period 23 of 88 done. Number of skipped periods: 12.\n",
      "Cov-SSI executed in 1.9130399227142334\n"
     ]
    },
    {
     "name": "stderr",
     "output_type": "stream",
     "text": [
      "/Users/emilneby/PyCharmProjects/AOMA_Halogaland/koma/clustering.py:46: RuntimeWarning: divide by zero encountered in divide\n",
      "  diff = (arr1-arr2)/scaling\n",
      "/Users/emilneby/PyCharmProjects/AOMA_Halogaland/koma/clustering.py:46: RuntimeWarning: invalid value encountered in divide\n",
      "  diff = (arr1-arr2)/scaling\n",
      "/var/folders/xg/ddkjb2x96w167hqnv_gjv_v40000gn/T/ipykernel_35796/1427197658.py:87: VisibleDeprecationWarning: Creating an ndarray from ragged nested sequences (which is a list-or-tuple of lists-or-tuples-or ndarrays with different lengths or shapes) is deprecated. If you meant to do this, you must specify 'dtype=object' when creating the ndarray.\n",
      "  stab_diag = stabilization_diagram(acc[j], fs, 2, (np.array(omega_n_auto)/2/np.pi), np.array(order_auto), all_freqs=np.abs(lambd_stab)/2/np.pi, all_orders=orders_stab)\n"
     ]
    },
    {
     "name": "stdout",
     "output_type": "stream",
     "text": [
      "HDBSCAN executed in 0.11841106414794922\n",
      "Post processing executed in 0.03640031814575195\n",
      "Stabilization diagram executed in 0.20062994956970215\n",
      "Wind statistics executed in 0.007391929626464844\n",
      "Time serie 5 of 16 done in 2.4619126319885254 sec. Period 23 of 88 done. Number of skipped periods: 12.\n",
      "Cov-SSI executed in 1.7257070541381836\n",
      "HDBSCAN executed in 0.047126054763793945\n",
      "Post processing executed in 0.028256893157958984\n"
     ]
    },
    {
     "name": "stderr",
     "output_type": "stream",
     "text": [
      "/Users/emilneby/PyCharmProjects/AOMA_Halogaland/koma/clustering.py:46: RuntimeWarning: divide by zero encountered in divide\n",
      "  diff = (arr1-arr2)/scaling\n",
      "/Users/emilneby/PyCharmProjects/AOMA_Halogaland/koma/clustering.py:46: RuntimeWarning: invalid value encountered in divide\n",
      "  diff = (arr1-arr2)/scaling\n",
      "/var/folders/xg/ddkjb2x96w167hqnv_gjv_v40000gn/T/ipykernel_35796/1427197658.py:87: VisibleDeprecationWarning: Creating an ndarray from ragged nested sequences (which is a list-or-tuple of lists-or-tuples-or ndarrays with different lengths or shapes) is deprecated. If you meant to do this, you must specify 'dtype=object' when creating the ndarray.\n",
      "  stab_diag = stabilization_diagram(acc[j], fs, 2, (np.array(omega_n_auto)/2/np.pi), np.array(order_auto), all_freqs=np.abs(lambd_stab)/2/np.pi, all_orders=orders_stab)\n"
     ]
    },
    {
     "name": "stdout",
     "output_type": "stream",
     "text": [
      "Stabilization diagram executed in 0.19373321533203125\n",
      "Wind statistics executed in 0.003081798553466797\n",
      "Time serie 6 of 16 done in 2.175567150115967 sec. Period 23 of 88 done. Number of skipped periods: 12.\n",
      "Cov-SSI executed in 3.390197992324829\n",
      "HDBSCAN executed in 0.06857514381408691\n",
      "Post processing executed in 0.02507185935974121\n"
     ]
    },
    {
     "name": "stderr",
     "output_type": "stream",
     "text": [
      "/Users/emilneby/PyCharmProjects/AOMA_Halogaland/koma/clustering.py:46: RuntimeWarning: divide by zero encountered in divide\n",
      "  diff = (arr1-arr2)/scaling\n",
      "/Users/emilneby/PyCharmProjects/AOMA_Halogaland/koma/clustering.py:46: RuntimeWarning: invalid value encountered in divide\n",
      "  diff = (arr1-arr2)/scaling\n",
      "/var/folders/xg/ddkjb2x96w167hqnv_gjv_v40000gn/T/ipykernel_35796/1427197658.py:87: VisibleDeprecationWarning: Creating an ndarray from ragged nested sequences (which is a list-or-tuple of lists-or-tuples-or ndarrays with different lengths or shapes) is deprecated. If you meant to do this, you must specify 'dtype=object' when creating the ndarray.\n",
      "  stab_diag = stabilization_diagram(acc[j], fs, 2, (np.array(omega_n_auto)/2/np.pi), np.array(order_auto), all_freqs=np.abs(lambd_stab)/2/np.pi, all_orders=orders_stab)\n"
     ]
    },
    {
     "name": "stdout",
     "output_type": "stream",
     "text": [
      "Stabilization diagram executed in 0.20456194877624512\n",
      "Wind statistics executed in 0.04657387733459473\n",
      "Time serie 7 of 16 done in 3.935835838317871 sec. Period 23 of 88 done. Number of skipped periods: 12.\n",
      "Cov-SSI executed in 1.904973030090332\n",
      "HDBSCAN executed in 0.026399850845336914\n",
      "Post processing executed in 0.01835799217224121\n"
     ]
    },
    {
     "name": "stderr",
     "output_type": "stream",
     "text": [
      "/Users/emilneby/PyCharmProjects/AOMA_Halogaland/koma/clustering.py:46: RuntimeWarning: divide by zero encountered in divide\n",
      "  diff = (arr1-arr2)/scaling\n",
      "/Users/emilneby/PyCharmProjects/AOMA_Halogaland/koma/clustering.py:46: RuntimeWarning: invalid value encountered in divide\n",
      "  diff = (arr1-arr2)/scaling\n",
      "/var/folders/xg/ddkjb2x96w167hqnv_gjv_v40000gn/T/ipykernel_35796/1427197658.py:87: VisibleDeprecationWarning: Creating an ndarray from ragged nested sequences (which is a list-or-tuple of lists-or-tuples-or ndarrays with different lengths or shapes) is deprecated. If you meant to do this, you must specify 'dtype=object' when creating the ndarray.\n",
      "  stab_diag = stabilization_diagram(acc[j], fs, 2, (np.array(omega_n_auto)/2/np.pi), np.array(order_auto), all_freqs=np.abs(lambd_stab)/2/np.pi, all_orders=orders_stab)\n"
     ]
    },
    {
     "name": "stdout",
     "output_type": "stream",
     "text": [
      "Stabilization diagram executed in 0.17774105072021484\n",
      "Wind statistics executed in 0.0030562877655029297\n",
      "Time serie 8 of 16 done in 2.2731950283050537 sec. Period 23 of 88 done. Number of skipped periods: 12.\n",
      "Cov-SSI executed in 1.230699062347412\n",
      "HDBSCAN executed in 0.026774883270263672\n",
      "Post processing executed in 0.016923189163208008\n"
     ]
    },
    {
     "name": "stderr",
     "output_type": "stream",
     "text": [
      "/var/folders/xg/ddkjb2x96w167hqnv_gjv_v40000gn/T/ipykernel_35796/1427197658.py:87: VisibleDeprecationWarning: Creating an ndarray from ragged nested sequences (which is a list-or-tuple of lists-or-tuples-or ndarrays with different lengths or shapes) is deprecated. If you meant to do this, you must specify 'dtype=object' when creating the ndarray.\n",
      "  stab_diag = stabilization_diagram(acc[j], fs, 2, (np.array(omega_n_auto)/2/np.pi), np.array(order_auto), all_freqs=np.abs(lambd_stab)/2/np.pi, all_orders=orders_stab)\n"
     ]
    },
    {
     "name": "stdout",
     "output_type": "stream",
     "text": [
      "Stabilization diagram executed in 0.18640398979187012\n",
      "Wind statistics executed in 0.003139972686767578\n",
      "Time serie 9 of 16 done in 1.6220531463623047 sec. Period 23 of 88 done. Number of skipped periods: 12.\n",
      "Cov-SSI executed in 1.6618938446044922\n",
      "HDBSCAN executed in 0.026449918746948242\n",
      "Post processing executed in 0.01797199249267578\n"
     ]
    },
    {
     "name": "stderr",
     "output_type": "stream",
     "text": [
      "/var/folders/xg/ddkjb2x96w167hqnv_gjv_v40000gn/T/ipykernel_35796/1427197658.py:87: VisibleDeprecationWarning: Creating an ndarray from ragged nested sequences (which is a list-or-tuple of lists-or-tuples-or ndarrays with different lengths or shapes) is deprecated. If you meant to do this, you must specify 'dtype=object' when creating the ndarray.\n",
      "  stab_diag = stabilization_diagram(acc[j], fs, 2, (np.array(omega_n_auto)/2/np.pi), np.array(order_auto), all_freqs=np.abs(lambd_stab)/2/np.pi, all_orders=orders_stab)\n"
     ]
    },
    {
     "name": "stdout",
     "output_type": "stream",
     "text": [
      "Stabilization diagram executed in 0.1838061809539795\n",
      "Wind statistics executed in 0.00337982177734375\n",
      "Time serie 10 of 16 done in 2.0669219493865967 sec. Period 23 of 88 done. Number of skipped periods: 12.\n",
      "Cov-SSI executed in 2.1159849166870117\n",
      "HDBSCAN executed in 0.03283500671386719\n",
      "Post processing executed in 0.02237224578857422\n"
     ]
    },
    {
     "name": "stderr",
     "output_type": "stream",
     "text": [
      "/Users/emilneby/PyCharmProjects/AOMA_Halogaland/koma/clustering.py:46: RuntimeWarning: divide by zero encountered in divide\n",
      "  diff = (arr1-arr2)/scaling\n",
      "/Users/emilneby/PyCharmProjects/AOMA_Halogaland/koma/clustering.py:46: RuntimeWarning: invalid value encountered in divide\n",
      "  diff = (arr1-arr2)/scaling\n",
      "/var/folders/xg/ddkjb2x96w167hqnv_gjv_v40000gn/T/ipykernel_35796/1427197658.py:87: VisibleDeprecationWarning: Creating an ndarray from ragged nested sequences (which is a list-or-tuple of lists-or-tuples-or ndarrays with different lengths or shapes) is deprecated. If you meant to do this, you must specify 'dtype=object' when creating the ndarray.\n",
      "  stab_diag = stabilization_diagram(acc[j], fs, 2, (np.array(omega_n_auto)/2/np.pi), np.array(order_auto), all_freqs=np.abs(lambd_stab)/2/np.pi, all_orders=orders_stab)\n"
     ]
    },
    {
     "name": "stdout",
     "output_type": "stream",
     "text": [
      "Stabilization diagram executed in 0.18342185020446777\n",
      "Wind statistics executed in 0.0033941268920898438\n",
      "Time serie 11 of 16 done in 2.5408079624176025 sec. Period 23 of 88 done. Number of skipped periods: 12.\n",
      "Cov-SSI executed in 1.9233417510986328\n",
      "HDBSCAN executed in 0.03221416473388672\n",
      "Post processing executed in 0.020581960678100586\n"
     ]
    },
    {
     "name": "stderr",
     "output_type": "stream",
     "text": [
      "/Users/emilneby/PyCharmProjects/AOMA_Halogaland/koma/clustering.py:46: RuntimeWarning: divide by zero encountered in divide\n",
      "  diff = (arr1-arr2)/scaling\n",
      "/Users/emilneby/PyCharmProjects/AOMA_Halogaland/koma/clustering.py:46: RuntimeWarning: invalid value encountered in divide\n",
      "  diff = (arr1-arr2)/scaling\n",
      "/var/folders/xg/ddkjb2x96w167hqnv_gjv_v40000gn/T/ipykernel_35796/1427197658.py:87: VisibleDeprecationWarning: Creating an ndarray from ragged nested sequences (which is a list-or-tuple of lists-or-tuples-or ndarrays with different lengths or shapes) is deprecated. If you meant to do this, you must specify 'dtype=object' when creating the ndarray.\n",
      "  stab_diag = stabilization_diagram(acc[j], fs, 2, (np.array(omega_n_auto)/2/np.pi), np.array(order_auto), all_freqs=np.abs(lambd_stab)/2/np.pi, all_orders=orders_stab)\n"
     ]
    },
    {
     "name": "stdout",
     "output_type": "stream",
     "text": [
      "Stabilization diagram executed in 0.18226099014282227\n",
      "Wind statistics executed in 0.0029709339141845703\n",
      "Time serie 12 of 16 done in 2.328732967376709 sec. Period 23 of 88 done. Number of skipped periods: 12.\n",
      "Cov-SSI executed in 2.2679038047790527\n",
      "HDBSCAN executed in 0.07410717010498047\n",
      "Post processing executed in 0.024396181106567383\n"
     ]
    },
    {
     "name": "stderr",
     "output_type": "stream",
     "text": [
      "/Users/emilneby/PyCharmProjects/AOMA_Halogaland/koma/clustering.py:46: RuntimeWarning: divide by zero encountered in divide\n",
      "  diff = (arr1-arr2)/scaling\n",
      "/Users/emilneby/PyCharmProjects/AOMA_Halogaland/koma/clustering.py:46: RuntimeWarning: invalid value encountered in divide\n",
      "  diff = (arr1-arr2)/scaling\n",
      "/var/folders/xg/ddkjb2x96w167hqnv_gjv_v40000gn/T/ipykernel_35796/1427197658.py:87: VisibleDeprecationWarning: Creating an ndarray from ragged nested sequences (which is a list-or-tuple of lists-or-tuples-or ndarrays with different lengths or shapes) is deprecated. If you meant to do this, you must specify 'dtype=object' when creating the ndarray.\n",
      "  stab_diag = stabilization_diagram(acc[j], fs, 2, (np.array(omega_n_auto)/2/np.pi), np.array(order_auto), all_freqs=np.abs(lambd_stab)/2/np.pi, all_orders=orders_stab)\n"
     ]
    },
    {
     "name": "stdout",
     "output_type": "stream",
     "text": [
      "Stabilization diagram executed in 0.19818496704101562\n",
      "Wind statistics executed in 0.0034699440002441406\n",
      "Time serie 13 of 16 done in 2.75262188911438 sec. Period 23 of 88 done. Number of skipped periods: 12.\n",
      "Cov-SSI executed in 1.832685947418213\n",
      "HDBSCAN executed in 0.05039691925048828\n",
      "Post processing executed in 0.02813887596130371\n"
     ]
    },
    {
     "name": "stderr",
     "output_type": "stream",
     "text": [
      "/var/folders/xg/ddkjb2x96w167hqnv_gjv_v40000gn/T/ipykernel_35796/1427197658.py:87: VisibleDeprecationWarning: Creating an ndarray from ragged nested sequences (which is a list-or-tuple of lists-or-tuples-or ndarrays with different lengths or shapes) is deprecated. If you meant to do this, you must specify 'dtype=object' when creating the ndarray.\n",
      "  stab_diag = stabilization_diagram(acc[j], fs, 2, (np.array(omega_n_auto)/2/np.pi), np.array(order_auto), all_freqs=np.abs(lambd_stab)/2/np.pi, all_orders=orders_stab)\n"
     ]
    },
    {
     "name": "stdout",
     "output_type": "stream",
     "text": [
      "Stabilization diagram executed in 0.20449590682983398\n",
      "Wind statistics executed in 0.0032148361206054688\n",
      "Time serie 14 of 16 done in 2.3191721439361572 sec. Period 23 of 88 done. Number of skipped periods: 12.\n",
      "Cov-SSI executed in 1.5372719764709473\n",
      "HDBSCAN executed in 0.030478239059448242\n",
      "Post processing executed in 0.02020716667175293\n"
     ]
    },
    {
     "name": "stderr",
     "output_type": "stream",
     "text": [
      "/Users/emilneby/PyCharmProjects/AOMA_Halogaland/koma/clustering.py:46: RuntimeWarning: divide by zero encountered in divide\n",
      "  diff = (arr1-arr2)/scaling\n",
      "/Users/emilneby/PyCharmProjects/AOMA_Halogaland/koma/clustering.py:46: RuntimeWarning: invalid value encountered in divide\n",
      "  diff = (arr1-arr2)/scaling\n",
      "/var/folders/xg/ddkjb2x96w167hqnv_gjv_v40000gn/T/ipykernel_35796/1427197658.py:87: VisibleDeprecationWarning: Creating an ndarray from ragged nested sequences (which is a list-or-tuple of lists-or-tuples-or ndarrays with different lengths or shapes) is deprecated. If you meant to do this, you must specify 'dtype=object' when creating the ndarray.\n",
      "  stab_diag = stabilization_diagram(acc[j], fs, 2, (np.array(omega_n_auto)/2/np.pi), np.array(order_auto), all_freqs=np.abs(lambd_stab)/2/np.pi, all_orders=orders_stab)\n"
     ]
    },
    {
     "name": "stdout",
     "output_type": "stream",
     "text": [
      "Stabilization diagram executed in 0.19107699394226074\n",
      "Wind statistics executed in 0.002927064895629883\n",
      "Time serie 15 of 16 done in 1.9588258266448975 sec. Period 23 of 88 done. Number of skipped periods: 12.\n",
      "Cov-SSI executed in 2.268873929977417\n",
      "HDBSCAN executed in 0.050222158432006836\n",
      "Post processing executed in 0.025795698165893555\n"
     ]
    },
    {
     "name": "stderr",
     "output_type": "stream",
     "text": [
      "/var/folders/xg/ddkjb2x96w167hqnv_gjv_v40000gn/T/ipykernel_35796/1427197658.py:87: VisibleDeprecationWarning: Creating an ndarray from ragged nested sequences (which is a list-or-tuple of lists-or-tuples-or ndarrays with different lengths or shapes) is deprecated. If you meant to do this, you must specify 'dtype=object' when creating the ndarray.\n",
      "  stab_diag = stabilization_diagram(acc[j], fs, 2, (np.array(omega_n_auto)/2/np.pi), np.array(order_auto), all_freqs=np.abs(lambd_stab)/2/np.pi, all_orders=orders_stab)\n"
     ]
    },
    {
     "name": "stdout",
     "output_type": "stream",
     "text": [
      "Stabilization diagram executed in 0.19993185997009277\n",
      "Wind statistics executed in 0.0033521652221679688\n",
      "Time serie 16 of 16 done in 2.750737190246582 sec. Period 23 of 88 done. Number of skipped periods: 12.\n",
      "Cov-SSI executed in 1.2639338970184326\n",
      "HDBSCAN executed in 0.03933215141296387\n",
      "Post processing executed in 0.022784948348999023\n"
     ]
    },
    {
     "name": "stderr",
     "output_type": "stream",
     "text": [
      "/var/folders/xg/ddkjb2x96w167hqnv_gjv_v40000gn/T/ipykernel_35796/1427197658.py:87: VisibleDeprecationWarning: Creating an ndarray from ragged nested sequences (which is a list-or-tuple of lists-or-tuples-or ndarrays with different lengths or shapes) is deprecated. If you meant to do this, you must specify 'dtype=object' when creating the ndarray.\n",
      "  stab_diag = stabilization_diagram(acc[j], fs, 2, (np.array(omega_n_auto)/2/np.pi), np.array(order_auto), all_freqs=np.abs(lambd_stab)/2/np.pi, all_orders=orders_stab)\n"
     ]
    },
    {
     "name": "stdout",
     "output_type": "stream",
     "text": [
      "Stabilization diagram executed in 0.1885838508605957\n",
      "Wind statistics executed in 0.014487981796264648\n",
      "Time serie 1 of 16 done in 1.721999168395996 sec. Period 24 of 88 done. Number of skipped periods: 12.\n",
      "Cov-SSI executed in 1.4979987144470215\n",
      "HDBSCAN executed in 0.031636953353881836\n",
      "Post processing executed in 0.02107405662536621\n"
     ]
    },
    {
     "name": "stderr",
     "output_type": "stream",
     "text": [
      "/var/folders/xg/ddkjb2x96w167hqnv_gjv_v40000gn/T/ipykernel_35796/1427197658.py:87: VisibleDeprecationWarning: Creating an ndarray from ragged nested sequences (which is a list-or-tuple of lists-or-tuples-or ndarrays with different lengths or shapes) is deprecated. If you meant to do this, you must specify 'dtype=object' when creating the ndarray.\n",
      "  stab_diag = stabilization_diagram(acc[j], fs, 2, (np.array(omega_n_auto)/2/np.pi), np.array(order_auto), all_freqs=np.abs(lambd_stab)/2/np.pi, all_orders=orders_stab)\n"
     ]
    },
    {
     "name": "stdout",
     "output_type": "stream",
     "text": [
      "Stabilization diagram executed in 0.18367433547973633\n",
      "Wind statistics executed in 0.0029702186584472656\n",
      "Time serie 2 of 16 done in 1.912405014038086 sec. Period 24 of 88 done. Number of skipped periods: 12.\n",
      "Cov-SSI executed in 1.6039690971374512\n",
      "HDBSCAN executed in 0.0374758243560791\n",
      "Post processing executed in 0.0241391658782959\n"
     ]
    },
    {
     "name": "stderr",
     "output_type": "stream",
     "text": [
      "/var/folders/xg/ddkjb2x96w167hqnv_gjv_v40000gn/T/ipykernel_35796/1427197658.py:87: VisibleDeprecationWarning: Creating an ndarray from ragged nested sequences (which is a list-or-tuple of lists-or-tuples-or ndarrays with different lengths or shapes) is deprecated. If you meant to do this, you must specify 'dtype=object' when creating the ndarray.\n",
      "  stab_diag = stabilization_diagram(acc[j], fs, 2, (np.array(omega_n_auto)/2/np.pi), np.array(order_auto), all_freqs=np.abs(lambd_stab)/2/np.pi, all_orders=orders_stab)\n"
     ]
    },
    {
     "name": "stdout",
     "output_type": "stream",
     "text": [
      "Stabilization diagram executed in 0.18513178825378418\n",
      "Wind statistics executed in 0.0027620792388916016\n",
      "Time serie 3 of 16 done in 2.026623010635376 sec. Period 24 of 88 done. Number of skipped periods: 12.\n",
      "Cov-SSI executed in 1.5165281295776367\n",
      "HDBSCAN executed in 0.0365300178527832\n",
      "Post processing executed in 0.023327112197875977\n"
     ]
    },
    {
     "name": "stderr",
     "output_type": "stream",
     "text": [
      "/Users/emilneby/PyCharmProjects/AOMA_Halogaland/koma/clustering.py:46: RuntimeWarning: divide by zero encountered in divide\n",
      "  diff = (arr1-arr2)/scaling\n",
      "/Users/emilneby/PyCharmProjects/AOMA_Halogaland/koma/clustering.py:46: RuntimeWarning: invalid value encountered in divide\n",
      "  diff = (arr1-arr2)/scaling\n",
      "/var/folders/xg/ddkjb2x96w167hqnv_gjv_v40000gn/T/ipykernel_35796/1427197658.py:87: VisibleDeprecationWarning: Creating an ndarray from ragged nested sequences (which is a list-or-tuple of lists-or-tuples-or ndarrays with different lengths or shapes) is deprecated. If you meant to do this, you must specify 'dtype=object' when creating the ndarray.\n",
      "  stab_diag = stabilization_diagram(acc[j], fs, 2, (np.array(omega_n_auto)/2/np.pi), np.array(order_auto), all_freqs=np.abs(lambd_stab)/2/np.pi, all_orders=orders_stab)\n"
     ]
    },
    {
     "name": "stdout",
     "output_type": "stream",
     "text": [
      "Stabilization diagram executed in 0.17870330810546875\n",
      "Wind statistics executed in 0.0033359527587890625\n",
      "Time serie 4 of 16 done in 1.914525032043457 sec. Period 24 of 88 done. Number of skipped periods: 12.\n",
      "Cov-SSI executed in 2.187973976135254\n",
      "HDBSCAN executed in 0.04087996482849121\n",
      "Post processing executed in 0.025072813034057617\n",
      "Stabilization diagram executed in 0.18242287635803223\n",
      "Wind statistics executed in 0.003220796585083008\n",
      "Time serie 5 of 16 done in 2.5990028381347656 sec. Period 24 of 88 done. Number of skipped periods: 12.\n"
     ]
    },
    {
     "name": "stderr",
     "output_type": "stream",
     "text": [
      "/var/folders/xg/ddkjb2x96w167hqnv_gjv_v40000gn/T/ipykernel_35796/1427197658.py:87: VisibleDeprecationWarning: Creating an ndarray from ragged nested sequences (which is a list-or-tuple of lists-or-tuples-or ndarrays with different lengths or shapes) is deprecated. If you meant to do this, you must specify 'dtype=object' when creating the ndarray.\n",
      "  stab_diag = stabilization_diagram(acc[j], fs, 2, (np.array(omega_n_auto)/2/np.pi), np.array(order_auto), all_freqs=np.abs(lambd_stab)/2/np.pi, all_orders=orders_stab)\n"
     ]
    },
    {
     "name": "stdout",
     "output_type": "stream",
     "text": [
      "Cov-SSI executed in 1.2090668678283691\n",
      "HDBSCAN executed in 0.034422874450683594\n",
      "Post processing executed in 0.02280902862548828\n"
     ]
    },
    {
     "name": "stderr",
     "output_type": "stream",
     "text": [
      "/var/folders/xg/ddkjb2x96w167hqnv_gjv_v40000gn/T/ipykernel_35796/1427197658.py:87: VisibleDeprecationWarning: Creating an ndarray from ragged nested sequences (which is a list-or-tuple of lists-or-tuples-or ndarrays with different lengths or shapes) is deprecated. If you meant to do this, you must specify 'dtype=object' when creating the ndarray.\n",
      "  stab_diag = stabilization_diagram(acc[j], fs, 2, (np.array(omega_n_auto)/2/np.pi), np.array(order_auto), all_freqs=np.abs(lambd_stab)/2/np.pi, all_orders=orders_stab)\n"
     ]
    },
    {
     "name": "stdout",
     "output_type": "stream",
     "text": [
      "Stabilization diagram executed in 0.18686795234680176\n",
      "Wind statistics executed in 0.003222942352294922\n",
      "Time serie 6 of 16 done in 1.628375768661499 sec. Period 24 of 88 done. Number of skipped periods: 12.\n",
      "Cov-SSI executed in 1.773144006729126\n",
      "HDBSCAN executed in 0.04105377197265625\n"
     ]
    },
    {
     "name": "stderr",
     "output_type": "stream",
     "text": [
      "/Users/emilneby/PyCharmProjects/AOMA_Halogaland/koma/clustering.py:46: RuntimeWarning: divide by zero encountered in divide\n",
      "  diff = (arr1-arr2)/scaling\n",
      "/Users/emilneby/PyCharmProjects/AOMA_Halogaland/koma/clustering.py:46: RuntimeWarning: invalid value encountered in divide\n",
      "  diff = (arr1-arr2)/scaling\n",
      "/var/folders/xg/ddkjb2x96w167hqnv_gjv_v40000gn/T/ipykernel_35796/1427197658.py:87: VisibleDeprecationWarning: Creating an ndarray from ragged nested sequences (which is a list-or-tuple of lists-or-tuples-or ndarrays with different lengths or shapes) is deprecated. If you meant to do this, you must specify 'dtype=object' when creating the ndarray.\n",
      "  stab_diag = stabilization_diagram(acc[j], fs, 2, (np.array(omega_n_auto)/2/np.pi), np.array(order_auto), all_freqs=np.abs(lambd_stab)/2/np.pi, all_orders=orders_stab)\n"
     ]
    },
    {
     "name": "stdout",
     "output_type": "stream",
     "text": [
      "Post processing executed in 0.02641892433166504\n",
      "Stabilization diagram executed in 0.1861262321472168\n",
      "Wind statistics executed in 0.0029718875885009766\n",
      "Time serie 7 of 16 done in 2.189884901046753 sec. Period 24 of 88 done. Number of skipped periods: 12.\n",
      "Cov-SSI executed in 1.8131887912750244\n",
      "HDBSCAN executed in 0.05983710289001465\n",
      "Post processing executed in 0.030311107635498047\n"
     ]
    },
    {
     "name": "stderr",
     "output_type": "stream",
     "text": [
      "/Users/emilneby/PyCharmProjects/AOMA_Halogaland/koma/clustering.py:46: RuntimeWarning: divide by zero encountered in divide\n",
      "  diff = (arr1-arr2)/scaling\n",
      "/Users/emilneby/PyCharmProjects/AOMA_Halogaland/koma/clustering.py:46: RuntimeWarning: invalid value encountered in divide\n",
      "  diff = (arr1-arr2)/scaling\n",
      "/var/folders/xg/ddkjb2x96w167hqnv_gjv_v40000gn/T/ipykernel_35796/1427197658.py:87: VisibleDeprecationWarning: Creating an ndarray from ragged nested sequences (which is a list-or-tuple of lists-or-tuples-or ndarrays with different lengths or shapes) is deprecated. If you meant to do this, you must specify 'dtype=object' when creating the ndarray.\n",
      "  stab_diag = stabilization_diagram(acc[j], fs, 2, (np.array(omega_n_auto)/2/np.pi), np.array(order_auto), all_freqs=np.abs(lambd_stab)/2/np.pi, all_orders=orders_stab)\n"
     ]
    },
    {
     "name": "stdout",
     "output_type": "stream",
     "text": [
      "Stabilization diagram executed in 0.1900467872619629\n",
      "Wind statistics executed in 0.0028448104858398438\n",
      "Time serie 8 of 16 done in 2.3038489818573 sec. Period 24 of 88 done. Number of skipped periods: 12.\n",
      "Cov-SSI executed in 1.185744047164917\n"
     ]
    },
    {
     "name": "stderr",
     "output_type": "stream",
     "text": [
      "/Users/emilneby/PyCharmProjects/AOMA_Halogaland/koma/clustering.py:46: RuntimeWarning: divide by zero encountered in divide\n",
      "  diff = (arr1-arr2)/scaling\n",
      "/Users/emilneby/PyCharmProjects/AOMA_Halogaland/koma/clustering.py:46: RuntimeWarning: invalid value encountered in divide\n",
      "  diff = (arr1-arr2)/scaling\n",
      "/var/folders/xg/ddkjb2x96w167hqnv_gjv_v40000gn/T/ipykernel_35796/1427197658.py:87: VisibleDeprecationWarning: Creating an ndarray from ragged nested sequences (which is a list-or-tuple of lists-or-tuples-or ndarrays with different lengths or shapes) is deprecated. If you meant to do this, you must specify 'dtype=object' when creating the ndarray.\n",
      "  stab_diag = stabilization_diagram(acc[j], fs, 2, (np.array(omega_n_auto)/2/np.pi), np.array(order_auto), all_freqs=np.abs(lambd_stab)/2/np.pi, all_orders=orders_stab)\n"
     ]
    },
    {
     "name": "stdout",
     "output_type": "stream",
     "text": [
      "HDBSCAN executed in 0.04563713073730469\n",
      "Post processing executed in 0.027727842330932617\n",
      "Stabilization diagram executed in 0.1827840805053711\n",
      "Wind statistics executed in 0.002707958221435547\n",
      "Time serie 9 of 16 done in 1.6236119270324707 sec. Period 24 of 88 done. Number of skipped periods: 12.\n",
      "Cov-SSI executed in 2.1847898960113525\n",
      "HDBSCAN executed in 0.04918313026428223\n",
      "Post processing executed in 0.030051708221435547\n"
     ]
    },
    {
     "name": "stderr",
     "output_type": "stream",
     "text": [
      "/var/folders/xg/ddkjb2x96w167hqnv_gjv_v40000gn/T/ipykernel_35796/1427197658.py:87: VisibleDeprecationWarning: Creating an ndarray from ragged nested sequences (which is a list-or-tuple of lists-or-tuples-or ndarrays with different lengths or shapes) is deprecated. If you meant to do this, you must specify 'dtype=object' when creating the ndarray.\n",
      "  stab_diag = stabilization_diagram(acc[j], fs, 2, (np.array(omega_n_auto)/2/np.pi), np.array(order_auto), all_freqs=np.abs(lambd_stab)/2/np.pi, all_orders=orders_stab)\n"
     ]
    },
    {
     "name": "stdout",
     "output_type": "stream",
     "text": [
      "Stabilization diagram executed in 0.6108081340789795\n",
      "Wind statistics executed in 0.0029211044311523438\n",
      "Time serie 10 of 16 done in 3.0442140102386475 sec. Period 24 of 88 done. Number of skipped periods: 12.\n",
      "Cov-SSI executed in 2.9214026927948\n",
      "HDBSCAN executed in 0.04387307167053223\n",
      "Post processing executed in 0.02135777473449707\n"
     ]
    },
    {
     "name": "stderr",
     "output_type": "stream",
     "text": [
      "/Users/emilneby/PyCharmProjects/AOMA_Halogaland/koma/clustering.py:46: RuntimeWarning: divide by zero encountered in divide\n",
      "  diff = (arr1-arr2)/scaling\n",
      "/Users/emilneby/PyCharmProjects/AOMA_Halogaland/koma/clustering.py:46: RuntimeWarning: invalid value encountered in divide\n",
      "  diff = (arr1-arr2)/scaling\n",
      "/var/folders/xg/ddkjb2x96w167hqnv_gjv_v40000gn/T/ipykernel_35796/1427197658.py:87: VisibleDeprecationWarning: Creating an ndarray from ragged nested sequences (which is a list-or-tuple of lists-or-tuples-or ndarrays with different lengths or shapes) is deprecated. If you meant to do this, you must specify 'dtype=object' when creating the ndarray.\n",
      "  stab_diag = stabilization_diagram(acc[j], fs, 2, (np.array(omega_n_auto)/2/np.pi), np.array(order_auto), all_freqs=np.abs(lambd_stab)/2/np.pi, all_orders=orders_stab)\n"
     ]
    },
    {
     "name": "stdout",
     "output_type": "stream",
     "text": [
      "Stabilization diagram executed in 0.21756291389465332\n",
      "Wind statistics executed in 0.0032339096069335938\n",
      "Time serie 11 of 16 done in 3.3764097690582275 sec. Period 24 of 88 done. Number of skipped periods: 12.\n",
      "Cov-SSI executed in 2.961465835571289\n",
      "HDBSCAN executed in 0.05371212959289551\n",
      "Post processing executed in 0.025979995727539062\n"
     ]
    },
    {
     "name": "stderr",
     "output_type": "stream",
     "text": [
      "/var/folders/xg/ddkjb2x96w167hqnv_gjv_v40000gn/T/ipykernel_35796/1427197658.py:87: VisibleDeprecationWarning: Creating an ndarray from ragged nested sequences (which is a list-or-tuple of lists-or-tuples-or ndarrays with different lengths or shapes) is deprecated. If you meant to do this, you must specify 'dtype=object' when creating the ndarray.\n",
      "  stab_diag = stabilization_diagram(acc[j], fs, 2, (np.array(omega_n_auto)/2/np.pi), np.array(order_auto), all_freqs=np.abs(lambd_stab)/2/np.pi, all_orders=orders_stab)\n"
     ]
    },
    {
     "name": "stdout",
     "output_type": "stream",
     "text": [
      "Stabilization diagram executed in 0.20247602462768555\n",
      "Wind statistics executed in 0.00419926643371582\n",
      "Time serie 12 of 16 done in 3.437351942062378 sec. Period 24 of 88 done. Number of skipped periods: 12.\n",
      "Cov-SSI executed in 2.098551034927368\n"
     ]
    },
    {
     "name": "stderr",
     "output_type": "stream",
     "text": [
      "/Users/emilneby/PyCharmProjects/AOMA_Halogaland/koma/clustering.py:46: RuntimeWarning: divide by zero encountered in divide\n",
      "  diff = (arr1-arr2)/scaling\n",
      "/Users/emilneby/PyCharmProjects/AOMA_Halogaland/koma/clustering.py:46: RuntimeWarning: invalid value encountered in divide\n",
      "  diff = (arr1-arr2)/scaling\n",
      "/var/folders/xg/ddkjb2x96w167hqnv_gjv_v40000gn/T/ipykernel_35796/1427197658.py:87: VisibleDeprecationWarning: Creating an ndarray from ragged nested sequences (which is a list-or-tuple of lists-or-tuples-or ndarrays with different lengths or shapes) is deprecated. If you meant to do this, you must specify 'dtype=object' when creating the ndarray.\n",
      "  stab_diag = stabilization_diagram(acc[j], fs, 2, (np.array(omega_n_auto)/2/np.pi), np.array(order_auto), all_freqs=np.abs(lambd_stab)/2/np.pi, all_orders=orders_stab)\n"
     ]
    },
    {
     "name": "stdout",
     "output_type": "stream",
     "text": [
      "HDBSCAN executed in 0.051786184310913086\n",
      "Post processing executed in 0.029915809631347656\n",
      "Stabilization diagram executed in 0.20780587196350098\n",
      "Wind statistics executed in 0.003504037857055664\n",
      "Time serie 13 of 16 done in 2.568065881729126 sec. Period 24 of 88 done. Number of skipped periods: 12.\n",
      "Cov-SSI executed in 2.5996742248535156\n",
      "HDBSCAN executed in 0.03915810585021973\n"
     ]
    },
    {
     "name": "stderr",
     "output_type": "stream",
     "text": [
      "/Users/emilneby/PyCharmProjects/AOMA_Halogaland/koma/clustering.py:46: RuntimeWarning: divide by zero encountered in divide\n",
      "  diff = (arr1-arr2)/scaling\n",
      "/Users/emilneby/PyCharmProjects/AOMA_Halogaland/koma/clustering.py:46: RuntimeWarning: invalid value encountered in divide\n",
      "  diff = (arr1-arr2)/scaling\n",
      "/var/folders/xg/ddkjb2x96w167hqnv_gjv_v40000gn/T/ipykernel_35796/1427197658.py:87: VisibleDeprecationWarning: Creating an ndarray from ragged nested sequences (which is a list-or-tuple of lists-or-tuples-or ndarrays with different lengths or shapes) is deprecated. If you meant to do this, you must specify 'dtype=object' when creating the ndarray.\n",
      "  stab_diag = stabilization_diagram(acc[j], fs, 2, (np.array(omega_n_auto)/2/np.pi), np.array(order_auto), all_freqs=np.abs(lambd_stab)/2/np.pi, all_orders=orders_stab)\n"
     ]
    },
    {
     "name": "stdout",
     "output_type": "stream",
     "text": [
      "Post processing executed in 0.029013633728027344\n",
      "Stabilization diagram executed in 0.18729019165039062\n",
      "Wind statistics executed in 0.003032207489013672\n",
      "Time serie 14 of 16 done in 3.0027482509613037 sec. Period 24 of 88 done. Number of skipped periods: 12.\n",
      "Cov-SSI executed in 2.589233875274658\n",
      "HDBSCAN executed in 0.049041748046875\n",
      "Post processing executed in 0.027841806411743164\n"
     ]
    },
    {
     "name": "stderr",
     "output_type": "stream",
     "text": [
      "/Users/emilneby/PyCharmProjects/AOMA_Halogaland/koma/clustering.py:46: RuntimeWarning: divide by zero encountered in divide\n",
      "  diff = (arr1-arr2)/scaling\n",
      "/Users/emilneby/PyCharmProjects/AOMA_Halogaland/koma/clustering.py:46: RuntimeWarning: invalid value encountered in divide\n",
      "  diff = (arr1-arr2)/scaling\n",
      "/var/folders/xg/ddkjb2x96w167hqnv_gjv_v40000gn/T/ipykernel_35796/1427197658.py:87: VisibleDeprecationWarning: Creating an ndarray from ragged nested sequences (which is a list-or-tuple of lists-or-tuples-or ndarrays with different lengths or shapes) is deprecated. If you meant to do this, you must specify 'dtype=object' when creating the ndarray.\n",
      "  stab_diag = stabilization_diagram(acc[j], fs, 2, (np.array(omega_n_auto)/2/np.pi), np.array(order_auto), all_freqs=np.abs(lambd_stab)/2/np.pi, all_orders=orders_stab)\n"
     ]
    },
    {
     "name": "stdout",
     "output_type": "stream",
     "text": [
      "Stabilization diagram executed in 0.20659375190734863\n",
      "Wind statistics executed in 0.0031690597534179688\n",
      "Time serie 15 of 16 done in 3.055673122406006 sec. Period 24 of 88 done. Number of skipped periods: 12.\n",
      "Cov-SSI executed in 3.5150909423828125\n",
      "HDBSCAN executed in 0.038897037506103516\n",
      "Post processing executed in 0.024422168731689453\n",
      "Stabilization diagram executed in 0.20098304748535156\n",
      "Wind statistics executed in 0.0029020309448242188\n",
      "Time serie 16 of 16 done in 3.9450161457061768 sec. Period 24 of 88 done. Number of skipped periods: 12.\n"
     ]
    },
    {
     "name": "stderr",
     "output_type": "stream",
     "text": [
      "/var/folders/xg/ddkjb2x96w167hqnv_gjv_v40000gn/T/ipykernel_35796/1427197658.py:87: VisibleDeprecationWarning: Creating an ndarray from ragged nested sequences (which is a list-or-tuple of lists-or-tuples-or ndarrays with different lengths or shapes) is deprecated. If you meant to do this, you must specify 'dtype=object' when creating the ndarray.\n",
      "  stab_diag = stabilization_diagram(acc[j], fs, 2, (np.array(omega_n_auto)/2/np.pi), np.array(order_auto), all_freqs=np.abs(lambd_stab)/2/np.pi, all_orders=orders_stab)\n"
     ]
    },
    {
     "name": "stdout",
     "output_type": "stream",
     "text": [
      "Cov-SSI executed in 2.4701130390167236\n",
      "HDBSCAN executed in 0.0381169319152832\n",
      "Post processing executed in 0.02320694923400879\n"
     ]
    },
    {
     "name": "stderr",
     "output_type": "stream",
     "text": [
      "/var/folders/xg/ddkjb2x96w167hqnv_gjv_v40000gn/T/ipykernel_35796/1427197658.py:87: VisibleDeprecationWarning: Creating an ndarray from ragged nested sequences (which is a list-or-tuple of lists-or-tuples-or ndarrays with different lengths or shapes) is deprecated. If you meant to do this, you must specify 'dtype=object' when creating the ndarray.\n",
      "  stab_diag = stabilization_diagram(acc[j], fs, 2, (np.array(omega_n_auto)/2/np.pi), np.array(order_auto), all_freqs=np.abs(lambd_stab)/2/np.pi, all_orders=orders_stab)\n"
     ]
    },
    {
     "name": "stdout",
     "output_type": "stream",
     "text": [
      "Stabilization diagram executed in 0.2120511531829834\n",
      "Wind statistics executed in 0.013275146484375\n",
      "Time serie 1 of 16 done in 2.9416491985321045 sec. Period 25 of 88 done. Number of skipped periods: 12.\n",
      "Cov-SSI executed in 2.78275465965271\n",
      "HDBSCAN executed in 0.049278974533081055\n",
      "Post processing executed in 0.028659343719482422\n"
     ]
    },
    {
     "name": "stderr",
     "output_type": "stream",
     "text": [
      "/Users/emilneby/PyCharmProjects/AOMA_Halogaland/koma/clustering.py:46: RuntimeWarning: divide by zero encountered in divide\n",
      "  diff = (arr1-arr2)/scaling\n",
      "/Users/emilneby/PyCharmProjects/AOMA_Halogaland/koma/clustering.py:46: RuntimeWarning: invalid value encountered in divide\n",
      "  diff = (arr1-arr2)/scaling\n",
      "/var/folders/xg/ddkjb2x96w167hqnv_gjv_v40000gn/T/ipykernel_35796/1427197658.py:87: VisibleDeprecationWarning: Creating an ndarray from ragged nested sequences (which is a list-or-tuple of lists-or-tuples-or ndarrays with different lengths or shapes) is deprecated. If you meant to do this, you must specify 'dtype=object' when creating the ndarray.\n",
      "  stab_diag = stabilization_diagram(acc[j], fs, 2, (np.array(omega_n_auto)/2/np.pi), np.array(order_auto), all_freqs=np.abs(lambd_stab)/2/np.pi, all_orders=orders_stab)\n"
     ]
    },
    {
     "name": "stdout",
     "output_type": "stream",
     "text": [
      "Stabilization diagram executed in 0.20765423774719238\n",
      "Wind statistics executed in 0.0029959678649902344\n",
      "Time serie 2 of 16 done in 3.255143880844116 sec. Period 25 of 88 done. Number of skipped periods: 12.\n",
      "Cov-SSI executed in 2.137578010559082\n",
      "HDBSCAN executed in 0.041998863220214844\n"
     ]
    },
    {
     "name": "stderr",
     "output_type": "stream",
     "text": [
      "/Users/emilneby/PyCharmProjects/AOMA_Halogaland/koma/clustering.py:46: RuntimeWarning: divide by zero encountered in divide\n",
      "  diff = (arr1-arr2)/scaling\n",
      "/Users/emilneby/PyCharmProjects/AOMA_Halogaland/koma/clustering.py:46: RuntimeWarning: invalid value encountered in divide\n",
      "  diff = (arr1-arr2)/scaling\n",
      "/var/folders/xg/ddkjb2x96w167hqnv_gjv_v40000gn/T/ipykernel_35796/1427197658.py:87: VisibleDeprecationWarning: Creating an ndarray from ragged nested sequences (which is a list-or-tuple of lists-or-tuples-or ndarrays with different lengths or shapes) is deprecated. If you meant to do this, you must specify 'dtype=object' when creating the ndarray.\n",
      "  stab_diag = stabilization_diagram(acc[j], fs, 2, (np.array(omega_n_auto)/2/np.pi), np.array(order_auto), all_freqs=np.abs(lambd_stab)/2/np.pi, all_orders=orders_stab)\n"
     ]
    },
    {
     "name": "stdout",
     "output_type": "stream",
     "text": [
      "Post processing executed in 0.02487778663635254\n",
      "Stabilization diagram executed in 0.18988919258117676\n",
      "Wind statistics executed in 0.002763032913208008\n",
      "Time serie 3 of 16 done in 2.5503199100494385 sec. Period 25 of 88 done. Number of skipped periods: 12.\n",
      "Cov-SSI executed in 1.17155122756958\n",
      "HDBSCAN executed in 0.0412600040435791\n",
      "Post processing executed in 0.02613997459411621\n"
     ]
    },
    {
     "name": "stderr",
     "output_type": "stream",
     "text": [
      "/Users/emilneby/PyCharmProjects/AOMA_Halogaland/koma/clustering.py:46: RuntimeWarning: divide by zero encountered in divide\n",
      "  diff = (arr1-arr2)/scaling\n",
      "/Users/emilneby/PyCharmProjects/AOMA_Halogaland/koma/clustering.py:46: RuntimeWarning: invalid value encountered in divide\n",
      "  diff = (arr1-arr2)/scaling\n",
      "/var/folders/xg/ddkjb2x96w167hqnv_gjv_v40000gn/T/ipykernel_35796/1427197658.py:87: VisibleDeprecationWarning: Creating an ndarray from ragged nested sequences (which is a list-or-tuple of lists-or-tuples-or ndarrays with different lengths or shapes) is deprecated. If you meant to do this, you must specify 'dtype=object' when creating the ndarray.\n",
      "  stab_diag = stabilization_diagram(acc[j], fs, 2, (np.array(omega_n_auto)/2/np.pi), np.array(order_auto), all_freqs=np.abs(lambd_stab)/2/np.pi, all_orders=orders_stab)\n"
     ]
    },
    {
     "name": "stdout",
     "output_type": "stream",
     "text": [
      "Stabilization diagram executed in 0.1904587745666504\n",
      "Wind statistics executed in 0.0031418800354003906\n",
      "Time serie 4 of 16 done in 1.6314761638641357 sec. Period 25 of 88 done. Number of skipped periods: 12.\n",
      "Cov-SSI executed in 2.450850248336792\n",
      "HDBSCAN executed in 0.045744895935058594\n",
      "Post processing executed in 0.028667926788330078\n",
      "Stabilization diagram executed in 0.19069409370422363\n",
      "Wind statistics executed in 0.0026853084564208984\n",
      "Time serie 5 of 16 done in 2.8921401500701904 sec. Period 25 of 88 done. Number of skipped periods: 12.\n"
     ]
    },
    {
     "name": "stderr",
     "output_type": "stream",
     "text": [
      "/var/folders/xg/ddkjb2x96w167hqnv_gjv_v40000gn/T/ipykernel_35796/1427197658.py:87: VisibleDeprecationWarning: Creating an ndarray from ragged nested sequences (which is a list-or-tuple of lists-or-tuples-or ndarrays with different lengths or shapes) is deprecated. If you meant to do this, you must specify 'dtype=object' when creating the ndarray.\n",
      "  stab_diag = stabilization_diagram(acc[j], fs, 2, (np.array(omega_n_auto)/2/np.pi), np.array(order_auto), all_freqs=np.abs(lambd_stab)/2/np.pi, all_orders=orders_stab)\n"
     ]
    },
    {
     "name": "stdout",
     "output_type": "stream",
     "text": [
      "Cov-SSI executed in 2.0761890411376953\n",
      "HDBSCAN executed in 0.04448294639587402\n"
     ]
    },
    {
     "name": "stderr",
     "output_type": "stream",
     "text": [
      "/Users/emilneby/PyCharmProjects/AOMA_Halogaland/koma/clustering.py:46: RuntimeWarning: divide by zero encountered in divide\n",
      "  diff = (arr1-arr2)/scaling\n",
      "/Users/emilneby/PyCharmProjects/AOMA_Halogaland/koma/clustering.py:46: RuntimeWarning: invalid value encountered in divide\n",
      "  diff = (arr1-arr2)/scaling\n",
      "/var/folders/xg/ddkjb2x96w167hqnv_gjv_v40000gn/T/ipykernel_35796/1427197658.py:87: VisibleDeprecationWarning: Creating an ndarray from ragged nested sequences (which is a list-or-tuple of lists-or-tuples-or ndarrays with different lengths or shapes) is deprecated. If you meant to do this, you must specify 'dtype=object' when creating the ndarray.\n",
      "  stab_diag = stabilization_diagram(acc[j], fs, 2, (np.array(omega_n_auto)/2/np.pi), np.array(order_auto), all_freqs=np.abs(lambd_stab)/2/np.pi, all_orders=orders_stab)\n"
     ]
    },
    {
     "name": "stdout",
     "output_type": "stream",
     "text": [
      "Post processing executed in 0.026083946228027344\n",
      "Stabilization diagram executed in 0.19012188911437988\n",
      "Wind statistics executed in 0.002892017364501953\n",
      "Time serie 6 of 16 done in 2.507089853286743 sec. Period 25 of 88 done. Number of skipped periods: 12.\n",
      "Cov-SSI executed in 2.1706528663635254\n",
      "HDBSCAN executed in 0.046061038970947266\n",
      "Post processing executed in 0.025711774826049805\n"
     ]
    },
    {
     "name": "stderr",
     "output_type": "stream",
     "text": [
      "/Users/emilneby/PyCharmProjects/AOMA_Halogaland/koma/clustering.py:46: RuntimeWarning: divide by zero encountered in divide\n",
      "  diff = (arr1-arr2)/scaling\n",
      "/Users/emilneby/PyCharmProjects/AOMA_Halogaland/koma/clustering.py:46: RuntimeWarning: invalid value encountered in divide\n",
      "  diff = (arr1-arr2)/scaling\n",
      "/var/folders/xg/ddkjb2x96w167hqnv_gjv_v40000gn/T/ipykernel_35796/1427197658.py:87: VisibleDeprecationWarning: Creating an ndarray from ragged nested sequences (which is a list-or-tuple of lists-or-tuples-or ndarrays with different lengths or shapes) is deprecated. If you meant to do this, you must specify 'dtype=object' when creating the ndarray.\n",
      "  stab_diag = stabilization_diagram(acc[j], fs, 2, (np.array(omega_n_auto)/2/np.pi), np.array(order_auto), all_freqs=np.abs(lambd_stab)/2/np.pi, all_orders=orders_stab)\n"
     ]
    },
    {
     "name": "stdout",
     "output_type": "stream",
     "text": [
      "Stabilization diagram executed in 0.20314788818359375\n",
      "Wind statistics executed in 0.002620220184326172\n",
      "Time serie 7 of 16 done in 2.642874002456665 sec. Period 25 of 88 done. Number of skipped periods: 12.\n",
      "Cov-SSI executed in 2.1039340496063232\n",
      "HDBSCAN executed in 0.03808879852294922\n",
      "Post processing executed in 0.023415803909301758\n"
     ]
    },
    {
     "name": "stderr",
     "output_type": "stream",
     "text": [
      "/var/folders/xg/ddkjb2x96w167hqnv_gjv_v40000gn/T/ipykernel_35796/1427197658.py:87: VisibleDeprecationWarning: Creating an ndarray from ragged nested sequences (which is a list-or-tuple of lists-or-tuples-or ndarrays with different lengths or shapes) is deprecated. If you meant to do this, you must specify 'dtype=object' when creating the ndarray.\n",
      "  stab_diag = stabilization_diagram(acc[j], fs, 2, (np.array(omega_n_auto)/2/np.pi), np.array(order_auto), all_freqs=np.abs(lambd_stab)/2/np.pi, all_orders=orders_stab)\n"
     ]
    },
    {
     "name": "stdout",
     "output_type": "stream",
     "text": [
      "Stabilization diagram executed in 0.20238423347473145\n",
      "Wind statistics executed in 0.003038167953491211\n",
      "Time serie 8 of 16 done in 2.5617637634277344 sec. Period 25 of 88 done. Number of skipped periods: 12.\n",
      "Cov-SSI executed in 1.7593169212341309\n",
      "HDBSCAN executed in 0.03586101531982422\n",
      "Post processing executed in 0.023084163665771484\n"
     ]
    },
    {
     "name": "stderr",
     "output_type": "stream",
     "text": [
      "/var/folders/xg/ddkjb2x96w167hqnv_gjv_v40000gn/T/ipykernel_35796/1427197658.py:87: VisibleDeprecationWarning: Creating an ndarray from ragged nested sequences (which is a list-or-tuple of lists-or-tuples-or ndarrays with different lengths or shapes) is deprecated. If you meant to do this, you must specify 'dtype=object' when creating the ndarray.\n",
      "  stab_diag = stabilization_diagram(acc[j], fs, 2, (np.array(omega_n_auto)/2/np.pi), np.array(order_auto), all_freqs=np.abs(lambd_stab)/2/np.pi, all_orders=orders_stab)\n"
     ]
    },
    {
     "name": "stdout",
     "output_type": "stream",
     "text": [
      "Stabilization diagram executed in 0.19753074645996094\n",
      "Wind statistics executed in 0.002988100051879883\n",
      "Time serie 9 of 16 done in 2.2012147903442383 sec. Period 25 of 88 done. Number of skipped periods: 12.\n",
      "Cov-SSI executed in 1.4842617511749268\n",
      "HDBSCAN executed in 0.04400300979614258\n",
      "Post processing executed in 0.027325868606567383\n"
     ]
    },
    {
     "name": "stderr",
     "output_type": "stream",
     "text": [
      "/Users/emilneby/PyCharmProjects/AOMA_Halogaland/koma/clustering.py:46: RuntimeWarning: divide by zero encountered in divide\n",
      "  diff = (arr1-arr2)/scaling\n",
      "/Users/emilneby/PyCharmProjects/AOMA_Halogaland/koma/clustering.py:46: RuntimeWarning: invalid value encountered in divide\n",
      "  diff = (arr1-arr2)/scaling\n",
      "/var/folders/xg/ddkjb2x96w167hqnv_gjv_v40000gn/T/ipykernel_35796/1427197658.py:87: VisibleDeprecationWarning: Creating an ndarray from ragged nested sequences (which is a list-or-tuple of lists-or-tuples-or ndarrays with different lengths or shapes) is deprecated. If you meant to do this, you must specify 'dtype=object' when creating the ndarray.\n",
      "  stab_diag = stabilization_diagram(acc[j], fs, 2, (np.array(omega_n_auto)/2/np.pi), np.array(order_auto), all_freqs=np.abs(lambd_stab)/2/np.pi, all_orders=orders_stab)\n"
     ]
    },
    {
     "name": "stdout",
     "output_type": "stream",
     "text": [
      "Stabilization diagram executed in 0.19012713432312012\n",
      "Wind statistics executed in 0.002899169921875\n",
      "Time serie 10 of 16 done in 1.9382410049438477 sec. Period 25 of 88 done. Number of skipped periods: 12.\n",
      "Cov-SSI executed in 2.9475371837615967\n",
      "HDBSCAN executed in 0.04352593421936035\n",
      "Post processing executed in 0.026552915573120117\n"
     ]
    },
    {
     "name": "stderr",
     "output_type": "stream",
     "text": [
      "/Users/emilneby/PyCharmProjects/AOMA_Halogaland/koma/clustering.py:46: RuntimeWarning: divide by zero encountered in divide\n",
      "  diff = (arr1-arr2)/scaling\n",
      "/Users/emilneby/PyCharmProjects/AOMA_Halogaland/koma/clustering.py:46: RuntimeWarning: invalid value encountered in divide\n",
      "  diff = (arr1-arr2)/scaling\n",
      "/var/folders/xg/ddkjb2x96w167hqnv_gjv_v40000gn/T/ipykernel_35796/1427197658.py:87: VisibleDeprecationWarning: Creating an ndarray from ragged nested sequences (which is a list-or-tuple of lists-or-tuples-or ndarrays with different lengths or shapes) is deprecated. If you meant to do this, you must specify 'dtype=object' when creating the ndarray.\n",
      "  stab_diag = stabilization_diagram(acc[j], fs, 2, (np.array(omega_n_auto)/2/np.pi), np.array(order_auto), all_freqs=np.abs(lambd_stab)/2/np.pi, all_orders=orders_stab)\n"
     ]
    },
    {
     "name": "stdout",
     "output_type": "stream",
     "text": [
      "Stabilization diagram executed in 0.22324800491333008\n",
      "Wind statistics executed in 0.020815134048461914\n",
      "Time serie 11 of 16 done in 3.4334592819213867 sec. Period 25 of 88 done. Number of skipped periods: 12.\n",
      "Cov-SSI executed in 2.1255569458007812\n"
     ]
    },
    {
     "name": "stderr",
     "output_type": "stream",
     "text": [
      "/Users/emilneby/PyCharmProjects/AOMA_Halogaland/koma/clustering.py:46: RuntimeWarning: divide by zero encountered in divide\n",
      "  diff = (arr1-arr2)/scaling\n",
      "/Users/emilneby/PyCharmProjects/AOMA_Halogaland/koma/clustering.py:46: RuntimeWarning: invalid value encountered in divide\n",
      "  diff = (arr1-arr2)/scaling\n",
      "/var/folders/xg/ddkjb2x96w167hqnv_gjv_v40000gn/T/ipykernel_35796/1427197658.py:87: VisibleDeprecationWarning: Creating an ndarray from ragged nested sequences (which is a list-or-tuple of lists-or-tuples-or ndarrays with different lengths or shapes) is deprecated. If you meant to do this, you must specify 'dtype=object' when creating the ndarray.\n",
      "  stab_diag = stabilization_diagram(acc[j], fs, 2, (np.array(omega_n_auto)/2/np.pi), np.array(order_auto), all_freqs=np.abs(lambd_stab)/2/np.pi, all_orders=orders_stab)\n"
     ]
    },
    {
     "name": "stdout",
     "output_type": "stream",
     "text": [
      "HDBSCAN executed in 0.04592013359069824\n",
      "Post processing executed in 0.027920961380004883\n",
      "Stabilization diagram executed in 0.2017049789428711\n",
      "Wind statistics executed in 0.002952098846435547\n",
      "Time serie 12 of 16 done in 2.5693070888519287 sec. Period 25 of 88 done. Number of skipped periods: 12.\n",
      "Cov-SSI executed in 1.7481977939605713\n",
      "HDBSCAN executed in 0.04419398307800293\n",
      "Post processing executed in 0.024734973907470703\n"
     ]
    },
    {
     "name": "stderr",
     "output_type": "stream",
     "text": [
      "/var/folders/xg/ddkjb2x96w167hqnv_gjv_v40000gn/T/ipykernel_35796/1427197658.py:87: VisibleDeprecationWarning: Creating an ndarray from ragged nested sequences (which is a list-or-tuple of lists-or-tuples-or ndarrays with different lengths or shapes) is deprecated. If you meant to do this, you must specify 'dtype=object' when creating the ndarray.\n",
      "  stab_diag = stabilization_diagram(acc[j], fs, 2, (np.array(omega_n_auto)/2/np.pi), np.array(order_auto), all_freqs=np.abs(lambd_stab)/2/np.pi, all_orders=orders_stab)\n"
     ]
    },
    {
     "name": "stdout",
     "output_type": "stream",
     "text": [
      "Stabilization diagram executed in 0.2162609100341797\n",
      "Wind statistics executed in 0.003616809844970703\n",
      "Time serie 13 of 16 done in 2.2196359634399414 sec. Period 25 of 88 done. Number of skipped periods: 12.\n",
      "Cov-SSI executed in 1.9367010593414307\n",
      "HDBSCAN executed in 0.034963130950927734\n"
     ]
    },
    {
     "name": "stderr",
     "output_type": "stream",
     "text": [
      "/Users/emilneby/PyCharmProjects/AOMA_Halogaland/koma/clustering.py:46: RuntimeWarning: divide by zero encountered in divide\n",
      "  diff = (arr1-arr2)/scaling\n",
      "/Users/emilneby/PyCharmProjects/AOMA_Halogaland/koma/clustering.py:46: RuntimeWarning: invalid value encountered in divide\n",
      "  diff = (arr1-arr2)/scaling\n",
      "/var/folders/xg/ddkjb2x96w167hqnv_gjv_v40000gn/T/ipykernel_35796/1427197658.py:87: VisibleDeprecationWarning: Creating an ndarray from ragged nested sequences (which is a list-or-tuple of lists-or-tuples-or ndarrays with different lengths or shapes) is deprecated. If you meant to do this, you must specify 'dtype=object' when creating the ndarray.\n",
      "  stab_diag = stabilization_diagram(acc[j], fs, 2, (np.array(omega_n_auto)/2/np.pi), np.array(order_auto), all_freqs=np.abs(lambd_stab)/2/np.pi, all_orders=orders_stab)\n"
     ]
    },
    {
     "name": "stdout",
     "output_type": "stream",
     "text": [
      "Post processing executed in 0.023450136184692383\n",
      "Stabilization diagram executed in 0.2106168270111084\n",
      "Wind statistics executed in 0.0032761096954345703\n",
      "Time serie 14 of 16 done in 2.3626902103424072 sec. Period 25 of 88 done. Number of skipped periods: 12.\n",
      "Cov-SSI executed in 1.815180778503418\n",
      "HDBSCAN executed in 0.042456626892089844\n",
      "Post processing executed in 0.026814937591552734\n",
      "Stabilization diagram executed in 0.20811104774475098\n",
      "Wind statistics executed in 0.002775907516479492\n",
      "Time serie 15 of 16 done in 2.2588579654693604 sec. Period 25 of 88 done. Number of skipped periods: 12.\n"
     ]
    },
    {
     "name": "stderr",
     "output_type": "stream",
     "text": [
      "/var/folders/xg/ddkjb2x96w167hqnv_gjv_v40000gn/T/ipykernel_35796/1427197658.py:87: VisibleDeprecationWarning: Creating an ndarray from ragged nested sequences (which is a list-or-tuple of lists-or-tuples-or ndarrays with different lengths or shapes) is deprecated. If you meant to do this, you must specify 'dtype=object' when creating the ndarray.\n",
      "  stab_diag = stabilization_diagram(acc[j], fs, 2, (np.array(omega_n_auto)/2/np.pi), np.array(order_auto), all_freqs=np.abs(lambd_stab)/2/np.pi, all_orders=orders_stab)\n"
     ]
    },
    {
     "name": "stdout",
     "output_type": "stream",
     "text": [
      "Cov-SSI executed in 2.8939309120178223\n",
      "HDBSCAN executed in 0.043257951736450195\n",
      "Post processing executed in 0.023717880249023438\n"
     ]
    },
    {
     "name": "stderr",
     "output_type": "stream",
     "text": [
      "/Users/emilneby/PyCharmProjects/AOMA_Halogaland/koma/clustering.py:46: RuntimeWarning: divide by zero encountered in divide\n",
      "  diff = (arr1-arr2)/scaling\n",
      "/Users/emilneby/PyCharmProjects/AOMA_Halogaland/koma/clustering.py:46: RuntimeWarning: invalid value encountered in divide\n",
      "  diff = (arr1-arr2)/scaling\n",
      "/var/folders/xg/ddkjb2x96w167hqnv_gjv_v40000gn/T/ipykernel_35796/1427197658.py:87: VisibleDeprecationWarning: Creating an ndarray from ragged nested sequences (which is a list-or-tuple of lists-or-tuples-or ndarrays with different lengths or shapes) is deprecated. If you meant to do this, you must specify 'dtype=object' when creating the ndarray.\n",
      "  stab_diag = stabilization_diagram(acc[j], fs, 2, (np.array(omega_n_auto)/2/np.pi), np.array(order_auto), all_freqs=np.abs(lambd_stab)/2/np.pi, all_orders=orders_stab)\n"
     ]
    },
    {
     "name": "stdout",
     "output_type": "stream",
     "text": [
      "Stabilization diagram executed in 0.2092878818511963\n",
      "Wind statistics executed in 0.0036439895629882812\n",
      "Time serie 16 of 16 done in 3.3593716621398926 sec. Period 25 of 88 done. Number of skipped periods: 12.\n",
      "Cov-SSI executed in 2.7391459941864014\n",
      "HDBSCAN executed in 0.030935049057006836\n",
      "Post processing executed in 0.020527124404907227\n"
     ]
    },
    {
     "name": "stderr",
     "output_type": "stream",
     "text": [
      "/Users/emilneby/PyCharmProjects/AOMA_Halogaland/koma/clustering.py:46: RuntimeWarning: divide by zero encountered in divide\n",
      "  diff = (arr1-arr2)/scaling\n",
      "/Users/emilneby/PyCharmProjects/AOMA_Halogaland/koma/clustering.py:46: RuntimeWarning: invalid value encountered in divide\n",
      "  diff = (arr1-arr2)/scaling\n",
      "/var/folders/xg/ddkjb2x96w167hqnv_gjv_v40000gn/T/ipykernel_35796/1427197658.py:87: VisibleDeprecationWarning: Creating an ndarray from ragged nested sequences (which is a list-or-tuple of lists-or-tuples-or ndarrays with different lengths or shapes) is deprecated. If you meant to do this, you must specify 'dtype=object' when creating the ndarray.\n",
      "  stab_diag = stabilization_diagram(acc[j], fs, 2, (np.array(omega_n_auto)/2/np.pi), np.array(order_auto), all_freqs=np.abs(lambd_stab)/2/np.pi, all_orders=orders_stab)\n"
     ]
    },
    {
     "name": "stdout",
     "output_type": "stream",
     "text": [
      "Stabilization diagram executed in 0.18977904319763184\n",
      "Wind statistics executed in 0.017310142517089844\n",
      "Time serie 1 of 16 done in 3.1467251777648926 sec. Period 26 of 88 done. Number of skipped periods: 12.\n",
      "Cov-SSI executed in 1.322402000427246\n",
      "HDBSCAN executed in 0.033067941665649414\n",
      "Post processing executed in 0.021250009536743164\n"
     ]
    },
    {
     "name": "stderr",
     "output_type": "stream",
     "text": [
      "/Users/emilneby/PyCharmProjects/AOMA_Halogaland/koma/clustering.py:46: RuntimeWarning: divide by zero encountered in divide\n",
      "  diff = (arr1-arr2)/scaling\n",
      "/Users/emilneby/PyCharmProjects/AOMA_Halogaland/koma/clustering.py:46: RuntimeWarning: invalid value encountered in divide\n",
      "  diff = (arr1-arr2)/scaling\n",
      "/var/folders/xg/ddkjb2x96w167hqnv_gjv_v40000gn/T/ipykernel_35796/1427197658.py:87: VisibleDeprecationWarning: Creating an ndarray from ragged nested sequences (which is a list-or-tuple of lists-or-tuples-or ndarrays with different lengths or shapes) is deprecated. If you meant to do this, you must specify 'dtype=object' when creating the ndarray.\n",
      "  stab_diag = stabilization_diagram(acc[j], fs, 2, (np.array(omega_n_auto)/2/np.pi), np.array(order_auto), all_freqs=np.abs(lambd_stab)/2/np.pi, all_orders=orders_stab)\n"
     ]
    },
    {
     "name": "stdout",
     "output_type": "stream",
     "text": [
      "Stabilization diagram executed in 0.18744301795959473\n",
      "Wind statistics executed in 0.003773212432861328\n",
      "Time serie 2 of 16 done in 1.7469861507415771 sec. Period 26 of 88 done. Number of skipped periods: 12.\n",
      "Cov-SSI executed in 1.7787399291992188\n",
      "HDBSCAN executed in 0.053642988204956055\n",
      "Post processing executed in 0.024378061294555664\n"
     ]
    },
    {
     "name": "stderr",
     "output_type": "stream",
     "text": [
      "/var/folders/xg/ddkjb2x96w167hqnv_gjv_v40000gn/T/ipykernel_35796/1427197658.py:87: VisibleDeprecationWarning: Creating an ndarray from ragged nested sequences (which is a list-or-tuple of lists-or-tuples-or ndarrays with different lengths or shapes) is deprecated. If you meant to do this, you must specify 'dtype=object' when creating the ndarray.\n",
      "  stab_diag = stabilization_diagram(acc[j], fs, 2, (np.array(omega_n_auto)/2/np.pi), np.array(order_auto), all_freqs=np.abs(lambd_stab)/2/np.pi, all_orders=orders_stab)\n"
     ]
    },
    {
     "name": "stdout",
     "output_type": "stream",
     "text": [
      "Stabilization diagram executed in 0.18930506706237793\n",
      "Wind statistics executed in 0.0061092376708984375\n",
      "Time serie 3 of 16 done in 2.2117388248443604 sec. Period 26 of 88 done. Number of skipped periods: 12.\n",
      "Cov-SSI executed in 1.3105809688568115\n",
      "HDBSCAN executed in 0.037799835205078125\n"
     ]
    },
    {
     "name": "stderr",
     "output_type": "stream",
     "text": [
      "/Users/emilneby/PyCharmProjects/AOMA_Halogaland/koma/clustering.py:46: RuntimeWarning: divide by zero encountered in divide\n",
      "  diff = (arr1-arr2)/scaling\n",
      "/Users/emilneby/PyCharmProjects/AOMA_Halogaland/koma/clustering.py:46: RuntimeWarning: invalid value encountered in divide\n",
      "  diff = (arr1-arr2)/scaling\n",
      "/var/folders/xg/ddkjb2x96w167hqnv_gjv_v40000gn/T/ipykernel_35796/1427197658.py:87: VisibleDeprecationWarning: Creating an ndarray from ragged nested sequences (which is a list-or-tuple of lists-or-tuples-or ndarrays with different lengths or shapes) is deprecated. If you meant to do this, you must specify 'dtype=object' when creating the ndarray.\n",
      "  stab_diag = stabilization_diagram(acc[j], fs, 2, (np.array(omega_n_auto)/2/np.pi), np.array(order_auto), all_freqs=np.abs(lambd_stab)/2/np.pi, all_orders=orders_stab)\n"
     ]
    },
    {
     "name": "stdout",
     "output_type": "stream",
     "text": [
      "Post processing executed in 0.02541494369506836\n",
      "Stabilization diagram executed in 0.18758082389831543\n",
      "Wind statistics executed in 0.0027201175689697266\n",
      "Time serie 4 of 16 done in 1.7216970920562744 sec. Period 26 of 88 done. Number of skipped periods: 12.\n",
      "Cov-SSI executed in 1.1990740299224854\n",
      "HDBSCAN executed in 0.03620505332946777\n",
      "Post processing executed in 0.023920297622680664\n",
      "Stabilization diagram executed in 0.2044517993927002\n",
      "Wind statistics executed in 0.002809762954711914\n",
      "Time serie 5 of 16 done in 1.6517078876495361 sec. Period 26 of 88 done. Number of skipped periods: 12.\n"
     ]
    },
    {
     "name": "stderr",
     "output_type": "stream",
     "text": [
      "/var/folders/xg/ddkjb2x96w167hqnv_gjv_v40000gn/T/ipykernel_35796/1427197658.py:87: VisibleDeprecationWarning: Creating an ndarray from ragged nested sequences (which is a list-or-tuple of lists-or-tuples-or ndarrays with different lengths or shapes) is deprecated. If you meant to do this, you must specify 'dtype=object' when creating the ndarray.\n",
      "  stab_diag = stabilization_diagram(acc[j], fs, 2, (np.array(omega_n_auto)/2/np.pi), np.array(order_auto), all_freqs=np.abs(lambd_stab)/2/np.pi, all_orders=orders_stab)\n"
     ]
    },
    {
     "name": "stdout",
     "output_type": "stream",
     "text": [
      "Cov-SSI executed in 1.7692852020263672\n",
      "HDBSCAN executed in 0.04715394973754883\n",
      "Post processing executed in 0.02569293975830078\n"
     ]
    },
    {
     "name": "stderr",
     "output_type": "stream",
     "text": [
      "/var/folders/xg/ddkjb2x96w167hqnv_gjv_v40000gn/T/ipykernel_35796/1427197658.py:87: VisibleDeprecationWarning: Creating an ndarray from ragged nested sequences (which is a list-or-tuple of lists-or-tuples-or ndarrays with different lengths or shapes) is deprecated. If you meant to do this, you must specify 'dtype=object' when creating the ndarray.\n",
      "  stab_diag = stabilization_diagram(acc[j], fs, 2, (np.array(omega_n_auto)/2/np.pi), np.array(order_auto), all_freqs=np.abs(lambd_stab)/2/np.pi, all_orders=orders_stab)\n"
     ]
    },
    {
     "name": "stdout",
     "output_type": "stream",
     "text": [
      "Stabilization diagram executed in 0.18683815002441406\n",
      "Wind statistics executed in 0.0031571388244628906\n",
      "Time serie 6 of 16 done in 2.2358059883117676 sec. Period 26 of 88 done. Number of skipped periods: 12.\n",
      "Cov-SSI executed in 1.2386467456817627\n",
      "HDBSCAN executed in 0.03496122360229492\n",
      "Post processing executed in 0.02196216583251953\n"
     ]
    },
    {
     "name": "stderr",
     "output_type": "stream",
     "text": [
      "/var/folders/xg/ddkjb2x96w167hqnv_gjv_v40000gn/T/ipykernel_35796/1427197658.py:87: VisibleDeprecationWarning: Creating an ndarray from ragged nested sequences (which is a list-or-tuple of lists-or-tuples-or ndarrays with different lengths or shapes) is deprecated. If you meant to do this, you must specify 'dtype=object' when creating the ndarray.\n",
      "  stab_diag = stabilization_diagram(acc[j], fs, 2, (np.array(omega_n_auto)/2/np.pi), np.array(order_auto), all_freqs=np.abs(lambd_stab)/2/np.pi, all_orders=orders_stab)\n"
     ]
    },
    {
     "name": "stdout",
     "output_type": "stream",
     "text": [
      "Stabilization diagram executed in 0.1862471103668213\n",
      "Wind statistics executed in 0.0029077529907226562\n",
      "Time serie 7 of 16 done in 1.6714277267456055 sec. Period 26 of 88 done. Number of skipped periods: 12.\n",
      "Cov-SSI executed in 2.2102949619293213\n",
      "HDBSCAN executed in 0.040979862213134766\n",
      "Post processing executed in 0.024033784866333008\n"
     ]
    },
    {
     "name": "stderr",
     "output_type": "stream",
     "text": [
      "/Users/emilneby/PyCharmProjects/AOMA_Halogaland/koma/clustering.py:46: RuntimeWarning: divide by zero encountered in divide\n",
      "  diff = (arr1-arr2)/scaling\n",
      "/Users/emilneby/PyCharmProjects/AOMA_Halogaland/koma/clustering.py:46: RuntimeWarning: invalid value encountered in divide\n",
      "  diff = (arr1-arr2)/scaling\n",
      "/var/folders/xg/ddkjb2x96w167hqnv_gjv_v40000gn/T/ipykernel_35796/1427197658.py:87: VisibleDeprecationWarning: Creating an ndarray from ragged nested sequences (which is a list-or-tuple of lists-or-tuples-or ndarrays with different lengths or shapes) is deprecated. If you meant to do this, you must specify 'dtype=object' when creating the ndarray.\n",
      "  stab_diag = stabilization_diagram(acc[j], fs, 2, (np.array(omega_n_auto)/2/np.pi), np.array(order_auto), all_freqs=np.abs(lambd_stab)/2/np.pi, all_orders=orders_stab)\n"
     ]
    },
    {
     "name": "stdout",
     "output_type": "stream",
     "text": [
      "Stabilization diagram executed in 0.18924999237060547\n",
      "Wind statistics executed in 0.003377199172973633\n",
      "Time serie 8 of 16 done in 2.630876302719116 sec. Period 26 of 88 done. Number of skipped periods: 12.\n",
      "Cov-SSI executed in 1.675935983657837\n",
      "HDBSCAN executed in 0.0410161018371582\n",
      "Post processing executed in 0.024740219116210938\n"
     ]
    },
    {
     "name": "stderr",
     "output_type": "stream",
     "text": [
      "/var/folders/xg/ddkjb2x96w167hqnv_gjv_v40000gn/T/ipykernel_35796/1427197658.py:87: VisibleDeprecationWarning: Creating an ndarray from ragged nested sequences (which is a list-or-tuple of lists-or-tuples-or ndarrays with different lengths or shapes) is deprecated. If you meant to do this, you must specify 'dtype=object' when creating the ndarray.\n",
      "  stab_diag = stabilization_diagram(acc[j], fs, 2, (np.array(omega_n_auto)/2/np.pi), np.array(order_auto), all_freqs=np.abs(lambd_stab)/2/np.pi, all_orders=orders_stab)\n"
     ]
    },
    {
     "name": "stdout",
     "output_type": "stream",
     "text": [
      "Stabilization diagram executed in 0.19069480895996094\n",
      "Wind statistics executed in 0.003103017807006836\n",
      "Time serie 9 of 16 done in 2.1148951053619385 sec. Period 26 of 88 done. Number of skipped periods: 12.\n",
      "Cov-SSI executed in 2.0964341163635254\n",
      "HDBSCAN executed in 0.04209303855895996\n",
      "Post processing executed in 0.02593994140625\n"
     ]
    },
    {
     "name": "stderr",
     "output_type": "stream",
     "text": [
      "/var/folders/xg/ddkjb2x96w167hqnv_gjv_v40000gn/T/ipykernel_35796/1427197658.py:87: VisibleDeprecationWarning: Creating an ndarray from ragged nested sequences (which is a list-or-tuple of lists-or-tuples-or ndarrays with different lengths or shapes) is deprecated. If you meant to do this, you must specify 'dtype=object' when creating the ndarray.\n",
      "  stab_diag = stabilization_diagram(acc[j], fs, 2, (np.array(omega_n_auto)/2/np.pi), np.array(order_auto), all_freqs=np.abs(lambd_stab)/2/np.pi, all_orders=orders_stab)\n"
     ]
    },
    {
     "name": "stdout",
     "output_type": "stream",
     "text": [
      "Stabilization diagram executed in 0.19915509223937988\n",
      "Wind statistics executed in 0.003019094467163086\n",
      "Time serie 10 of 16 done in 2.5344908237457275 sec. Period 26 of 88 done. Number of skipped periods: 12.\n",
      "Cov-SSI executed in 1.993056058883667\n",
      "HDBSCAN executed in 0.037261962890625\n",
      "Post processing executed in 0.02533721923828125\n"
     ]
    },
    {
     "name": "stderr",
     "output_type": "stream",
     "text": [
      "/Users/emilneby/PyCharmProjects/AOMA_Halogaland/koma/clustering.py:46: RuntimeWarning: divide by zero encountered in divide\n",
      "  diff = (arr1-arr2)/scaling\n",
      "/Users/emilneby/PyCharmProjects/AOMA_Halogaland/koma/clustering.py:46: RuntimeWarning: invalid value encountered in divide\n",
      "  diff = (arr1-arr2)/scaling\n",
      "/var/folders/xg/ddkjb2x96w167hqnv_gjv_v40000gn/T/ipykernel_35796/1427197658.py:87: VisibleDeprecationWarning: Creating an ndarray from ragged nested sequences (which is a list-or-tuple of lists-or-tuples-or ndarrays with different lengths or shapes) is deprecated. If you meant to do this, you must specify 'dtype=object' when creating the ndarray.\n",
      "  stab_diag = stabilization_diagram(acc[j], fs, 2, (np.array(omega_n_auto)/2/np.pi), np.array(order_auto), all_freqs=np.abs(lambd_stab)/2/np.pi, all_orders=orders_stab)\n"
     ]
    },
    {
     "name": "stdout",
     "output_type": "stream",
     "text": [
      "Stabilization diagram executed in 0.18757987022399902\n",
      "Wind statistics executed in 0.0031328201293945312\n",
      "Time serie 11 of 16 done in 2.4375321865081787 sec. Period 26 of 88 done. Number of skipped periods: 12.\n",
      "Cov-SSI executed in 1.313828706741333\n",
      "HDBSCAN executed in 0.04607415199279785\n",
      "Post processing executed in 0.027571916580200195\n"
     ]
    },
    {
     "name": "stderr",
     "output_type": "stream",
     "text": [
      "/var/folders/xg/ddkjb2x96w167hqnv_gjv_v40000gn/T/ipykernel_35796/1427197658.py:87: VisibleDeprecationWarning: Creating an ndarray from ragged nested sequences (which is a list-or-tuple of lists-or-tuples-or ndarrays with different lengths or shapes) is deprecated. If you meant to do this, you must specify 'dtype=object' when creating the ndarray.\n",
      "  stab_diag = stabilization_diagram(acc[j], fs, 2, (np.array(omega_n_auto)/2/np.pi), np.array(order_auto), all_freqs=np.abs(lambd_stab)/2/np.pi, all_orders=orders_stab)\n"
     ]
    },
    {
     "name": "stdout",
     "output_type": "stream",
     "text": [
      "Stabilization diagram executed in 0.18361902236938477\n",
      "Wind statistics executed in 0.002618074417114258\n",
      "Time serie 12 of 16 done in 1.786026954650879 sec. Period 26 of 88 done. Number of skipped periods: 12.\n",
      "Cov-SSI executed in 1.530752182006836\n",
      "HDBSCAN executed in 0.0485689640045166\n",
      "Post processing executed in 0.028645753860473633\n"
     ]
    },
    {
     "name": "stderr",
     "output_type": "stream",
     "text": [
      "/Users/emilneby/PyCharmProjects/AOMA_Halogaland/koma/clustering.py:46: RuntimeWarning: divide by zero encountered in divide\n",
      "  diff = (arr1-arr2)/scaling\n",
      "/Users/emilneby/PyCharmProjects/AOMA_Halogaland/koma/clustering.py:46: RuntimeWarning: invalid value encountered in divide\n",
      "  diff = (arr1-arr2)/scaling\n",
      "/var/folders/xg/ddkjb2x96w167hqnv_gjv_v40000gn/T/ipykernel_35796/1427197658.py:87: VisibleDeprecationWarning: Creating an ndarray from ragged nested sequences (which is a list-or-tuple of lists-or-tuples-or ndarrays with different lengths or shapes) is deprecated. If you meant to do this, you must specify 'dtype=object' when creating the ndarray.\n",
      "  stab_diag = stabilization_diagram(acc[j], fs, 2, (np.array(omega_n_auto)/2/np.pi), np.array(order_auto), all_freqs=np.abs(lambd_stab)/2/np.pi, all_orders=orders_stab)\n"
     ]
    },
    {
     "name": "stdout",
     "output_type": "stream",
     "text": [
      "Stabilization diagram executed in 0.18465113639831543\n",
      "Wind statistics executed in 0.0028412342071533203\n",
      "Time serie 13 of 16 done in 2.0047731399536133 sec. Period 26 of 88 done. Number of skipped periods: 12.\n",
      "Cov-SSI executed in 1.9552772045135498\n",
      "HDBSCAN executed in 0.04766273498535156\n",
      "Post processing executed in 0.02792072296142578\n"
     ]
    },
    {
     "name": "stderr",
     "output_type": "stream",
     "text": [
      "/var/folders/xg/ddkjb2x96w167hqnv_gjv_v40000gn/T/ipykernel_35796/1427197658.py:87: VisibleDeprecationWarning: Creating an ndarray from ragged nested sequences (which is a list-or-tuple of lists-or-tuples-or ndarrays with different lengths or shapes) is deprecated. If you meant to do this, you must specify 'dtype=object' when creating the ndarray.\n",
      "  stab_diag = stabilization_diagram(acc[j], fs, 2, (np.array(omega_n_auto)/2/np.pi), np.array(order_auto), all_freqs=np.abs(lambd_stab)/2/np.pi, all_orders=orders_stab)\n"
     ]
    },
    {
     "name": "stdout",
     "output_type": "stream",
     "text": [
      "Stabilization diagram executed in 0.19434499740600586\n",
      "Wind statistics executed in 0.002557992935180664\n",
      "Time serie 14 of 16 done in 2.4311270713806152 sec. Period 26 of 88 done. Number of skipped periods: 12.\n",
      "Cov-SSI executed in 1.246711015701294\n",
      "HDBSCAN executed in 0.04193615913391113\n",
      "Post processing executed in 0.025920867919921875\n"
     ]
    },
    {
     "name": "stderr",
     "output_type": "stream",
     "text": [
      "/Users/emilneby/PyCharmProjects/AOMA_Halogaland/koma/clustering.py:46: RuntimeWarning: divide by zero encountered in divide\n",
      "  diff = (arr1-arr2)/scaling\n",
      "/Users/emilneby/PyCharmProjects/AOMA_Halogaland/koma/clustering.py:46: RuntimeWarning: invalid value encountered in divide\n",
      "  diff = (arr1-arr2)/scaling\n",
      "/var/folders/xg/ddkjb2x96w167hqnv_gjv_v40000gn/T/ipykernel_35796/1427197658.py:87: VisibleDeprecationWarning: Creating an ndarray from ragged nested sequences (which is a list-or-tuple of lists-or-tuples-or ndarrays with different lengths or shapes) is deprecated. If you meant to do this, you must specify 'dtype=object' when creating the ndarray.\n",
      "  stab_diag = stabilization_diagram(acc[j], fs, 2, (np.array(omega_n_auto)/2/np.pi), np.array(order_auto), all_freqs=np.abs(lambd_stab)/2/np.pi, all_orders=orders_stab)\n"
     ]
    },
    {
     "name": "stdout",
     "output_type": "stream",
     "text": [
      "Stabilization diagram executed in 0.18688368797302246\n",
      "Wind statistics executed in 0.003331899642944336\n",
      "Time serie 15 of 16 done in 1.7049989700317383 sec. Period 26 of 88 done. Number of skipped periods: 12.\n",
      "Cov-SSI executed in 1.7815699577331543\n",
      "HDBSCAN executed in 0.0487058162689209\n",
      "Post processing executed in 0.029476165771484375\n"
     ]
    },
    {
     "name": "stderr",
     "output_type": "stream",
     "text": [
      "/var/folders/xg/ddkjb2x96w167hqnv_gjv_v40000gn/T/ipykernel_35796/1427197658.py:87: VisibleDeprecationWarning: Creating an ndarray from ragged nested sequences (which is a list-or-tuple of lists-or-tuples-or ndarrays with different lengths or shapes) is deprecated. If you meant to do this, you must specify 'dtype=object' when creating the ndarray.\n",
      "  stab_diag = stabilization_diagram(acc[j], fs, 2, (np.array(omega_n_auto)/2/np.pi), np.array(order_auto), all_freqs=np.abs(lambd_stab)/2/np.pi, all_orders=orders_stab)\n"
     ]
    },
    {
     "name": "stdout",
     "output_type": "stream",
     "text": [
      "Stabilization diagram executed in 0.19024991989135742\n",
      "Wind statistics executed in 0.0033359527587890625\n",
      "Time serie 16 of 16 done in 2.2583980560302734 sec. Period 26 of 88 done. Number of skipped periods: 12.\n",
      "Cov-SSI executed in 1.4067370891571045\n",
      "HDBSCAN executed in 0.043402910232543945\n",
      "Post processing executed in 0.0280001163482666\n"
     ]
    },
    {
     "name": "stderr",
     "output_type": "stream",
     "text": [
      "/var/folders/xg/ddkjb2x96w167hqnv_gjv_v40000gn/T/ipykernel_35796/1427197658.py:87: VisibleDeprecationWarning: Creating an ndarray from ragged nested sequences (which is a list-or-tuple of lists-or-tuples-or ndarrays with different lengths or shapes) is deprecated. If you meant to do this, you must specify 'dtype=object' when creating the ndarray.\n",
      "  stab_diag = stabilization_diagram(acc[j], fs, 2, (np.array(omega_n_auto)/2/np.pi), np.array(order_auto), all_freqs=np.abs(lambd_stab)/2/np.pi, all_orders=orders_stab)\n"
     ]
    },
    {
     "name": "stdout",
     "output_type": "stream",
     "text": [
      "Stabilization diagram executed in 0.1969149112701416\n",
      "Wind statistics executed in 0.013289928436279297\n",
      "Time serie 1 of 16 done in 1.8838059902191162 sec. Period 27 of 88 done. Number of skipped periods: 12.\n",
      "Cov-SSI executed in 1.4263381958007812\n",
      "HDBSCAN executed in 0.045603036880493164\n",
      "Post processing executed in 0.028023958206176758\n"
     ]
    },
    {
     "name": "stderr",
     "output_type": "stream",
     "text": [
      "/Users/emilneby/PyCharmProjects/AOMA_Halogaland/koma/clustering.py:46: RuntimeWarning: divide by zero encountered in divide\n",
      "  diff = (arr1-arr2)/scaling\n",
      "/Users/emilneby/PyCharmProjects/AOMA_Halogaland/koma/clustering.py:46: RuntimeWarning: invalid value encountered in divide\n",
      "  diff = (arr1-arr2)/scaling\n",
      "/var/folders/xg/ddkjb2x96w167hqnv_gjv_v40000gn/T/ipykernel_35796/1427197658.py:87: VisibleDeprecationWarning: Creating an ndarray from ragged nested sequences (which is a list-or-tuple of lists-or-tuples-or ndarrays with different lengths or shapes) is deprecated. If you meant to do this, you must specify 'dtype=object' when creating the ndarray.\n",
      "  stab_diag = stabilization_diagram(acc[j], fs, 2, (np.array(omega_n_auto)/2/np.pi), np.array(order_auto), all_freqs=np.abs(lambd_stab)/2/np.pi, all_orders=orders_stab)\n"
     ]
    },
    {
     "name": "stdout",
     "output_type": "stream",
     "text": [
      "Stabilization diagram executed in 0.1923840045928955\n",
      "Wind statistics executed in 0.0034601688385009766\n",
      "Time serie 2 of 16 done in 1.895859956741333 sec. Period 27 of 88 done. Number of skipped periods: 12.\n",
      "Cov-SSI executed in 1.2220821380615234\n",
      "HDBSCAN executed in 0.04364895820617676\n",
      "Post processing executed in 0.027358293533325195\n"
     ]
    },
    {
     "name": "stderr",
     "output_type": "stream",
     "text": [
      "/Users/emilneby/PyCharmProjects/AOMA_Halogaland/koma/clustering.py:46: RuntimeWarning: divide by zero encountered in divide\n",
      "  diff = (arr1-arr2)/scaling\n",
      "/Users/emilneby/PyCharmProjects/AOMA_Halogaland/koma/clustering.py:46: RuntimeWarning: invalid value encountered in divide\n",
      "  diff = (arr1-arr2)/scaling\n",
      "/var/folders/xg/ddkjb2x96w167hqnv_gjv_v40000gn/T/ipykernel_35796/1427197658.py:87: VisibleDeprecationWarning: Creating an ndarray from ragged nested sequences (which is a list-or-tuple of lists-or-tuples-or ndarrays with different lengths or shapes) is deprecated. If you meant to do this, you must specify 'dtype=object' when creating the ndarray.\n",
      "  stab_diag = stabilization_diagram(acc[j], fs, 2, (np.array(omega_n_auto)/2/np.pi), np.array(order_auto), all_freqs=np.abs(lambd_stab)/2/np.pi, all_orders=orders_stab)\n"
     ]
    },
    {
     "name": "stdout",
     "output_type": "stream",
     "text": [
      "Stabilization diagram executed in 0.19244813919067383\n",
      "Wind statistics executed in 0.0035161972045898438\n",
      "Time serie 3 of 16 done in 1.6670091152191162 sec. Period 27 of 88 done. Number of skipped periods: 12.\n",
      "Cov-SSI executed in 1.4917378425598145\n"
     ]
    },
    {
     "name": "stderr",
     "output_type": "stream",
     "text": [
      "/Users/emilneby/PyCharmProjects/AOMA_Halogaland/koma/clustering.py:46: RuntimeWarning: divide by zero encountered in divide\n",
      "  diff = (arr1-arr2)/scaling\n",
      "/Users/emilneby/PyCharmProjects/AOMA_Halogaland/koma/clustering.py:46: RuntimeWarning: invalid value encountered in divide\n",
      "  diff = (arr1-arr2)/scaling\n",
      "/var/folders/xg/ddkjb2x96w167hqnv_gjv_v40000gn/T/ipykernel_35796/1427197658.py:87: VisibleDeprecationWarning: Creating an ndarray from ragged nested sequences (which is a list-or-tuple of lists-or-tuples-or ndarrays with different lengths or shapes) is deprecated. If you meant to do this, you must specify 'dtype=object' when creating the ndarray.\n",
      "  stab_diag = stabilization_diagram(acc[j], fs, 2, (np.array(omega_n_auto)/2/np.pi), np.array(order_auto), all_freqs=np.abs(lambd_stab)/2/np.pi, all_orders=orders_stab)\n"
     ]
    },
    {
     "name": "stdout",
     "output_type": "stream",
     "text": [
      "HDBSCAN executed in 0.04891395568847656\n",
      "Post processing executed in 0.030601978302001953\n",
      "Stabilization diagram executed in 0.1954810619354248\n",
      "Wind statistics executed in 0.003099679946899414\n",
      "Time serie 4 of 16 done in 1.9435200691223145 sec. Period 27 of 88 done. Number of skipped periods: 12.\n",
      "Cov-SSI executed in 1.4065430164337158\n",
      "HDBSCAN executed in 0.04632997512817383\n",
      "Post processing executed in 0.02826690673828125\n"
     ]
    },
    {
     "name": "stderr",
     "output_type": "stream",
     "text": [
      "/Users/emilneby/PyCharmProjects/AOMA_Halogaland/koma/clustering.py:46: RuntimeWarning: divide by zero encountered in divide\n",
      "  diff = (arr1-arr2)/scaling\n",
      "/Users/emilneby/PyCharmProjects/AOMA_Halogaland/koma/clustering.py:46: RuntimeWarning: invalid value encountered in divide\n",
      "  diff = (arr1-arr2)/scaling\n",
      "/var/folders/xg/ddkjb2x96w167hqnv_gjv_v40000gn/T/ipykernel_35796/1427197658.py:87: VisibleDeprecationWarning: Creating an ndarray from ragged nested sequences (which is a list-or-tuple of lists-or-tuples-or ndarrays with different lengths or shapes) is deprecated. If you meant to do this, you must specify 'dtype=object' when creating the ndarray.\n",
      "  stab_diag = stabilization_diagram(acc[j], fs, 2, (np.array(omega_n_auto)/2/np.pi), np.array(order_auto), all_freqs=np.abs(lambd_stab)/2/np.pi, all_orders=orders_stab)\n"
     ]
    },
    {
     "name": "stdout",
     "output_type": "stream",
     "text": [
      "Stabilization diagram executed in 0.6907589435577393\n",
      "Wind statistics executed in 0.0036890506744384766\n",
      "Time serie 5 of 16 done in 2.364072322845459 sec. Period 27 of 88 done. Number of skipped periods: 12.\n",
      "Cov-SSI executed in 1.9454801082611084\n",
      "HDBSCAN executed in 0.04854583740234375\n",
      "Post processing executed in 0.029492855072021484\n"
     ]
    },
    {
     "name": "stderr",
     "output_type": "stream",
     "text": [
      "/Users/emilneby/PyCharmProjects/AOMA_Halogaland/koma/clustering.py:46: RuntimeWarning: divide by zero encountered in divide\n",
      "  diff = (arr1-arr2)/scaling\n",
      "/Users/emilneby/PyCharmProjects/AOMA_Halogaland/koma/clustering.py:46: RuntimeWarning: invalid value encountered in divide\n",
      "  diff = (arr1-arr2)/scaling\n",
      "/var/folders/xg/ddkjb2x96w167hqnv_gjv_v40000gn/T/ipykernel_35796/1427197658.py:87: VisibleDeprecationWarning: Creating an ndarray from ragged nested sequences (which is a list-or-tuple of lists-or-tuples-or ndarrays with different lengths or shapes) is deprecated. If you meant to do this, you must specify 'dtype=object' when creating the ndarray.\n",
      "  stab_diag = stabilization_diagram(acc[j], fs, 2, (np.array(omega_n_auto)/2/np.pi), np.array(order_auto), all_freqs=np.abs(lambd_stab)/2/np.pi, all_orders=orders_stab)\n"
     ]
    },
    {
     "name": "stdout",
     "output_type": "stream",
     "text": [
      "Stabilization diagram executed in 0.2056570053100586\n",
      "Wind statistics executed in 0.008203983306884766\n",
      "Time serie 6 of 16 done in 2.4441750049591064 sec. Period 27 of 88 done. Number of skipped periods: 12.\n",
      "Cov-SSI executed in 1.888350009918213\n",
      "HDBSCAN executed in 0.05050373077392578\n",
      "Post processing executed in 0.030137062072753906\n"
     ]
    },
    {
     "name": "stderr",
     "output_type": "stream",
     "text": [
      "/var/folders/xg/ddkjb2x96w167hqnv_gjv_v40000gn/T/ipykernel_35796/1427197658.py:87: VisibleDeprecationWarning: Creating an ndarray from ragged nested sequences (which is a list-or-tuple of lists-or-tuples-or ndarrays with different lengths or shapes) is deprecated. If you meant to do this, you must specify 'dtype=object' when creating the ndarray.\n",
      "  stab_diag = stabilization_diagram(acc[j], fs, 2, (np.array(omega_n_auto)/2/np.pi), np.array(order_auto), all_freqs=np.abs(lambd_stab)/2/np.pi, all_orders=orders_stab)\n"
     ]
    },
    {
     "name": "stdout",
     "output_type": "stream",
     "text": [
      "Stabilization diagram executed in 0.1945478916168213\n",
      "Wind statistics executed in 0.0024042129516601562\n",
      "Time serie 7 of 16 done in 2.3745369911193848 sec. Period 27 of 88 done. Number of skipped periods: 12.\n",
      "Cov-SSI executed in 2.146211862564087\n",
      "HDBSCAN executed in 0.0455930233001709\n",
      "Post processing executed in 0.026390790939331055\n"
     ]
    },
    {
     "name": "stderr",
     "output_type": "stream",
     "text": [
      "/Users/emilneby/PyCharmProjects/AOMA_Halogaland/koma/clustering.py:46: RuntimeWarning: divide by zero encountered in divide\n",
      "  diff = (arr1-arr2)/scaling\n",
      "/Users/emilneby/PyCharmProjects/AOMA_Halogaland/koma/clustering.py:46: RuntimeWarning: invalid value encountered in divide\n",
      "  diff = (arr1-arr2)/scaling\n",
      "/var/folders/xg/ddkjb2x96w167hqnv_gjv_v40000gn/T/ipykernel_35796/1427197658.py:87: VisibleDeprecationWarning: Creating an ndarray from ragged nested sequences (which is a list-or-tuple of lists-or-tuples-or ndarrays with different lengths or shapes) is deprecated. If you meant to do this, you must specify 'dtype=object' when creating the ndarray.\n",
      "  stab_diag = stabilization_diagram(acc[j], fs, 2, (np.array(omega_n_auto)/2/np.pi), np.array(order_auto), all_freqs=np.abs(lambd_stab)/2/np.pi, all_orders=orders_stab)\n"
     ]
    },
    {
     "name": "stdout",
     "output_type": "stream",
     "text": [
      "Stabilization diagram executed in 0.21447205543518066\n",
      "Wind statistics executed in 0.0035817623138427734\n",
      "Time serie 8 of 16 done in 2.6119608879089355 sec. Period 27 of 88 done. Number of skipped periods: 12.\n",
      "Cov-SSI executed in 3.5043792724609375\n",
      "HDBSCAN executed in 0.049295663833618164\n",
      "Post processing executed in 0.02585124969482422\n"
     ]
    },
    {
     "name": "stderr",
     "output_type": "stream",
     "text": [
      "/var/folders/xg/ddkjb2x96w167hqnv_gjv_v40000gn/T/ipykernel_35796/1427197658.py:87: VisibleDeprecationWarning: Creating an ndarray from ragged nested sequences (which is a list-or-tuple of lists-or-tuples-or ndarrays with different lengths or shapes) is deprecated. If you meant to do this, you must specify 'dtype=object' when creating the ndarray.\n",
      "  stab_diag = stabilization_diagram(acc[j], fs, 2, (np.array(omega_n_auto)/2/np.pi), np.array(order_auto), all_freqs=np.abs(lambd_stab)/2/np.pi, all_orders=orders_stab)\n"
     ]
    },
    {
     "name": "stdout",
     "output_type": "stream",
     "text": [
      "Stabilization diagram executed in 0.20295310020446777\n",
      "Wind statistics executed in 0.0033757686614990234\n",
      "Time serie 9 of 16 done in 3.970158100128174 sec. Period 27 of 88 done. Number of skipped periods: 12.\n",
      "Cov-SSI executed in 2.663248300552368\n",
      "HDBSCAN executed in 0.039582252502441406\n"
     ]
    },
    {
     "name": "stderr",
     "output_type": "stream",
     "text": [
      "/Users/emilneby/PyCharmProjects/AOMA_Halogaland/koma/clustering.py:46: RuntimeWarning: divide by zero encountered in divide\n",
      "  diff = (arr1-arr2)/scaling\n",
      "/Users/emilneby/PyCharmProjects/AOMA_Halogaland/koma/clustering.py:46: RuntimeWarning: invalid value encountered in divide\n",
      "  diff = (arr1-arr2)/scaling\n",
      "/var/folders/xg/ddkjb2x96w167hqnv_gjv_v40000gn/T/ipykernel_35796/1427197658.py:87: VisibleDeprecationWarning: Creating an ndarray from ragged nested sequences (which is a list-or-tuple of lists-or-tuples-or ndarrays with different lengths or shapes) is deprecated. If you meant to do this, you must specify 'dtype=object' when creating the ndarray.\n",
      "  stab_diag = stabilization_diagram(acc[j], fs, 2, (np.array(omega_n_auto)/2/np.pi), np.array(order_auto), all_freqs=np.abs(lambd_stab)/2/np.pi, all_orders=orders_stab)\n"
     ]
    },
    {
     "name": "stdout",
     "output_type": "stream",
     "text": [
      "Post processing executed in 0.02618885040283203\n",
      "Stabilization diagram executed in 0.2101738452911377\n",
      "Wind statistics executed in 0.003425121307373047\n",
      "Time serie 10 of 16 done in 3.101425886154175 sec. Period 27 of 88 done. Number of skipped periods: 12.\n",
      "Cov-SSI executed in 1.7449951171875\n",
      "HDBSCAN executed in 0.04987812042236328\n",
      "Post processing executed in 0.02781391143798828\n"
     ]
    },
    {
     "name": "stderr",
     "output_type": "stream",
     "text": [
      "/Users/emilneby/PyCharmProjects/AOMA_Halogaland/koma/clustering.py:46: RuntimeWarning: divide by zero encountered in divide\n",
      "  diff = (arr1-arr2)/scaling\n",
      "/Users/emilneby/PyCharmProjects/AOMA_Halogaland/koma/clustering.py:46: RuntimeWarning: invalid value encountered in divide\n",
      "  diff = (arr1-arr2)/scaling\n",
      "/var/folders/xg/ddkjb2x96w167hqnv_gjv_v40000gn/T/ipykernel_35796/1427197658.py:87: VisibleDeprecationWarning: Creating an ndarray from ragged nested sequences (which is a list-or-tuple of lists-or-tuples-or ndarrays with different lengths or shapes) is deprecated. If you meant to do this, you must specify 'dtype=object' when creating the ndarray.\n",
      "  stab_diag = stabilization_diagram(acc[j], fs, 2, (np.array(omega_n_auto)/2/np.pi), np.array(order_auto), all_freqs=np.abs(lambd_stab)/2/np.pi, all_orders=orders_stab)\n"
     ]
    },
    {
     "name": "stdout",
     "output_type": "stream",
     "text": [
      "Stabilization diagram executed in 0.2071080207824707\n",
      "Wind statistics executed in 0.003706693649291992\n",
      "Time serie 11 of 16 done in 2.2152791023254395 sec. Period 27 of 88 done. Number of skipped periods: 12.\n",
      "Cov-SSI executed in 2.2156100273132324\n",
      "HDBSCAN executed in 0.04911994934082031\n",
      "Post processing executed in 0.029113054275512695\n"
     ]
    },
    {
     "name": "stderr",
     "output_type": "stream",
     "text": [
      "/Users/emilneby/PyCharmProjects/AOMA_Halogaland/koma/clustering.py:46: RuntimeWarning: divide by zero encountered in divide\n",
      "  diff = (arr1-arr2)/scaling\n",
      "/Users/emilneby/PyCharmProjects/AOMA_Halogaland/koma/clustering.py:46: RuntimeWarning: invalid value encountered in divide\n",
      "  diff = (arr1-arr2)/scaling\n",
      "/var/folders/xg/ddkjb2x96w167hqnv_gjv_v40000gn/T/ipykernel_35796/1427197658.py:87: VisibleDeprecationWarning: Creating an ndarray from ragged nested sequences (which is a list-or-tuple of lists-or-tuples-or ndarrays with different lengths or shapes) is deprecated. If you meant to do this, you must specify 'dtype=object' when creating the ndarray.\n",
      "  stab_diag = stabilization_diagram(acc[j], fs, 2, (np.array(omega_n_auto)/2/np.pi), np.array(order_auto), all_freqs=np.abs(lambd_stab)/2/np.pi, all_orders=orders_stab)\n"
     ]
    },
    {
     "name": "stdout",
     "output_type": "stream",
     "text": [
      "Stabilization diagram executed in 0.2033228874206543\n",
      "Wind statistics executed in 0.004824161529541016\n",
      "Time serie 12 of 16 done in 2.6992619037628174 sec. Period 27 of 88 done. Number of skipped periods: 12.\n",
      "Cov-SSI executed in 1.8743951320648193\n",
      "HDBSCAN executed in 0.07407522201538086\n",
      "Post processing executed in 0.031172990798950195\n"
     ]
    },
    {
     "name": "stderr",
     "output_type": "stream",
     "text": [
      "/var/folders/xg/ddkjb2x96w167hqnv_gjv_v40000gn/T/ipykernel_35796/1427197658.py:87: VisibleDeprecationWarning: Creating an ndarray from ragged nested sequences (which is a list-or-tuple of lists-or-tuples-or ndarrays with different lengths or shapes) is deprecated. If you meant to do this, you must specify 'dtype=object' when creating the ndarray.\n",
      "  stab_diag = stabilization_diagram(acc[j], fs, 2, (np.array(omega_n_auto)/2/np.pi), np.array(order_auto), all_freqs=np.abs(lambd_stab)/2/np.pi, all_orders=orders_stab)\n"
     ]
    },
    {
     "name": "stdout",
     "output_type": "stream",
     "text": [
      "Stabilization diagram executed in 0.19132328033447266\n",
      "Wind statistics executed in 0.0028519630432128906\n",
      "Time serie 13 of 16 done in 2.386831283569336 sec. Period 27 of 88 done. Number of skipped periods: 12.\n",
      "Cov-SSI executed in 2.1274640560150146\n",
      "HDBSCAN executed in 0.05774092674255371\n",
      "Post processing executed in 0.02993488311767578\n"
     ]
    },
    {
     "name": "stderr",
     "output_type": "stream",
     "text": [
      "/var/folders/xg/ddkjb2x96w167hqnv_gjv_v40000gn/T/ipykernel_35796/1427197658.py:87: VisibleDeprecationWarning: Creating an ndarray from ragged nested sequences (which is a list-or-tuple of lists-or-tuples-or ndarrays with different lengths or shapes) is deprecated. If you meant to do this, you must specify 'dtype=object' when creating the ndarray.\n",
      "  stab_diag = stabilization_diagram(acc[j], fs, 2, (np.array(omega_n_auto)/2/np.pi), np.array(order_auto), all_freqs=np.abs(lambd_stab)/2/np.pi, all_orders=orders_stab)\n"
     ]
    },
    {
     "name": "stdout",
     "output_type": "stream",
     "text": [
      "Stabilization diagram executed in 0.19345402717590332\n",
      "Wind statistics executed in 0.003192901611328125\n",
      "Time serie 14 of 16 done in 2.6174991130828857 sec. Period 27 of 88 done. Number of skipped periods: 12.\n",
      "Cov-SSI executed in 2.816481828689575\n",
      "HDBSCAN executed in 0.044450998306274414\n"
     ]
    },
    {
     "name": "stderr",
     "output_type": "stream",
     "text": [
      "/Users/emilneby/PyCharmProjects/AOMA_Halogaland/koma/clustering.py:46: RuntimeWarning: divide by zero encountered in divide\n",
      "  diff = (arr1-arr2)/scaling\n",
      "/Users/emilneby/PyCharmProjects/AOMA_Halogaland/koma/clustering.py:46: RuntimeWarning: invalid value encountered in divide\n",
      "  diff = (arr1-arr2)/scaling\n",
      "/var/folders/xg/ddkjb2x96w167hqnv_gjv_v40000gn/T/ipykernel_35796/1427197658.py:87: VisibleDeprecationWarning: Creating an ndarray from ragged nested sequences (which is a list-or-tuple of lists-or-tuples-or ndarrays with different lengths or shapes) is deprecated. If you meant to do this, you must specify 'dtype=object' when creating the ndarray.\n",
      "  stab_diag = stabilization_diagram(acc[j], fs, 2, (np.array(omega_n_auto)/2/np.pi), np.array(order_auto), all_freqs=np.abs(lambd_stab)/2/np.pi, all_orders=orders_stab)\n"
     ]
    },
    {
     "name": "stdout",
     "output_type": "stream",
     "text": [
      "Post processing executed in 0.02813720703125\n",
      "Stabilization diagram executed in 0.20289111137390137\n",
      "Wind statistics executed in 0.0027420520782470703\n",
      "Time serie 15 of 16 done in 3.261620044708252 sec. Period 27 of 88 done. Number of skipped periods: 12.\n",
      "Cov-SSI executed in 1.478210210800171\n",
      "HDBSCAN executed in 0.04657888412475586\n",
      "Post processing executed in 0.0276949405670166\n",
      "Stabilization diagram executed in 0.18729233741760254\n",
      "Wind statistics executed in 0.0025787353515625\n",
      "Time serie 16 of 16 done in 1.9121720790863037 sec. Period 27 of 88 done. Number of skipped periods: 12.\n"
     ]
    },
    {
     "name": "stderr",
     "output_type": "stream",
     "text": [
      "/var/folders/xg/ddkjb2x96w167hqnv_gjv_v40000gn/T/ipykernel_35796/1427197658.py:87: VisibleDeprecationWarning: Creating an ndarray from ragged nested sequences (which is a list-or-tuple of lists-or-tuples-or ndarrays with different lengths or shapes) is deprecated. If you meant to do this, you must specify 'dtype=object' when creating the ndarray.\n",
      "  stab_diag = stabilization_diagram(acc[j], fs, 2, (np.array(omega_n_auto)/2/np.pi), np.array(order_auto), all_freqs=np.abs(lambd_stab)/2/np.pi, all_orders=orders_stab)\n"
     ]
    },
    {
     "name": "stdout",
     "output_type": "stream",
     "text": [
      "Cov-SSI executed in 2.018784999847412\n",
      "HDBSCAN executed in 0.05566263198852539\n",
      "Post processing executed in 0.027315855026245117\n"
     ]
    },
    {
     "name": "stderr",
     "output_type": "stream",
     "text": [
      "/var/folders/xg/ddkjb2x96w167hqnv_gjv_v40000gn/T/ipykernel_35796/1427197658.py:87: VisibleDeprecationWarning: Creating an ndarray from ragged nested sequences (which is a list-or-tuple of lists-or-tuples-or ndarrays with different lengths or shapes) is deprecated. If you meant to do this, you must specify 'dtype=object' when creating the ndarray.\n",
      "  stab_diag = stabilization_diagram(acc[j], fs, 2, (np.array(omega_n_auto)/2/np.pi), np.array(order_auto), all_freqs=np.abs(lambd_stab)/2/np.pi, all_orders=orders_stab)\n"
     ]
    },
    {
     "name": "stdout",
     "output_type": "stream",
     "text": [
      "Stabilization diagram executed in 0.1900191307067871\n",
      "Wind statistics executed in 0.013113260269165039\n",
      "Time serie 1 of 16 done in 2.4978630542755127 sec. Period 28 of 88 done. Number of skipped periods: 12.\n"
     ]
    }
   ],
   "source": [
    "skipped = 0\n",
    "for period in range(number_of_periods):\n",
    "    #remove 10 periods and start at the 10th period\n",
    "    acc = loader.load_all_acceleration_data(loader.periods[period], preprosess=True, cutoff_frequency=cutoff_frequency, filter_order=10)\n",
    "\n",
    "    #print(type(acc))\n",
    "    #If all channels are present, proceed with split up in intervals and perform Cov-SSI and clustering, if not, move to the next period\n",
    "    if isinstance(acc, np.ndarray):\n",
    "        acc = np.array_split(acc, acc.shape[0]/number_in_sample)\n",
    "        #print(len(acc))\n",
    "\n",
    "        for j in range(len(acc)): #add -15 here for testing\n",
    "\n",
    "            t0 = time() #Start timer of computation process\n",
    "\n",
    "            t0_cov = time()\n",
    "            #Cov-SSI call\n",
    "            ssid = strid.CovarianceDrivenStochasticSID(acc[j].transpose(), fs, ix_references)\n",
    "            modes = {}\n",
    "            for order in orders:\n",
    "                A, C, G, R0 = ssid.perform(order, i)\n",
    "                modes[order] = strid.Mode.find_modes_from_ss(A, C, ssid.fs)\n",
    "            #modes = stabdiag.filter_modes(modes)\n",
    "\n",
    "            #Sorting routine\n",
    "            #orders = []\n",
    "            lambdas = []\n",
    "            phis = []\n",
    "\n",
    "            for order in modes.keys():\n",
    "                modes_in_order = modes[order]\n",
    "                lambdas_in_order = []\n",
    "                phis_in_order = []\n",
    "                for mode in modes_in_order:\n",
    "                    #orders.append(order)\n",
    "                    lambdas_in_order.append(mode.eigenvalue)\n",
    "                    phis_in_order.append(mode.eigenvector)\n",
    "                #print(\"lambdas: \" + str(lambdas_in_order))\n",
    "                #print(\"phis: \" + str(phis_in_order))\n",
    "                lambdas.append(np.array(lambdas_in_order))\n",
    "                phis.append(np.array(phis_in_order).transpose())\n",
    "\n",
    "            #lambdas = lambdas[1:]\n",
    "            #phis = phis[1:]\n",
    "            #orders = np.array(orders)\n",
    "            t1_cov = time()\n",
    "            print(\"Cov-SSI executed in \" + str(t1_cov - t0_cov))\n",
    "\n",
    "            #Find stable poles routine from KOMA package here -> doesn't quite work yet\n",
    "            lambd_stab, phi_stab, orders_stab, idx_stab = koma.oma.find_stable_poles(lambdas, phis, orders, s, stabcrit=stabcrit, valid_range={'freq': [0, np.inf], 'damping':[0, np.inf]}, indicator='freq', return_both_conjugates=False)\n",
    "\n",
    "            t0_hdbscan = time()\n",
    "            #Pole clustering\n",
    "            pole_clusterer = koma.clustering.PoleClusterer(lambd_stab, phi_stab, orders_stab, min_cluster_size=10, min_samples=10, scaling={'mac':1.0, 'lambda_real':1.0, 'lambda_imag': 1.0})\n",
    "            prob_threshold = 0.5   #probability of pole to belong to cluster, based on estimated \"probability\" density function\n",
    "            args = pole_clusterer.postprocess(prob_threshold=prob_threshold, normalize_and_maxreal=True)\n",
    "\n",
    "            xi_auto, omega_n_auto, phi_auto, order_auto, probs_auto, ixs_auto = koma.clustering.group_clusters(*args)\n",
    "\n",
    "            #plot_koma.plot_stab_from_KOMA(np.array(omega_n_auto)/2/np.pi, order_auto).savefig(\"results/realization_\" + str(j) + \".jpg\")\n",
    "\n",
    "            xi_mean = np.array([np.mean(xi_i) for xi_i in xi_auto])\n",
    "            fn_mean = np.array([np.mean(om_i) for om_i in omega_n_auto])/2/np.pi\n",
    "\n",
    "            xi_std = np.array([np.std(xi_i) for xi_i in xi_auto])\n",
    "            fn_std = np.array([np.std(om_i) for om_i in omega_n_auto])/2/np.pi\n",
    "            t1_hdbscan = time()\n",
    "            print(\"HDBSCAN executed in \" + str(t1_hdbscan - t0_hdbscan))\n",
    "\n",
    "            t0_sort = time()\n",
    "            #Sort and arrange modeshapes\n",
    "            # Group only a selected quantity (e.g. indices)\n",
    "            lambd_used, phi_used, order_stab_used, group_ixs, all_single_ix, probs = pole_clusterer.postprocess(prob_threshold=prob_threshold)\n",
    "\n",
    "            grouped_phis = koma.clustering.group_array(phi_used, group_ixs, axis=1)\n",
    "\n",
    "            phi_extracted = np.zeros((len(grouped_phis), len(loader.acceleration_sensors)*3))\n",
    "\n",
    "            for a in range(len(grouped_phis)):\n",
    "                for b in range(np.shape(grouped_phis[a])[0]):\n",
    "                   phi_extracted[a,b] = (np.real(np.mean(grouped_phis[a][b])))\n",
    "            t1_sort = time()\n",
    "            print(\"Post processing executed in \" + str(t1_sort - t0_sort))\n",
    "\n",
    "            t0_stab = time()\n",
    "            #Save stabilization plot\n",
    "            stab_diag = stabilization_diagram(acc[j], fs, 2, (np.array(omega_n_auto)/2/np.pi), np.array(order_auto), all_freqs=np.abs(lambd_stab)/2/np.pi, all_orders=orders_stab)\n",
    "            plt.savefig(\"plots/stab_diag/stabilization_diagram_\" + str(period+1) + \"_\" + str(j+1) + \".jpg\")\n",
    "            t1_stab = time()\n",
    "            print(\"Stabilization diagram executed in \" + str(t1_stab - t0_stab))\n",
    "\n",
    "            freq_modes.append([freq for freq in fn_mean])\n",
    "\n",
    "            t0_wind = time()\n",
    "            #Load wind statistical data for analyzed time series\n",
    "            mean_wind_speed, max_wind_speed = loader.load_wind_stat_data(loader.periods[period], analysis_length, j)\n",
    "            t1_wind = time()\n",
    "            print(\"Wind statistics executed in \" + str(t1_wind - t0_wind))\n",
    "\n",
    "            t1 = time() #end timer of computation process\n",
    "            print(\"Time serie \" + str(j+1) + \" of \" + str(len(acc)) + \" done in \" + str(t1-t0) + \" sec. Period \" + str(period+1) + \" of \" + str(number_of_periods) + \" done. Number of skipped periods: \" + str(skipped)+\".\")\n",
    "\n",
    "            #Prepare timestamp of the time series in process\n",
    "            timestamp = (datetime.strptime(loader.periods[period], \"%Y-%m-%d-%H-%M-%S\") + timedelta(minutes=j*analysis_length)).strftime(\"%Y-%m-%d-%H-%M-%S\")\n",
    "\n",
    "            #Write results to h5 file\n",
    "            #res_data = np.vstack([fn_mean, 100*xi_mean]).T\n",
    "            with h5py.File(os.getcwd() + '/results/output_AOMA.h5', 'a') as hdf:\n",
    "                G1 = hdf.create_group(timestamp)\n",
    "\n",
    "                #Write results\n",
    "                G1.create_dataset('Frequencies', data=fn_mean)\n",
    "                G1.create_dataset('Damping', data=xi_mean)\n",
    "                G1.create_dataset('Modeshape', data=phi_extracted)\n",
    "\n",
    "                #Write attributes\n",
    "                G1.attrs['Mean wind speed'] = mean_wind_speed\n",
    "                G1.attrs['Max wind speed'] = max_wind_speed\n",
    "                G1.attrs['Execution time'] = (t1-t0)\n",
    "                G1.attrs['Std of acceleration data'] = np.mean(np.std(acc[j], axis=0))\n",
    "\n",
    "    else:\n",
    "        skipped += 1\n",
    "        print(\"One or more channels are missing, period skipped.\")"
   ],
   "metadata": {
    "collapsed": false,
    "pycharm": {
     "name": "#%%\n",
     "is_executing": true
    }
   }
  },
  {
   "cell_type": "code",
   "execution_count": null,
   "outputs": [],
   "source": [],
   "metadata": {
    "collapsed": false,
    "pycharm": {
     "name": "#%%\n"
    }
   }
  }
 ],
 "metadata": {
  "kernelspec": {
   "display_name": "Python 3",
   "language": "python",
   "name": "python3"
  },
  "language_info": {
   "codemirror_mode": {
    "name": "ipython",
    "version": 2
   },
   "file_extension": ".py",
   "mimetype": "text/x-python",
   "name": "python",
   "nbconvert_exporter": "python",
   "pygments_lexer": "ipython2",
   "version": "2.7.6"
  }
 },
 "nbformat": 4,
 "nbformat_minor": 0
}